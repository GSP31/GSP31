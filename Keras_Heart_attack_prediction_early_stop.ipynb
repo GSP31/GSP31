{
  "cells": [
    {
      "cell_type": "markdown",
      "metadata": {
        "id": "view-in-github",
        "colab_type": "text"
      },
      "source": [
        "<a href=\"https://colab.research.google.com/github/GSP31/GSP31/blob/main/Keras_Heart_attack_prediction_early_stop.ipynb\" target=\"_parent\"><img src=\"https://colab.research.google.com/assets/colab-badge.svg\" alt=\"Open In Colab\"/></a>"
      ]
    },
    {
      "cell_type": "markdown",
      "metadata": {
        "id": "guCDSoAVUS_D"
      },
      "source": [
        "# **Heart disease Prediction using Deep neural network**\n",
        "\n",
        "\n",
        "\n",
        "\n",
        "\n",
        "\n",
        "\n",
        "\n",
        "\n",
        "\n",
        "\n",
        "\n",
        "\n",
        "\n",
        "\n",
        "\n",
        "\n",
        "\n"
      ]
    },
    {
      "cell_type": "markdown",
      "metadata": {
        "id": "spz9apC0WpDS"
      },
      "source": [
        "## **Context**\n",
        "\n",
        "\n",
        "---\n",
        "This data set dates from 1988 and consists of four databases: Cleveland, Hungary, Switzerland, and Long Beach V. It contains 76 attributes, including the predicted attribute, but all published experiments refer to using a subset of 14 of them. The \"target\" field refers to the presence of heart disease in the patient. It is integer valued 0 = no disease and 1 = disease.\n",
        "\n"
      ]
    },
    {
      "cell_type": "markdown",
      "metadata": {
        "id": "ckABWKV2U7Bi"
      },
      "source": [
        "## **Problem Statement**:\n",
        "\n",
        "---\n",
        "\n",
        "\n",
        "\n",
        "To predict if the patient will have a heart disease or not\n",
        "\n",
        "\n",
        "\n"
      ]
    },
    {
      "cell_type": "markdown",
      "metadata": {
        "id": "LG7gzS243s6B"
      },
      "source": [
        "## **Attribute Information :**\n",
        "\n",
        "|Features|Description|\n",
        "|-----|-----|\n",
        "|1. age|(in years)|\n",
        "|2. sex:| (1 = male; 0 = female)|\n",
        "|3. cp: | chest pain type|\n",
        "|4. trestbps:| resting blood pressure (in mm Hg on admission to the                     | hospital)|\n",
        "|5. chol:    |    serum cholestoral in mg/dl|\n",
        "|6. fbs:     |(fasting blood sugar > 120 mg/dl) (1 = true; 0 = false)|\n",
        "|7. restecg: | resting electrocardiographic results|\n",
        "|8. thalach: | maximum heart rate achieved |\n",
        "|9. exang:   |exercise induced angina (1 = yes; 0 = no)\n",
        "|10. oldpeak:|ST depression induced by exercise relative to rest|\n",
        "|11. slope:  |the slope of the peak exercise ST segment|\n",
        "|12. ca:     |number of major vessels (0-3) colored by flourosopy|\n",
        "|13. thal:   |3 = normal; 6 = fixed defect; 7 = reversable defect|\n",
        "|14. target: | 1 or 0                                            |"
      ]
    },
    {
      "cell_type": "markdown",
      "metadata": {
        "id": "jr7X9eDjXBwD"
      },
      "source": [
        "## **Importing All Required Libraries**\n",
        "\n",
        "---\n",
        "\n",
        "\n",
        "\n",
        "\n"
      ]
    },
    {
      "cell_type": "code",
      "execution_count": null,
      "metadata": {
        "id": "HXAxBMri2iRP"
      },
      "outputs": [],
      "source": [
        "#importing all the libraries\n",
        "import numpy as np\n",
        "import pandas as pd\n",
        "import matplotlib.pyplot as plt\n",
        "import matplotlib.style as style # for styling the graphss\n",
        "import warnings\n",
        "warnings.filterwarnings('ignore')\n",
        "# To display float with 2 decimal, avoid scientific printing\n",
        "pd.options.display.float_format = '{:.2f}'.format\n",
        "import seaborn as sns\n",
        "import warnings\n",
        "warnings.filterwarnings('ignore')\n",
        "from sklearn.model_selection import train_test_split\n",
        "from tensorflow.keras.utils import to_categorical\n",
        "from sklearn.metrics import accuracy_score\n",
        "from sklearn.metrics import classification_report, confusion_matrix"
      ]
    },
    {
      "cell_type": "code",
      "metadata": {
        "id": "CSMXZwH3ayT8"
      },
      "source": [
        "# Code to read csv file into colaboratory:\n",
        "!pip install -U -q PyDrive\n",
        "from pydrive.auth import GoogleAuth\n",
        "from pydrive.drive import GoogleDrive\n",
        "from google.colab import auth\n",
        "from oauth2client.client import GoogleCredentials"
      ],
      "execution_count": null,
      "outputs": []
    },
    {
      "cell_type": "code",
      "metadata": {
        "id": "BDMvxcTtcRln"
      },
      "source": [
        "#STEP-2: Autheticate E-Mail ID\n",
        "\n",
        "auth.authenticate_user()\n",
        "gauth = GoogleAuth()\n",
        "gauth.credentials = GoogleCredentials.get_application_default()\n",
        "drive = GoogleDrive(gauth)"
      ],
      "execution_count": null,
      "outputs": []
    },
    {
      "cell_type": "code",
      "metadata": {
        "id": "RmHCwMOccTZk"
      },
      "source": [
        "#STEP-3: Get File from Drive using file-ID\n",
        "\n",
        "#2.1 Get the file\n",
        "downloaded = drive.CreateFile({'id':'1DX_YWv-xPm-bluniDSNcglxfgvWnz3qD'}) # replace the id with id of file you want to access\n",
        "downloaded.GetContentFile('heart.csv')"
      ],
      "execution_count": null,
      "outputs": []
    },
    {
      "cell_type": "code",
      "execution_count": null,
      "metadata": {
        "colab": {
          "base_uri": "https://localhost:8080/",
          "height": 206
        },
        "id": "HFEz0a27Q7lH",
        "outputId": "e93f2379-1491-4592-c552-d1969c163a14"
      },
      "outputs": [
        {
          "output_type": "execute_result",
          "data": {
            "text/plain": [
              "   age  sex  cp  trestbps  chol  fbs  restecg  thalach  exang  oldpeak  slope  \\\n",
              "0   52    1   0       125   212    0        1      168      0     1.00      2   \n",
              "1   53    1   0       140   203    1        0      155      1     3.10      0   \n",
              "2   70    1   0       145   174    0        1      125      1     2.60      0   \n",
              "3   61    1   0       148   203    0        1      161      0     0.00      2   \n",
              "4   62    0   0       138   294    1        1      106      0     1.90      1   \n",
              "\n",
              "   ca  thal  target  \n",
              "0   2     3       0  \n",
              "1   0     3       0  \n",
              "2   0     3       0  \n",
              "3   1     3       0  \n",
              "4   3     2       0  "
            ],
            "text/html": [
              "\n",
              "  <div id=\"df-5f2f7d72-79fd-4270-b5ae-2f4436da293f\">\n",
              "    <div class=\"colab-df-container\">\n",
              "      <div>\n",
              "<style scoped>\n",
              "    .dataframe tbody tr th:only-of-type {\n",
              "        vertical-align: middle;\n",
              "    }\n",
              "\n",
              "    .dataframe tbody tr th {\n",
              "        vertical-align: top;\n",
              "    }\n",
              "\n",
              "    .dataframe thead th {\n",
              "        text-align: right;\n",
              "    }\n",
              "</style>\n",
              "<table border=\"1\" class=\"dataframe\">\n",
              "  <thead>\n",
              "    <tr style=\"text-align: right;\">\n",
              "      <th></th>\n",
              "      <th>age</th>\n",
              "      <th>sex</th>\n",
              "      <th>cp</th>\n",
              "      <th>trestbps</th>\n",
              "      <th>chol</th>\n",
              "      <th>fbs</th>\n",
              "      <th>restecg</th>\n",
              "      <th>thalach</th>\n",
              "      <th>exang</th>\n",
              "      <th>oldpeak</th>\n",
              "      <th>slope</th>\n",
              "      <th>ca</th>\n",
              "      <th>thal</th>\n",
              "      <th>target</th>\n",
              "    </tr>\n",
              "  </thead>\n",
              "  <tbody>\n",
              "    <tr>\n",
              "      <th>0</th>\n",
              "      <td>52</td>\n",
              "      <td>1</td>\n",
              "      <td>0</td>\n",
              "      <td>125</td>\n",
              "      <td>212</td>\n",
              "      <td>0</td>\n",
              "      <td>1</td>\n",
              "      <td>168</td>\n",
              "      <td>0</td>\n",
              "      <td>1.00</td>\n",
              "      <td>2</td>\n",
              "      <td>2</td>\n",
              "      <td>3</td>\n",
              "      <td>0</td>\n",
              "    </tr>\n",
              "    <tr>\n",
              "      <th>1</th>\n",
              "      <td>53</td>\n",
              "      <td>1</td>\n",
              "      <td>0</td>\n",
              "      <td>140</td>\n",
              "      <td>203</td>\n",
              "      <td>1</td>\n",
              "      <td>0</td>\n",
              "      <td>155</td>\n",
              "      <td>1</td>\n",
              "      <td>3.10</td>\n",
              "      <td>0</td>\n",
              "      <td>0</td>\n",
              "      <td>3</td>\n",
              "      <td>0</td>\n",
              "    </tr>\n",
              "    <tr>\n",
              "      <th>2</th>\n",
              "      <td>70</td>\n",
              "      <td>1</td>\n",
              "      <td>0</td>\n",
              "      <td>145</td>\n",
              "      <td>174</td>\n",
              "      <td>0</td>\n",
              "      <td>1</td>\n",
              "      <td>125</td>\n",
              "      <td>1</td>\n",
              "      <td>2.60</td>\n",
              "      <td>0</td>\n",
              "      <td>0</td>\n",
              "      <td>3</td>\n",
              "      <td>0</td>\n",
              "    </tr>\n",
              "    <tr>\n",
              "      <th>3</th>\n",
              "      <td>61</td>\n",
              "      <td>1</td>\n",
              "      <td>0</td>\n",
              "      <td>148</td>\n",
              "      <td>203</td>\n",
              "      <td>0</td>\n",
              "      <td>1</td>\n",
              "      <td>161</td>\n",
              "      <td>0</td>\n",
              "      <td>0.00</td>\n",
              "      <td>2</td>\n",
              "      <td>1</td>\n",
              "      <td>3</td>\n",
              "      <td>0</td>\n",
              "    </tr>\n",
              "    <tr>\n",
              "      <th>4</th>\n",
              "      <td>62</td>\n",
              "      <td>0</td>\n",
              "      <td>0</td>\n",
              "      <td>138</td>\n",
              "      <td>294</td>\n",
              "      <td>1</td>\n",
              "      <td>1</td>\n",
              "      <td>106</td>\n",
              "      <td>0</td>\n",
              "      <td>1.90</td>\n",
              "      <td>1</td>\n",
              "      <td>3</td>\n",
              "      <td>2</td>\n",
              "      <td>0</td>\n",
              "    </tr>\n",
              "  </tbody>\n",
              "</table>\n",
              "</div>\n",
              "      <button class=\"colab-df-convert\" onclick=\"convertToInteractive('df-5f2f7d72-79fd-4270-b5ae-2f4436da293f')\"\n",
              "              title=\"Convert this dataframe to an interactive table.\"\n",
              "              style=\"display:none;\">\n",
              "        \n",
              "  <svg xmlns=\"http://www.w3.org/2000/svg\" height=\"24px\"viewBox=\"0 0 24 24\"\n",
              "       width=\"24px\">\n",
              "    <path d=\"M0 0h24v24H0V0z\" fill=\"none\"/>\n",
              "    <path d=\"M18.56 5.44l.94 2.06.94-2.06 2.06-.94-2.06-.94-.94-2.06-.94 2.06-2.06.94zm-11 1L8.5 8.5l.94-2.06 2.06-.94-2.06-.94L8.5 2.5l-.94 2.06-2.06.94zm10 10l.94 2.06.94-2.06 2.06-.94-2.06-.94-.94-2.06-.94 2.06-2.06.94z\"/><path d=\"M17.41 7.96l-1.37-1.37c-.4-.4-.92-.59-1.43-.59-.52 0-1.04.2-1.43.59L10.3 9.45l-7.72 7.72c-.78.78-.78 2.05 0 2.83L4 21.41c.39.39.9.59 1.41.59.51 0 1.02-.2 1.41-.59l7.78-7.78 2.81-2.81c.8-.78.8-2.07 0-2.86zM5.41 20L4 18.59l7.72-7.72 1.47 1.35L5.41 20z\"/>\n",
              "  </svg>\n",
              "      </button>\n",
              "      \n",
              "  <style>\n",
              "    .colab-df-container {\n",
              "      display:flex;\n",
              "      flex-wrap:wrap;\n",
              "      gap: 12px;\n",
              "    }\n",
              "\n",
              "    .colab-df-convert {\n",
              "      background-color: #E8F0FE;\n",
              "      border: none;\n",
              "      border-radius: 50%;\n",
              "      cursor: pointer;\n",
              "      display: none;\n",
              "      fill: #1967D2;\n",
              "      height: 32px;\n",
              "      padding: 0 0 0 0;\n",
              "      width: 32px;\n",
              "    }\n",
              "\n",
              "    .colab-df-convert:hover {\n",
              "      background-color: #E2EBFA;\n",
              "      box-shadow: 0px 1px 2px rgba(60, 64, 67, 0.3), 0px 1px 3px 1px rgba(60, 64, 67, 0.15);\n",
              "      fill: #174EA6;\n",
              "    }\n",
              "\n",
              "    [theme=dark] .colab-df-convert {\n",
              "      background-color: #3B4455;\n",
              "      fill: #D2E3FC;\n",
              "    }\n",
              "\n",
              "    [theme=dark] .colab-df-convert:hover {\n",
              "      background-color: #434B5C;\n",
              "      box-shadow: 0px 1px 3px 1px rgba(0, 0, 0, 0.15);\n",
              "      filter: drop-shadow(0px 1px 2px rgba(0, 0, 0, 0.3));\n",
              "      fill: #FFFFFF;\n",
              "    }\n",
              "  </style>\n",
              "\n",
              "      <script>\n",
              "        const buttonEl =\n",
              "          document.querySelector('#df-5f2f7d72-79fd-4270-b5ae-2f4436da293f button.colab-df-convert');\n",
              "        buttonEl.style.display =\n",
              "          google.colab.kernel.accessAllowed ? 'block' : 'none';\n",
              "\n",
              "        async function convertToInteractive(key) {\n",
              "          const element = document.querySelector('#df-5f2f7d72-79fd-4270-b5ae-2f4436da293f');\n",
              "          const dataTable =\n",
              "            await google.colab.kernel.invokeFunction('convertToInteractive',\n",
              "                                                     [key], {});\n",
              "          if (!dataTable) return;\n",
              "\n",
              "          const docLinkHtml = 'Like what you see? Visit the ' +\n",
              "            '<a target=\"_blank\" href=https://colab.research.google.com/notebooks/data_table.ipynb>data table notebook</a>'\n",
              "            + ' to learn more about interactive tables.';\n",
              "          element.innerHTML = '';\n",
              "          dataTable['output_type'] = 'display_data';\n",
              "          await google.colab.output.renderOutput(dataTable, element);\n",
              "          const docLink = document.createElement('div');\n",
              "          docLink.innerHTML = docLinkHtml;\n",
              "          element.appendChild(docLink);\n",
              "        }\n",
              "      </script>\n",
              "    </div>\n",
              "  </div>\n",
              "  "
            ]
          },
          "metadata": {},
          "execution_count": 5
        }
      ],
      "source": [
        "df = pd.read_csv(\"heart.csv\")\n",
        "df.head()"
      ]
    },
    {
      "cell_type": "code",
      "execution_count": null,
      "metadata": {
        "colab": {
          "base_uri": "https://localhost:8080/"
        },
        "id": "nR0hhSGBrXIJ",
        "outputId": "2a1232a2-aa58-4dad-c94b-3eb95fc1d745"
      },
      "outputs": [
        {
          "output_type": "stream",
          "name": "stdout",
          "text": [
            "<class 'pandas.core.frame.DataFrame'>\n",
            "RangeIndex: 1025 entries, 0 to 1024\n",
            "Data columns (total 14 columns):\n",
            " #   Column    Non-Null Count  Dtype  \n",
            "---  ------    --------------  -----  \n",
            " 0   age       1025 non-null   int64  \n",
            " 1   sex       1025 non-null   int64  \n",
            " 2   cp        1025 non-null   int64  \n",
            " 3   trestbps  1025 non-null   int64  \n",
            " 4   chol      1025 non-null   int64  \n",
            " 5   fbs       1025 non-null   int64  \n",
            " 6   restecg   1025 non-null   int64  \n",
            " 7   thalach   1025 non-null   int64  \n",
            " 8   exang     1025 non-null   int64  \n",
            " 9   oldpeak   1025 non-null   float64\n",
            " 10  slope     1025 non-null   int64  \n",
            " 11  ca        1025 non-null   int64  \n",
            " 12  thal      1025 non-null   int64  \n",
            " 13  target    1025 non-null   int64  \n",
            "dtypes: float64(1), int64(13)\n",
            "memory usage: 112.2 KB\n"
          ]
        }
      ],
      "source": [
        "df.info()"
      ]
    },
    {
      "cell_type": "code",
      "execution_count": null,
      "metadata": {
        "colab": {
          "base_uri": "https://localhost:8080/"
        },
        "id": "QImPMtWyp56u",
        "outputId": "734b990c-8bcf-4c53-ad89-9709e5f2f667"
      },
      "outputs": [
        {
          "output_type": "execute_result",
          "data": {
            "text/plain": [
              "age         0\n",
              "sex         0\n",
              "cp          0\n",
              "trestbps    0\n",
              "chol        0\n",
              "fbs         0\n",
              "restecg     0\n",
              "thalach     0\n",
              "exang       0\n",
              "oldpeak     0\n",
              "slope       0\n",
              "ca          0\n",
              "thal        0\n",
              "target      0\n",
              "dtype: int64"
            ]
          },
          "metadata": {},
          "execution_count": 7
        }
      ],
      "source": [
        "df.isna().sum()"
      ]
    },
    {
      "cell_type": "markdown",
      "metadata": {
        "id": "JKsuDEVvSFdD"
      },
      "source": [
        "## Find unique values"
      ]
    },
    {
      "cell_type": "code",
      "execution_count": null,
      "metadata": {
        "id": "PrqRRI46nuiy"
      },
      "outputs": [],
      "source": [
        "def print_unique_col_values(df):\n",
        "       for column in df:\n",
        "            if df[column].dtypes=='int64':\n",
        "                print(f'{column}: {df[column].unique()}')"
      ]
    },
    {
      "cell_type": "code",
      "execution_count": null,
      "metadata": {
        "id": "o_FsNrJQn8_X"
      },
      "outputs": [],
      "source": [
        "\n",
        "#print_unique_col_values(df)"
      ]
    },
    {
      "cell_type": "code",
      "execution_count": null,
      "metadata": {
        "colab": {
          "base_uri": "https://localhost:8080/"
        },
        "id": "nLE2IObDmZ_S",
        "outputId": "c6ff9964-630a-4623-fdba-dca1146e4595"
      },
      "outputs": [
        {
          "output_type": "execute_result",
          "data": {
            "text/plain": [
              "(1025, 14)"
            ]
          },
          "metadata": {},
          "execution_count": 10
        }
      ],
      "source": [
        "df.shape"
      ]
    },
    {
      "cell_type": "markdown",
      "metadata": {
        "id": "N1rxikBvmyte"
      },
      "source": [
        "#Get dummmies for various variables"
      ]
    },
    {
      "cell_type": "code",
      "execution_count": null,
      "metadata": {
        "colab": {
          "base_uri": "https://localhost:8080/",
          "height": 206
        },
        "id": "1o68By1qmmE6",
        "outputId": "ce914d04-c401-498b-b78d-4b1df3856899"
      },
      "outputs": [
        {
          "output_type": "execute_result",
          "data": {
            "text/plain": [
              "   age  cp  trestbps  chol  fbs  restecg  thalach  exang  oldpeak  slope  ca  \\\n",
              "0   52   0       125   212    0        1      168      0     1.00      2   2   \n",
              "1   53   0       140   203    1        0      155      1     3.10      0   0   \n",
              "2   70   0       145   174    0        1      125      1     2.60      0   0   \n",
              "3   61   0       148   203    0        1      161      0     0.00      2   1   \n",
              "4   62   0       138   294    1        1      106      0     1.90      1   3   \n",
              "\n",
              "   thal  target  sex_0  sex_1  \n",
              "0     3       0      0      1  \n",
              "1     3       0      0      1  \n",
              "2     3       0      0      1  \n",
              "3     3       0      0      1  \n",
              "4     2       0      1      0  "
            ],
            "text/html": [
              "\n",
              "  <div id=\"df-bd72f173-37f8-4d74-9c77-27826bcce752\">\n",
              "    <div class=\"colab-df-container\">\n",
              "      <div>\n",
              "<style scoped>\n",
              "    .dataframe tbody tr th:only-of-type {\n",
              "        vertical-align: middle;\n",
              "    }\n",
              "\n",
              "    .dataframe tbody tr th {\n",
              "        vertical-align: top;\n",
              "    }\n",
              "\n",
              "    .dataframe thead th {\n",
              "        text-align: right;\n",
              "    }\n",
              "</style>\n",
              "<table border=\"1\" class=\"dataframe\">\n",
              "  <thead>\n",
              "    <tr style=\"text-align: right;\">\n",
              "      <th></th>\n",
              "      <th>age</th>\n",
              "      <th>cp</th>\n",
              "      <th>trestbps</th>\n",
              "      <th>chol</th>\n",
              "      <th>fbs</th>\n",
              "      <th>restecg</th>\n",
              "      <th>thalach</th>\n",
              "      <th>exang</th>\n",
              "      <th>oldpeak</th>\n",
              "      <th>slope</th>\n",
              "      <th>ca</th>\n",
              "      <th>thal</th>\n",
              "      <th>target</th>\n",
              "      <th>sex_0</th>\n",
              "      <th>sex_1</th>\n",
              "    </tr>\n",
              "  </thead>\n",
              "  <tbody>\n",
              "    <tr>\n",
              "      <th>0</th>\n",
              "      <td>52</td>\n",
              "      <td>0</td>\n",
              "      <td>125</td>\n",
              "      <td>212</td>\n",
              "      <td>0</td>\n",
              "      <td>1</td>\n",
              "      <td>168</td>\n",
              "      <td>0</td>\n",
              "      <td>1.00</td>\n",
              "      <td>2</td>\n",
              "      <td>2</td>\n",
              "      <td>3</td>\n",
              "      <td>0</td>\n",
              "      <td>0</td>\n",
              "      <td>1</td>\n",
              "    </tr>\n",
              "    <tr>\n",
              "      <th>1</th>\n",
              "      <td>53</td>\n",
              "      <td>0</td>\n",
              "      <td>140</td>\n",
              "      <td>203</td>\n",
              "      <td>1</td>\n",
              "      <td>0</td>\n",
              "      <td>155</td>\n",
              "      <td>1</td>\n",
              "      <td>3.10</td>\n",
              "      <td>0</td>\n",
              "      <td>0</td>\n",
              "      <td>3</td>\n",
              "      <td>0</td>\n",
              "      <td>0</td>\n",
              "      <td>1</td>\n",
              "    </tr>\n",
              "    <tr>\n",
              "      <th>2</th>\n",
              "      <td>70</td>\n",
              "      <td>0</td>\n",
              "      <td>145</td>\n",
              "      <td>174</td>\n",
              "      <td>0</td>\n",
              "      <td>1</td>\n",
              "      <td>125</td>\n",
              "      <td>1</td>\n",
              "      <td>2.60</td>\n",
              "      <td>0</td>\n",
              "      <td>0</td>\n",
              "      <td>3</td>\n",
              "      <td>0</td>\n",
              "      <td>0</td>\n",
              "      <td>1</td>\n",
              "    </tr>\n",
              "    <tr>\n",
              "      <th>3</th>\n",
              "      <td>61</td>\n",
              "      <td>0</td>\n",
              "      <td>148</td>\n",
              "      <td>203</td>\n",
              "      <td>0</td>\n",
              "      <td>1</td>\n",
              "      <td>161</td>\n",
              "      <td>0</td>\n",
              "      <td>0.00</td>\n",
              "      <td>2</td>\n",
              "      <td>1</td>\n",
              "      <td>3</td>\n",
              "      <td>0</td>\n",
              "      <td>0</td>\n",
              "      <td>1</td>\n",
              "    </tr>\n",
              "    <tr>\n",
              "      <th>4</th>\n",
              "      <td>62</td>\n",
              "      <td>0</td>\n",
              "      <td>138</td>\n",
              "      <td>294</td>\n",
              "      <td>1</td>\n",
              "      <td>1</td>\n",
              "      <td>106</td>\n",
              "      <td>0</td>\n",
              "      <td>1.90</td>\n",
              "      <td>1</td>\n",
              "      <td>3</td>\n",
              "      <td>2</td>\n",
              "      <td>0</td>\n",
              "      <td>1</td>\n",
              "      <td>0</td>\n",
              "    </tr>\n",
              "  </tbody>\n",
              "</table>\n",
              "</div>\n",
              "      <button class=\"colab-df-convert\" onclick=\"convertToInteractive('df-bd72f173-37f8-4d74-9c77-27826bcce752')\"\n",
              "              title=\"Convert this dataframe to an interactive table.\"\n",
              "              style=\"display:none;\">\n",
              "        \n",
              "  <svg xmlns=\"http://www.w3.org/2000/svg\" height=\"24px\"viewBox=\"0 0 24 24\"\n",
              "       width=\"24px\">\n",
              "    <path d=\"M0 0h24v24H0V0z\" fill=\"none\"/>\n",
              "    <path d=\"M18.56 5.44l.94 2.06.94-2.06 2.06-.94-2.06-.94-.94-2.06-.94 2.06-2.06.94zm-11 1L8.5 8.5l.94-2.06 2.06-.94-2.06-.94L8.5 2.5l-.94 2.06-2.06.94zm10 10l.94 2.06.94-2.06 2.06-.94-2.06-.94-.94-2.06-.94 2.06-2.06.94z\"/><path d=\"M17.41 7.96l-1.37-1.37c-.4-.4-.92-.59-1.43-.59-.52 0-1.04.2-1.43.59L10.3 9.45l-7.72 7.72c-.78.78-.78 2.05 0 2.83L4 21.41c.39.39.9.59 1.41.59.51 0 1.02-.2 1.41-.59l7.78-7.78 2.81-2.81c.8-.78.8-2.07 0-2.86zM5.41 20L4 18.59l7.72-7.72 1.47 1.35L5.41 20z\"/>\n",
              "  </svg>\n",
              "      </button>\n",
              "      \n",
              "  <style>\n",
              "    .colab-df-container {\n",
              "      display:flex;\n",
              "      flex-wrap:wrap;\n",
              "      gap: 12px;\n",
              "    }\n",
              "\n",
              "    .colab-df-convert {\n",
              "      background-color: #E8F0FE;\n",
              "      border: none;\n",
              "      border-radius: 50%;\n",
              "      cursor: pointer;\n",
              "      display: none;\n",
              "      fill: #1967D2;\n",
              "      height: 32px;\n",
              "      padding: 0 0 0 0;\n",
              "      width: 32px;\n",
              "    }\n",
              "\n",
              "    .colab-df-convert:hover {\n",
              "      background-color: #E2EBFA;\n",
              "      box-shadow: 0px 1px 2px rgba(60, 64, 67, 0.3), 0px 1px 3px 1px rgba(60, 64, 67, 0.15);\n",
              "      fill: #174EA6;\n",
              "    }\n",
              "\n",
              "    [theme=dark] .colab-df-convert {\n",
              "      background-color: #3B4455;\n",
              "      fill: #D2E3FC;\n",
              "    }\n",
              "\n",
              "    [theme=dark] .colab-df-convert:hover {\n",
              "      background-color: #434B5C;\n",
              "      box-shadow: 0px 1px 3px 1px rgba(0, 0, 0, 0.15);\n",
              "      filter: drop-shadow(0px 1px 2px rgba(0, 0, 0, 0.3));\n",
              "      fill: #FFFFFF;\n",
              "    }\n",
              "  </style>\n",
              "\n",
              "      <script>\n",
              "        const buttonEl =\n",
              "          document.querySelector('#df-bd72f173-37f8-4d74-9c77-27826bcce752 button.colab-df-convert');\n",
              "        buttonEl.style.display =\n",
              "          google.colab.kernel.accessAllowed ? 'block' : 'none';\n",
              "\n",
              "        async function convertToInteractive(key) {\n",
              "          const element = document.querySelector('#df-bd72f173-37f8-4d74-9c77-27826bcce752');\n",
              "          const dataTable =\n",
              "            await google.colab.kernel.invokeFunction('convertToInteractive',\n",
              "                                                     [key], {});\n",
              "          if (!dataTable) return;\n",
              "\n",
              "          const docLinkHtml = 'Like what you see? Visit the ' +\n",
              "            '<a target=\"_blank\" href=https://colab.research.google.com/notebooks/data_table.ipynb>data table notebook</a>'\n",
              "            + ' to learn more about interactive tables.';\n",
              "          element.innerHTML = '';\n",
              "          dataTable['output_type'] = 'display_data';\n",
              "          await google.colab.output.renderOutput(dataTable, element);\n",
              "          const docLink = document.createElement('div');\n",
              "          docLink.innerHTML = docLinkHtml;\n",
              "          element.appendChild(docLink);\n",
              "        }\n",
              "      </script>\n",
              "    </div>\n",
              "  </div>\n",
              "  "
            ]
          },
          "metadata": {},
          "execution_count": 11
        }
      ],
      "source": [
        "df = pd.concat([df,pd.get_dummies(df['sex'],prefix=\"sex\")],axis=1)\n",
        "df.drop('sex', axis=1, inplace=True)\n",
        "df.head()"
      ]
    },
    {
      "cell_type": "code",
      "execution_count": null,
      "metadata": {
        "colab": {
          "base_uri": "https://localhost:8080/"
        },
        "id": "gSGjiIplm6Ah",
        "outputId": "90943753-b77b-4fb0-c846-439ca9871265"
      },
      "outputs": [
        {
          "output_type": "execute_result",
          "data": {
            "text/plain": [
              "(1025, 15)"
            ]
          },
          "metadata": {},
          "execution_count": 12
        }
      ],
      "source": [
        "df.shape"
      ]
    },
    {
      "cell_type": "code",
      "execution_count": null,
      "metadata": {
        "id": "Grd5WLAtnNXp"
      },
      "outputs": [],
      "source": [
        "df = pd.concat([df,pd.get_dummies(df['cp'],prefix=\"cp\")],axis=1)\n",
        "df.drop('cp', axis=1, inplace=True)\n",
        "\n",
        "\n",
        "\n",
        "df = pd.concat([df,pd.get_dummies(df['fbs'],prefix=\"fbs\")],axis=1)\n",
        "df.drop('fbs', axis=1, inplace=True)\n",
        "\n",
        "\n",
        "df = pd.concat([df,pd.get_dummies(df['restecg'],prefix=\"restecg\")],axis=1)\n",
        "df.drop('restecg', axis=1, inplace=True)\n",
        "\n",
        "\n",
        "\n",
        "\n",
        "df = pd.concat([df,pd.get_dummies(df['exang'],prefix=\"exang\")],axis=1)\n",
        "df.drop('exang', axis=1, inplace=True)\n",
        "\n",
        "\n",
        "\n",
        "\n",
        "df = pd.concat([df,pd.get_dummies(df['slope'],prefix=\"slope\")],axis=1)\n",
        "df.drop('slope', axis=1, inplace=True)\n",
        "\n",
        "\n",
        "\n",
        "df = pd.concat([df,pd.get_dummies(df['ca'],prefix=\"ca\")],axis=1)\n",
        "df.drop('ca', axis=1, inplace=True)\n",
        "\n",
        "\n",
        "df = pd.concat([df,pd.get_dummies(df['thal'],prefix=\"thal\")],axis=1)\n",
        "df.drop('thal', axis=1, inplace=True)"
      ]
    },
    {
      "cell_type": "code",
      "execution_count": null,
      "metadata": {
        "colab": {
          "base_uri": "https://localhost:8080/"
        },
        "id": "BUV-7GW9onPg",
        "outputId": "30896171-c7e9-4b99-b651-fe013f8ac76f"
      },
      "outputs": [
        {
          "output_type": "execute_result",
          "data": {
            "text/plain": [
              "(1025, 31)"
            ]
          },
          "metadata": {},
          "execution_count": 14
        }
      ],
      "source": [
        "df.shape"
      ]
    },
    {
      "cell_type": "code",
      "execution_count": null,
      "metadata": {
        "colab": {
          "base_uri": "https://localhost:8080/",
          "height": 235
        },
        "id": "T7-eCBTcqFeo",
        "outputId": "d2cde0f6-26d2-40f9-a88f-ade60e1229c3"
      },
      "outputs": [
        {
          "output_type": "execute_result",
          "data": {
            "text/plain": [
              "   age  trestbps  chol  thalach  oldpeak  target  sex_0  sex_1  cp_0  cp_1  \\\n",
              "0   52       125   212      168     1.00       0      0      1     1     0   \n",
              "1   53       140   203      155     3.10       0      0      1     1     0   \n",
              "2   70       145   174      125     2.60       0      0      1     1     0   \n",
              "3   61       148   203      161     0.00       0      0      1     1     0   \n",
              "4   62       138   294      106     1.90       0      1      0     1     0   \n",
              "\n",
              "   ...  slope_2  ca_0  ca_1  ca_2  ca_3  ca_4  thal_0  thal_1  thal_2  thal_3  \n",
              "0  ...        1     0     0     1     0     0       0       0       0       1  \n",
              "1  ...        0     1     0     0     0     0       0       0       0       1  \n",
              "2  ...        0     1     0     0     0     0       0       0       0       1  \n",
              "3  ...        1     0     1     0     0     0       0       0       0       1  \n",
              "4  ...        0     0     0     0     1     0       0       0       1       0  \n",
              "\n",
              "[5 rows x 31 columns]"
            ],
            "text/html": [
              "\n",
              "  <div id=\"df-eb3a973b-4ea6-45ca-ac8c-e1b410e5a236\">\n",
              "    <div class=\"colab-df-container\">\n",
              "      <div>\n",
              "<style scoped>\n",
              "    .dataframe tbody tr th:only-of-type {\n",
              "        vertical-align: middle;\n",
              "    }\n",
              "\n",
              "    .dataframe tbody tr th {\n",
              "        vertical-align: top;\n",
              "    }\n",
              "\n",
              "    .dataframe thead th {\n",
              "        text-align: right;\n",
              "    }\n",
              "</style>\n",
              "<table border=\"1\" class=\"dataframe\">\n",
              "  <thead>\n",
              "    <tr style=\"text-align: right;\">\n",
              "      <th></th>\n",
              "      <th>age</th>\n",
              "      <th>trestbps</th>\n",
              "      <th>chol</th>\n",
              "      <th>thalach</th>\n",
              "      <th>oldpeak</th>\n",
              "      <th>target</th>\n",
              "      <th>sex_0</th>\n",
              "      <th>sex_1</th>\n",
              "      <th>cp_0</th>\n",
              "      <th>cp_1</th>\n",
              "      <th>...</th>\n",
              "      <th>slope_2</th>\n",
              "      <th>ca_0</th>\n",
              "      <th>ca_1</th>\n",
              "      <th>ca_2</th>\n",
              "      <th>ca_3</th>\n",
              "      <th>ca_4</th>\n",
              "      <th>thal_0</th>\n",
              "      <th>thal_1</th>\n",
              "      <th>thal_2</th>\n",
              "      <th>thal_3</th>\n",
              "    </tr>\n",
              "  </thead>\n",
              "  <tbody>\n",
              "    <tr>\n",
              "      <th>0</th>\n",
              "      <td>52</td>\n",
              "      <td>125</td>\n",
              "      <td>212</td>\n",
              "      <td>168</td>\n",
              "      <td>1.00</td>\n",
              "      <td>0</td>\n",
              "      <td>0</td>\n",
              "      <td>1</td>\n",
              "      <td>1</td>\n",
              "      <td>0</td>\n",
              "      <td>...</td>\n",
              "      <td>1</td>\n",
              "      <td>0</td>\n",
              "      <td>0</td>\n",
              "      <td>1</td>\n",
              "      <td>0</td>\n",
              "      <td>0</td>\n",
              "      <td>0</td>\n",
              "      <td>0</td>\n",
              "      <td>0</td>\n",
              "      <td>1</td>\n",
              "    </tr>\n",
              "    <tr>\n",
              "      <th>1</th>\n",
              "      <td>53</td>\n",
              "      <td>140</td>\n",
              "      <td>203</td>\n",
              "      <td>155</td>\n",
              "      <td>3.10</td>\n",
              "      <td>0</td>\n",
              "      <td>0</td>\n",
              "      <td>1</td>\n",
              "      <td>1</td>\n",
              "      <td>0</td>\n",
              "      <td>...</td>\n",
              "      <td>0</td>\n",
              "      <td>1</td>\n",
              "      <td>0</td>\n",
              "      <td>0</td>\n",
              "      <td>0</td>\n",
              "      <td>0</td>\n",
              "      <td>0</td>\n",
              "      <td>0</td>\n",
              "      <td>0</td>\n",
              "      <td>1</td>\n",
              "    </tr>\n",
              "    <tr>\n",
              "      <th>2</th>\n",
              "      <td>70</td>\n",
              "      <td>145</td>\n",
              "      <td>174</td>\n",
              "      <td>125</td>\n",
              "      <td>2.60</td>\n",
              "      <td>0</td>\n",
              "      <td>0</td>\n",
              "      <td>1</td>\n",
              "      <td>1</td>\n",
              "      <td>0</td>\n",
              "      <td>...</td>\n",
              "      <td>0</td>\n",
              "      <td>1</td>\n",
              "      <td>0</td>\n",
              "      <td>0</td>\n",
              "      <td>0</td>\n",
              "      <td>0</td>\n",
              "      <td>0</td>\n",
              "      <td>0</td>\n",
              "      <td>0</td>\n",
              "      <td>1</td>\n",
              "    </tr>\n",
              "    <tr>\n",
              "      <th>3</th>\n",
              "      <td>61</td>\n",
              "      <td>148</td>\n",
              "      <td>203</td>\n",
              "      <td>161</td>\n",
              "      <td>0.00</td>\n",
              "      <td>0</td>\n",
              "      <td>0</td>\n",
              "      <td>1</td>\n",
              "      <td>1</td>\n",
              "      <td>0</td>\n",
              "      <td>...</td>\n",
              "      <td>1</td>\n",
              "      <td>0</td>\n",
              "      <td>1</td>\n",
              "      <td>0</td>\n",
              "      <td>0</td>\n",
              "      <td>0</td>\n",
              "      <td>0</td>\n",
              "      <td>0</td>\n",
              "      <td>0</td>\n",
              "      <td>1</td>\n",
              "    </tr>\n",
              "    <tr>\n",
              "      <th>4</th>\n",
              "      <td>62</td>\n",
              "      <td>138</td>\n",
              "      <td>294</td>\n",
              "      <td>106</td>\n",
              "      <td>1.90</td>\n",
              "      <td>0</td>\n",
              "      <td>1</td>\n",
              "      <td>0</td>\n",
              "      <td>1</td>\n",
              "      <td>0</td>\n",
              "      <td>...</td>\n",
              "      <td>0</td>\n",
              "      <td>0</td>\n",
              "      <td>0</td>\n",
              "      <td>0</td>\n",
              "      <td>1</td>\n",
              "      <td>0</td>\n",
              "      <td>0</td>\n",
              "      <td>0</td>\n",
              "      <td>1</td>\n",
              "      <td>0</td>\n",
              "    </tr>\n",
              "  </tbody>\n",
              "</table>\n",
              "<p>5 rows × 31 columns</p>\n",
              "</div>\n",
              "      <button class=\"colab-df-convert\" onclick=\"convertToInteractive('df-eb3a973b-4ea6-45ca-ac8c-e1b410e5a236')\"\n",
              "              title=\"Convert this dataframe to an interactive table.\"\n",
              "              style=\"display:none;\">\n",
              "        \n",
              "  <svg xmlns=\"http://www.w3.org/2000/svg\" height=\"24px\"viewBox=\"0 0 24 24\"\n",
              "       width=\"24px\">\n",
              "    <path d=\"M0 0h24v24H0V0z\" fill=\"none\"/>\n",
              "    <path d=\"M18.56 5.44l.94 2.06.94-2.06 2.06-.94-2.06-.94-.94-2.06-.94 2.06-2.06.94zm-11 1L8.5 8.5l.94-2.06 2.06-.94-2.06-.94L8.5 2.5l-.94 2.06-2.06.94zm10 10l.94 2.06.94-2.06 2.06-.94-2.06-.94-.94-2.06-.94 2.06-2.06.94z\"/><path d=\"M17.41 7.96l-1.37-1.37c-.4-.4-.92-.59-1.43-.59-.52 0-1.04.2-1.43.59L10.3 9.45l-7.72 7.72c-.78.78-.78 2.05 0 2.83L4 21.41c.39.39.9.59 1.41.59.51 0 1.02-.2 1.41-.59l7.78-7.78 2.81-2.81c.8-.78.8-2.07 0-2.86zM5.41 20L4 18.59l7.72-7.72 1.47 1.35L5.41 20z\"/>\n",
              "  </svg>\n",
              "      </button>\n",
              "      \n",
              "  <style>\n",
              "    .colab-df-container {\n",
              "      display:flex;\n",
              "      flex-wrap:wrap;\n",
              "      gap: 12px;\n",
              "    }\n",
              "\n",
              "    .colab-df-convert {\n",
              "      background-color: #E8F0FE;\n",
              "      border: none;\n",
              "      border-radius: 50%;\n",
              "      cursor: pointer;\n",
              "      display: none;\n",
              "      fill: #1967D2;\n",
              "      height: 32px;\n",
              "      padding: 0 0 0 0;\n",
              "      width: 32px;\n",
              "    }\n",
              "\n",
              "    .colab-df-convert:hover {\n",
              "      background-color: #E2EBFA;\n",
              "      box-shadow: 0px 1px 2px rgba(60, 64, 67, 0.3), 0px 1px 3px 1px rgba(60, 64, 67, 0.15);\n",
              "      fill: #174EA6;\n",
              "    }\n",
              "\n",
              "    [theme=dark] .colab-df-convert {\n",
              "      background-color: #3B4455;\n",
              "      fill: #D2E3FC;\n",
              "    }\n",
              "\n",
              "    [theme=dark] .colab-df-convert:hover {\n",
              "      background-color: #434B5C;\n",
              "      box-shadow: 0px 1px 3px 1px rgba(0, 0, 0, 0.15);\n",
              "      filter: drop-shadow(0px 1px 2px rgba(0, 0, 0, 0.3));\n",
              "      fill: #FFFFFF;\n",
              "    }\n",
              "  </style>\n",
              "\n",
              "      <script>\n",
              "        const buttonEl =\n",
              "          document.querySelector('#df-eb3a973b-4ea6-45ca-ac8c-e1b410e5a236 button.colab-df-convert');\n",
              "        buttonEl.style.display =\n",
              "          google.colab.kernel.accessAllowed ? 'block' : 'none';\n",
              "\n",
              "        async function convertToInteractive(key) {\n",
              "          const element = document.querySelector('#df-eb3a973b-4ea6-45ca-ac8c-e1b410e5a236');\n",
              "          const dataTable =\n",
              "            await google.colab.kernel.invokeFunction('convertToInteractive',\n",
              "                                                     [key], {});\n",
              "          if (!dataTable) return;\n",
              "\n",
              "          const docLinkHtml = 'Like what you see? Visit the ' +\n",
              "            '<a target=\"_blank\" href=https://colab.research.google.com/notebooks/data_table.ipynb>data table notebook</a>'\n",
              "            + ' to learn more about interactive tables.';\n",
              "          element.innerHTML = '';\n",
              "          dataTable['output_type'] = 'display_data';\n",
              "          await google.colab.output.renderOutput(dataTable, element);\n",
              "          const docLink = document.createElement('div');\n",
              "          docLink.innerHTML = docLinkHtml;\n",
              "          element.appendChild(docLink);\n",
              "        }\n",
              "      </script>\n",
              "    </div>\n",
              "  </div>\n",
              "  "
            ]
          },
          "metadata": {},
          "execution_count": 15
        }
      ],
      "source": [
        "df.head()"
      ]
    },
    {
      "cell_type": "markdown",
      "metadata": {
        "id": "VZNUVIMJ7HRm"
      },
      "source": [
        "### Balance or imbalance"
      ]
    },
    {
      "cell_type": "code",
      "execution_count": null,
      "metadata": {
        "colab": {
          "base_uri": "https://localhost:8080/",
          "height": 279
        },
        "id": "d5mc6WFf7HRm",
        "outputId": "08309e99-8749-41c8-a861-87104e4a581e"
      },
      "outputs": [
        {
          "output_type": "display_data",
          "data": {
            "text/plain": [
              "<Figure size 432x288 with 1 Axes>"
            ],
            "image/png": "[encoded data removed]"
          },
          "metadata": {
            "needs_background": "light"
          }
        }
      ],
      "source": [
        "sns.countplot(x ='target', data = df)\n",
        "plt.show()"
      ]
    },
    {
      "cell_type": "code",
      "execution_count": null,
      "metadata": {
        "colab": {
          "base_uri": "https://localhost:8080/"
        },
        "id": "7_NRUJQ_r5K3",
        "outputId": "15c94a10-e833-44bf-a082-af8bba9906a2"
      },
      "outputs": [
        {
          "output_type": "execute_result",
          "data": {
            "text/plain": [
              "0       0\n",
              "1       0\n",
              "2       0\n",
              "3       0\n",
              "4       0\n",
              "       ..\n",
              "1020    1\n",
              "1021    0\n",
              "1022    0\n",
              "1023    1\n",
              "1024    0\n",
              "Name: target, Length: 1025, dtype: int64"
            ]
          },
          "metadata": {},
          "execution_count": 17
        }
      ],
      "source": [
        "df['target']"
      ]
    },
    {
      "cell_type": "code",
      "execution_count": null,
      "metadata": {
        "id": "e5vZUQ3MxBGS"
      },
      "outputs": [],
      "source": [
        "x_columns = df.columns.drop('target')\n",
        "X = df[x_columns].values\n",
        "y = df['target'].values"
      ]
    },
    {
      "cell_type": "code",
      "execution_count": null,
      "metadata": {
        "colab": {
          "base_uri": "https://localhost:8080/"
        },
        "id": "p16CnorDqvUQ",
        "outputId": "f7685e48-346a-474d-b64e-e091cac4e6b0"
      },
      "outputs": [
        {
          "output_type": "execute_result",
          "data": {
            "text/plain": [
              "(1025, 30)"
            ]
          },
          "metadata": {},
          "execution_count": 19
        }
      ],
      "source": [
        "X.shape"
      ]
    },
    {
      "cell_type": "code",
      "execution_count": null,
      "metadata": {
        "colab": {
          "base_uri": "https://localhost:8080/"
        },
        "id": "1CirNxVmmB_S",
        "outputId": "6cd81f7f-eb6a-4113-b717-d4a75f131a3a"
      },
      "outputs": [
        {
          "output_type": "execute_result",
          "data": {
            "text/plain": [
              "(1025,)"
            ]
          },
          "metadata": {},
          "execution_count": 20
        }
      ],
      "source": [
        "y.shape"
      ]
    },
    {
      "cell_type": "code",
      "execution_count": null,
      "metadata": {
        "id": "yOrD-jCDmEFl"
      },
      "outputs": [],
      "source": [
        "# if using softmax\n",
        "#y = to_categorical(y)\n",
        "#y.shape"
      ]
    },
    {
      "cell_type": "code",
      "execution_count": null,
      "metadata": {
        "colab": {
          "base_uri": "https://localhost:8080/"
        },
        "id": "mypc1Cq_WIYS",
        "outputId": "98fb9333-9e88-4188-fb38-032a2d338f91"
      },
      "outputs": [
        {
          "output_type": "execute_result",
          "data": {
            "text/plain": [
              "array([0, 0, 0, 0, 0])"
            ]
          },
          "metadata": {},
          "execution_count": 22
        }
      ],
      "source": [
        "y[:5]"
      ]
    },
    {
      "cell_type": "markdown",
      "metadata": {
        "id": "MRSgL00jSKtC"
      },
      "source": [
        "# Data split"
      ]
    },
    {
      "cell_type": "code",
      "execution_count": null,
      "metadata": {
        "id": "M-1lMKmVsZJu"
      },
      "outputs": [],
      "source": [
        "X_train,X_test,y_train,y_test = train_test_split(X,y,test_size = 0.2)"
      ]
    },
    {
      "cell_type": "markdown",
      "metadata": {
        "id": "75XTIuthSPyU"
      },
      "source": [
        "# Define model"
      ]
    },
    {
      "cell_type": "code",
      "execution_count": null,
      "metadata": {
        "id": "2R7j_nuXsznv"
      },
      "outputs": [],
      "source": [
        "import keras\n",
        "from keras.models import Sequential\n",
        "from keras.layers import Dense\n",
        "\n",
        "#model = Sequential()\n",
        "#model.add(Dense(100, input_dim=X.shape[1], activation=\"relu\"))\n",
        "#model.add(Dense(100, activation=\"relu\"))\n",
        "#model.add(Dense(50, activation=\"relu\"))\n",
        "#model.add(Dense(2, activation='softmax'))"
      ]
    },
    {
      "cell_type": "code",
      "execution_count": null,
      "metadata": {
        "id": "mJxd19DW7HRr"
      },
      "outputs": [],
      "source": [
        "model = Sequential()\n",
        "model.add(Dense(100, input_dim=X.shape[1], activation=\"relu\"))\n",
        "model.add(Dense(100, activation=\"relu\"))\n",
        "model.add(Dense(250, activation=\"relu\"))\n",
        "model.add(Dense(350, activation=\"relu\"))\n",
        "model.add(Dense(150, activation=\"relu\"))\n",
        "model.add(Dense(2, activation='softmax'))"
      ]
    },
    {
      "cell_type": "code",
      "execution_count": null,
      "metadata": {
        "colab": {
          "base_uri": "https://localhost:8080/"
        },
        "id": "A0wl0K4Ys9wP",
        "outputId": "366861cf-db4d-44dc-eba5-47723beb5f62"
      },
      "outputs": [
        {
          "output_type": "stream",
          "name": "stdout",
          "text": [
            "Model: \"sequential\"\n",
            "_________________________________________________________________\n",
            " Layer (type)                Output Shape              Param #   \n",
            "=================================================================\n",
            " dense (Dense)               (None, 100)               3100      \n",
            "                                                                 \n",
            " dense_1 (Dense)             (None, 100)               10100     \n",
            "                                                                 \n",
            " dense_2 (Dense)             (None, 250)               25250     \n",
            "                                                                 \n",
            " dense_3 (Dense)             (None, 350)               87850     \n",
            "                                                                 \n",
            " dense_4 (Dense)             (None, 150)               52650     \n",
            "                                                                 \n",
            " dense_5 (Dense)             (None, 2)                 302       \n",
            "                                                                 \n",
            "=================================================================\n",
            "Total params: 179,252\n",
            "Trainable params: 179,252\n",
            "Non-trainable params: 0\n",
            "_________________________________________________________________\n"
          ]
        }
      ],
      "source": [
        "model.summary()"
      ]
    },
    {
      "cell_type": "markdown",
      "metadata": {
        "id": "5Z5BRH2-SUF-"
      },
      "source": [
        "## Compile model"
      ]
    },
    {
      "cell_type": "code",
      "execution_count": null,
      "metadata": {
        "id": "MRiFaGfGtK3v"
      },
      "outputs": [],
      "source": [
        "#Sparse categorical cross entropy\n",
        "\n",
        "model.compile(loss='sparse_categorical_crossentropy', optimizer='adam', metrics=['accuracy'])"
      ]
    },
    {
      "cell_type": "markdown",
      "metadata": {
        "id": "Su2GY1BpSX3i"
      },
      "source": [
        "## Fit the model"
      ]
    },
    {
      "cell_type": "code",
      "execution_count": null,
      "metadata": {
        "colab": {
          "base_uri": "https://localhost:8080/"
        },
        "id": "DuKuAx7ntQRv",
        "outputId": "3ab484da-2ef3-48b3-8919-b13099c1cca0"
      },
      "outputs": [
        {
          "output_type": "stream",
          "name": "stdout",
          "text": [
            "Epoch 1/300\n",
            "26/26 [==============================] - 1s 11ms/step - loss: 3.8013 - accuracy: 0.5341 - val_loss: 0.6251 - val_accuracy: 0.6488\n",
            "Epoch 2/300\n",
            "26/26 [==============================] - 0s 5ms/step - loss: 0.6543 - accuracy: 0.6317 - val_loss: 0.5645 - val_accuracy: 0.6732\n",
            "Epoch 3/300\n",
            "26/26 [==============================] - 0s 5ms/step - loss: 0.5808 - accuracy: 0.6915 - val_loss: 0.6577 - val_accuracy: 0.6293\n",
            "Epoch 4/300\n",
            "26/26 [==============================] - 0s 5ms/step - loss: 0.5744 - accuracy: 0.6854 - val_loss: 0.6084 - val_accuracy: 0.6488\n",
            "Epoch 5/300\n",
            "26/26 [==============================] - 0s 5ms/step - loss: 0.7465 - accuracy: 0.5866 - val_loss: 0.6760 - val_accuracy: 0.6780\n",
            "Epoch 6/300\n",
            "26/26 [==============================] - 0s 5ms/step - loss: 0.6390 - accuracy: 0.6646 - val_loss: 0.6424 - val_accuracy: 0.6098\n",
            "Epoch 7/300\n",
            "26/26 [==============================] - 0s 5ms/step - loss: 0.5812 - accuracy: 0.6707 - val_loss: 0.5924 - val_accuracy: 0.6732\n",
            "Epoch 8/300\n",
            "26/26 [==============================] - 0s 5ms/step - loss: 0.5427 - accuracy: 0.7232 - val_loss: 0.5995 - val_accuracy: 0.6829\n",
            "Epoch 9/300\n",
            "26/26 [==============================] - 0s 5ms/step - loss: 0.5169 - accuracy: 0.7317 - val_loss: 0.5315 - val_accuracy: 0.7366\n",
            "Epoch 10/300\n",
            "26/26 [==============================] - 0s 5ms/step - loss: 0.5081 - accuracy: 0.7268 - val_loss: 0.4503 - val_accuracy: 0.7854\n",
            "Epoch 11/300\n",
            "26/26 [==============================] - 0s 5ms/step - loss: 0.4364 - accuracy: 0.7866 - val_loss: 0.4088 - val_accuracy: 0.8098\n",
            "Epoch 12/300\n",
            "26/26 [==============================] - 0s 5ms/step - loss: 0.5061 - accuracy: 0.7549 - val_loss: 0.4426 - val_accuracy: 0.8098\n",
            "Epoch 13/300\n",
            "26/26 [==============================] - 0s 5ms/step - loss: 0.4084 - accuracy: 0.8122 - val_loss: 0.3727 - val_accuracy: 0.8634\n",
            "Epoch 14/300\n",
            "26/26 [==============================] - 0s 5ms/step - loss: 0.3613 - accuracy: 0.8451 - val_loss: 0.5791 - val_accuracy: 0.6683\n",
            "Epoch 15/300\n",
            "26/26 [==============================] - 0s 5ms/step - loss: 0.3999 - accuracy: 0.8183 - val_loss: 0.3378 - val_accuracy: 0.8439\n",
            "Epoch 16/300\n",
            "26/26 [==============================] - 0s 5ms/step - loss: 0.3642 - accuracy: 0.8329 - val_loss: 0.3303 - val_accuracy: 0.8683\n",
            "Epoch 17/300\n",
            "26/26 [==============================] - 0s 5ms/step - loss: 0.3244 - accuracy: 0.8573 - val_loss: 0.3450 - val_accuracy: 0.8390\n",
            "Epoch 18/300\n",
            "26/26 [==============================] - 0s 5ms/step - loss: 0.3585 - accuracy: 0.8402 - val_loss: 0.4154 - val_accuracy: 0.8146\n",
            "Epoch 19/300\n",
            "26/26 [==============================] - 0s 6ms/step - loss: 0.3596 - accuracy: 0.8329 - val_loss: 0.3837 - val_accuracy: 0.8439\n",
            "Epoch 20/300\n",
            "26/26 [==============================] - 0s 5ms/step - loss: 0.4237 - accuracy: 0.8049 - val_loss: 0.3975 - val_accuracy: 0.8000\n",
            "Epoch 21/300\n",
            "26/26 [==============================] - 0s 5ms/step - loss: 0.3451 - accuracy: 0.8305 - val_loss: 0.3617 - val_accuracy: 0.8293\n",
            "Epoch 22/300\n",
            "26/26 [==============================] - 0s 5ms/step - loss: 0.3311 - accuracy: 0.8524 - val_loss: 0.3646 - val_accuracy: 0.8244\n",
            "Epoch 23/300\n",
            "26/26 [==============================] - 0s 5ms/step - loss: 0.3938 - accuracy: 0.8220 - val_loss: 0.6920 - val_accuracy: 0.6537\n",
            "Epoch 24/300\n",
            "26/26 [==============================] - 0s 5ms/step - loss: 0.4064 - accuracy: 0.8098 - val_loss: 0.3544 - val_accuracy: 0.8293\n",
            "Epoch 25/300\n",
            "26/26 [==============================] - 0s 5ms/step - loss: 0.3263 - accuracy: 0.8537 - val_loss: 0.3351 - val_accuracy: 0.8244\n",
            "Epoch 26/300\n",
            "26/26 [==============================] - 0s 5ms/step - loss: 0.2907 - accuracy: 0.8646 - val_loss: 0.3896 - val_accuracy: 0.8390\n",
            "Epoch 27/300\n",
            "26/26 [==============================] - 0s 6ms/step - loss: 0.3209 - accuracy: 0.8561 - val_loss: 0.3439 - val_accuracy: 0.8488\n",
            "Epoch 28/300\n",
            "26/26 [==============================] - 0s 5ms/step - loss: 0.3242 - accuracy: 0.8598 - val_loss: 0.3229 - val_accuracy: 0.8439\n",
            "Epoch 29/300\n",
            "26/26 [==============================] - 0s 5ms/step - loss: 0.3163 - accuracy: 0.8573 - val_loss: 0.3214 - val_accuracy: 0.8634\n",
            "Epoch 30/300\n",
            "26/26 [==============================] - 0s 5ms/step - loss: 0.3123 - accuracy: 0.8646 - val_loss: 0.2841 - val_accuracy: 0.8683\n",
            "Epoch 31/300\n",
            "26/26 [==============================] - 0s 5ms/step - loss: 0.2832 - accuracy: 0.8671 - val_loss: 0.2792 - val_accuracy: 0.8683\n",
            "Epoch 32/300\n",
            "26/26 [==============================] - 0s 8ms/step - loss: 0.2902 - accuracy: 0.8683 - val_loss: 0.3002 - val_accuracy: 0.8683\n",
            "Epoch 33/300\n",
            "26/26 [==============================] - 0s 11ms/step - loss: 0.2790 - accuracy: 0.8585 - val_loss: 0.2874 - val_accuracy: 0.8634\n",
            "Epoch 34/300\n",
            "26/26 [==============================] - 0s 11ms/step - loss: 0.2923 - accuracy: 0.8659 - val_loss: 0.3673 - val_accuracy: 0.8439\n",
            "Epoch 35/300\n",
            "26/26 [==============================] - 0s 8ms/step - loss: 0.3123 - accuracy: 0.8646 - val_loss: 0.4599 - val_accuracy: 0.7707\n",
            "Epoch 36/300\n",
            "26/26 [==============================] - 0s 9ms/step - loss: 0.3074 - accuracy: 0.8585 - val_loss: 0.3944 - val_accuracy: 0.8488\n",
            "Epoch 37/300\n",
            "26/26 [==============================] - 0s 10ms/step - loss: 0.3634 - accuracy: 0.8402 - val_loss: 0.3151 - val_accuracy: 0.8683\n",
            "Epoch 38/300\n",
            "26/26 [==============================] - 0s 10ms/step - loss: 0.2881 - accuracy: 0.8671 - val_loss: 0.3178 - val_accuracy: 0.8488\n",
            "Epoch 39/300\n",
            "26/26 [==============================] - 0s 8ms/step - loss: 0.2689 - accuracy: 0.8695 - val_loss: 0.3406 - val_accuracy: 0.8585\n",
            "Epoch 40/300\n",
            "26/26 [==============================] - 0s 9ms/step - loss: 0.2644 - accuracy: 0.8768 - val_loss: 0.2682 - val_accuracy: 0.8878\n",
            "Epoch 41/300\n",
            "26/26 [==============================] - 0s 8ms/step - loss: 0.2706 - accuracy: 0.8841 - val_loss: 0.4566 - val_accuracy: 0.7951\n",
            "Epoch 42/300\n",
            "26/26 [==============================] - 0s 8ms/step - loss: 0.2948 - accuracy: 0.8634 - val_loss: 0.2868 - val_accuracy: 0.8683\n",
            "Epoch 43/300\n",
            "26/26 [==============================] - 0s 9ms/step - loss: 0.2758 - accuracy: 0.8695 - val_loss: 0.2983 - val_accuracy: 0.8390\n",
            "Epoch 44/300\n",
            "26/26 [==============================] - 0s 7ms/step - loss: 0.3094 - accuracy: 0.8744 - val_loss: 0.3344 - val_accuracy: 0.8488\n",
            "Epoch 45/300\n",
            "26/26 [==============================] - 0s 7ms/step - loss: 0.2785 - accuracy: 0.8561 - val_loss: 0.2733 - val_accuracy: 0.8732\n",
            "Epoch 46/300\n",
            "26/26 [==============================] - 0s 7ms/step - loss: 0.2838 - accuracy: 0.8585 - val_loss: 0.2580 - val_accuracy: 0.8829\n",
            "Epoch 47/300\n",
            "26/26 [==============================] - 0s 7ms/step - loss: 0.2367 - accuracy: 0.8890 - val_loss: 0.2551 - val_accuracy: 0.8780\n",
            "Epoch 48/300\n",
            "26/26 [==============================] - 0s 6ms/step - loss: 0.2353 - accuracy: 0.8793 - val_loss: 0.2348 - val_accuracy: 0.8780\n",
            "Epoch 49/300\n",
            "26/26 [==============================] - 0s 5ms/step - loss: 0.2745 - accuracy: 0.8793 - val_loss: 0.3042 - val_accuracy: 0.8683\n",
            "Epoch 50/300\n",
            "26/26 [==============================] - 0s 5ms/step - loss: 0.2875 - accuracy: 0.8720 - val_loss: 0.2857 - val_accuracy: 0.8683\n",
            "Epoch 51/300\n",
            "26/26 [==============================] - 0s 5ms/step - loss: 0.2553 - accuracy: 0.8768 - val_loss: 0.2666 - val_accuracy: 0.8780\n",
            "Epoch 52/300\n",
            "26/26 [==============================] - 0s 6ms/step - loss: 0.2496 - accuracy: 0.8841 - val_loss: 0.2540 - val_accuracy: 0.8634\n",
            "Epoch 53/300\n",
            "26/26 [==============================] - 0s 5ms/step - loss: 0.3183 - accuracy: 0.8549 - val_loss: 0.3770 - val_accuracy: 0.8146\n",
            "Epoch 54/300\n",
            "26/26 [==============================] - 0s 5ms/step - loss: 0.2651 - accuracy: 0.8744 - val_loss: 0.2969 - val_accuracy: 0.8732\n",
            "Epoch 55/300\n",
            "26/26 [==============================] - 0s 5ms/step - loss: 0.2447 - accuracy: 0.8915 - val_loss: 0.2800 - val_accuracy: 0.8634\n",
            "Epoch 56/300\n",
            "26/26 [==============================] - 0s 5ms/step - loss: 0.2421 - accuracy: 0.8890 - val_loss: 0.2536 - val_accuracy: 0.8878\n",
            "Epoch 57/300\n",
            "26/26 [==============================] - 0s 5ms/step - loss: 0.2772 - accuracy: 0.8732 - val_loss: 0.2688 - val_accuracy: 0.8829\n",
            "Epoch 58/300\n",
            "26/26 [==============================] - 0s 5ms/step - loss: 0.2500 - accuracy: 0.8829 - val_loss: 0.2362 - val_accuracy: 0.8927\n",
            "Epoch 59/300\n",
            "26/26 [==============================] - 0s 5ms/step - loss: 0.2207 - accuracy: 0.8841 - val_loss: 0.2903 - val_accuracy: 0.8683\n",
            "Epoch 60/300\n",
            "26/26 [==============================] - 0s 5ms/step - loss: 0.2972 - accuracy: 0.8683 - val_loss: 0.2741 - val_accuracy: 0.8780\n",
            "Epoch 61/300\n",
            "26/26 [==============================] - 0s 5ms/step - loss: 0.2573 - accuracy: 0.8744 - val_loss: 0.2555 - val_accuracy: 0.8683\n",
            "Epoch 62/300\n",
            "26/26 [==============================] - 0s 5ms/step - loss: 0.2515 - accuracy: 0.8793 - val_loss: 0.2495 - val_accuracy: 0.8732\n",
            "Epoch 63/300\n",
            "26/26 [==============================] - 0s 5ms/step - loss: 0.2552 - accuracy: 0.8744 - val_loss: 0.2796 - val_accuracy: 0.8634\n",
            "Epoch 64/300\n",
            "26/26 [==============================] - 0s 5ms/step - loss: 0.2646 - accuracy: 0.8805 - val_loss: 0.2278 - val_accuracy: 0.8878\n",
            "Epoch 65/300\n",
            "26/26 [==============================] - 0s 5ms/step - loss: 0.2289 - accuracy: 0.8890 - val_loss: 0.2453 - val_accuracy: 0.8829\n",
            "Epoch 66/300\n",
            "26/26 [==============================] - 0s 5ms/step - loss: 0.2063 - accuracy: 0.9024 - val_loss: 0.2046 - val_accuracy: 0.9024\n",
            "Epoch 67/300\n",
            "26/26 [==============================] - 0s 5ms/step - loss: 0.2309 - accuracy: 0.8915 - val_loss: 0.4393 - val_accuracy: 0.8293\n",
            "Epoch 68/300\n",
            "26/26 [==============================] - 0s 5ms/step - loss: 0.3100 - accuracy: 0.8659 - val_loss: 0.3648 - val_accuracy: 0.8537\n",
            "Epoch 69/300\n",
            "26/26 [==============================] - 0s 5ms/step - loss: 0.2612 - accuracy: 0.8878 - val_loss: 0.2440 - val_accuracy: 0.8829\n",
            "Epoch 70/300\n",
            "26/26 [==============================] - 0s 5ms/step - loss: 0.2180 - accuracy: 0.8988 - val_loss: 0.2330 - val_accuracy: 0.8829\n",
            "Epoch 71/300\n",
            "26/26 [==============================] - 0s 5ms/step - loss: 0.2058 - accuracy: 0.9037 - val_loss: 0.2518 - val_accuracy: 0.8683\n",
            "Epoch 72/300\n",
            "26/26 [==============================] - 0s 5ms/step - loss: 0.2131 - accuracy: 0.8976 - val_loss: 0.2609 - val_accuracy: 0.8683\n",
            "Epoch 73/300\n",
            "26/26 [==============================] - 0s 6ms/step - loss: 0.1947 - accuracy: 0.9061 - val_loss: 0.3495 - val_accuracy: 0.8195\n",
            "Epoch 74/300\n",
            "26/26 [==============================] - 0s 5ms/step - loss: 0.2218 - accuracy: 0.8890 - val_loss: 0.2747 - val_accuracy: 0.8683\n",
            "Epoch 75/300\n",
            "26/26 [==============================] - 0s 5ms/step - loss: 0.2004 - accuracy: 0.9037 - val_loss: 0.2002 - val_accuracy: 0.8829\n",
            "Epoch 76/300\n",
            "26/26 [==============================] - 0s 5ms/step - loss: 0.2127 - accuracy: 0.9146 - val_loss: 0.3677 - val_accuracy: 0.8098\n",
            "Epoch 77/300\n",
            "26/26 [==============================] - 0s 5ms/step - loss: 0.2528 - accuracy: 0.8659 - val_loss: 0.2148 - val_accuracy: 0.9024\n",
            "Epoch 78/300\n",
            "26/26 [==============================] - 0s 5ms/step - loss: 0.1970 - accuracy: 0.9122 - val_loss: 0.1790 - val_accuracy: 0.9024\n",
            "Epoch 79/300\n",
            "26/26 [==============================] - 0s 5ms/step - loss: 0.2125 - accuracy: 0.9000 - val_loss: 0.3435 - val_accuracy: 0.8000\n",
            "Epoch 80/300\n",
            "26/26 [==============================] - 0s 5ms/step - loss: 0.2353 - accuracy: 0.8817 - val_loss: 0.2055 - val_accuracy: 0.8976\n",
            "Epoch 81/300\n",
            "26/26 [==============================] - 0s 5ms/step - loss: 0.1913 - accuracy: 0.9134 - val_loss: 0.1927 - val_accuracy: 0.9073\n",
            "Epoch 82/300\n",
            "26/26 [==============================] - 0s 5ms/step - loss: 0.1643 - accuracy: 0.9183 - val_loss: 0.1551 - val_accuracy: 0.9268\n",
            "Epoch 83/300\n",
            "26/26 [==============================] - 0s 4ms/step - loss: 0.2056 - accuracy: 0.8902 - val_loss: 0.4700 - val_accuracy: 0.7854\n",
            "Epoch 84/300\n",
            "26/26 [==============================] - 0s 5ms/step - loss: 0.2586 - accuracy: 0.8817 - val_loss: 0.3062 - val_accuracy: 0.8585\n",
            "Epoch 85/300\n",
            "26/26 [==============================] - 0s 5ms/step - loss: 0.2016 - accuracy: 0.9024 - val_loss: 0.2203 - val_accuracy: 0.8976\n",
            "Epoch 86/300\n",
            "26/26 [==============================] - 0s 5ms/step - loss: 0.1774 - accuracy: 0.9085 - val_loss: 0.2297 - val_accuracy: 0.8634\n",
            "Epoch 87/300\n",
            "26/26 [==============================] - 0s 5ms/step - loss: 0.1605 - accuracy: 0.9207 - val_loss: 0.1622 - val_accuracy: 0.9268\n",
            "Epoch 88/300\n",
            "26/26 [==============================] - 0s 5ms/step - loss: 0.2215 - accuracy: 0.8939 - val_loss: 0.2214 - val_accuracy: 0.8829\n",
            "Epoch 89/300\n",
            "26/26 [==============================] - 0s 5ms/step - loss: 0.2922 - accuracy: 0.8707 - val_loss: 0.2042 - val_accuracy: 0.8878\n",
            "Epoch 90/300\n",
            "26/26 [==============================] - 0s 5ms/step - loss: 0.2152 - accuracy: 0.9049 - val_loss: 0.1984 - val_accuracy: 0.9073\n",
            "Epoch 91/300\n",
            "26/26 [==============================] - 0s 5ms/step - loss: 0.1832 - accuracy: 0.9061 - val_loss: 0.1752 - val_accuracy: 0.9171\n",
            "Epoch 92/300\n",
            "26/26 [==============================] - 0s 6ms/step - loss: 0.1429 - accuracy: 0.9244 - val_loss: 0.2841 - val_accuracy: 0.8585\n",
            "Epoch 93/300\n",
            "26/26 [==============================] - 0s 5ms/step - loss: 0.2629 - accuracy: 0.8878 - val_loss: 0.2609 - val_accuracy: 0.8634\n",
            "Epoch 94/300\n",
            "26/26 [==============================] - 0s 5ms/step - loss: 0.1925 - accuracy: 0.9085 - val_loss: 0.1654 - val_accuracy: 0.9220\n",
            "Epoch 95/300\n",
            "26/26 [==============================] - 0s 5ms/step - loss: 0.1352 - accuracy: 0.9317 - val_loss: 0.1973 - val_accuracy: 0.8976\n",
            "Epoch 96/300\n",
            "26/26 [==============================] - 0s 5ms/step - loss: 0.1493 - accuracy: 0.9354 - val_loss: 0.1453 - val_accuracy: 0.9366\n",
            "Epoch 97/300\n",
            "26/26 [==============================] - 0s 5ms/step - loss: 0.1442 - accuracy: 0.9390 - val_loss: 0.2246 - val_accuracy: 0.8780\n",
            "Epoch 98/300\n",
            "26/26 [==============================] - 0s 5ms/step - loss: 0.1939 - accuracy: 0.9159 - val_loss: 0.1779 - val_accuracy: 0.9122\n",
            "Epoch 99/300\n",
            "26/26 [==============================] - 0s 5ms/step - loss: 0.1563 - accuracy: 0.9268 - val_loss: 0.1567 - val_accuracy: 0.9122\n",
            "Epoch 100/300\n",
            "26/26 [==============================] - 0s 5ms/step - loss: 0.1470 - accuracy: 0.9195 - val_loss: 0.2257 - val_accuracy: 0.8829\n",
            "Epoch 101/300\n",
            "26/26 [==============================] - 0s 5ms/step - loss: 0.1822 - accuracy: 0.9146 - val_loss: 0.1837 - val_accuracy: 0.8927\n",
            "Epoch 102/300\n",
            "26/26 [==============================] - 0s 5ms/step - loss: 0.1202 - accuracy: 0.9500 - val_loss: 0.1938 - val_accuracy: 0.8878\n",
            "Epoch 103/300\n",
            "26/26 [==============================] - 0s 5ms/step - loss: 0.1380 - accuracy: 0.9451 - val_loss: 0.1301 - val_accuracy: 0.9317\n",
            "Epoch 104/300\n",
            "26/26 [==============================] - 0s 5ms/step - loss: 0.1400 - accuracy: 0.9268 - val_loss: 0.1922 - val_accuracy: 0.8878\n",
            "Epoch 105/300\n",
            "26/26 [==============================] - 0s 5ms/step - loss: 0.1657 - accuracy: 0.9256 - val_loss: 0.3898 - val_accuracy: 0.8341\n",
            "Epoch 106/300\n",
            "26/26 [==============================] - 0s 5ms/step - loss: 0.4046 - accuracy: 0.8402 - val_loss: 0.2795 - val_accuracy: 0.8634\n",
            "Epoch 107/300\n",
            "26/26 [==============================] - 0s 5ms/step - loss: 0.2538 - accuracy: 0.8805 - val_loss: 0.2867 - val_accuracy: 0.8634\n",
            "Epoch 108/300\n",
            "26/26 [==============================] - 0s 5ms/step - loss: 0.2269 - accuracy: 0.8866 - val_loss: 0.2594 - val_accuracy: 0.8780\n",
            "Epoch 109/300\n",
            "26/26 [==============================] - 0s 5ms/step - loss: 0.2139 - accuracy: 0.9037 - val_loss: 0.2288 - val_accuracy: 0.8829\n",
            "Epoch 110/300\n",
            "26/26 [==============================] - 0s 5ms/step - loss: 0.1826 - accuracy: 0.9049 - val_loss: 0.1920 - val_accuracy: 0.8878\n",
            "Epoch 111/300\n",
            "26/26 [==============================] - 0s 5ms/step - loss: 0.1657 - accuracy: 0.9268 - val_loss: 0.2308 - val_accuracy: 0.8829\n",
            "Epoch 112/300\n",
            "26/26 [==============================] - 0s 5ms/step - loss: 0.2406 - accuracy: 0.8915 - val_loss: 0.2540 - val_accuracy: 0.8634\n",
            "Epoch 113/300\n",
            "26/26 [==============================] - 0s 5ms/step - loss: 0.2031 - accuracy: 0.9085 - val_loss: 0.2099 - val_accuracy: 0.9024\n",
            "Epoch 114/300\n",
            "26/26 [==============================] - 0s 5ms/step - loss: 0.1815 - accuracy: 0.9195 - val_loss: 0.2530 - val_accuracy: 0.8927\n",
            "Epoch 115/300\n",
            "26/26 [==============================] - 0s 5ms/step - loss: 0.2352 - accuracy: 0.8817 - val_loss: 0.4322 - val_accuracy: 0.7561\n",
            "Epoch 116/300\n",
            "26/26 [==============================] - 0s 5ms/step - loss: 0.2290 - accuracy: 0.9061 - val_loss: 0.2221 - val_accuracy: 0.8927\n",
            "Epoch 117/300\n",
            "26/26 [==============================] - 0s 7ms/step - loss: 0.2099 - accuracy: 0.9012 - val_loss: 0.2062 - val_accuracy: 0.8927\n",
            "Epoch 118/300\n",
            "26/26 [==============================] - 0s 7ms/step - loss: 0.2239 - accuracy: 0.8939 - val_loss: 0.2513 - val_accuracy: 0.9073\n",
            "Epoch 119/300\n",
            "26/26 [==============================] - 0s 7ms/step - loss: 0.1502 - accuracy: 0.9378 - val_loss: 0.1757 - val_accuracy: 0.9073\n",
            "Epoch 120/300\n",
            "26/26 [==============================] - 0s 7ms/step - loss: 0.1063 - accuracy: 0.9524 - val_loss: 0.1584 - val_accuracy: 0.9366\n",
            "Epoch 121/300\n",
            "26/26 [==============================] - 0s 7ms/step - loss: 0.1863 - accuracy: 0.9159 - val_loss: 0.4408 - val_accuracy: 0.8195\n",
            "Epoch 122/300\n",
            "26/26 [==============================] - 0s 7ms/step - loss: 0.2004 - accuracy: 0.9171 - val_loss: 0.1596 - val_accuracy: 0.9220\n",
            "Epoch 123/300\n",
            "26/26 [==============================] - 0s 7ms/step - loss: 0.1299 - accuracy: 0.9439 - val_loss: 0.2984 - val_accuracy: 0.9073\n",
            "Epoch 124/300\n",
            "26/26 [==============================] - 0s 7ms/step - loss: 0.1360 - accuracy: 0.9463 - val_loss: 0.1525 - val_accuracy: 0.9171\n",
            "Epoch 125/300\n",
            "26/26 [==============================] - 0s 7ms/step - loss: 0.1428 - accuracy: 0.9268 - val_loss: 0.1558 - val_accuracy: 0.9366\n",
            "Epoch 126/300\n",
            "26/26 [==============================] - 0s 8ms/step - loss: 0.0888 - accuracy: 0.9659 - val_loss: 0.1159 - val_accuracy: 0.9561\n",
            "Epoch 127/300\n",
            "26/26 [==============================] - 0s 6ms/step - loss: 0.0875 - accuracy: 0.9634 - val_loss: 0.1332 - val_accuracy: 0.9171\n",
            "Epoch 128/300\n",
            "26/26 [==============================] - 0s 5ms/step - loss: 0.0671 - accuracy: 0.9744 - val_loss: 0.1025 - val_accuracy: 0.9463\n",
            "Epoch 129/300\n",
            "26/26 [==============================] - 0s 5ms/step - loss: 0.1437 - accuracy: 0.9293 - val_loss: 0.2739 - val_accuracy: 0.8927\n",
            "Epoch 130/300\n",
            "26/26 [==============================] - 0s 5ms/step - loss: 0.1259 - accuracy: 0.9451 - val_loss: 0.1177 - val_accuracy: 0.9463\n",
            "Epoch 131/300\n",
            "26/26 [==============================] - 0s 5ms/step - loss: 0.0857 - accuracy: 0.9622 - val_loss: 0.1162 - val_accuracy: 0.9415\n",
            "Epoch 132/300\n",
            "26/26 [==============================] - 0s 4ms/step - loss: 0.0744 - accuracy: 0.9695 - val_loss: 0.1262 - val_accuracy: 0.9366\n",
            "Epoch 133/300\n",
            "26/26 [==============================] - 0s 5ms/step - loss: 0.4530 - accuracy: 0.8549 - val_loss: 0.4314 - val_accuracy: 0.7756\n",
            "Epoch 134/300\n",
            "26/26 [==============================] - 0s 5ms/step - loss: 0.2593 - accuracy: 0.8598 - val_loss: 0.1943 - val_accuracy: 0.8927\n",
            "Epoch 135/300\n",
            "26/26 [==============================] - 0s 5ms/step - loss: 0.1549 - accuracy: 0.9341 - val_loss: 0.1930 - val_accuracy: 0.8878\n",
            "Epoch 136/300\n",
            "26/26 [==============================] - 0s 5ms/step - loss: 0.1218 - accuracy: 0.9512 - val_loss: 0.1651 - val_accuracy: 0.9268\n",
            "Epoch 137/300\n",
            "26/26 [==============================] - 0s 5ms/step - loss: 0.1311 - accuracy: 0.9341 - val_loss: 0.1509 - val_accuracy: 0.9171\n",
            "Epoch 138/300\n",
            "26/26 [==============================] - 0s 5ms/step - loss: 0.1037 - accuracy: 0.9537 - val_loss: 0.1359 - val_accuracy: 0.9268\n",
            "Epoch 139/300\n",
            "26/26 [==============================] - 0s 5ms/step - loss: 0.1168 - accuracy: 0.9512 - val_loss: 0.1148 - val_accuracy: 0.9463\n",
            "Epoch 140/300\n",
            "26/26 [==============================] - 0s 5ms/step - loss: 0.1236 - accuracy: 0.9451 - val_loss: 0.1363 - val_accuracy: 0.9561\n",
            "Epoch 141/300\n",
            "26/26 [==============================] - 0s 5ms/step - loss: 0.2774 - accuracy: 0.8817 - val_loss: 0.2263 - val_accuracy: 0.8976\n",
            "Epoch 142/300\n",
            "26/26 [==============================] - 0s 5ms/step - loss: 0.1687 - accuracy: 0.9268 - val_loss: 0.1673 - val_accuracy: 0.9122\n",
            "Epoch 143/300\n",
            "26/26 [==============================] - 0s 5ms/step - loss: 0.1084 - accuracy: 0.9524 - val_loss: 0.1360 - val_accuracy: 0.9171\n",
            "Epoch 144/300\n",
            "26/26 [==============================] - 0s 5ms/step - loss: 0.0754 - accuracy: 0.9671 - val_loss: 0.1247 - val_accuracy: 0.9415\n",
            "Epoch 145/300\n",
            "26/26 [==============================] - 0s 5ms/step - loss: 0.0817 - accuracy: 0.9610 - val_loss: 0.1106 - val_accuracy: 0.9415\n",
            "Epoch 146/300\n",
            "26/26 [==============================] - 0s 5ms/step - loss: 0.0836 - accuracy: 0.9671 - val_loss: 0.1246 - val_accuracy: 0.9268\n",
            "Epoch 147/300\n",
            "26/26 [==============================] - 0s 5ms/step - loss: 0.1360 - accuracy: 0.9439 - val_loss: 0.1534 - val_accuracy: 0.9366\n",
            "Epoch 148/300\n",
            "26/26 [==============================] - 0s 6ms/step - loss: 0.1016 - accuracy: 0.9512 - val_loss: 0.1766 - val_accuracy: 0.9268\n",
            "Epoch 149/300\n",
            "26/26 [==============================] - 0s 5ms/step - loss: 0.1228 - accuracy: 0.9488 - val_loss: 0.1459 - val_accuracy: 0.9415\n",
            "Epoch 150/300\n",
            "26/26 [==============================] - 0s 5ms/step - loss: 0.1338 - accuracy: 0.9451 - val_loss: 0.1495 - val_accuracy: 0.9220\n",
            "Epoch 151/300\n",
            "26/26 [==============================] - 0s 5ms/step - loss: 0.0868 - accuracy: 0.9671 - val_loss: 0.1415 - val_accuracy: 0.9317\n",
            "Epoch 152/300\n",
            "26/26 [==============================] - 0s 5ms/step - loss: 0.0712 - accuracy: 0.9732 - val_loss: 0.1020 - val_accuracy: 0.9659\n",
            "Epoch 153/300\n",
            "26/26 [==============================] - 0s 5ms/step - loss: 0.0720 - accuracy: 0.9793 - val_loss: 0.1429 - val_accuracy: 0.9317\n",
            "Epoch 154/300\n",
            "26/26 [==============================] - 0s 5ms/step - loss: 0.0627 - accuracy: 0.9744 - val_loss: 0.2072 - val_accuracy: 0.9122\n",
            "Epoch 155/300\n",
            "26/26 [==============================] - 0s 5ms/step - loss: 0.0635 - accuracy: 0.9744 - val_loss: 0.0735 - val_accuracy: 0.9561\n",
            "Epoch 156/300\n",
            "26/26 [==============================] - 0s 5ms/step - loss: 0.0631 - accuracy: 0.9695 - val_loss: 0.4414 - val_accuracy: 0.8390\n",
            "Epoch 157/300\n",
            "26/26 [==============================] - 0s 5ms/step - loss: 0.0960 - accuracy: 0.9573 - val_loss: 0.0740 - val_accuracy: 0.9756\n",
            "Epoch 158/300\n",
            "26/26 [==============================] - 0s 6ms/step - loss: 0.0770 - accuracy: 0.9671 - val_loss: 0.1864 - val_accuracy: 0.8927\n",
            "Epoch 159/300\n",
            "26/26 [==============================] - 0s 5ms/step - loss: 0.1414 - accuracy: 0.9378 - val_loss: 0.1284 - val_accuracy: 0.9463\n",
            "Epoch 160/300\n",
            "26/26 [==============================] - 0s 5ms/step - loss: 0.1135 - accuracy: 0.9488 - val_loss: 0.1032 - val_accuracy: 0.9463\n",
            "Epoch 161/300\n",
            "26/26 [==============================] - 0s 5ms/step - loss: 0.0555 - accuracy: 0.9805 - val_loss: 0.0596 - val_accuracy: 0.9854\n",
            "Epoch 162/300\n",
            "26/26 [==============================] - 0s 5ms/step - loss: 0.0347 - accuracy: 0.9927 - val_loss: 0.0454 - val_accuracy: 0.9854\n",
            "Epoch 163/300\n",
            "26/26 [==============================] - 0s 6ms/step - loss: 0.0461 - accuracy: 0.9890 - val_loss: 0.1243 - val_accuracy: 0.9463\n",
            "Epoch 164/300\n",
            "26/26 [==============================] - 0s 5ms/step - loss: 0.0692 - accuracy: 0.9720 - val_loss: 0.1211 - val_accuracy: 0.9561\n",
            "Epoch 165/300\n",
            "26/26 [==============================] - 0s 5ms/step - loss: 0.0555 - accuracy: 0.9793 - val_loss: 0.3922 - val_accuracy: 0.8293\n",
            "Epoch 166/300\n",
            "26/26 [==============================] - 0s 5ms/step - loss: 0.1197 - accuracy: 0.9427 - val_loss: 0.1457 - val_accuracy: 0.9463\n",
            "Epoch 167/300\n",
            "26/26 [==============================] - 0s 5ms/step - loss: 0.0853 - accuracy: 0.9610 - val_loss: 0.0645 - val_accuracy: 0.9659\n",
            "Epoch 168/300\n",
            "26/26 [==============================] - 0s 5ms/step - loss: 0.0324 - accuracy: 0.9902 - val_loss: 0.0515 - val_accuracy: 0.9805\n",
            "Epoch 169/300\n",
            "26/26 [==============================] - 0s 5ms/step - loss: 0.0200 - accuracy: 0.9951 - val_loss: 0.0323 - val_accuracy: 0.9902\n",
            "Epoch 170/300\n",
            "26/26 [==============================] - 0s 5ms/step - loss: 0.0162 - accuracy: 0.9976 - val_loss: 0.0338 - val_accuracy: 0.9902\n",
            "Epoch 171/300\n",
            "26/26 [==============================] - 0s 5ms/step - loss: 0.0121 - accuracy: 0.9963 - val_loss: 0.0211 - val_accuracy: 1.0000\n",
            "Epoch 172/300\n",
            "26/26 [==============================] - 0s 5ms/step - loss: 0.0118 - accuracy: 0.9976 - val_loss: 0.0505 - val_accuracy: 0.9756\n",
            "Epoch 173/300\n",
            "26/26 [==============================] - 0s 5ms/step - loss: 0.1387 - accuracy: 0.9390 - val_loss: 0.2584 - val_accuracy: 0.9024\n",
            "Epoch 174/300\n",
            "26/26 [==============================] - 0s 5ms/step - loss: 0.1875 - accuracy: 0.9366 - val_loss: 0.5428 - val_accuracy: 0.7902\n",
            "Epoch 175/300\n",
            "26/26 [==============================] - 0s 5ms/step - loss: 0.1695 - accuracy: 0.9317 - val_loss: 0.0905 - val_accuracy: 0.9805\n",
            "Epoch 176/300\n",
            "26/26 [==============================] - 0s 5ms/step - loss: 0.0693 - accuracy: 0.9768 - val_loss: 0.0545 - val_accuracy: 0.9854\n",
            "Epoch 177/300\n",
            "26/26 [==============================] - 0s 5ms/step - loss: 0.0341 - accuracy: 0.9902 - val_loss: 0.0456 - val_accuracy: 0.9756\n",
            "Epoch 178/300\n",
            "26/26 [==============================] - 0s 5ms/step - loss: 0.0318 - accuracy: 0.9902 - val_loss: 0.0546 - val_accuracy: 0.9659\n",
            "Epoch 179/300\n",
            "26/26 [==============================] - 0s 5ms/step - loss: 0.0210 - accuracy: 0.9939 - val_loss: 0.0261 - val_accuracy: 0.9951\n",
            "Epoch 180/300\n",
            "26/26 [==============================] - 0s 5ms/step - loss: 0.0172 - accuracy: 0.9976 - val_loss: 0.0196 - val_accuracy: 1.0000\n",
            "Epoch 181/300\n",
            "26/26 [==============================] - 0s 5ms/step - loss: 0.0332 - accuracy: 0.9890 - val_loss: 0.0460 - val_accuracy: 0.9756\n",
            "Epoch 182/300\n",
            "26/26 [==============================] - 0s 5ms/step - loss: 0.0318 - accuracy: 0.9854 - val_loss: 0.1519 - val_accuracy: 0.9415\n",
            "Epoch 183/300\n",
            "26/26 [==============================] - 0s 5ms/step - loss: 0.0235 - accuracy: 0.9915 - val_loss: 0.0226 - val_accuracy: 1.0000\n",
            "Epoch 184/300\n",
            "26/26 [==============================] - 0s 5ms/step - loss: 0.0130 - accuracy: 0.9988 - val_loss: 0.0117 - val_accuracy: 1.0000\n",
            "Epoch 185/300\n",
            "26/26 [==============================] - 0s 6ms/step - loss: 0.0055 - accuracy: 1.0000 - val_loss: 0.0109 - val_accuracy: 1.0000\n",
            "Epoch 186/300\n",
            "26/26 [==============================] - 0s 5ms/step - loss: 0.0058 - accuracy: 1.0000 - val_loss: 0.0073 - val_accuracy: 1.0000\n",
            "Epoch 187/300\n",
            "26/26 [==============================] - 0s 5ms/step - loss: 0.0033 - accuracy: 1.0000 - val_loss: 0.0062 - val_accuracy: 1.0000\n",
            "Epoch 188/300\n",
            "26/26 [==============================] - 0s 5ms/step - loss: 0.0034 - accuracy: 1.0000 - val_loss: 0.0271 - val_accuracy: 0.9902\n",
            "Epoch 189/300\n",
            "26/26 [==============================] - 0s 5ms/step - loss: 0.0092 - accuracy: 0.9976 - val_loss: 0.0448 - val_accuracy: 0.9902\n",
            "Epoch 190/300\n",
            "26/26 [==============================] - 0s 5ms/step - loss: 0.0113 - accuracy: 0.9951 - val_loss: 0.0098 - val_accuracy: 0.9951\n",
            "Epoch 191/300\n",
            "26/26 [==============================] - 0s 5ms/step - loss: 0.0050 - accuracy: 1.0000 - val_loss: 0.0056 - val_accuracy: 1.0000\n",
            "Epoch 192/300\n",
            "26/26 [==============================] - 0s 5ms/step - loss: 0.0024 - accuracy: 1.0000 - val_loss: 0.0027 - val_accuracy: 1.0000\n",
            "Epoch 193/300\n",
            "26/26 [==============================] - 0s 5ms/step - loss: 0.0018 - accuracy: 1.0000 - val_loss: 0.0023 - val_accuracy: 1.0000\n",
            "Epoch 194/300\n",
            "26/26 [==============================] - 0s 5ms/step - loss: 0.0014 - accuracy: 1.0000 - val_loss: 0.0021 - val_accuracy: 1.0000\n",
            "Epoch 195/300\n",
            "26/26 [==============================] - 0s 6ms/step - loss: 0.0011 - accuracy: 1.0000 - val_loss: 0.0020 - val_accuracy: 1.0000\n",
            "Epoch 196/300\n",
            "26/26 [==============================] - 0s 5ms/step - loss: 9.2921e-04 - accuracy: 1.0000 - val_loss: 0.0016 - val_accuracy: 1.0000\n",
            "Epoch 197/300\n",
            "26/26 [==============================] - 0s 5ms/step - loss: 8.6964e-04 - accuracy: 1.0000 - val_loss: 0.0016 - val_accuracy: 1.0000\n",
            "Epoch 198/300\n",
            "26/26 [==============================] - 0s 5ms/step - loss: 7.0846e-04 - accuracy: 1.0000 - val_loss: 0.0013 - val_accuracy: 1.0000\n",
            "Epoch 199/300\n",
            "26/26 [==============================] - 0s 7ms/step - loss: 6.8796e-04 - accuracy: 1.0000 - val_loss: 0.0013 - val_accuracy: 1.0000\n",
            "Epoch 200/300\n",
            "26/26 [==============================] - 0s 7ms/step - loss: 6.0427e-04 - accuracy: 1.0000 - val_loss: 0.0012 - val_accuracy: 1.0000\n",
            "Epoch 201/300\n",
            "26/26 [==============================] - 0s 7ms/step - loss: 5.6455e-04 - accuracy: 1.0000 - val_loss: 0.0011 - val_accuracy: 1.0000\n",
            "Epoch 202/300\n",
            "26/26 [==============================] - 0s 7ms/step - loss: 5.0453e-04 - accuracy: 1.0000 - val_loss: 9.6052e-04 - val_accuracy: 1.0000\n",
            "Epoch 203/300\n",
            "26/26 [==============================] - 0s 7ms/step - loss: 5.0175e-04 - accuracy: 1.0000 - val_loss: 9.2154e-04 - val_accuracy: 1.0000\n",
            "Epoch 204/300\n",
            "26/26 [==============================] - 0s 8ms/step - loss: 4.9466e-04 - accuracy: 1.0000 - val_loss: 9.2688e-04 - val_accuracy: 1.0000\n",
            "Epoch 205/300\n",
            "26/26 [==============================] - 0s 8ms/step - loss: 4.3201e-04 - accuracy: 1.0000 - val_loss: 7.8846e-04 - val_accuracy: 1.0000\n",
            "Epoch 206/300\n",
            "26/26 [==============================] - 0s 7ms/step - loss: 4.0739e-04 - accuracy: 1.0000 - val_loss: 8.7434e-04 - val_accuracy: 1.0000\n",
            "Epoch 207/300\n",
            "26/26 [==============================] - 0s 8ms/step - loss: 3.8936e-04 - accuracy: 1.0000 - val_loss: 8.0133e-04 - val_accuracy: 1.0000\n",
            "Epoch 208/300\n",
            "26/26 [==============================] - 0s 7ms/step - loss: 3.7021e-04 - accuracy: 1.0000 - val_loss: 7.0372e-04 - val_accuracy: 1.0000\n",
            "Epoch 209/300\n",
            "26/26 [==============================] - 0s 7ms/step - loss: 3.5473e-04 - accuracy: 1.0000 - val_loss: 8.3409e-04 - val_accuracy: 1.0000\n",
            "Epoch 210/300\n",
            "26/26 [==============================] - 0s 5ms/step - loss: 3.4654e-04 - accuracy: 1.0000 - val_loss: 6.2835e-04 - val_accuracy: 1.0000\n",
            "Epoch 211/300\n",
            "26/26 [==============================] - 0s 5ms/step - loss: 3.3203e-04 - accuracy: 1.0000 - val_loss: 6.2366e-04 - val_accuracy: 1.0000\n",
            "Epoch 212/300\n",
            "26/26 [==============================] - 0s 5ms/step - loss: 3.0081e-04 - accuracy: 1.0000 - val_loss: 5.8708e-04 - val_accuracy: 1.0000\n",
            "Epoch 213/300\n",
            "26/26 [==============================] - 0s 5ms/step - loss: 3.0526e-04 - accuracy: 1.0000 - val_loss: 5.9677e-04 - val_accuracy: 1.0000\n",
            "Epoch 214/300\n",
            "26/26 [==============================] - 0s 5ms/step - loss: 2.7658e-04 - accuracy: 1.0000 - val_loss: 5.4156e-04 - val_accuracy: 1.0000\n",
            "Epoch 215/300\n",
            "26/26 [==============================] - 0s 5ms/step - loss: 2.6444e-04 - accuracy: 1.0000 - val_loss: 5.3765e-04 - val_accuracy: 1.0000\n",
            "Epoch 216/300\n",
            "26/26 [==============================] - 0s 5ms/step - loss: 2.4875e-04 - accuracy: 1.0000 - val_loss: 5.0498e-04 - val_accuracy: 1.0000\n",
            "Epoch 217/300\n",
            "26/26 [==============================] - 0s 5ms/step - loss: 2.4137e-04 - accuracy: 1.0000 - val_loss: 4.9072e-04 - val_accuracy: 1.0000\n",
            "Epoch 218/300\n",
            "26/26 [==============================] - 0s 5ms/step - loss: 2.5108e-04 - accuracy: 1.0000 - val_loss: 4.7739e-04 - val_accuracy: 1.0000\n",
            "Epoch 219/300\n",
            "26/26 [==============================] - 0s 5ms/step - loss: 2.2632e-04 - accuracy: 1.0000 - val_loss: 4.9154e-04 - val_accuracy: 1.0000\n",
            "Epoch 220/300\n",
            "26/26 [==============================] - 0s 5ms/step - loss: 2.4066e-04 - accuracy: 1.0000 - val_loss: 4.3397e-04 - val_accuracy: 1.0000\n",
            "Epoch 221/300\n",
            "26/26 [==============================] - 0s 5ms/step - loss: 2.0814e-04 - accuracy: 1.0000 - val_loss: 4.3805e-04 - val_accuracy: 1.0000\n",
            "Epoch 222/300\n",
            "26/26 [==============================] - 0s 5ms/step - loss: 1.9633e-04 - accuracy: 1.0000 - val_loss: 3.9253e-04 - val_accuracy: 1.0000\n",
            "Epoch 223/300\n",
            "26/26 [==============================] - 0s 5ms/step - loss: 1.8616e-04 - accuracy: 1.0000 - val_loss: 3.7892e-04 - val_accuracy: 1.0000\n",
            "Epoch 224/300\n",
            "26/26 [==============================] - 0s 5ms/step - loss: 1.7977e-04 - accuracy: 1.0000 - val_loss: 3.8453e-04 - val_accuracy: 1.0000\n",
            "Epoch 225/300\n",
            "26/26 [==============================] - 0s 5ms/step - loss: 1.7718e-04 - accuracy: 1.0000 - val_loss: 3.7067e-04 - val_accuracy: 1.0000\n",
            "Epoch 226/300\n",
            "26/26 [==============================] - 0s 5ms/step - loss: 1.6882e-04 - accuracy: 1.0000 - val_loss: 3.3337e-04 - val_accuracy: 1.0000\n",
            "Epoch 227/300\n",
            "26/26 [==============================] - 0s 5ms/step - loss: 1.6302e-04 - accuracy: 1.0000 - val_loss: 3.3108e-04 - val_accuracy: 1.0000\n",
            "Epoch 228/300\n",
            "26/26 [==============================] - 0s 5ms/step - loss: 1.5723e-04 - accuracy: 1.0000 - val_loss: 3.2359e-04 - val_accuracy: 1.0000\n",
            "Epoch 229/300\n",
            "26/26 [==============================] - 0s 5ms/step - loss: 1.5173e-04 - accuracy: 1.0000 - val_loss: 3.1050e-04 - val_accuracy: 1.0000\n",
            "Epoch 230/300\n",
            "26/26 [==============================] - 0s 5ms/step - loss: 1.4798e-04 - accuracy: 1.0000 - val_loss: 3.1347e-04 - val_accuracy: 1.0000\n",
            "Epoch 231/300\n",
            "26/26 [==============================] - 0s 5ms/step - loss: 1.4197e-04 - accuracy: 1.0000 - val_loss: 2.9405e-04 - val_accuracy: 1.0000\n",
            "Epoch 232/300\n",
            "26/26 [==============================] - 0s 5ms/step - loss: 1.3899e-04 - accuracy: 1.0000 - val_loss: 2.9970e-04 - val_accuracy: 1.0000\n",
            "Epoch 233/300\n",
            "26/26 [==============================] - 0s 5ms/step - loss: 1.3380e-04 - accuracy: 1.0000 - val_loss: 2.7597e-04 - val_accuracy: 1.0000\n",
            "Epoch 234/300\n",
            "26/26 [==============================] - 0s 6ms/step - loss: 1.3127e-04 - accuracy: 1.0000 - val_loss: 2.7511e-04 - val_accuracy: 1.0000\n",
            "Epoch 235/300\n",
            "26/26 [==============================] - 0s 5ms/step - loss: 1.2465e-04 - accuracy: 1.0000 - val_loss: 2.5451e-04 - val_accuracy: 1.0000\n",
            "Epoch 236/300\n",
            "26/26 [==============================] - 0s 5ms/step - loss: 1.2335e-04 - accuracy: 1.0000 - val_loss: 2.6385e-04 - val_accuracy: 1.0000\n",
            "Epoch 237/300\n",
            "26/26 [==============================] - 0s 5ms/step - loss: 1.1714e-04 - accuracy: 1.0000 - val_loss: 2.3841e-04 - val_accuracy: 1.0000\n",
            "Epoch 238/300\n",
            "26/26 [==============================] - 0s 5ms/step - loss: 1.1313e-04 - accuracy: 1.0000 - val_loss: 2.2940e-04 - val_accuracy: 1.0000\n",
            "Epoch 239/300\n",
            "26/26 [==============================] - 0s 6ms/step - loss: 1.1379e-04 - accuracy: 1.0000 - val_loss: 2.3033e-04 - val_accuracy: 1.0000\n",
            "Epoch 240/300\n",
            "26/26 [==============================] - 0s 5ms/step - loss: 1.0630e-04 - accuracy: 1.0000 - val_loss: 2.2632e-04 - val_accuracy: 1.0000\n",
            "Epoch 241/300\n",
            "26/26 [==============================] - 0s 5ms/step - loss: 1.0448e-04 - accuracy: 1.0000 - val_loss: 2.2058e-04 - val_accuracy: 1.0000\n",
            "Epoch 242/300\n",
            "26/26 [==============================] - 0s 5ms/step - loss: 1.0102e-04 - accuracy: 1.0000 - val_loss: 2.0896e-04 - val_accuracy: 1.0000\n",
            "Epoch 243/300\n",
            "26/26 [==============================] - 0s 5ms/step - loss: 9.7415e-05 - accuracy: 1.0000 - val_loss: 2.0580e-04 - val_accuracy: 1.0000\n",
            "Epoch 244/300\n",
            "26/26 [==============================] - 0s 5ms/step - loss: 9.5391e-05 - accuracy: 1.0000 - val_loss: 1.9950e-04 - val_accuracy: 1.0000\n",
            "Epoch 245/300\n",
            "26/26 [==============================] - 0s 5ms/step - loss: 9.3024e-05 - accuracy: 1.0000 - val_loss: 1.8640e-04 - val_accuracy: 1.0000\n",
            "Epoch 246/300\n",
            "26/26 [==============================] - 0s 5ms/step - loss: 8.9167e-05 - accuracy: 1.0000 - val_loss: 1.8116e-04 - val_accuracy: 1.0000\n",
            "Epoch 247/300\n",
            "26/26 [==============================] - 0s 5ms/step - loss: 8.6115e-05 - accuracy: 1.0000 - val_loss: 1.8402e-04 - val_accuracy: 1.0000\n",
            "Epoch 248/300\n",
            "26/26 [==============================] - 0s 5ms/step - loss: 8.4899e-05 - accuracy: 1.0000 - val_loss: 1.7194e-04 - val_accuracy: 1.0000\n",
            "Epoch 249/300\n",
            "26/26 [==============================] - 0s 5ms/step - loss: 8.2066e-05 - accuracy: 1.0000 - val_loss: 1.6516e-04 - val_accuracy: 1.0000\n",
            "Epoch 250/300\n",
            "26/26 [==============================] - 0s 5ms/step - loss: 7.9155e-05 - accuracy: 1.0000 - val_loss: 1.6946e-04 - val_accuracy: 1.0000\n",
            "Epoch 251/300\n",
            "26/26 [==============================] - 0s 5ms/step - loss: 7.7957e-05 - accuracy: 1.0000 - val_loss: 1.5994e-04 - val_accuracy: 1.0000\n",
            "Epoch 252/300\n",
            "26/26 [==============================] - 0s 6ms/step - loss: 7.5370e-05 - accuracy: 1.0000 - val_loss: 1.5629e-04 - val_accuracy: 1.0000\n",
            "Epoch 253/300\n",
            "26/26 [==============================] - 0s 5ms/step - loss: 7.2529e-05 - accuracy: 1.0000 - val_loss: 1.4782e-04 - val_accuracy: 1.0000\n",
            "Epoch 254/300\n",
            "26/26 [==============================] - 0s 5ms/step - loss: 7.0602e-05 - accuracy: 1.0000 - val_loss: 1.5060e-04 - val_accuracy: 1.0000\n",
            "Epoch 255/300\n",
            "26/26 [==============================] - 0s 5ms/step - loss: 6.8624e-05 - accuracy: 1.0000 - val_loss: 1.3981e-04 - val_accuracy: 1.0000\n",
            "Epoch 256/300\n",
            "26/26 [==============================] - 0s 5ms/step - loss: 6.7299e-05 - accuracy: 1.0000 - val_loss: 1.4182e-04 - val_accuracy: 1.0000\n",
            "Epoch 257/300\n",
            "26/26 [==============================] - 0s 5ms/step - loss: 6.6077e-05 - accuracy: 1.0000 - val_loss: 1.3216e-04 - val_accuracy: 1.0000\n",
            "Epoch 258/300\n",
            "26/26 [==============================] - 0s 5ms/step - loss: 6.3271e-05 - accuracy: 1.0000 - val_loss: 1.3336e-04 - val_accuracy: 1.0000\n",
            "Epoch 259/300\n",
            "26/26 [==============================] - 0s 6ms/step - loss: 6.3746e-05 - accuracy: 1.0000 - val_loss: 1.3056e-04 - val_accuracy: 1.0000\n",
            "Epoch 260/300\n",
            "26/26 [==============================] - 0s 5ms/step - loss: 6.2398e-05 - accuracy: 1.0000 - val_loss: 1.2454e-04 - val_accuracy: 1.0000\n",
            "Epoch 261/300\n",
            "26/26 [==============================] - 0s 7ms/step - loss: 5.9266e-05 - accuracy: 1.0000 - val_loss: 1.1978e-04 - val_accuracy: 1.0000\n",
            "Epoch 262/300\n",
            "26/26 [==============================] - 0s 5ms/step - loss: 5.7004e-05 - accuracy: 1.0000 - val_loss: 1.1821e-04 - val_accuracy: 1.0000\n",
            "Epoch 263/300\n",
            "26/26 [==============================] - 0s 6ms/step - loss: 5.5924e-05 - accuracy: 1.0000 - val_loss: 1.1364e-04 - val_accuracy: 1.0000\n",
            "Epoch 264/300\n",
            "26/26 [==============================] - 0s 5ms/step - loss: 5.4765e-05 - accuracy: 1.0000 - val_loss: 1.1346e-04 - val_accuracy: 1.0000\n",
            "Epoch 265/300\n",
            "26/26 [==============================] - 0s 5ms/step - loss: 5.3385e-05 - accuracy: 1.0000 - val_loss: 1.1162e-04 - val_accuracy: 1.0000\n",
            "Epoch 266/300\n",
            "26/26 [==============================] - 0s 5ms/step - loss: 5.2682e-05 - accuracy: 1.0000 - val_loss: 1.0806e-04 - val_accuracy: 1.0000\n",
            "Epoch 267/300\n",
            "26/26 [==============================] - 0s 6ms/step - loss: 5.0941e-05 - accuracy: 1.0000 - val_loss: 1.0797e-04 - val_accuracy: 1.0000\n",
            "Epoch 268/300\n",
            "26/26 [==============================] - 0s 6ms/step - loss: 5.0020e-05 - accuracy: 1.0000 - val_loss: 1.0582e-04 - val_accuracy: 1.0000\n",
            "Epoch 269/300\n",
            "26/26 [==============================] - 0s 5ms/step - loss: 4.9828e-05 - accuracy: 1.0000 - val_loss: 9.8725e-05 - val_accuracy: 1.0000\n",
            "Epoch 270/300\n",
            "26/26 [==============================] - 0s 5ms/step - loss: 4.6770e-05 - accuracy: 1.0000 - val_loss: 9.9216e-05 - val_accuracy: 1.0000\n",
            "Epoch 271/300\n",
            "26/26 [==============================] - 0s 6ms/step - loss: 4.6359e-05 - accuracy: 1.0000 - val_loss: 9.4595e-05 - val_accuracy: 1.0000\n",
            "Epoch 272/300\n",
            "26/26 [==============================] - 0s 6ms/step - loss: 4.4786e-05 - accuracy: 1.0000 - val_loss: 9.4849e-05 - val_accuracy: 1.0000\n",
            "Epoch 273/300\n",
            "26/26 [==============================] - 0s 5ms/step - loss: 4.4258e-05 - accuracy: 1.0000 - val_loss: 9.0501e-05 - val_accuracy: 1.0000\n",
            "Epoch 274/300\n",
            "26/26 [==============================] - 0s 5ms/step - loss: 4.2484e-05 - accuracy: 1.0000 - val_loss: 8.7304e-05 - val_accuracy: 1.0000\n",
            "Epoch 275/300\n",
            "26/26 [==============================] - 0s 9ms/step - loss: 4.1751e-05 - accuracy: 1.0000 - val_loss: 8.7174e-05 - val_accuracy: 1.0000\n",
            "Epoch 276/300\n",
            "26/26 [==============================] - 0s 9ms/step - loss: 4.0982e-05 - accuracy: 1.0000 - val_loss: 8.4671e-05 - val_accuracy: 1.0000\n",
            "Epoch 277/300\n",
            "26/26 [==============================] - 0s 12ms/step - loss: 4.0848e-05 - accuracy: 1.0000 - val_loss: 8.4584e-05 - val_accuracy: 1.0000\n",
            "Epoch 278/300\n",
            "26/26 [==============================] - 0s 18ms/step - loss: 3.9455e-05 - accuracy: 1.0000 - val_loss: 8.0271e-05 - val_accuracy: 1.0000\n",
            "Epoch 279/300\n",
            "26/26 [==============================] - 0s 13ms/step - loss: 3.8136e-05 - accuracy: 1.0000 - val_loss: 7.8823e-05 - val_accuracy: 1.0000\n",
            "Epoch 280/300\n",
            "26/26 [==============================] - 0s 18ms/step - loss: 3.7240e-05 - accuracy: 1.0000 - val_loss: 7.6700e-05 - val_accuracy: 1.0000\n",
            "Epoch 281/300\n",
            "26/26 [==============================] - 0s 14ms/step - loss: 3.6167e-05 - accuracy: 1.0000 - val_loss: 7.5459e-05 - val_accuracy: 1.0000\n",
            "Epoch 282/300\n",
            "26/26 [==============================] - 0s 12ms/step - loss: 3.5372e-05 - accuracy: 1.0000 - val_loss: 7.6783e-05 - val_accuracy: 1.0000\n",
            "Epoch 283/300\n",
            "26/26 [==============================] - 0s 13ms/step - loss: 3.4826e-05 - accuracy: 1.0000 - val_loss: 7.3510e-05 - val_accuracy: 1.0000\n",
            "Epoch 284/300\n",
            "26/26 [==============================] - 0s 8ms/step - loss: 3.4245e-05 - accuracy: 1.0000 - val_loss: 7.0960e-05 - val_accuracy: 1.0000\n",
            "Epoch 285/300\n",
            "26/26 [==============================] - 0s 10ms/step - loss: 3.3492e-05 - accuracy: 1.0000 - val_loss: 6.9702e-05 - val_accuracy: 1.0000\n",
            "Epoch 286/300\n",
            "26/26 [==============================] - 0s 10ms/step - loss: 3.2456e-05 - accuracy: 1.0000 - val_loss: 6.7520e-05 - val_accuracy: 1.0000\n",
            "Epoch 287/300\n",
            "26/26 [==============================] - 0s 9ms/step - loss: 3.2121e-05 - accuracy: 1.0000 - val_loss: 6.5671e-05 - val_accuracy: 1.0000\n",
            "Epoch 288/300\n",
            "26/26 [==============================] - 0s 8ms/step - loss: 3.0830e-05 - accuracy: 1.0000 - val_loss: 6.5338e-05 - val_accuracy: 1.0000\n",
            "Epoch 289/300\n",
            "26/26 [==============================] - 0s 10ms/step - loss: 3.0157e-05 - accuracy: 1.0000 - val_loss: 6.2499e-05 - val_accuracy: 1.0000\n",
            "Epoch 290/300\n",
            "26/26 [==============================] - 0s 13ms/step - loss: 2.9486e-05 - accuracy: 1.0000 - val_loss: 6.1163e-05 - val_accuracy: 1.0000\n",
            "Epoch 291/300\n",
            "26/26 [==============================] - 0s 11ms/step - loss: 2.8870e-05 - accuracy: 1.0000 - val_loss: 6.0458e-05 - val_accuracy: 1.0000\n",
            "Epoch 292/300\n",
            "26/26 [==============================] - 0s 9ms/step - loss: 2.8611e-05 - accuracy: 1.0000 - val_loss: 5.8763e-05 - val_accuracy: 1.0000\n",
            "Epoch 293/300\n",
            "26/26 [==============================] - 0s 9ms/step - loss: 2.7715e-05 - accuracy: 1.0000 - val_loss: 5.9071e-05 - val_accuracy: 1.0000\n",
            "Epoch 294/300\n",
            "26/26 [==============================] - 0s 11ms/step - loss: 2.6948e-05 - accuracy: 1.0000 - val_loss: 5.6100e-05 - val_accuracy: 1.0000\n",
            "Epoch 295/300\n",
            "26/26 [==============================] - 0s 8ms/step - loss: 2.7191e-05 - accuracy: 1.0000 - val_loss: 5.7182e-05 - val_accuracy: 1.0000\n",
            "Epoch 296/300\n",
            "26/26 [==============================] - 0s 8ms/step - loss: 2.6265e-05 - accuracy: 1.0000 - val_loss: 5.4461e-05 - val_accuracy: 1.0000\n",
            "Epoch 297/300\n",
            "26/26 [==============================] - 0s 10ms/step - loss: 2.6424e-05 - accuracy: 1.0000 - val_loss: 5.3674e-05 - val_accuracy: 1.0000\n",
            "Epoch 298/300\n",
            "26/26 [==============================] - 0s 12ms/step - loss: 2.5264e-05 - accuracy: 1.0000 - val_loss: 5.2412e-05 - val_accuracy: 1.0000\n",
            "Epoch 299/300\n",
            "26/26 [==============================] - 0s 8ms/step - loss: 2.4684e-05 - accuracy: 1.0000 - val_loss: 5.0051e-05 - val_accuracy: 1.0000\n",
            "Epoch 300/300\n",
            "26/26 [==============================] - 0s 9ms/step - loss: 2.4400e-05 - accuracy: 1.0000 - val_loss: 5.1383e-05 - val_accuracy: 1.0000\n"
          ]
        }
      ],
      "source": [
        "#history = model.fit(X_train, y_train, epochs=300, batch_size=64)\n",
        "history = model.fit(X_train,y_train,validation_data=(X_test,y_test),epochs=300)"
      ]
    },
    {
      "cell_type": "markdown",
      "metadata": {
        "id": "isbAqIDKTG_S"
      },
      "source": [
        "## Plot acc and loss"
      ]
    },
    {
      "cell_type": "code",
      "execution_count": null,
      "metadata": {
        "colab": {
          "base_uri": "https://localhost:8080/",
          "height": 295
        },
        "id": "EwcGLoXJTEru",
        "outputId": "44bfebe9-bb26-4599-cefd-3a45073d3b66"
      },
      "outputs": [
        {
          "output_type": "display_data",
          "data": {
            "text/plain": [
              "<Figure size 432x288 with 1 Axes>"
            ],
            "image/png": "[encoded data removed]"
          },
          "metadata": {
            "needs_background": "light"
          }
        }
      ],
      "source": [
        "#Visualize the models accuracy and loss\n",
        "import matplotlib.pyplot as plt\n",
        "\n",
        "plt.plot(history.history[\"accuracy\"])\n",
        "plt.plot(history.history[\"loss\"])\n",
        "plt.title(\"model accuracy & loss\")\n",
        "plt.ylabel(\"accuracy and loss\")\n",
        "plt.xlabel(\"epoch\")\n",
        "plt.legend(['acc', 'loss'], loc='lower right')\n",
        "plt.show()"
      ]
    },
    {
      "cell_type": "code",
      "execution_count": null,
      "metadata": {
        "colab": {
          "base_uri": "https://localhost:8080/",
          "height": 295
        },
        "id": "lL6XYa_t7HRt",
        "outputId": "c9cdc278-31a8-468a-92fe-0becfef39665"
      },
      "outputs": [
        {
          "output_type": "display_data",
          "data": {
            "text/plain": [
              "<Figure size 432x288 with 1 Axes>"
            ],
            "image/png": "[encoded data removed]"
          },
          "metadata": {
            "needs_background": "light"
          }
        }
      ],
      "source": [
        "#Visualize the model val accuracy and val loss\n",
        "import matplotlib.pyplot as plt\n",
        "\n",
        "plt.plot(history.history[\"val_accuracy\"])\n",
        "plt.plot(history.history[\"val_loss\"])\n",
        "plt.title(\"model accuracy & loss\")\n",
        "plt.ylabel(\"accuracy and loss\")\n",
        "plt.xlabel(\"epoch\")\n",
        "plt.legend(['acc', 'loss'], loc='lower right')\n",
        "plt.show()"
      ]
    },
    {
      "cell_type": "markdown",
      "metadata": {
        "id": "1j0IJd1SSsVp"
      },
      "source": [
        "# Calculate prediction"
      ]
    },
    {
      "cell_type": "code",
      "execution_count": null,
      "metadata": {
        "id": "_mhV_DzwyGyc",
        "colab": {
          "base_uri": "https://localhost:8080/"
        },
        "outputId": "4fc6ebc2-982e-4e6c-b753-7ce7c4d35216"
      },
      "outputs": [
        {
          "output_type": "stream",
          "name": "stdout",
          "text": [
            "7/7 [==============================] - 0s 2ms/step\n"
          ]
        }
      ],
      "source": [
        "y_pred = model.predict(X_test)"
      ]
    },
    {
      "cell_type": "code",
      "execution_count": null,
      "metadata": {
        "colab": {
          "base_uri": "https://localhost:8080/"
        },
        "id": "E_22PQ18byTs",
        "outputId": "8662e3e7-97fc-491a-f194-836b3ed758a6"
      },
      "outputs": [
        {
          "output_type": "stream",
          "name": "stdout",
          "text": [
            "7/7 [==============================] - 0s 2ms/step - loss: 5.1383e-05 - accuracy: 1.0000\n"
          ]
        },
        {
          "output_type": "execute_result",
          "data": {
            "text/plain": [
              "[5.138250708114356e-05, 1.0]"
            ]
          },
          "metadata": {},
          "execution_count": 32
        }
      ],
      "source": [
        "model.evaluate(X_test, y_test)"
      ]
    },
    {
      "cell_type": "code",
      "execution_count": null,
      "metadata": {
        "colab": {
          "base_uri": "https://localhost:8080/"
        },
        "id": "iNjfPPQNyYfl",
        "outputId": "85353ba5-091a-4474-ab0f-fd385d4f4046"
      },
      "outputs": [
        {
          "output_type": "stream",
          "name": "stdout",
          "text": [
            "Accuracy on test data: 1.0% \n",
            " Error on test data: 0.0\n"
          ]
        }
      ],
      "source": [
        "#pred_test= model.predict(X_test)\n",
        "score = model.evaluate(X_test, y_test, verbose=0)\n",
        "print('Accuracy on test data: {}% \\n Error on test data: {}'.format(score[1], 1 - score[1]))"
      ]
    },
    {
      "cell_type": "code",
      "execution_count": null,
      "metadata": {
        "colab": {
          "base_uri": "https://localhost:8080/"
        },
        "id": "lDvfRKIU7HRu",
        "outputId": "c2e23a4f-8367-4db3-ac7e-df1eba0a38df"
      },
      "outputs": [
        {
          "output_type": "execute_result",
          "data": {
            "text/plain": [
              "(205, 2)"
            ]
          },
          "metadata": {},
          "execution_count": 34
        }
      ],
      "source": [
        "#Shape\n",
        "y_test.shape\n",
        "y_pred.shape"
      ]
    },
    {
      "cell_type": "markdown",
      "metadata": {
        "id": "d2E4H132UFIY"
      },
      "source": [
        "# Confusion matrix\n",
        "\n",
        "*   Converting predictions to label\n",
        "\n",
        "\n",
        "\n"
      ]
    },
    {
      "cell_type": "code",
      "execution_count": null,
      "metadata": {
        "colab": {
          "base_uri": "https://localhost:8080/"
        },
        "id": "Oc4zDsY_7HRu",
        "outputId": "dbe93ce9-c363-4681-e465-d43b32791db3"
      },
      "outputs": [
        {
          "output_type": "execute_result",
          "data": {
            "text/plain": [
              "(205,)"
            ]
          },
          "metadata": {},
          "execution_count": 35
        }
      ],
      "source": [
        "# argmax only for predictions as y_test is in 1D and predictions are in 2D\n",
        "\n",
        "y_pred = np.argmax(y_pred, axis=1)\n",
        "y_pred.shape"
      ]
    },
    {
      "cell_type": "code",
      "execution_count": null,
      "metadata": {
        "colab": {
          "base_uri": "https://localhost:8080/"
        },
        "id": "kyXprjVZq5Et",
        "outputId": "a34b6ef2-2dde-411e-d035-d0aa22b1aee3"
      },
      "outputs": [
        {
          "output_type": "stream",
          "name": "stdout",
          "text": [
            "[[ 97   0]\n",
            " [  0 108]]\n"
          ]
        }
      ],
      "source": [
        "print(confusion_matrix(y_pred,y_test))"
      ]
    },
    {
      "cell_type": "code",
      "execution_count": null,
      "metadata": {
        "colab": {
          "base_uri": "https://localhost:8080/"
        },
        "id": "oPQPc6GVrHQA",
        "outputId": "a48edd6e-de85-4fe7-de61-180c0376a605"
      },
      "outputs": [
        {
          "output_type": "stream",
          "name": "stdout",
          "text": [
            "Report of test data:\n",
            "              precision    recall  f1-score   support\n",
            "\n",
            "           0       1.00      1.00      1.00        97\n",
            "           1       1.00      1.00      1.00       108\n",
            "\n",
            "    accuracy                           1.00       205\n",
            "   macro avg       1.00      1.00      1.00       205\n",
            "weighted avg       1.00      1.00      1.00       205\n",
            "\n"
          ]
        }
      ],
      "source": [
        "rep = classification_report(y_test, y_pred)\n",
        "print (\"Report of test data:\")\n",
        "print(rep)"
      ]
    },
    {
      "cell_type": "markdown",
      "metadata": {
        "id": "g9FpcEcd7HRv"
      },
      "source": [
        "# Early Stopping"
      ]
    },
    {
      "cell_type": "markdown",
      "metadata": {
        "id": "bekvJMBX7HRv"
      },
      "source": [
        "There are a number of parameters that are specified to the **EarlyStopping** object.\n",
        "\n",
        "* **min_delta** This value should be kept small. It simply means the minimum change in error to be registered as an improvement.  Setting it even smaller will not likely have a great deal of impact.\n",
        "* **patience** How long should the training wait for the validation error to improve?  \n",
        "* **verbose** How much progress information do you want?\n",
        "* **mode** In general, always set this to \"auto\".  This allows you to specify if the error should be minimized or maximized.  Consider accuracy, where higher numbers are desired vs log-loss/RMSE where lower numbers are desired.\n",
        "* **restore_best_weights** This should always be set to true.  This restores the weights to the values they were at when the validation set is the highest.  Unless you are manually tracking the weights yourself (we do not use this technique in this course), you should have Keras perform this step for you.\n",
        "\n",
        "As you can see from above, the entire number of requested epochs were not used.  The neural network training stopped once the validation set no longer improved."
      ]
    },
    {
      "cell_type": "code",
      "execution_count": null,
      "metadata": {
        "id": "hnqmVd9k7HRv"
      },
      "outputs": [],
      "source": [
        "from tensorflow.keras.callbacks import EarlyStopping\n",
        "from sklearn.metrics import accuracy_score\n",
        "\n",
        "#Put previous run in comments first\n",
        "monitor = EarlyStopping(monitor='val_loss', min_delta=1e-3, patience=5,\n",
        "        verbose=1, mode='auto', restore_best_weights=True)\n"
      ]
    },
    {
      "cell_type": "code",
      "execution_count": null,
      "metadata": {
        "colab": {
          "base_uri": "https://localhost:8080/"
        },
        "id": "Xn69GgkL7HRv",
        "outputId": "3b428ef4-d95b-4b5f-b35a-a7d83fbea6ab"
      },
      "outputs": [
        {
          "output_type": "stream",
          "name": "stdout",
          "text": [
            "Epoch 1/300\n",
            "26/26 - 0s - loss: 2.3914e-05 - accuracy: 1.0000 - val_loss: 4.8198e-05 - val_accuracy: 1.0000 - 153ms/epoch - 6ms/step\n",
            "Epoch 2/300\n",
            "26/26 - 0s - loss: 2.3158e-05 - accuracy: 1.0000 - val_loss: 4.7583e-05 - val_accuracy: 1.0000 - 106ms/epoch - 4ms/step\n",
            "Epoch 3/300\n",
            "26/26 - 0s - loss: 2.2236e-05 - accuracy: 1.0000 - val_loss: 4.8021e-05 - val_accuracy: 1.0000 - 118ms/epoch - 5ms/step\n",
            "Epoch 4/300\n",
            "26/26 - 0s - loss: 2.1942e-05 - accuracy: 1.0000 - val_loss: 4.5446e-05 - val_accuracy: 1.0000 - 115ms/epoch - 4ms/step\n",
            "Epoch 5/300\n",
            "26/26 - 0s - loss: 2.1536e-05 - accuracy: 1.0000 - val_loss: 4.4271e-05 - val_accuracy: 1.0000 - 129ms/epoch - 5ms/step\n",
            "Epoch 6/300\n",
            "Restoring model weights from the end of the best epoch: 1.\n",
            "26/26 - 0s - loss: 2.1181e-05 - accuracy: 1.0000 - val_loss: 4.3772e-05 - val_accuracy: 1.0000 - 121ms/epoch - 5ms/step\n",
            "Epoch 6: early stopping\n"
          ]
        }
      ],
      "source": [
        "history = model.fit(X_train,y_train,validation_data=(X_test,y_test),\n",
        "        callbacks=[monitor],verbose=2,epochs=300)"
      ]
    },
    {
      "cell_type": "code",
      "execution_count": null,
      "metadata": {
        "colab": {
          "base_uri": "https://localhost:8080/"
        },
        "id": "GcFgw1wX7HRw",
        "outputId": "4edb0b6f-bf49-46bc-fb78-c9b494575f50"
      },
      "outputs": [
        {
          "output_type": "stream",
          "name": "stdout",
          "text": [
            "7/7 [==============================] - 0s 2ms/step\n",
            "Accuracy: 1.0\n"
          ]
        }
      ],
      "source": [
        "y_pred_early = model.predict(X_test)\n",
        "\n",
        "y_pred_early = np.argmax(y_pred_early,axis=1)\n",
        "#expected_classes = np.argmax(y_test,axis=1)\n",
        "correct = accuracy_score(y_test,y_pred_early)\n",
        "print(f\"Accuracy: {correct}\")"
      ]
    },
    {
      "cell_type": "code",
      "execution_count": null,
      "metadata": {
        "id": "GD0M8lzS7HRw"
      },
      "outputs": [],
      "source": []
    }
  ],
  "metadata": {
    "colab": {
      "provenance": [],
      "include_colab_link": true
    },
    "kernelspec": {
      "display_name": "Python 3 (ipykernel)",
      "language": "python",
      "name": "python3"
    },
    "language_info": {
      "codemirror_mode": {
        "name": "ipython",
        "version": 3
      },
      "file_extension": ".py",
      "mimetype": "text/x-python",
      "name": "python",
      "nbconvert_exporter": "python",
      "pygments_lexer": "ipython3",
      "version": "3.9.12"
    }
  },
  "nbformat": 4,
  "nbformat_minor": 0
}