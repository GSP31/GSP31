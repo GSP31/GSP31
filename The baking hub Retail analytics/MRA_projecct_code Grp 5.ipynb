{
  "nbformat": 4,
  "nbformat_minor": 0,
  "metadata": {
    "colab": {
      "provenance": []
    },
    "kernelspec": {
      "name": "python3",
      "display_name": "Python 3"
    }
  },
  "cells": [
    {
      "cell_type": "markdown",
      "source": [
        "## UCI Machine learning\n",
        "\n",
        "[link text](https://archive.ics.uci.edu/ml/index.php)\n",
        "\n"
      ],
      "metadata": {
        "id": "48-P-7Uj0ceK"
      }
    },
    {
      "cell_type": "code",
      "metadata": {
        "id": "mrjoShl1EwLk"
      },
      "source": [
        "# Code to read csv file into colaboratory:\n",
        "!pip install -U -q PyDrive\n",
        "from pydrive.auth import GoogleAuth\n",
        "from pydrive.drive import GoogleDrive\n",
        "from google.colab import auth\n",
        "from oauth2client.client import GoogleCredentials"
      ],
      "execution_count": null,
      "outputs": []
    },
    {
      "cell_type": "code",
      "metadata": {
        "id": "5xKMQgKaFX6T"
      },
      "source": [
        "#STEP-2: Autheticate E-Mail ID\n",
        "\n",
        "auth.authenticate_user()\n",
        "gauth = GoogleAuth()\n",
        "gauth.credentials = GoogleCredentials.get_application_default()\n",
        "drive = GoogleDrive(gauth)"
      ],
      "execution_count": null,
      "outputs": []
    },
    {
      "cell_type": "code",
      "metadata": {
        "id": "7FJLEvhorout"
      },
      "source": [
        "#STEP-3: Get File from Drive using file-ID\n",
        "\n",
        "#2.1 Get the file\n",
        "downloaded = drive.CreateFile({'id':'1cW_hO9NLwQshkT5xO8jNipI_8EG4awh9'}) # replace the id with id of file you want to access\n",
        "downloaded.GetContentFile('causal - Copy.csv')\n",
        "downloaded2 = drive.CreateFile({'id':'1h9q281D8_dxzqjV3Hh2rrVOYDZr2hjN0'}) # replace the id with id of file you want to access\n",
        "downloaded2.GetContentFile('transactions.csv')"
      ],
      "execution_count": null,
      "outputs": []
    },
    {
      "cell_type": "code",
      "source": [],
      "metadata": {
        "id": "cm7BhDUK7Lra"
      },
      "execution_count": null,
      "outputs": []
    },
    {
      "cell_type": "markdown",
      "source": [
        "https://drive.google.com/file/d/1cW_hO9NLwQshkT5xO8jNipI_8EG4awh9/view?usp=share_link"
      ],
      "metadata": {
        "id": "1aW_WJLK6moA"
      }
    },
    {
      "cell_type": "markdown",
      "source": [
        "https://drive.google.com/file/d/1h9q281D8_dxzqjV3Hh2rrVOYDZr2hjN0/view?usp=share_link"
      ],
      "metadata": {
        "id": "GRmbP1g86l7N"
      }
    },
    {
      "cell_type": "markdown",
      "source": [
        "https://drive.google.com/file/d/1cW_hO9NLwQshkT5xO8jNipI_8EG4awh9/view?usp=share_link"
      ],
      "metadata": {
        "id": "CIO2s0gS6_EF"
      }
    },
    {
      "cell_type": "code",
      "metadata": {
        "id": "qBlIrzERr4gB"
      },
      "source": [
        "import numpy as np\n",
        "import pandas as pd\n",
        "import seaborn as sns\n",
        "from sklearn.model_selection import train_test_split\n",
        "from sklearn.linear_model import LogisticRegression\n",
        "import pylab as pl\n",
        "import matplotlib.pyplot as plt\n",
        "from sklearn.preprocessing import LabelEncoder"
      ],
      "execution_count": null,
      "outputs": []
    },
    {
      "cell_type": "code",
      "source": [
        "import pandas as pd\n",
        "\n",
        "# Load the transaction dataset\n",
        "transaction_df = pd.read_csv('transactions.csv')\n",
        "\n",
        "# Load the causal dataset\n",
        "causal_df = pd.read_csv('causal - Copy.csv')\n",
        "\n"
      ],
      "metadata": {
        "id": "8qy8m2tZ7RZ7"
      },
      "execution_count": null,
      "outputs": []
    },
    {
      "cell_type": "code",
      "source": [
        "transaction_df.head()"
      ],
      "metadata": {
        "colab": {
          "base_uri": "https://localhost:8080/",
          "height": 206
        },
        "id": "jyv8pV1r2CnW",
        "outputId": "a4f7df2e-0969-4d65-a3c4-6ff67330d362"
      },
      "execution_count": null,
      "outputs": [
        {
          "output_type": "execute_result",
          "data": {
            "text/plain": [
              "          upc  dollar_sales  units  time_of_transaction  geography  week  \\\n",
              "0  7680850106          0.80      1                 1100          2     1   \n",
              "1  3620000470          3.59      1                 1100          2     1   \n",
              "2  1800028064          2.25      1                 1137          2     1   \n",
              "3  9999985067          0.85      1                 1148          2     1   \n",
              "4  9999985131          2.19      1                 1323          2     1   \n",
              "\n",
              "   household  store  basket  day  coupon  \n",
              "0     125434    244       1    1       0  \n",
              "1     125434    244       1    1       0  \n",
              "2     108320    244       2    1       0  \n",
              "3     162016    244       3    1       0  \n",
              "4      89437    244       4    1       0  "
            ],
            "text/html": [
              "\n",
              "  <div id=\"df-77142d0a-29b9-4f32-9be1-2a1f2beccad9\">\n",
              "    <div class=\"colab-df-container\">\n",
              "      <div>\n",
              "<style scoped>\n",
              "    .dataframe tbody tr th:only-of-type {\n",
              "        vertical-align: middle;\n",
              "    }\n",
              "\n",
              "    .dataframe tbody tr th {\n",
              "        vertical-align: top;\n",
              "    }\n",
              "\n",
              "    .dataframe thead th {\n",
              "        text-align: right;\n",
              "    }\n",
              "</style>\n",
              "<table border=\"1\" class=\"dataframe\">\n",
              "  <thead>\n",
              "    <tr style=\"text-align: right;\">\n",
              "      <th></th>\n",
              "      <th>upc</th>\n",
              "      <th>dollar_sales</th>\n",
              "      <th>units</th>\n",
              "      <th>time_of_transaction</th>\n",
              "      <th>geography</th>\n",
              "      <th>week</th>\n",
              "      <th>household</th>\n",
              "      <th>store</th>\n",
              "      <th>basket</th>\n",
              "      <th>day</th>\n",
              "      <th>coupon</th>\n",
              "    </tr>\n",
              "  </thead>\n",
              "  <tbody>\n",
              "    <tr>\n",
              "      <th>0</th>\n",
              "      <td>7680850106</td>\n",
              "      <td>0.80</td>\n",
              "      <td>1</td>\n",
              "      <td>1100</td>\n",
              "      <td>2</td>\n",
              "      <td>1</td>\n",
              "      <td>125434</td>\n",
              "      <td>244</td>\n",
              "      <td>1</td>\n",
              "      <td>1</td>\n",
              "      <td>0</td>\n",
              "    </tr>\n",
              "    <tr>\n",
              "      <th>1</th>\n",
              "      <td>3620000470</td>\n",
              "      <td>3.59</td>\n",
              "      <td>1</td>\n",
              "      <td>1100</td>\n",
              "      <td>2</td>\n",
              "      <td>1</td>\n",
              "      <td>125434</td>\n",
              "      <td>244</td>\n",
              "      <td>1</td>\n",
              "      <td>1</td>\n",
              "      <td>0</td>\n",
              "    </tr>\n",
              "    <tr>\n",
              "      <th>2</th>\n",
              "      <td>1800028064</td>\n",
              "      <td>2.25</td>\n",
              "      <td>1</td>\n",
              "      <td>1137</td>\n",
              "      <td>2</td>\n",
              "      <td>1</td>\n",
              "      <td>108320</td>\n",
              "      <td>244</td>\n",
              "      <td>2</td>\n",
              "      <td>1</td>\n",
              "      <td>0</td>\n",
              "    </tr>\n",
              "    <tr>\n",
              "      <th>3</th>\n",
              "      <td>9999985067</td>\n",
              "      <td>0.85</td>\n",
              "      <td>1</td>\n",
              "      <td>1148</td>\n",
              "      <td>2</td>\n",
              "      <td>1</td>\n",
              "      <td>162016</td>\n",
              "      <td>244</td>\n",
              "      <td>3</td>\n",
              "      <td>1</td>\n",
              "      <td>0</td>\n",
              "    </tr>\n",
              "    <tr>\n",
              "      <th>4</th>\n",
              "      <td>9999985131</td>\n",
              "      <td>2.19</td>\n",
              "      <td>1</td>\n",
              "      <td>1323</td>\n",
              "      <td>2</td>\n",
              "      <td>1</td>\n",
              "      <td>89437</td>\n",
              "      <td>244</td>\n",
              "      <td>4</td>\n",
              "      <td>1</td>\n",
              "      <td>0</td>\n",
              "    </tr>\n",
              "  </tbody>\n",
              "</table>\n",
              "</div>\n",
              "      <button class=\"colab-df-convert\" onclick=\"convertToInteractive('df-77142d0a-29b9-4f32-9be1-2a1f2beccad9')\"\n",
              "              title=\"Convert this dataframe to an interactive table.\"\n",
              "              style=\"display:none;\">\n",
              "        \n",
              "  <svg xmlns=\"http://www.w3.org/2000/svg\" height=\"24px\"viewBox=\"0 0 24 24\"\n",
              "       width=\"24px\">\n",
              "    <path d=\"M0 0h24v24H0V0z\" fill=\"none\"/>\n",
              "    <path d=\"M18.56 5.44l.94 2.06.94-2.06 2.06-.94-2.06-.94-.94-2.06-.94 2.06-2.06.94zm-11 1L8.5 8.5l.94-2.06 2.06-.94-2.06-.94L8.5 2.5l-.94 2.06-2.06.94zm10 10l.94 2.06.94-2.06 2.06-.94-2.06-.94-.94-2.06-.94 2.06-2.06.94z\"/><path d=\"M17.41 7.96l-1.37-1.37c-.4-.4-.92-.59-1.43-.59-.52 0-1.04.2-1.43.59L10.3 9.45l-7.72 7.72c-.78.78-.78 2.05 0 2.83L4 21.41c.39.39.9.59 1.41.59.51 0 1.02-.2 1.41-.59l7.78-7.78 2.81-2.81c.8-.78.8-2.07 0-2.86zM5.41 20L4 18.59l7.72-7.72 1.47 1.35L5.41 20z\"/>\n",
              "  </svg>\n",
              "      </button>\n",
              "      \n",
              "  <style>\n",
              "    .colab-df-container {\n",
              "      display:flex;\n",
              "      flex-wrap:wrap;\n",
              "      gap: 12px;\n",
              "    }\n",
              "\n",
              "    .colab-df-convert {\n",
              "      background-color: #E8F0FE;\n",
              "      border: none;\n",
              "      border-radius: 50%;\n",
              "      cursor: pointer;\n",
              "      display: none;\n",
              "      fill: #1967D2;\n",
              "      height: 32px;\n",
              "      padding: 0 0 0 0;\n",
              "      width: 32px;\n",
              "    }\n",
              "\n",
              "    .colab-df-convert:hover {\n",
              "      background-color: #E2EBFA;\n",
              "      box-shadow: 0px 1px 2px rgba(60, 64, 67, 0.3), 0px 1px 3px 1px rgba(60, 64, 67, 0.15);\n",
              "      fill: #174EA6;\n",
              "    }\n",
              "\n",
              "    [theme=dark] .colab-df-convert {\n",
              "      background-color: #3B4455;\n",
              "      fill: #D2E3FC;\n",
              "    }\n",
              "\n",
              "    [theme=dark] .colab-df-convert:hover {\n",
              "      background-color: #434B5C;\n",
              "      box-shadow: 0px 1px 3px 1px rgba(0, 0, 0, 0.15);\n",
              "      filter: drop-shadow(0px 1px 2px rgba(0, 0, 0, 0.3));\n",
              "      fill: #FFFFFF;\n",
              "    }\n",
              "  </style>\n",
              "\n",
              "      <script>\n",
              "        const buttonEl =\n",
              "          document.querySelector('#df-77142d0a-29b9-4f32-9be1-2a1f2beccad9 button.colab-df-convert');\n",
              "        buttonEl.style.display =\n",
              "          google.colab.kernel.accessAllowed ? 'block' : 'none';\n",
              "\n",
              "        async function convertToInteractive(key) {\n",
              "          const element = document.querySelector('#df-77142d0a-29b9-4f32-9be1-2a1f2beccad9');\n",
              "          const dataTable =\n",
              "            await google.colab.kernel.invokeFunction('convertToInteractive',\n",
              "                                                     [key], {});\n",
              "          if (!dataTable) return;\n",
              "\n",
              "          const docLinkHtml = 'Like what you see? Visit the ' +\n",
              "            '<a target=\"_blank\" href=https://colab.research.google.com/notebooks/data_table.ipynb>data table notebook</a>'\n",
              "            + ' to learn more about interactive tables.';\n",
              "          element.innerHTML = '';\n",
              "          dataTable['output_type'] = 'display_data';\n",
              "          await google.colab.output.renderOutput(dataTable, element);\n",
              "          const docLink = document.createElement('div');\n",
              "          docLink.innerHTML = docLinkHtml;\n",
              "          element.appendChild(docLink);\n",
              "        }\n",
              "      </script>\n",
              "    </div>\n",
              "  </div>\n",
              "  "
            ]
          },
          "metadata": {},
          "execution_count": 6
        }
      ]
    },
    {
      "cell_type": "code",
      "source": [
        "causal_df.head()"
      ],
      "metadata": {
        "colab": {
          "base_uri": "https://localhost:8080/",
          "height": 206
        },
        "id": "WopRKg7F3yvc",
        "outputId": "fbbe1f88-171f-45db-d36f-46213f190bdd"
      },
      "execution_count": null,
      "outputs": [
        {
          "output_type": "execute_result",
          "data": {
            "text/plain": [
              "          upc  store  week           feature_desc    display_desc  geography\n",
              "0  7680850108      1    68  Wrap Interior Feature  Not on Display          1\n",
              "1  5100001212      1    66      Wrap Back Feature  Not on Display          1\n",
              "2  5100002792      1    72  Interior Page Feature  Not on Display          1\n",
              "3  3620000300      1    55  Wrap Interior Feature  Not on Display          1\n",
              "4  4112907742      1    68  Wrap Interior Feature  Not on Display          1"
            ],
            "text/html": [
              "\n",
              "  <div id=\"df-2362f320-d154-49fc-860e-0b3159b0a437\">\n",
              "    <div class=\"colab-df-container\">\n",
              "      <div>\n",
              "<style scoped>\n",
              "    .dataframe tbody tr th:only-of-type {\n",
              "        vertical-align: middle;\n",
              "    }\n",
              "\n",
              "    .dataframe tbody tr th {\n",
              "        vertical-align: top;\n",
              "    }\n",
              "\n",
              "    .dataframe thead th {\n",
              "        text-align: right;\n",
              "    }\n",
              "</style>\n",
              "<table border=\"1\" class=\"dataframe\">\n",
              "  <thead>\n",
              "    <tr style=\"text-align: right;\">\n",
              "      <th></th>\n",
              "      <th>upc</th>\n",
              "      <th>store</th>\n",
              "      <th>week</th>\n",
              "      <th>feature_desc</th>\n",
              "      <th>display_desc</th>\n",
              "      <th>geography</th>\n",
              "    </tr>\n",
              "  </thead>\n",
              "  <tbody>\n",
              "    <tr>\n",
              "      <th>0</th>\n",
              "      <td>7680850108</td>\n",
              "      <td>1</td>\n",
              "      <td>68</td>\n",
              "      <td>Wrap Interior Feature</td>\n",
              "      <td>Not on Display</td>\n",
              "      <td>1</td>\n",
              "    </tr>\n",
              "    <tr>\n",
              "      <th>1</th>\n",
              "      <td>5100001212</td>\n",
              "      <td>1</td>\n",
              "      <td>66</td>\n",
              "      <td>Wrap Back Feature</td>\n",
              "      <td>Not on Display</td>\n",
              "      <td>1</td>\n",
              "    </tr>\n",
              "    <tr>\n",
              "      <th>2</th>\n",
              "      <td>5100002792</td>\n",
              "      <td>1</td>\n",
              "      <td>72</td>\n",
              "      <td>Interior Page Feature</td>\n",
              "      <td>Not on Display</td>\n",
              "      <td>1</td>\n",
              "    </tr>\n",
              "    <tr>\n",
              "      <th>3</th>\n",
              "      <td>3620000300</td>\n",
              "      <td>1</td>\n",
              "      <td>55</td>\n",
              "      <td>Wrap Interior Feature</td>\n",
              "      <td>Not on Display</td>\n",
              "      <td>1</td>\n",
              "    </tr>\n",
              "    <tr>\n",
              "      <th>4</th>\n",
              "      <td>4112907742</td>\n",
              "      <td>1</td>\n",
              "      <td>68</td>\n",
              "      <td>Wrap Interior Feature</td>\n",
              "      <td>Not on Display</td>\n",
              "      <td>1</td>\n",
              "    </tr>\n",
              "  </tbody>\n",
              "</table>\n",
              "</div>\n",
              "      <button class=\"colab-df-convert\" onclick=\"convertToInteractive('df-2362f320-d154-49fc-860e-0b3159b0a437')\"\n",
              "              title=\"Convert this dataframe to an interactive table.\"\n",
              "              style=\"display:none;\">\n",
              "        \n",
              "  <svg xmlns=\"http://www.w3.org/2000/svg\" height=\"24px\"viewBox=\"0 0 24 24\"\n",
              "       width=\"24px\">\n",
              "    <path d=\"M0 0h24v24H0V0z\" fill=\"none\"/>\n",
              "    <path d=\"M18.56 5.44l.94 2.06.94-2.06 2.06-.94-2.06-.94-.94-2.06-.94 2.06-2.06.94zm-11 1L8.5 8.5l.94-2.06 2.06-.94-2.06-.94L8.5 2.5l-.94 2.06-2.06.94zm10 10l.94 2.06.94-2.06 2.06-.94-2.06-.94-.94-2.06-.94 2.06-2.06.94z\"/><path d=\"M17.41 7.96l-1.37-1.37c-.4-.4-.92-.59-1.43-.59-.52 0-1.04.2-1.43.59L10.3 9.45l-7.72 7.72c-.78.78-.78 2.05 0 2.83L4 21.41c.39.39.9.59 1.41.59.51 0 1.02-.2 1.41-.59l7.78-7.78 2.81-2.81c.8-.78.8-2.07 0-2.86zM5.41 20L4 18.59l7.72-7.72 1.47 1.35L5.41 20z\"/>\n",
              "  </svg>\n",
              "      </button>\n",
              "      \n",
              "  <style>\n",
              "    .colab-df-container {\n",
              "      display:flex;\n",
              "      flex-wrap:wrap;\n",
              "      gap: 12px;\n",
              "    }\n",
              "\n",
              "    .colab-df-convert {\n",
              "      background-color: #E8F0FE;\n",
              "      border: none;\n",
              "      border-radius: 50%;\n",
              "      cursor: pointer;\n",
              "      display: none;\n",
              "      fill: #1967D2;\n",
              "      height: 32px;\n",
              "      padding: 0 0 0 0;\n",
              "      width: 32px;\n",
              "    }\n",
              "\n",
              "    .colab-df-convert:hover {\n",
              "      background-color: #E2EBFA;\n",
              "      box-shadow: 0px 1px 2px rgba(60, 64, 67, 0.3), 0px 1px 3px 1px rgba(60, 64, 67, 0.15);\n",
              "      fill: #174EA6;\n",
              "    }\n",
              "\n",
              "    [theme=dark] .colab-df-convert {\n",
              "      background-color: #3B4455;\n",
              "      fill: #D2E3FC;\n",
              "    }\n",
              "\n",
              "    [theme=dark] .colab-df-convert:hover {\n",
              "      background-color: #434B5C;\n",
              "      box-shadow: 0px 1px 3px 1px rgba(0, 0, 0, 0.15);\n",
              "      filter: drop-shadow(0px 1px 2px rgba(0, 0, 0, 0.3));\n",
              "      fill: #FFFFFF;\n",
              "    }\n",
              "  </style>\n",
              "\n",
              "      <script>\n",
              "        const buttonEl =\n",
              "          document.querySelector('#df-2362f320-d154-49fc-860e-0b3159b0a437 button.colab-df-convert');\n",
              "        buttonEl.style.display =\n",
              "          google.colab.kernel.accessAllowed ? 'block' : 'none';\n",
              "\n",
              "        async function convertToInteractive(key) {\n",
              "          const element = document.querySelector('#df-2362f320-d154-49fc-860e-0b3159b0a437');\n",
              "          const dataTable =\n",
              "            await google.colab.kernel.invokeFunction('convertToInteractive',\n",
              "                                                     [key], {});\n",
              "          if (!dataTable) return;\n",
              "\n",
              "          const docLinkHtml = 'Like what you see? Visit the ' +\n",
              "            '<a target=\"_blank\" href=https://colab.research.google.com/notebooks/data_table.ipynb>data table notebook</a>'\n",
              "            + ' to learn more about interactive tables.';\n",
              "          element.innerHTML = '';\n",
              "          dataTable['output_type'] = 'display_data';\n",
              "          await google.colab.output.renderOutput(dataTable, element);\n",
              "          const docLink = document.createElement('div');\n",
              "          docLink.innerHTML = docLinkHtml;\n",
              "          element.appendChild(docLink);\n",
              "        }\n",
              "      </script>\n",
              "    </div>\n",
              "  </div>\n",
              "  "
            ]
          },
          "metadata": {},
          "execution_count": 7
        }
      ]
    },
    {
      "cell_type": "code",
      "source": [
        "# Left join the two datasets using UPC, STORE, and WEEK as the keys\n",
        "merged_df = pd.merge(transaction_df, causal_df, on=['upc', 'store', 'week','geography'], how='left')"
      ],
      "metadata": {
        "id": "H6_YucaxDxBe"
      },
      "execution_count": null,
      "outputs": []
    },
    {
      "cell_type": "code",
      "source": [
        "from google.colab import drive\n",
        "drive.mount('drive')\n",
        "\n"
      ],
      "metadata": {
        "colab": {
          "base_uri": "https://localhost:8080/"
        },
        "id": "52H-SbdVBMcg",
        "outputId": "0c827d69-77d1-457f-a6d1-9a77653c47e5"
      },
      "execution_count": null,
      "outputs": [
        {
          "output_type": "stream",
          "name": "stdout",
          "text": [
            "Mounted at drive\n"
          ]
        }
      ]
    },
    {
      "cell_type": "code",
      "source": [
        "merged_df.info()"
      ],
      "metadata": {
        "colab": {
          "base_uri": "https://localhost:8080/"
        },
        "id": "aQporaxeEeTo",
        "outputId": "954e8196-b254-4991-901d-693b99aa784f"
      },
      "execution_count": null,
      "outputs": [
        {
          "output_type": "stream",
          "name": "stdout",
          "text": [
            "<class 'pandas.core.frame.DataFrame'>\n",
            "Int64Index: 5197681 entries, 0 to 5197680\n",
            "Data columns (total 13 columns):\n",
            " #   Column               Dtype  \n",
            "---  ------               -----  \n",
            " 0   upc                  int64  \n",
            " 1   dollar_sales         float64\n",
            " 2   units                int64  \n",
            " 3   time_of_transaction  int64  \n",
            " 4   geography            int64  \n",
            " 5   week                 int64  \n",
            " 6   household            int64  \n",
            " 7   store                int64  \n",
            " 8   basket               int64  \n",
            " 9   day                  int64  \n",
            " 10  coupon               int64  \n",
            " 11  feature_desc         object \n",
            " 12  display_desc         object \n",
            "dtypes: float64(1), int64(10), object(2)\n",
            "memory usage: 555.2+ MB\n"
          ]
        }
      ]
    },
    {
      "cell_type": "code",
      "source": [
        "merged_df.isnull().sum()"
      ],
      "metadata": {
        "colab": {
          "base_uri": "https://localhost:8080/"
        },
        "id": "TIK74qxhEboR",
        "outputId": "eeb81c1b-56e9-42f2-9456-18627f3f1b37"
      },
      "execution_count": null,
      "outputs": [
        {
          "output_type": "execute_result",
          "data": {
            "text/plain": [
              "upc                          0\n",
              "dollar_sales                 0\n",
              "units                        0\n",
              "time_of_transaction          0\n",
              "geography                    0\n",
              "week                         0\n",
              "household                    0\n",
              "store                        0\n",
              "basket                       0\n",
              "day                          0\n",
              "coupon                       0\n",
              "feature_desc           4815935\n",
              "display_desc           4815935\n",
              "dtype: int64"
            ]
          },
          "metadata": {},
          "execution_count": 11
        }
      ]
    },
    {
      "cell_type": "markdown",
      "source": [
        "So 48,15,935 are the fields where feature_desc and diplay_desc were not done"
      ],
      "metadata": {
        "id": "_cLGWd5nFHa4"
      }
    },
    {
      "cell_type": "markdown",
      "source": [
        "this should be filled with zero then to indicate no promotin was done there"
      ],
      "metadata": {
        "id": "7wvoMtXgFhFJ"
      }
    },
    {
      "cell_type": "code",
      "source": [
        "# Fill in missing values with zeros\n",
        "merged_df['feature_desc'] = merged_df['feature_desc'].fillna(0)\n",
        "merged_df['display_desc'] = merged_df['display_desc'].fillna(0)"
      ],
      "metadata": {
        "id": "X9SfjVacFGas"
      },
      "execution_count": null,
      "outputs": []
    },
    {
      "cell_type": "code",
      "source": [
        "# Save the merged dataframe to a file in your Google Drive\n",
        "merged_df.to_csv('drive/MyDrive/merged.csv', index=False)"
      ],
      "metadata": {
        "id": "sG4GFuESETut"
      },
      "execution_count": null,
      "outputs": []
    },
    {
      "cell_type": "code",
      "source": [
        " #Autheticate E-Mail ID\n",
        "\n",
        "auth.authenticate_user()\n",
        "gauth = GoogleAuth()\n",
        "gauth.credentials = GoogleCredentials.get_application_default()\n",
        "drive = GoogleDrive(gauth)"
      ],
      "metadata": {
        "id": "xVDXw6nbMRgK"
      },
      "execution_count": null,
      "outputs": []
    },
    {
      "cell_type": "code",
      "source": [
        "downloaded3 = drive.CreateFile({'id':'1lzfUkbJ2GI38FRXujpqEmMg6OH_FDfcX'}) # replace the id with id of file you want to access\n",
        "downloaded3.GetContentFile('product.csv')"
      ],
      "metadata": {
        "id": "WGXDE_w-L8y-"
      },
      "execution_count": null,
      "outputs": []
    },
    {
      "cell_type": "markdown",
      "source": [
        "https://drive.google.com/file/d/1lzfUkbJ2GI38FRXujpqEmMg6OH_FDfcX/view?usp=share_link"
      ],
      "metadata": {
        "id": "NoBgbOpJL4j7"
      }
    },
    {
      "cell_type": "code",
      "source": [
        "# Load the product dataset\n",
        "product = pd.read_csv('product.csv')"
      ],
      "metadata": {
        "id": "6M5PYqjALem4"
      },
      "execution_count": null,
      "outputs": []
    },
    {
      "cell_type": "code",
      "source": [
        "# Left join the two datasets using UPC, STORE, and WEEK as the keys\n",
        "merged_df2 = pd.merge(merged_df, product, on=['upc'], how='left')"
      ],
      "metadata": {
        "id": "6vdDb6p_Mga3"
      },
      "execution_count": null,
      "outputs": []
    },
    {
      "cell_type": "code",
      "source": [
        "merged_df2.info()"
      ],
      "metadata": {
        "colab": {
          "base_uri": "https://localhost:8080/"
        },
        "id": "RGYMX7ixM0aq",
        "outputId": "bdaf3939-8b95-4b60-aa78-17d3a6aca746"
      },
      "execution_count": null,
      "outputs": [
        {
          "output_type": "stream",
          "name": "stdout",
          "text": [
            "<class 'pandas.core.frame.DataFrame'>\n",
            "Int64Index: 5197681 entries, 0 to 5197680\n",
            "Data columns (total 17 columns):\n",
            " #   Column               Dtype  \n",
            "---  ------               -----  \n",
            " 0   upc                  int64  \n",
            " 1   dollar_sales         float64\n",
            " 2   units                int64  \n",
            " 3   time_of_transaction  int64  \n",
            " 4   geography            int64  \n",
            " 5   week                 int64  \n",
            " 6   household            int64  \n",
            " 7   store                int64  \n",
            " 8   basket               int64  \n",
            " 9   day                  int64  \n",
            " 10  coupon               int64  \n",
            " 11  feature_desc         object \n",
            " 12  display_desc         object \n",
            " 13  product_description  object \n",
            " 14  commodity            object \n",
            " 15  brand                object \n",
            " 16  product_size         object \n",
            "dtypes: float64(1), int64(10), object(6)\n",
            "memory usage: 713.8+ MB\n"
          ]
        }
      ]
    },
    {
      "cell_type": "code",
      "source": [
        "merged_df2.isnull().sum()"
      ],
      "metadata": {
        "colab": {
          "base_uri": "https://localhost:8080/"
        },
        "id": "jbYTfGKiM6WV",
        "outputId": "c97b8396-b9bc-4dfe-8698-2dab334046b8"
      },
      "execution_count": null,
      "outputs": [
        {
          "output_type": "execute_result",
          "data": {
            "text/plain": [
              "upc                    0\n",
              "dollar_sales           0\n",
              "units                  0\n",
              "time_of_transaction    0\n",
              "geography              0\n",
              "week                   0\n",
              "household              0\n",
              "store                  0\n",
              "basket                 0\n",
              "day                    0\n",
              "coupon                 0\n",
              "feature_desc           0\n",
              "display_desc           0\n",
              "product_description    0\n",
              "commodity              0\n",
              "brand                  0\n",
              "product_size           0\n",
              "dtype: int64"
            ]
          },
          "metadata": {},
          "execution_count": 19
        }
      ]
    },
    {
      "cell_type": "code",
      "source": [
        "merged_df2.isna().sum()"
      ],
      "metadata": {
        "colab": {
          "base_uri": "https://localhost:8080/"
        },
        "id": "y3QkmQGVP8yc",
        "outputId": "a26d0ade-b66a-4d16-cf43-b6e75186b53c"
      },
      "execution_count": null,
      "outputs": [
        {
          "output_type": "execute_result",
          "data": {
            "text/plain": [
              "upc                    0\n",
              "dollar_sales           0\n",
              "units                  0\n",
              "time_of_transaction    0\n",
              "geography              0\n",
              "week                   0\n",
              "household              0\n",
              "store                  0\n",
              "basket                 0\n",
              "day                    0\n",
              "coupon                 0\n",
              "feature_desc           0\n",
              "display_desc           0\n",
              "product_description    0\n",
              "commodity              0\n",
              "brand                  0\n",
              "product_size           0\n",
              "dtype: int64"
            ]
          },
          "metadata": {},
          "execution_count": 20
        }
      ]
    },
    {
      "cell_type": "code",
      "source": [
        "# Compute descriptive statistics for the FEATURE_DESC column\n",
        "feature_desc_stats = merged_df2['feature_desc'].describe()\n",
        "\n",
        "# Print the results\n",
        "print(feature_desc_stats)"
      ],
      "metadata": {
        "colab": {
          "base_uri": "https://localhost:8080/"
        },
        "id": "PRRuEYthQBZi",
        "outputId": "ffbcd498-b7d1-4721-ed88-6ab26eb33114"
      },
      "execution_count": null,
      "outputs": [
        {
          "output_type": "stream",
          "name": "stdout",
          "text": [
            "count     5197681\n",
            "unique          9\n",
            "top             0\n",
            "freq      4815935\n",
            "Name: feature_desc, dtype: int64\n"
          ]
        }
      ]
    },
    {
      "cell_type": "code",
      "source": [
        "transaction_df.info()"
      ],
      "metadata": {
        "colab": {
          "base_uri": "https://localhost:8080/"
        },
        "id": "QBd2wbmcXgZO",
        "outputId": "b4348484-02e0-4eef-c514-bf9843d63d3e"
      },
      "execution_count": null,
      "outputs": [
        {
          "output_type": "stream",
          "name": "stdout",
          "text": [
            "<class 'pandas.core.frame.DataFrame'>\n",
            "RangeIndex: 5197681 entries, 0 to 5197680\n",
            "Data columns (total 11 columns):\n",
            " #   Column               Dtype  \n",
            "---  ------               -----  \n",
            " 0   upc                  int64  \n",
            " 1   dollar_sales         float64\n",
            " 2   units                int64  \n",
            " 3   time_of_transaction  int64  \n",
            " 4   geography            int64  \n",
            " 5   week                 int64  \n",
            " 6   household            int64  \n",
            " 7   store                int64  \n",
            " 8   basket               int64  \n",
            " 9   day                  int64  \n",
            " 10  coupon               int64  \n",
            "dtypes: float64(1), int64(10)\n",
            "memory usage: 436.2 MB\n"
          ]
        }
      ]
    },
    {
      "cell_type": "code",
      "source": [
        "causal_df.info()"
      ],
      "metadata": {
        "colab": {
          "base_uri": "https://localhost:8080/"
        },
        "id": "KJx1Ky_1X0Ao",
        "outputId": "cbaec156-41c0-4c2a-8a0c-650e22e08876"
      },
      "execution_count": null,
      "outputs": [
        {
          "output_type": "stream",
          "name": "stdout",
          "text": [
            "<class 'pandas.core.frame.DataFrame'>\n",
            "RangeIndex: 351372 entries, 0 to 351371\n",
            "Data columns (total 6 columns):\n",
            " #   Column        Non-Null Count   Dtype \n",
            "---  ------        --------------   ----- \n",
            " 0   upc           351372 non-null  int64 \n",
            " 1   store         351372 non-null  int64 \n",
            " 2   week          351372 non-null  int64 \n",
            " 3   feature_desc  351372 non-null  object\n",
            " 4   display_desc  351372 non-null  object\n",
            " 5   geography     351372 non-null  int64 \n",
            "dtypes: int64(4), object(2)\n",
            "memory usage: 16.1+ MB\n"
          ]
        }
      ]
    },
    {
      "cell_type": "code",
      "source": [
        "merged_df2_new=merged_df2"
      ],
      "metadata": {
        "id": "zPxu0kqXaH7K"
      },
      "execution_count": null,
      "outputs": []
    },
    {
      "cell_type": "code",
      "source": [
        "merged_df2_new = pd.get_dummies(merged_df2_new, columns = ['feature_desc'])\n",
        "merged_df2_new.head()"
      ],
      "metadata": {
        "colab": {
          "base_uri": "https://localhost:8080/",
          "height": 317
        },
        "id": "wbnDszKUcpbY",
        "outputId": "c77dcdce-0465-4aad-fbbe-9f3066743222"
      },
      "execution_count": null,
      "outputs": [
        {
          "output_type": "execute_result",
          "data": {
            "text/plain": [
              "          upc  dollar_sales  units  time_of_transaction  geography  week  \\\n",
              "0  7680850106          0.80      1                 1100          2     1   \n",
              "1  3620000470          3.59      1                 1100          2     1   \n",
              "2  1800028064          2.25      1                 1137          2     1   \n",
              "3  9999985067          0.85      1                 1148          2     1   \n",
              "4  9999985131          2.19      1                 1323          2     1   \n",
              "\n",
              "   household  store  basket  day  ...  product_size feature_desc_0  \\\n",
              "0     125434    244       1    1  ...         16 OZ              1   \n",
              "1     125434    244       1    1  ...         24 OZ              1   \n",
              "2     108320    244       2    1  ...                            1   \n",
              "3     162016    244       3    1  ...         16 OZ              1   \n",
              "4      89437    244       4    1  ...         16 OZ              1   \n",
              "\n",
              "  feature_desc_Back Page Feature feature_desc_Front Page Feature  \\\n",
              "0                              0                               0   \n",
              "1                              0                               0   \n",
              "2                              0                               0   \n",
              "3                              0                               0   \n",
              "4                              0                               0   \n",
              "\n",
              "  feature_desc_Interior Page Feature feature_desc_Interior Page Line Item  \\\n",
              "0                                  0                                    0   \n",
              "1                                  0                                    0   \n",
              "2                                  0                                    0   \n",
              "3                                  0                                    0   \n",
              "4                                  0                                    0   \n",
              "\n",
              "   feature_desc_Not on Feature  feature_desc_Wrap Back Feature  \\\n",
              "0                            0                               0   \n",
              "1                            0                               0   \n",
              "2                            0                               0   \n",
              "3                            0                               0   \n",
              "4                            0                               0   \n",
              "\n",
              "   feature_desc_Wrap Front Feature  feature_desc_Wrap Interior Feature  \n",
              "0                                0                                   0  \n",
              "1                                0                                   0  \n",
              "2                                0                                   0  \n",
              "3                                0                                   0  \n",
              "4                                0                                   0  \n",
              "\n",
              "[5 rows x 25 columns]"
            ],
            "text/html": [
              "\n",
              "  <div id=\"df-25372af6-4d7c-446f-b026-08daa1a975b6\">\n",
              "    <div class=\"colab-df-container\">\n",
              "      <div>\n",
              "<style scoped>\n",
              "    .dataframe tbody tr th:only-of-type {\n",
              "        vertical-align: middle;\n",
              "    }\n",
              "\n",
              "    .dataframe tbody tr th {\n",
              "        vertical-align: top;\n",
              "    }\n",
              "\n",
              "    .dataframe thead th {\n",
              "        text-align: right;\n",
              "    }\n",
              "</style>\n",
              "<table border=\"1\" class=\"dataframe\">\n",
              "  <thead>\n",
              "    <tr style=\"text-align: right;\">\n",
              "      <th></th>\n",
              "      <th>upc</th>\n",
              "      <th>dollar_sales</th>\n",
              "      <th>units</th>\n",
              "      <th>time_of_transaction</th>\n",
              "      <th>geography</th>\n",
              "      <th>week</th>\n",
              "      <th>household</th>\n",
              "      <th>store</th>\n",
              "      <th>basket</th>\n",
              "      <th>day</th>\n",
              "      <th>...</th>\n",
              "      <th>product_size</th>\n",
              "      <th>feature_desc_0</th>\n",
              "      <th>feature_desc_Back Page Feature</th>\n",
              "      <th>feature_desc_Front Page Feature</th>\n",
              "      <th>feature_desc_Interior Page Feature</th>\n",
              "      <th>feature_desc_Interior Page Line Item</th>\n",
              "      <th>feature_desc_Not on Feature</th>\n",
              "      <th>feature_desc_Wrap Back Feature</th>\n",
              "      <th>feature_desc_Wrap Front Feature</th>\n",
              "      <th>feature_desc_Wrap Interior Feature</th>\n",
              "    </tr>\n",
              "  </thead>\n",
              "  <tbody>\n",
              "    <tr>\n",
              "      <th>0</th>\n",
              "      <td>7680850106</td>\n",
              "      <td>0.80</td>\n",
              "      <td>1</td>\n",
              "      <td>1100</td>\n",
              "      <td>2</td>\n",
              "      <td>1</td>\n",
              "      <td>125434</td>\n",
              "      <td>244</td>\n",
              "      <td>1</td>\n",
              "      <td>1</td>\n",
              "      <td>...</td>\n",
              "      <td>16 OZ</td>\n",
              "      <td>1</td>\n",
              "      <td>0</td>\n",
              "      <td>0</td>\n",
              "      <td>0</td>\n",
              "      <td>0</td>\n",
              "      <td>0</td>\n",
              "      <td>0</td>\n",
              "      <td>0</td>\n",
              "      <td>0</td>\n",
              "    </tr>\n",
              "    <tr>\n",
              "      <th>1</th>\n",
              "      <td>3620000470</td>\n",
              "      <td>3.59</td>\n",
              "      <td>1</td>\n",
              "      <td>1100</td>\n",
              "      <td>2</td>\n",
              "      <td>1</td>\n",
              "      <td>125434</td>\n",
              "      <td>244</td>\n",
              "      <td>1</td>\n",
              "      <td>1</td>\n",
              "      <td>...</td>\n",
              "      <td>24 OZ</td>\n",
              "      <td>1</td>\n",
              "      <td>0</td>\n",
              "      <td>0</td>\n",
              "      <td>0</td>\n",
              "      <td>0</td>\n",
              "      <td>0</td>\n",
              "      <td>0</td>\n",
              "      <td>0</td>\n",
              "      <td>0</td>\n",
              "    </tr>\n",
              "    <tr>\n",
              "      <th>2</th>\n",
              "      <td>1800028064</td>\n",
              "      <td>2.25</td>\n",
              "      <td>1</td>\n",
              "      <td>1137</td>\n",
              "      <td>2</td>\n",
              "      <td>1</td>\n",
              "      <td>108320</td>\n",
              "      <td>244</td>\n",
              "      <td>2</td>\n",
              "      <td>1</td>\n",
              "      <td>...</td>\n",
              "      <td></td>\n",
              "      <td>1</td>\n",
              "      <td>0</td>\n",
              "      <td>0</td>\n",
              "      <td>0</td>\n",
              "      <td>0</td>\n",
              "      <td>0</td>\n",
              "      <td>0</td>\n",
              "      <td>0</td>\n",
              "      <td>0</td>\n",
              "    </tr>\n",
              "    <tr>\n",
              "      <th>3</th>\n",
              "      <td>9999985067</td>\n",
              "      <td>0.85</td>\n",
              "      <td>1</td>\n",
              "      <td>1148</td>\n",
              "      <td>2</td>\n",
              "      <td>1</td>\n",
              "      <td>162016</td>\n",
              "      <td>244</td>\n",
              "      <td>3</td>\n",
              "      <td>1</td>\n",
              "      <td>...</td>\n",
              "      <td>16 OZ</td>\n",
              "      <td>1</td>\n",
              "      <td>0</td>\n",
              "      <td>0</td>\n",
              "      <td>0</td>\n",
              "      <td>0</td>\n",
              "      <td>0</td>\n",
              "      <td>0</td>\n",
              "      <td>0</td>\n",
              "      <td>0</td>\n",
              "    </tr>\n",
              "    <tr>\n",
              "      <th>4</th>\n",
              "      <td>9999985131</td>\n",
              "      <td>2.19</td>\n",
              "      <td>1</td>\n",
              "      <td>1323</td>\n",
              "      <td>2</td>\n",
              "      <td>1</td>\n",
              "      <td>89437</td>\n",
              "      <td>244</td>\n",
              "      <td>4</td>\n",
              "      <td>1</td>\n",
              "      <td>...</td>\n",
              "      <td>16 OZ</td>\n",
              "      <td>1</td>\n",
              "      <td>0</td>\n",
              "      <td>0</td>\n",
              "      <td>0</td>\n",
              "      <td>0</td>\n",
              "      <td>0</td>\n",
              "      <td>0</td>\n",
              "      <td>0</td>\n",
              "      <td>0</td>\n",
              "    </tr>\n",
              "  </tbody>\n",
              "</table>\n",
              "<p>5 rows × 25 columns</p>\n",
              "</div>\n",
              "      <button class=\"colab-df-convert\" onclick=\"convertToInteractive('df-25372af6-4d7c-446f-b026-08daa1a975b6')\"\n",
              "              title=\"Convert this dataframe to an interactive table.\"\n",
              "              style=\"display:none;\">\n",
              "        \n",
              "  <svg xmlns=\"http://www.w3.org/2000/svg\" height=\"24px\"viewBox=\"0 0 24 24\"\n",
              "       width=\"24px\">\n",
              "    <path d=\"M0 0h24v24H0V0z\" fill=\"none\"/>\n",
              "    <path d=\"M18.56 5.44l.94 2.06.94-2.06 2.06-.94-2.06-.94-.94-2.06-.94 2.06-2.06.94zm-11 1L8.5 8.5l.94-2.06 2.06-.94-2.06-.94L8.5 2.5l-.94 2.06-2.06.94zm10 10l.94 2.06.94-2.06 2.06-.94-2.06-.94-.94-2.06-.94 2.06-2.06.94z\"/><path d=\"M17.41 7.96l-1.37-1.37c-.4-.4-.92-.59-1.43-.59-.52 0-1.04.2-1.43.59L10.3 9.45l-7.72 7.72c-.78.78-.78 2.05 0 2.83L4 21.41c.39.39.9.59 1.41.59.51 0 1.02-.2 1.41-.59l7.78-7.78 2.81-2.81c.8-.78.8-2.07 0-2.86zM5.41 20L4 18.59l7.72-7.72 1.47 1.35L5.41 20z\"/>\n",
              "  </svg>\n",
              "      </button>\n",
              "      \n",
              "  <style>\n",
              "    .colab-df-container {\n",
              "      display:flex;\n",
              "      flex-wrap:wrap;\n",
              "      gap: 12px;\n",
              "    }\n",
              "\n",
              "    .colab-df-convert {\n",
              "      background-color: #E8F0FE;\n",
              "      border: none;\n",
              "      border-radius: 50%;\n",
              "      cursor: pointer;\n",
              "      display: none;\n",
              "      fill: #1967D2;\n",
              "      height: 32px;\n",
              "      padding: 0 0 0 0;\n",
              "      width: 32px;\n",
              "    }\n",
              "\n",
              "    .colab-df-convert:hover {\n",
              "      background-color: #E2EBFA;\n",
              "      box-shadow: 0px 1px 2px rgba(60, 64, 67, 0.3), 0px 1px 3px 1px rgba(60, 64, 67, 0.15);\n",
              "      fill: #174EA6;\n",
              "    }\n",
              "\n",
              "    [theme=dark] .colab-df-convert {\n",
              "      background-color: #3B4455;\n",
              "      fill: #D2E3FC;\n",
              "    }\n",
              "\n",
              "    [theme=dark] .colab-df-convert:hover {\n",
              "      background-color: #434B5C;\n",
              "      box-shadow: 0px 1px 3px 1px rgba(0, 0, 0, 0.15);\n",
              "      filter: drop-shadow(0px 1px 2px rgba(0, 0, 0, 0.3));\n",
              "      fill: #FFFFFF;\n",
              "    }\n",
              "  </style>\n",
              "\n",
              "      <script>\n",
              "        const buttonEl =\n",
              "          document.querySelector('#df-25372af6-4d7c-446f-b026-08daa1a975b6 button.colab-df-convert');\n",
              "        buttonEl.style.display =\n",
              "          google.colab.kernel.accessAllowed ? 'block' : 'none';\n",
              "\n",
              "        async function convertToInteractive(key) {\n",
              "          const element = document.querySelector('#df-25372af6-4d7c-446f-b026-08daa1a975b6');\n",
              "          const dataTable =\n",
              "            await google.colab.kernel.invokeFunction('convertToInteractive',\n",
              "                                                     [key], {});\n",
              "          if (!dataTable) return;\n",
              "\n",
              "          const docLinkHtml = 'Like what you see? Visit the ' +\n",
              "            '<a target=\"_blank\" href=https://colab.research.google.com/notebooks/data_table.ipynb>data table notebook</a>'\n",
              "            + ' to learn more about interactive tables.';\n",
              "          element.innerHTML = '';\n",
              "          dataTable['output_type'] = 'display_data';\n",
              "          await google.colab.output.renderOutput(dataTable, element);\n",
              "          const docLink = document.createElement('div');\n",
              "          docLink.innerHTML = docLinkHtml;\n",
              "          element.appendChild(docLink);\n",
              "        }\n",
              "      </script>\n",
              "    </div>\n",
              "  </div>\n",
              "  "
            ]
          },
          "metadata": {},
          "execution_count": 25
        }
      ]
    },
    {
      "cell_type": "code",
      "source": [
        "merged_df2.info()"
      ],
      "metadata": {
        "colab": {
          "base_uri": "https://localhost:8080/"
        },
        "id": "fBeZRaTOdnkW",
        "outputId": "403fc457-305b-4fdd-8112-d55e55b4ca00"
      },
      "execution_count": null,
      "outputs": [
        {
          "output_type": "stream",
          "name": "stdout",
          "text": [
            "<class 'pandas.core.frame.DataFrame'>\n",
            "Int64Index: 5197681 entries, 0 to 5197680\n",
            "Data columns (total 17 columns):\n",
            " #   Column               Dtype  \n",
            "---  ------               -----  \n",
            " 0   upc                  int64  \n",
            " 1   dollar_sales         float64\n",
            " 2   units                int64  \n",
            " 3   time_of_transaction  int64  \n",
            " 4   geography            int64  \n",
            " 5   week                 int64  \n",
            " 6   household            int64  \n",
            " 7   store                int64  \n",
            " 8   basket               int64  \n",
            " 9   day                  int64  \n",
            " 10  coupon               int64  \n",
            " 11  feature_desc         object \n",
            " 12  display_desc         object \n",
            " 13  product_description  object \n",
            " 14  commodity            object \n",
            " 15  brand                object \n",
            " 16  product_size         object \n",
            "dtypes: float64(1), int64(10), object(6)\n",
            "memory usage: 713.8+ MB\n"
          ]
        }
      ]
    },
    {
      "cell_type": "code",
      "source": [
        "merged_df2_new.info()"
      ],
      "metadata": {
        "colab": {
          "base_uri": "https://localhost:8080/"
        },
        "id": "Grkk4semdDUt",
        "outputId": "09262699-8c89-46a7-c709-b2c27884139b"
      },
      "execution_count": null,
      "outputs": [
        {
          "output_type": "stream",
          "name": "stdout",
          "text": [
            "<class 'pandas.core.frame.DataFrame'>\n",
            "Int64Index: 5197681 entries, 0 to 5197680\n",
            "Data columns (total 25 columns):\n",
            " #   Column                                Dtype  \n",
            "---  ------                                -----  \n",
            " 0   upc                                   int64  \n",
            " 1   dollar_sales                          float64\n",
            " 2   units                                 int64  \n",
            " 3   time_of_transaction                   int64  \n",
            " 4   geography                             int64  \n",
            " 5   week                                  int64  \n",
            " 6   household                             int64  \n",
            " 7   store                                 int64  \n",
            " 8   basket                                int64  \n",
            " 9   day                                   int64  \n",
            " 10  coupon                                int64  \n",
            " 11  display_desc                          object \n",
            " 12  product_description                   object \n",
            " 13  commodity                             object \n",
            " 14  brand                                 object \n",
            " 15  product_size                          object \n",
            " 16  feature_desc_0                        uint8  \n",
            " 17  feature_desc_Back Page Feature        uint8  \n",
            " 18  feature_desc_Front Page Feature       uint8  \n",
            " 19  feature_desc_Interior Page Feature    uint8  \n",
            " 20  feature_desc_Interior Page Line Item  uint8  \n",
            " 21  feature_desc_Not on Feature           uint8  \n",
            " 22  feature_desc_Wrap Back Feature        uint8  \n",
            " 23  feature_desc_Wrap Front Feature       uint8  \n",
            " 24  feature_desc_Wrap Interior Feature    uint8  \n",
            "dtypes: float64(1), int64(10), object(5), uint8(9)\n",
            "memory usage: 718.7+ MB\n"
          ]
        }
      ]
    },
    {
      "cell_type": "code",
      "source": [
        "merged_df2_new = pd.get_dummies(merged_df2_new, columns = ['display_desc'])"
      ],
      "metadata": {
        "id": "65e5H20edRws"
      },
      "execution_count": null,
      "outputs": []
    },
    {
      "cell_type": "code",
      "source": [
        "merged_df2_new.info()"
      ],
      "metadata": {
        "colab": {
          "base_uri": "https://localhost:8080/"
        },
        "id": "ielRzArCd3oT",
        "outputId": "d4de397d-ea28-46f4-82ef-6c169a690df2"
      },
      "execution_count": null,
      "outputs": [
        {
          "output_type": "stream",
          "name": "stdout",
          "text": [
            "<class 'pandas.core.frame.DataFrame'>\n",
            "Int64Index: 5197681 entries, 0 to 5197680\n",
            "Data columns (total 36 columns):\n",
            " #   Column                                   Dtype  \n",
            "---  ------                                   -----  \n",
            " 0   upc                                      int64  \n",
            " 1   dollar_sales                             float64\n",
            " 2   units                                    int64  \n",
            " 3   time_of_transaction                      int64  \n",
            " 4   geography                                int64  \n",
            " 5   week                                     int64  \n",
            " 6   household                                int64  \n",
            " 7   store                                    int64  \n",
            " 8   basket                                   int64  \n",
            " 9   day                                      int64  \n",
            " 10  coupon                                   int64  \n",
            " 11  product_description                      object \n",
            " 12  commodity                                object \n",
            " 13  brand                                    object \n",
            " 14  product_size                             object \n",
            " 15  feature_desc_0                           uint8  \n",
            " 16  feature_desc_Back Page Feature           uint8  \n",
            " 17  feature_desc_Front Page Feature          uint8  \n",
            " 18  feature_desc_Interior Page Feature       uint8  \n",
            " 19  feature_desc_Interior Page Line Item     uint8  \n",
            " 20  feature_desc_Not on Feature              uint8  \n",
            " 21  feature_desc_Wrap Back Feature           uint8  \n",
            " 22  feature_desc_Wrap Front Feature          uint8  \n",
            " 23  feature_desc_Wrap Interior Feature       uint8  \n",
            " 24  display_desc_0                           uint8  \n",
            " 25  display_desc_Front End Cap               uint8  \n",
            " 26  display_desc_In-Aisle                    uint8  \n",
            " 27  display_desc_In-Shelf                    uint8  \n",
            " 28  display_desc_Mid-Aisle End Cap           uint8  \n",
            " 29  display_desc_Not on Display              uint8  \n",
            " 30  display_desc_Promo/Seasonal Aisle        uint8  \n",
            " 31  display_desc_Rear End Cap                uint8  \n",
            " 32  display_desc_Secondary Location Display  uint8  \n",
            " 33  display_desc_Side-Aisle End Cap          uint8  \n",
            " 34  display_desc_Store Front                 uint8  \n",
            " 35  display_desc_Store Rear                  uint8  \n",
            "dtypes: float64(1), int64(10), object(4), uint8(21)\n",
            "memory usage: 738.6+ MB\n"
          ]
        }
      ]
    },
    {
      "cell_type": "code",
      "source": [],
      "metadata": {
        "id": "gee8fPhZZwDv"
      },
      "execution_count": null,
      "outputs": []
    },
    {
      "cell_type": "code",
      "source": [
        "#from google.colab import files\n",
        "#merged_df2_new.to_csv('merged_df2_new.csv') \n",
        "#files.download('merged_df2_new.csv')"
      ],
      "metadata": {
        "id": "kuITA7s9eTf0"
      },
      "execution_count": null,
      "outputs": []
    },
    {
      "cell_type": "code",
      "source": [
        "# Compute descriptive statistics for the FEATURE_DESC column\n",
        "product_description_stats = merged_df2_new['product_description'].describe()\n",
        "\n",
        "# Print the results\n",
        "print(product_description_stats)"
      ],
      "metadata": {
        "colab": {
          "base_uri": "https://localhost:8080/"
        },
        "id": "AzHfC2e54YLZ",
        "outputId": "7f692d59-7842-4ca4-bacc-1f3621e1565c"
      },
      "execution_count": null,
      "outputs": [
        {
          "output_type": "stream",
          "name": "stdout",
          "text": [
            "count                          5197681\n",
            "unique                             872\n",
            "top       PRIVATE LABEL THIN SPAGHETTI\n",
            "freq                            173093\n",
            "Name: product_description, dtype: object\n"
          ]
        }
      ]
    },
    {
      "cell_type": "code",
      "source": [
        "#from google.colab import files\n",
        "#merged_df2.to_csv('merged_df2.csv') \n",
        "#files.download('merged_df2.csv')"
      ],
      "metadata": {
        "id": "yeyOS4cU4MjN"
      },
      "execution_count": null,
      "outputs": []
    },
    {
      "cell_type": "code",
      "source": [],
      "metadata": {
        "id": "D4PvBrcmaJsp"
      },
      "execution_count": null,
      "outputs": []
    },
    {
      "cell_type": "code",
      "source": [
        "#2.1 Get the file\n",
        "downloaded = drive.CreateFile({'id':'1-Xwk-NNAX68hOxPkntxyjTsJzFHRoh-2'}) # replace the id with id of file you want to access\n",
        "downloaded.GetContentFile('Elasticity_new.xlsx')"
      ],
      "metadata": {
        "id": "0ES2rwyaa3kz"
      },
      "execution_count": null,
      "outputs": []
    },
    {
      "cell_type": "markdown",
      "source": [
        "Pancakes"
      ],
      "metadata": {
        "id": "9zbm6IUZelM3"
      }
    },
    {
      "cell_type": "code",
      "source": [
        "import pandas as pd\n",
        "import statsmodels.api as sm\n",
        "\n",
        "# Load Excel file into pandas dataframe\n",
        "xls = pd.read_excel('Elasticity_new.xlsx', sheet_name='ln(pancakes)')\n",
        "df = pd.DataFrame(xls)\n"
      ],
      "metadata": {
        "id": "EVC_PZria2za"
      },
      "execution_count": null,
      "outputs": []
    },
    {
      "cell_type": "code",
      "source": [
        "df.info()"
      ],
      "metadata": {
        "colab": {
          "base_uri": "https://localhost:8080/"
        },
        "id": "QPNbumWKcj-w",
        "outputId": "387d1fc1-56f7-4cc4-8892-0ea1f4002e4b"
      },
      "execution_count": null,
      "outputs": [
        {
          "output_type": "stream",
          "name": "stdout",
          "text": [
            "<class 'pandas.core.frame.DataFrame'>\n",
            "RangeIndex: 104 entries, 0 to 103\n",
            "Data columns (total 23 columns):\n",
            " #   Column                                          Non-Null Count  Dtype  \n",
            "---  ------                                          --------------  -----  \n",
            " 0   Row Labels                                      104 non-null    int64  \n",
            " 1   ln(sales)                                       104 non-null    float64\n",
            " 2   ln(baseprice)                                   104 non-null    float64\n",
            " 3   ln(api)                                         104 non-null    float64\n",
            " 4   sum of feature_desc_Back Page Feature           104 non-null    int64  \n",
            " 5   Sum of feature_desc_Front Page Feature          104 non-null    int64  \n",
            " 6   Sum of feature_desc_Interior Page Feature       104 non-null    int64  \n",
            " 7   Sum of feature_desc_Interior Page Line Item     104 non-null    int64  \n",
            " 8   Sum of feature_desc_Not on Feature              104 non-null    int64  \n",
            " 9   Sum of feature_desc_Wrap Back Feature           104 non-null    int64  \n",
            " 10  Sum of feature_desc_Wrap Front Feature          104 non-null    int64  \n",
            " 11  Sum of feature_desc_Wrap Interior Feature       104 non-null    int64  \n",
            " 12  Sum of display_desc_Front End Cap               104 non-null    int64  \n",
            " 13  Sum of display_desc_In-Aisle                    104 non-null    int64  \n",
            " 14  Sum of display_desc_In-Shelf                    104 non-null    int64  \n",
            " 15  Sum of display_desc_Mid-Aisle End Cap           104 non-null    int64  \n",
            " 16  Sum of display_desc_Not on Display              104 non-null    int64  \n",
            " 17  Sum of display_desc_Promo/Seasonal Aisle        104 non-null    int64  \n",
            " 18  Sum of display_desc_Rear End Cap                104 non-null    int64  \n",
            " 19  Sum of display_desc_Secondary Location Display  104 non-null    int64  \n",
            " 20  Sum of display_desc_Side-Aisle End Cap          104 non-null    int64  \n",
            " 21  Sum of display_desc_Store Front                 104 non-null    int64  \n",
            " 22  Sum of display_desc_Store Rear                  104 non-null    int64  \n",
            "dtypes: float64(3), int64(20)\n",
            "memory usage: 18.8 KB\n"
          ]
        }
      ]
    },
    {
      "cell_type": "code",
      "source": [
        "# Define the independent and dependent variables\n",
        "X1 = df.drop(['Row Labels', 'ln(sales)'], axis=1) # independent variables\n",
        "y1 = df['ln(sales)'] # dependent variable\n",
        "\n",
        "# Add constant to the independent variables\n",
        "X1 = sm.add_constant(X1)\n",
        "\n",
        "# Fit the linear regression model\n",
        "model1 = sm.OLS(y1, X1).fit()\n",
        "\n",
        "# Print the model summary\n",
        "print(model1.summary())\n",
        "\n"
      ],
      "metadata": {
        "colab": {
          "base_uri": "https://localhost:8080/"
        },
        "id": "1HVPKQsecqGP",
        "outputId": "ac17417c-cafb-4e36-a6c2-032aead4c599"
      },
      "execution_count": null,
      "outputs": [
        {
          "output_type": "stream",
          "name": "stdout",
          "text": [
            "                            OLS Regression Results                            \n",
            "==============================================================================\n",
            "Dep. Variable:              ln(sales)   R-squared:                       0.407\n",
            "Model:                            OLS   Adj. R-squared:                  0.298\n",
            "Method:                 Least Squares   F-statistic:                     3.735\n",
            "Date:                Sat, 18 Feb 2023   Prob (F-statistic):           3.38e-05\n",
            "Time:                        10:02:36   Log-Likelihood:                 94.044\n",
            "No. Observations:                 104   AIC:                            -154.1\n",
            "Df Residuals:                      87   BIC:                            -109.1\n",
            "Df Model:                          16                                         \n",
            "Covariance Type:            nonrobust                                         \n",
            "==================================================================================================================\n",
            "                                                     coef    std err          t      P>|t|      [0.025      0.975]\n",
            "------------------------------------------------------------------------------------------------------------------\n",
            "const                                              8.6673      0.190     45.723      0.000       8.291       9.044\n",
            "ln(baseprice)                                     -0.3934      0.338     -1.165      0.247      -1.065       0.278\n",
            "ln(api)                                           -0.1676      0.410     -0.409      0.683      -0.982       0.647\n",
            "sum of feature_desc_Back Page Feature              0.0001      0.001      0.122      0.903      -0.002       0.002\n",
            "Sum of feature_desc_Front Page Feature          1.155e-13    1.6e-14      7.200      0.000    8.36e-14    1.47e-13\n",
            "Sum of feature_desc_Interior Page Feature          0.0011      0.023      0.046      0.963      -0.045       0.047\n",
            "Sum of feature_desc_Interior Page Line Item     4.675e-14   4.09e-15     11.427      0.000    3.86e-14    5.49e-14\n",
            "Sum of feature_desc_Not on Feature                -0.0002      0.005     -0.045      0.964      -0.010       0.009\n",
            "Sum of feature_desc_Wrap Back Feature          -4.134e-14   3.54e-15    -11.661      0.000   -4.84e-14   -3.43e-14\n",
            "Sum of feature_desc_Wrap Front Feature          -4.32e-05      0.004     -0.011      0.992      -0.008       0.008\n",
            "Sum of feature_desc_Wrap Interior Feature       3.716e-15   9.63e-16      3.861      0.000     1.8e-15    5.63e-15\n",
            "Sum of display_desc_Front End Cap                  0.0024      0.005      0.442      0.659      -0.008       0.013\n",
            "Sum of display_desc_In-Aisle                       0.0057      0.005      1.103      0.273      -0.005       0.016\n",
            "Sum of display_desc_In-Shelf                       0.0003      0.005      0.055      0.956      -0.010       0.010\n",
            "Sum of display_desc_Mid-Aisle End Cap             -0.0192      0.010     -1.902      0.060      -0.039       0.001\n",
            "Sum of display_desc_Not on Display                -0.0007      0.026     -0.027      0.979      -0.053       0.051\n",
            "Sum of display_desc_Promo/Seasonal Aisle           0.0005      0.005      0.109      0.913      -0.009       0.010\n",
            "Sum of display_desc_Rear End Cap                  -0.0048      0.006     -0.849      0.398      -0.016       0.007\n",
            "Sum of display_desc_Secondary Location Display     0.0003      0.005      0.059      0.953      -0.010       0.010\n",
            "Sum of display_desc_Side-Aisle End Cap             0.0077      0.011      0.684      0.496      -0.015       0.030\n",
            "Sum of display_desc_Store Front                    0.0016      0.007      0.226      0.822      -0.012       0.015\n",
            "Sum of display_desc_Store Rear                     0.0072      0.007      1.040      0.301      -0.007       0.021\n",
            "==============================================================================\n",
            "Omnibus:                        7.002   Durbin-Watson:                   1.076\n",
            "Prob(Omnibus):                  0.030   Jarque-Bera (JB):                7.661\n",
            "Skew:                           0.408   Prob(JB):                       0.0217\n",
            "Kurtosis:                       4.050   Cond. No.                     2.13e+18\n",
            "==============================================================================\n",
            "\n",
            "Notes:\n",
            "[1] Standard Errors assume that the covariance matrix of the errors is correctly specified.\n",
            "[2] The smallest eigenvalue is 1.26e-30. This might indicate that there are\n",
            "strong multicollinearity problems or that the design matrix is singular.\n"
          ]
        },
        {
          "output_type": "stream",
          "name": "stderr",
          "text": [
            "/usr/local/lib/python3.8/dist-packages/statsmodels/tsa/tsatools.py:142: FutureWarning: In a future version of pandas all arguments of concat except for the argument 'objs' will be keyword-only\n",
            "  x = pd.concat(x[::order], 1)\n"
          ]
        }
      ]
    },
    {
      "cell_type": "markdown",
      "source": [
        "Pasta sauce"
      ],
      "metadata": {
        "id": "XRiu7gQ0egya"
      }
    },
    {
      "cell_type": "code",
      "source": [
        "import pandas as pd\n",
        "import statsmodels.api as sm\n",
        "\n",
        "# Load Excel file into pandas dataframe\n",
        "xls = pd.read_excel('Elasticity_new.xlsx', sheet_name='ln(pasta sauce)')\n",
        "df = pd.DataFrame(xls)\n"
      ],
      "metadata": {
        "id": "QluGXDZ9eJqY"
      },
      "execution_count": null,
      "outputs": []
    },
    {
      "cell_type": "code",
      "source": [
        "# Define the independent and dependent variables\n",
        "X2 = df.drop(['Row Labels', 'ln(sales)'], axis=1) # independent variables\n",
        "y2 = df['ln(sales)'] # dependent variable\n",
        "\n",
        "# Add constant to the independent variables\n",
        "X2 = sm.add_constant(X2)\n",
        "\n",
        "# Fit the linear regression model\n",
        "model2 = sm.OLS(y2, X2).fit()\n",
        "\n",
        "# Print the model summary\n",
        "print(model2.summary())\n",
        "\n"
      ],
      "metadata": {
        "colab": {
          "base_uri": "https://localhost:8080/"
        },
        "outputId": "f42a9ea8-dbce-49d1-ee51-b3445a16786b",
        "id": "8FlIDBSmeJqZ"
      },
      "execution_count": null,
      "outputs": [
        {
          "output_type": "stream",
          "name": "stdout",
          "text": [
            "                            OLS Regression Results                            \n",
            "==============================================================================\n",
            "Dep. Variable:              ln(sales)   R-squared:                       0.594\n",
            "Model:                            OLS   Adj. R-squared:                  0.496\n",
            "Method:                 Least Squares   F-statistic:                     6.060\n",
            "Date:                Sat, 18 Feb 2023   Prob (F-statistic):           1.75e-09\n",
            "Time:                        10:02:37   Log-Likelihood:                 105.99\n",
            "No. Observations:                 104   AIC:                            -170.0\n",
            "Df Residuals:                      83   BIC:                            -114.5\n",
            "Df Model:                          20                                         \n",
            "Covariance Type:            nonrobust                                         \n",
            "==================================================================================================================\n",
            "                                                     coef    std err          t      P>|t|      [0.025      0.975]\n",
            "------------------------------------------------------------------------------------------------------------------\n",
            "const                                             10.5745      0.206     51.296      0.000      10.164      10.985\n",
            "ln(baseprice)                                     -0.1271      0.314     -0.405      0.687      -0.752       0.498\n",
            "ln(api)                                           -1.0265      0.176     -5.848      0.000      -1.376      -0.677\n",
            "sum  of feature_desc_Back Page Feature         -9.657e-05      0.000     -0.499      0.619      -0.000       0.000\n",
            "Sum of feature_desc_Front Page Feature          -9.49e-05      0.000     -0.471      0.639      -0.000       0.000\n",
            "Sum of feature_desc_Interior Page Feature      -7.535e-05      0.000     -0.369      0.713      -0.000       0.000\n",
            "Sum of feature_desc_Interior Page Line Item    -8.309e-05      0.000     -0.406      0.686      -0.000       0.000\n",
            "Sum of feature_desc_Not on Feature                -0.0001      0.000     -0.604      0.548      -0.001       0.000\n",
            "Sum of feature_desc_Wrap Back Feature             -0.0001      0.000     -0.492      0.624      -0.001       0.000\n",
            "Sum of feature_desc_Wrap Front Feature            -0.0001      0.000     -0.593      0.555      -0.001       0.000\n",
            "Sum of feature_desc_Wrap Interior Feature      -9.558e-05      0.000     -0.449      0.655      -0.001       0.000\n",
            "Sum of display_desc_Front End Cap               9.082e-06      0.000      0.033      0.973      -0.001       0.001\n",
            "Sum of display_desc_In-Aisle                       0.0006      0.001      1.015      0.313      -0.001       0.002\n",
            "Sum of display_desc_In-Shelf                       0.0001      0.000      0.568      0.571      -0.000       0.001\n",
            "Sum of display_desc_Mid-Aisle End Cap             -0.0007      0.001     -1.158      0.250      -0.002       0.000\n",
            "Sum of display_desc_Not on Display              9.248e-05      0.000      0.453      0.652      -0.000       0.000\n",
            "Sum of display_desc_Promo/Seasonal Aisle           0.0001      0.000      0.595      0.554      -0.000       0.001\n",
            "Sum of display_desc_Rear End Cap                   0.0002      0.000      0.718      0.475      -0.000       0.001\n",
            "Sum of display_desc_Secondary Location Display  5.745e-05      0.000      0.185      0.854      -0.001       0.001\n",
            "Sum of display_desc_Side-Aisle End Cap            -0.0020      0.003     -0.563      0.575      -0.009       0.005\n",
            "Sum of display_desc_Store Front                 7.965e-05      0.001      0.079      0.937      -0.002       0.002\n",
            "Sum of display_desc_Store Rear                     0.0006      0.001      1.109      0.270      -0.000       0.002\n",
            "==============================================================================\n",
            "Omnibus:                       11.703   Durbin-Watson:                   1.217\n",
            "Prob(Omnibus):                  0.003   Jarque-Bera (JB):               25.015\n",
            "Skew:                          -0.337   Prob(JB):                     3.70e-06\n",
            "Kurtosis:                       5.306   Cond. No.                     2.75e+16\n",
            "==============================================================================\n",
            "\n",
            "Notes:\n",
            "[1] Standard Errors assume that the covariance matrix of the errors is correctly specified.\n",
            "[2] The smallest eigenvalue is 3.04e-24. This might indicate that there are\n",
            "strong multicollinearity problems or that the design matrix is singular.\n"
          ]
        },
        {
          "output_type": "stream",
          "name": "stderr",
          "text": [
            "/usr/local/lib/python3.8/dist-packages/statsmodels/tsa/tsatools.py:142: FutureWarning: In a future version of pandas all arguments of concat except for the argument 'objs' will be keyword-only\n",
            "  x = pd.concat(x[::order], 1)\n"
          ]
        }
      ]
    },
    {
      "cell_type": "markdown",
      "source": [
        "Syrup"
      ],
      "metadata": {
        "id": "m6SM9IFSeoRP"
      }
    },
    {
      "cell_type": "code",
      "source": [
        "import pandas as pd\n",
        "import statsmodels.api as sm\n",
        "\n",
        "# Load Excel file into pandas dataframe\n",
        "xls = pd.read_excel('Elasticity_new.xlsx', sheet_name='ln(syrup)')\n",
        "df = pd.DataFrame(xls)\n"
      ],
      "metadata": {
        "id": "KgPJT4U1eKqm"
      },
      "execution_count": null,
      "outputs": []
    },
    {
      "cell_type": "code",
      "source": [
        "# Define the independent and dependent variables\n",
        "X3 = df.drop(['Row Labels', 'ln(sales)'], axis=1) # independent variables\n",
        "y3 = df['ln(sales)'] # dependent variable\n",
        "\n",
        "# Add constant to the independent variables\n",
        "X3 = sm.add_constant(X3)\n",
        "\n",
        "# Fit the linear regression model\n",
        "model3 = sm.OLS(y3, X3).fit()\n",
        "\n",
        "# Print the model summary\n",
        "print(model3.summary())\n",
        "\n"
      ],
      "metadata": {
        "colab": {
          "base_uri": "https://localhost:8080/"
        },
        "outputId": "ea41612d-1f94-4685-f456-15d4e96097e4",
        "id": "5vDQv-6teKqm"
      },
      "execution_count": null,
      "outputs": [
        {
          "output_type": "stream",
          "name": "stdout",
          "text": [
            "                            OLS Regression Results                            \n",
            "==============================================================================\n",
            "Dep. Variable:              ln(sales)   R-squared:                       0.372\n",
            "Model:                            OLS   Adj. R-squared:                  0.238\n",
            "Method:                 Least Squares   F-statistic:                     2.792\n",
            "Date:                Sat, 18 Feb 2023   Prob (F-statistic):           0.000803\n",
            "Time:                        10:02:37   Log-Likelihood:                 79.092\n",
            "No. Observations:                 104   AIC:                            -120.2\n",
            "Df Residuals:                      85   BIC:                            -69.94\n",
            "Df Model:                          18                                         \n",
            "Covariance Type:            nonrobust                                         \n",
            "==================================================================================================================\n",
            "                                                     coef    std err          t      P>|t|      [0.025      0.975]\n",
            "------------------------------------------------------------------------------------------------------------------\n",
            "const                                              9.5611      0.641     14.918      0.000       8.287      10.835\n",
            "ln(baseprice)                                      0.1316      0.718      0.183      0.855      -1.295       1.558\n",
            "ln(api)                                           -1.7160      1.283     -1.338      0.185      -4.267       0.835\n",
            "sum  of feature_desc_Back Page Feature            -0.0003      0.001     -0.259      0.796      -0.002       0.002\n",
            "Sum of feature_desc_Front Page Feature            -0.0005      0.002     -0.224      0.823      -0.005       0.004\n",
            "Sum of feature_desc_Interior Page Feature         -0.0001      0.002     -0.067      0.947      -0.004       0.004\n",
            "Sum of feature_desc_Interior Page Line Item        0.0001      0.002      0.063      0.950      -0.004       0.005\n",
            "Sum of feature_desc_Not on Feature             -6.713e-05      0.001     -0.062      0.951      -0.002       0.002\n",
            "Sum of feature_desc_Wrap Back Feature             -0.0002      0.002     -0.076      0.940      -0.004       0.004\n",
            "Sum of feature_desc_Wrap Front Feature         -1.622e-14   2.64e-14     -0.614      0.541   -6.87e-14    3.63e-14\n",
            "Sum of feature_desc_Wrap Interior Feature       2.208e-13   3.49e-14      6.331      0.000    1.51e-13     2.9e-13\n",
            "Sum of display_desc_Front End Cap                 -0.0005      0.002     -0.218      0.828      -0.005       0.004\n",
            "Sum of display_desc_In-Aisle                       0.0001      0.002      0.060      0.952      -0.003       0.004\n",
            "Sum of display_desc_In-Shelf                       0.0001      0.001      0.123      0.903      -0.002       0.002\n",
            "Sum of display_desc_Mid-Aisle End Cap             -0.0045      0.003     -1.322      0.190      -0.011       0.002\n",
            "Sum of display_desc_Not on Display              7.961e-05      0.002      0.036      0.971      -0.004       0.004\n",
            "Sum of display_desc_Promo/Seasonal Aisle           0.0004      0.001      0.319      0.751      -0.002       0.003\n",
            "Sum of display_desc_Rear End Cap                   0.0004      0.002      0.286      0.776      -0.003       0.004\n",
            "Sum of display_desc_Secondary Location Display     0.0003      0.001      0.283      0.778      -0.002       0.002\n",
            "Sum of display_desc_Side-Aisle End Cap             0.0005      0.003      0.137      0.891      -0.006       0.007\n",
            "Sum of display_desc_Store Front                   -0.0005      0.004     -0.133      0.895      -0.008       0.007\n",
            "Sum of display_desc_Store Rear                     0.0026      0.002      1.170      0.245      -0.002       0.007\n",
            "==============================================================================\n",
            "Omnibus:                       52.179   Durbin-Watson:                   0.820\n",
            "Prob(Omnibus):                  0.000   Jarque-Bera (JB):              186.643\n",
            "Skew:                           1.719   Prob(JB):                     2.96e-41\n",
            "Kurtosis:                       8.590   Cond. No.                     1.91e+18\n",
            "==============================================================================\n",
            "\n",
            "Notes:\n",
            "[1] Standard Errors assume that the covariance matrix of the errors is correctly specified.\n",
            "[2] The smallest eigenvalue is  5e-30. This might indicate that there are\n",
            "strong multicollinearity problems or that the design matrix is singular.\n"
          ]
        },
        {
          "output_type": "stream",
          "name": "stderr",
          "text": [
            "/usr/local/lib/python3.8/dist-packages/statsmodels/tsa/tsatools.py:142: FutureWarning: In a future version of pandas all arguments of concat except for the argument 'objs' will be keyword-only\n",
            "  x = pd.concat(x[::order], 1)\n"
          ]
        }
      ]
    },
    {
      "cell_type": "code",
      "source": [],
      "metadata": {
        "id": "CLiWBQxdeLRW"
      },
      "execution_count": null,
      "outputs": []
    },
    {
      "cell_type": "markdown",
      "source": [
        "pasta"
      ],
      "metadata": {
        "id": "RVCBYQc8eqOA"
      }
    },
    {
      "cell_type": "code",
      "source": [
        "import pandas as pd\n",
        "import statsmodels.api as sm\n",
        "\n",
        "# Load Excel file into pandas dataframe\n",
        "xls = pd.read_excel('Elasticity_new.xlsx', sheet_name='ln(pasta)')\n",
        "df = pd.DataFrame(xls)\n"
      ],
      "metadata": {
        "id": "5jpfMp9keLYv"
      },
      "execution_count": null,
      "outputs": []
    },
    {
      "cell_type": "code",
      "source": [
        "# Define the independent and dependent variables\n",
        "X4 = df.drop(['Row Labels', 'ln(sales)'], axis=1) # independent variables\n",
        "y4 = df['ln(sales)'] # dependent variable\n",
        "\n",
        "# Add constant to the independent variables\n",
        "X4 = sm.add_constant(X4)\n",
        "\n",
        "# Fit the linear regression model\n",
        "model4 = sm.OLS(y4, X4).fit()\n",
        "\n",
        "# Print the model summary\n",
        "print(model4.summary())\n",
        "\n"
      ],
      "metadata": {
        "colab": {
          "base_uri": "https://localhost:8080/"
        },
        "outputId": "9d9ca62d-560a-4add-87f6-85b9b09d96f5",
        "id": "Z0OqPt6DeLYv"
      },
      "execution_count": null,
      "outputs": [
        {
          "output_type": "stream",
          "name": "stdout",
          "text": [
            "                            OLS Regression Results                            \n",
            "==============================================================================\n",
            "Dep. Variable:              ln(sales)   R-squared:                       0.496\n",
            "Model:                            OLS   Adj. R-squared:                  0.382\n",
            "Method:                 Least Squares   F-statistic:                     4.357\n",
            "Date:                Sat, 18 Feb 2023   Prob (F-statistic):           1.28e-06\n",
            "Time:                        10:02:37   Log-Likelihood:                 136.55\n",
            "No. Observations:                 104   AIC:                            -233.1\n",
            "Df Residuals:                      84   BIC:                            -180.2\n",
            "Df Model:                          19                                         \n",
            "Covariance Type:            nonrobust                                         \n",
            "==================================================================================================================\n",
            "                                                     coef    std err          t      P>|t|      [0.025      0.975]\n",
            "------------------------------------------------------------------------------------------------------------------\n",
            "const                                             10.1645      0.015    659.691      0.000      10.134      10.195\n",
            "ln(baseprice)                                      0.3902      0.194      2.013      0.047       0.005       0.776\n",
            "ln(api)                                           -0.2389      0.197     -1.210      0.230      -0.632       0.154\n",
            "sum  of feature_desc_Back Page Feature         -3.278e-05      0.000     -0.222      0.825      -0.000       0.000\n",
            "Sum of feature_desc_Front Page Feature           1.68e-05      0.000      0.100      0.921      -0.000       0.000\n",
            "Sum of feature_desc_Interior Page Feature       7.813e-06      0.000      0.045      0.964      -0.000       0.000\n",
            "Sum of feature_desc_Interior Page Line Item     4.381e-14   4.91e-14      0.893      0.375   -5.38e-14    1.41e-13\n",
            "Sum of feature_desc_Not on Feature             -2.823e-05      0.000     -0.190      0.850      -0.000       0.000\n",
            "Sum of feature_desc_Wrap Back Feature           7.744e-06      0.000      0.057      0.955      -0.000       0.000\n",
            "Sum of feature_desc_Wrap Front Feature         -8.639e-05      0.000     -0.624      0.534      -0.000       0.000\n",
            "Sum of feature_desc_Wrap Interior Feature       2.732e-05      0.000      0.157      0.875      -0.000       0.000\n",
            "Sum of display_desc_Front End Cap                  0.0008      0.000      2.234      0.028     8.4e-05       0.001\n",
            "Sum of display_desc_In-Aisle                      -0.0003      0.000     -0.662      0.510      -0.001       0.001\n",
            "Sum of display_desc_In-Shelf                    6.006e-05      0.000      0.389      0.698      -0.000       0.000\n",
            "Sum of display_desc_Mid-Aisle End Cap             -0.0003      0.000     -0.690      0.492      -0.001       0.001\n",
            "Sum of display_desc_Not on Display              -2.54e-05      0.000     -0.144      0.886      -0.000       0.000\n",
            "Sum of display_desc_Promo/Seasonal Aisle           0.0001      0.000      0.725      0.471      -0.000       0.000\n",
            "Sum of display_desc_Rear End Cap                  -0.0002      0.000     -0.887      0.377      -0.000       0.000\n",
            "Sum of display_desc_Secondary Location Display    -0.0002      0.000     -0.885      0.379      -0.001       0.000\n",
            "Sum of display_desc_Side-Aisle End Cap            -0.0026      0.002     -1.130      0.261      -0.007       0.002\n",
            "Sum of display_desc_Store Front                    0.0003      0.001      0.268      0.789      -0.002       0.003\n",
            "Sum of display_desc_Store Rear                     0.0022      0.001      3.682      0.000       0.001       0.003\n",
            "==============================================================================\n",
            "Omnibus:                        4.482   Durbin-Watson:                   1.103\n",
            "Prob(Omnibus):                  0.106   Jarque-Bera (JB):                5.703\n",
            "Skew:                           0.089   Prob(JB):                       0.0577\n",
            "Kurtosis:                       4.133   Cond. No.                     3.70e+17\n",
            "==============================================================================\n",
            "\n",
            "Notes:\n",
            "[1] Standard Errors assume that the covariance matrix of the errors is correctly specified.\n",
            "[2] The smallest eigenvalue is 2.65e-27. This might indicate that there are\n",
            "strong multicollinearity problems or that the design matrix is singular.\n"
          ]
        },
        {
          "output_type": "stream",
          "name": "stderr",
          "text": [
            "/usr/local/lib/python3.8/dist-packages/statsmodels/tsa/tsatools.py:142: FutureWarning: In a future version of pandas all arguments of concat except for the argument 'objs' will be keyword-only\n",
            "  x = pd.concat(x[::order], 1)\n"
          ]
        }
      ]
    },
    {
      "cell_type": "code",
      "source": [
        "model1_summary=model1.summary()\n",
        "model2_summary=model2.summary()\n",
        "model3_summary=model3.summary()\n",
        "model4_summary=model4.summary()\n"
      ],
      "metadata": {
        "id": "bfGJ97M39_mq"
      },
      "execution_count": null,
      "outputs": []
    },
    {
      "cell_type": "code",
      "source": [
        "# Extract the relevant information from the model summary\n",
        "coef_data1 = model1_summary.tables[1].data[1:]\n",
        "header1 = model1_summary.tables[1].data[0]\n",
        "\n",
        "# Convert the data to a pandas dataframe\n",
        "model_summary1 = pd.DataFrame(coef_data1, columns=header1)\n",
        "\n",
        "# Extract the relevant information from the model summary\n",
        "coef_data2 = model2_summary.tables[1].data[1:]\n",
        "header2 = model2_summary.tables[1].data[0]\n",
        "\n",
        "# Convert the data to a pandas dataframe\n",
        "model_summary2 = pd.DataFrame(coef_data2, columns=header2)\n",
        "\n",
        "# Extract the relevant information from the model summary\n",
        "coef_data3 = model3_summary.tables[1].data[1:]\n",
        "header3 = model3_summary.tables[1].data[0]\n",
        "\n",
        "# Convert the data to a pandas dataframe\n",
        "model_summary3 = pd.DataFrame(coef_data3, columns=header3)\n",
        "\n",
        "# Extract the relevant information from the model summary\n",
        "coef_data4 = model4_summary.tables[1].data[1:]\n",
        "header4 = model4_summary.tables[1].data[0]\n",
        "\n",
        "# Convert the data to a pandas dataframe\n",
        "model_summary4 = pd.DataFrame(coef_data4, columns=header4)\n",
        "\n"
      ],
      "metadata": {
        "id": "um5m5TUM_3vo"
      },
      "execution_count": null,
      "outputs": []
    },
    {
      "cell_type": "code",
      "source": [
        "from google.colab import files\n",
        "model_summary1.to_excel('model_summary1.xlsx') \n",
        "files.download('model_summary1.xlsx')\n",
        "model_summary2.to_excel('model_summary2.xlsx') \n",
        "files.download('model_summary2.xlsx')\n",
        "model_summary3.to_excel('model_summary3.xlsx') \n",
        "files.download('model_summary3.xlsx')\n",
        "model_summary4.to_excel('model_summary4.xlsx') \n",
        "files.download('model_summary4.xlsx')\n"
      ],
      "metadata": {
        "colab": {
          "base_uri": "https://localhost:8080/",
          "height": 17
        },
        "id": "vWtErWbX9e-v",
        "outputId": "1c9f628e-6aee-415c-fd9b-e5f77fc603ea"
      },
      "execution_count": null,
      "outputs": [
        {
          "output_type": "display_data",
          "data": {
            "text/plain": [
              "<IPython.core.display.Javascript object>"
            ],
            "application/javascript": [
              "\n",
              "    async function download(id, filename, size) {\n",
              "      if (!google.colab.kernel.accessAllowed) {\n",
              "        return;\n",
              "      }\n",
              "      const div = document.createElement('div');\n",
              "      const label = document.createElement('label');\n",
              "      label.textContent = `Downloading \"${filename}\": `;\n",
              "      div.appendChild(label);\n",
              "      const progress = document.createElement('progress');\n",
              "      progress.max = size;\n",
              "      div.appendChild(progress);\n",
              "      document.body.appendChild(div);\n",
              "\n",
              "      const buffers = [];\n",
              "      let downloaded = 0;\n",
              "\n",
              "      const channel = await google.colab.kernel.comms.open(id);\n",
              "      // Send a message to notify the kernel that we're ready.\n",
              "      channel.send({})\n",
              "\n",
              "      for await (const message of channel.messages) {\n",
              "        // Send a message to notify the kernel that we're ready.\n",
              "        channel.send({})\n",
              "        if (message.buffers) {\n",
              "          for (const buffer of message.buffers) {\n",
              "            buffers.push(buffer);\n",
              "            downloaded += buffer.byteLength;\n",
              "            progress.value = downloaded;\n",
              "          }\n",
              "        }\n",
              "      }\n",
              "      const blob = new Blob(buffers, {type: 'application/binary'});\n",
              "      const a = document.createElement('a');\n",
              "      a.href = window.URL.createObjectURL(blob);\n",
              "      a.download = filename;\n",
              "      div.appendChild(a);\n",
              "      a.click();\n",
              "      div.remove();\n",
              "    }\n",
              "  "
            ]
          },
          "metadata": {}
        },
        {
          "output_type": "display_data",
          "data": {
            "text/plain": [
              "<IPython.core.display.Javascript object>"
            ],
            "application/javascript": [
              "download(\"download_79ca8a41-1271-44a8-9845-342bed779733\", \"model_summary1.xlsx\", 6459)"
            ]
          },
          "metadata": {}
        },
        {
          "output_type": "display_data",
          "data": {
            "text/plain": [
              "<IPython.core.display.Javascript object>"
            ],
            "application/javascript": [
              "\n",
              "    async function download(id, filename, size) {\n",
              "      if (!google.colab.kernel.accessAllowed) {\n",
              "        return;\n",
              "      }\n",
              "      const div = document.createElement('div');\n",
              "      const label = document.createElement('label');\n",
              "      label.textContent = `Downloading \"${filename}\": `;\n",
              "      div.appendChild(label);\n",
              "      const progress = document.createElement('progress');\n",
              "      progress.max = size;\n",
              "      div.appendChild(progress);\n",
              "      document.body.appendChild(div);\n",
              "\n",
              "      const buffers = [];\n",
              "      let downloaded = 0;\n",
              "\n",
              "      const channel = await google.colab.kernel.comms.open(id);\n",
              "      // Send a message to notify the kernel that we're ready.\n",
              "      channel.send({})\n",
              "\n",
              "      for await (const message of channel.messages) {\n",
              "        // Send a message to notify the kernel that we're ready.\n",
              "        channel.send({})\n",
              "        if (message.buffers) {\n",
              "          for (const buffer of message.buffers) {\n",
              "            buffers.push(buffer);\n",
              "            downloaded += buffer.byteLength;\n",
              "            progress.value = downloaded;\n",
              "          }\n",
              "        }\n",
              "      }\n",
              "      const blob = new Blob(buffers, {type: 'application/binary'});\n",
              "      const a = document.createElement('a');\n",
              "      a.href = window.URL.createObjectURL(blob);\n",
              "      a.download = filename;\n",
              "      div.appendChild(a);\n",
              "      a.click();\n",
              "      div.remove();\n",
              "    }\n",
              "  "
            ]
          },
          "metadata": {}
        },
        {
          "output_type": "display_data",
          "data": {
            "text/plain": [
              "<IPython.core.display.Javascript object>"
            ],
            "application/javascript": [
              "download(\"download_a108efd1-4145-4492-860f-6dbbe2c7b0c3\", \"model_summary2.xlsx\", 6366)"
            ]
          },
          "metadata": {}
        },
        {
          "output_type": "display_data",
          "data": {
            "text/plain": [
              "<IPython.core.display.Javascript object>"
            ],
            "application/javascript": [
              "\n",
              "    async function download(id, filename, size) {\n",
              "      if (!google.colab.kernel.accessAllowed) {\n",
              "        return;\n",
              "      }\n",
              "      const div = document.createElement('div');\n",
              "      const label = document.createElement('label');\n",
              "      label.textContent = `Downloading \"${filename}\": `;\n",
              "      div.appendChild(label);\n",
              "      const progress = document.createElement('progress');\n",
              "      progress.max = size;\n",
              "      div.appendChild(progress);\n",
              "      document.body.appendChild(div);\n",
              "\n",
              "      const buffers = [];\n",
              "      let downloaded = 0;\n",
              "\n",
              "      const channel = await google.colab.kernel.comms.open(id);\n",
              "      // Send a message to notify the kernel that we're ready.\n",
              "      channel.send({})\n",
              "\n",
              "      for await (const message of channel.messages) {\n",
              "        // Send a message to notify the kernel that we're ready.\n",
              "        channel.send({})\n",
              "        if (message.buffers) {\n",
              "          for (const buffer of message.buffers) {\n",
              "            buffers.push(buffer);\n",
              "            downloaded += buffer.byteLength;\n",
              "            progress.value = downloaded;\n",
              "          }\n",
              "        }\n",
              "      }\n",
              "      const blob = new Blob(buffers, {type: 'application/binary'});\n",
              "      const a = document.createElement('a');\n",
              "      a.href = window.URL.createObjectURL(blob);\n",
              "      a.download = filename;\n",
              "      div.appendChild(a);\n",
              "      a.click();\n",
              "      div.remove();\n",
              "    }\n",
              "  "
            ]
          },
          "metadata": {}
        },
        {
          "output_type": "display_data",
          "data": {
            "text/plain": [
              "<IPython.core.display.Javascript object>"
            ],
            "application/javascript": [
              "download(\"download_2f9db5c9-fa8d-44e4-91b0-6d9678efe8f2\", \"model_summary3.xlsx\", 6380)"
            ]
          },
          "metadata": {}
        },
        {
          "output_type": "display_data",
          "data": {
            "text/plain": [
              "<IPython.core.display.Javascript object>"
            ],
            "application/javascript": [
              "\n",
              "    async function download(id, filename, size) {\n",
              "      if (!google.colab.kernel.accessAllowed) {\n",
              "        return;\n",
              "      }\n",
              "      const div = document.createElement('div');\n",
              "      const label = document.createElement('label');\n",
              "      label.textContent = `Downloading \"${filename}\": `;\n",
              "      div.appendChild(label);\n",
              "      const progress = document.createElement('progress');\n",
              "      progress.max = size;\n",
              "      div.appendChild(progress);\n",
              "      document.body.appendChild(div);\n",
              "\n",
              "      const buffers = [];\n",
              "      let downloaded = 0;\n",
              "\n",
              "      const channel = await google.colab.kernel.comms.open(id);\n",
              "      // Send a message to notify the kernel that we're ready.\n",
              "      channel.send({})\n",
              "\n",
              "      for await (const message of channel.messages) {\n",
              "        // Send a message to notify the kernel that we're ready.\n",
              "        channel.send({})\n",
              "        if (message.buffers) {\n",
              "          for (const buffer of message.buffers) {\n",
              "            buffers.push(buffer);\n",
              "            downloaded += buffer.byteLength;\n",
              "            progress.value = downloaded;\n",
              "          }\n",
              "        }\n",
              "      }\n",
              "      const blob = new Blob(buffers, {type: 'application/binary'});\n",
              "      const a = document.createElement('a');\n",
              "      a.href = window.URL.createObjectURL(blob);\n",
              "      a.download = filename;\n",
              "      div.appendChild(a);\n",
              "      a.click();\n",
              "      div.remove();\n",
              "    }\n",
              "  "
            ]
          },
          "metadata": {}
        },
        {
          "output_type": "display_data",
          "data": {
            "text/plain": [
              "<IPython.core.display.Javascript object>"
            ],
            "application/javascript": [
              "download(\"download_a73ba086-3e1b-4f48-aa17-1b3a5b857d2c\", \"model_summary4.xlsx\", 6383)"
            ]
          },
          "metadata": {}
        }
      ]
    },
    {
      "cell_type": "markdown",
      "source": [
        "Volume Decomposition Regression"
      ],
      "metadata": {
        "id": "3R-pvC-TpHa7"
      }
    },
    {
      "cell_type": "code",
      "source": [
        "#2.1 Get the file\n",
        "downloaded = drive.CreateFile({'id':'1g8Y3eHzxCMxK5crbffDyoy_7l1gf8hy6'}) # replace the id with id of file you want to access\n",
        "downloaded.GetContentFile('Promo_effectiv.xlsx')"
      ],
      "metadata": {
        "id": "dGiqLJiUpN_R"
      },
      "execution_count": null,
      "outputs": []
    },
    {
      "cell_type": "markdown",
      "source": [
        "https://docs.google.com/spreadsheets/d/1g8Y3eHzxCMxK5crbffDyoy_7l1gf8hy6/edit?usp=share_link&ouid=113388738694807294244&rtpof=true&sd=true"
      ],
      "metadata": {
        "id": "aeGQdcArK7E-"
      }
    },
    {
      "cell_type": "code",
      "source": [
        "import pandas as pd\n",
        "import statsmodels.api as sm\n",
        "\n",
        "# Load Excel file into pandas dataframe\n",
        "xls = pd.read_excel('Promo_effectiv.xlsx', sheet_name='panc+syrup')\n",
        "df = pd.DataFrame(xls)\n"
      ],
      "metadata": {
        "id": "KkOhu2ygpE11"
      },
      "execution_count": null,
      "outputs": []
    },
    {
      "cell_type": "code",
      "source": [
        "df.isnull().sum()"
      ],
      "metadata": {
        "colab": {
          "base_uri": "https://localhost:8080/"
        },
        "id": "CXWMQHDVBHFW",
        "outputId": "000be1db-2984-4816-b5b6-c0a450bce74a"
      },
      "execution_count": null,
      "outputs": [
        {
          "output_type": "execute_result",
          "data": {
            "text/plain": [
              "Row Labels        0\n",
              "Sum of units      0\n",
              "Base              0\n",
              "Baseline price    0\n",
              "Feature           0\n",
              "Display           0\n",
              "Dummy             0\n",
              "dtype: int64"
            ]
          },
          "metadata": {},
          "execution_count": 39
        }
      ]
    },
    {
      "cell_type": "code",
      "source": [
        "# Define the independent and dependent variables\n",
        "X5 = df.drop(['Row Labels', 'Sum of units'], axis=1) # independent variables\n",
        "y5 = df['Sum of units'] # dependent variable\n",
        "\n",
        "# Add constant to the independent variables\n",
        "X5 = sm.add_constant(X5)\n",
        "\n"
      ],
      "metadata": {
        "colab": {
          "base_uri": "https://localhost:8080/"
        },
        "outputId": "d29334d2-0772-4bf9-db20-d5d99ab6dd6e",
        "id": "hv7YrDDQpE12"
      },
      "execution_count": null,
      "outputs": [
        {
          "output_type": "stream",
          "name": "stderr",
          "text": [
            "/usr/local/lib/python3.8/dist-packages/statsmodels/tsa/tsatools.py:142: FutureWarning: In a future version of pandas all arguments of concat except for the argument 'objs' will be keyword-only\n",
            "  x = pd.concat(x[::order], 1)\n"
          ]
        }
      ]
    },
    {
      "cell_type": "code",
      "source": [
        "X5.isnull().sum()"
      ],
      "metadata": {
        "colab": {
          "base_uri": "https://localhost:8080/"
        },
        "id": "nq_CYpF_AgG5",
        "outputId": "a1832670-66e0-4ead-f346-0af95e3c1a45"
      },
      "execution_count": null,
      "outputs": [
        {
          "output_type": "execute_result",
          "data": {
            "text/plain": [
              "const             0\n",
              "Base              0\n",
              "Baseline price    0\n",
              "Feature           0\n",
              "Display           0\n",
              "Dummy             0\n",
              "dtype: int64"
            ]
          },
          "metadata": {},
          "execution_count": 45
        }
      ]
    },
    {
      "cell_type": "code",
      "source": [
        "# Fit the linear regression model\n",
        "model5 = sm.OLS(y5, X5).fit()\n",
        "\n",
        "# Print the model summary\n",
        "print(model5.summary())"
      ],
      "metadata": {
        "colab": {
          "base_uri": "https://localhost:8080/"
        },
        "id": "D2-5PqzAB0UF",
        "outputId": "b12673fd-182e-4cad-beb6-d2b686123ef7"
      },
      "execution_count": null,
      "outputs": [
        {
          "output_type": "stream",
          "name": "stdout",
          "text": [
            "                            OLS Regression Results                            \n",
            "==============================================================================\n",
            "Dep. Variable:           Sum of units   R-squared:                       0.664\n",
            "Model:                            OLS   Adj. R-squared:                  0.651\n",
            "Method:                 Least Squares   F-statistic:                     49.00\n",
            "Date:                Sat, 18 Feb 2023   Prob (F-statistic):           1.15e-22\n",
            "Time:                        15:37:58   Log-Likelihood:                -854.65\n",
            "No. Observations:                 104   AIC:                             1719.\n",
            "Df Residuals:                      99   BIC:                             1733.\n",
            "Df Model:                           4                                         \n",
            "Covariance Type:            nonrobust                                         \n",
            "==================================================================================\n",
            "                     coef    std err          t      P>|t|      [0.025      0.975]\n",
            "----------------------------------------------------------------------------------\n",
            "const          -4104.2847   5376.587     -0.763      0.447   -1.48e+04    6564.030\n",
            "Base               1.1293      0.121      9.353      0.000       0.890       1.369\n",
            "Baseline price  1674.6582   2253.600      0.743      0.459   -2796.974    6146.290\n",
            "Feature            0.5462      0.104      5.252      0.000       0.340       0.753\n",
            "Display            0.5462      0.104      5.252      0.000       0.340       0.753\n",
            "Dummy           -340.6315    226.455     -1.504      0.136    -789.968     108.705\n",
            "==============================================================================\n",
            "Omnibus:                       33.358   Durbin-Watson:                   1.812\n",
            "Prob(Omnibus):                  0.000   Jarque-Bera (JB):               61.160\n",
            "Skew:                           1.339   Prob(JB):                     5.24e-14\n",
            "Kurtosis:                       5.634   Cond. No.                     5.18e+17\n",
            "==============================================================================\n",
            "\n",
            "Notes:\n",
            "[1] Standard Errors assume that the covariance matrix of the errors is correctly specified.\n",
            "[2] The smallest eigenvalue is 3.1e-26. This might indicate that there are\n",
            "strong multicollinearity problems or that the design matrix is singular.\n"
          ]
        }
      ]
    },
    {
      "cell_type": "code",
      "source": [
        "model5_summary=model5.summary()"
      ],
      "metadata": {
        "id": "Xf5ZdXSpqvGI"
      },
      "execution_count": null,
      "outputs": []
    },
    {
      "cell_type": "code",
      "source": [
        "# Extract the relevant information from the model summary\n",
        "coef_data5 = model5_summary.tables[1].data[1:]\n",
        "header5 = model5_summary.tables[1].data[0]\n",
        "\n",
        "# Convert the data to a pandas dataframe\n",
        "model_summary5 = pd.DataFrame(coef_data5, columns=header5)"
      ],
      "metadata": {
        "id": "_v-LvqmAqmz4"
      },
      "execution_count": null,
      "outputs": []
    },
    {
      "cell_type": "code",
      "source": [
        "from google.colab import files\n",
        "model_summary5.to_excel('model_summary5.xlsx') \n",
        "files.download('model_summary5.xlsx')"
      ],
      "metadata": {
        "colab": {
          "base_uri": "https://localhost:8080/",
          "height": 17
        },
        "id": "ee74byH1q9kJ",
        "outputId": "0f57e9df-cdae-4af3-cab2-7229f44050dc"
      },
      "execution_count": null,
      "outputs": [
        {
          "output_type": "display_data",
          "data": {
            "text/plain": [
              "<IPython.core.display.Javascript object>"
            ],
            "application/javascript": [
              "\n",
              "    async function download(id, filename, size) {\n",
              "      if (!google.colab.kernel.accessAllowed) {\n",
              "        return;\n",
              "      }\n",
              "      const div = document.createElement('div');\n",
              "      const label = document.createElement('label');\n",
              "      label.textContent = `Downloading \"${filename}\": `;\n",
              "      div.appendChild(label);\n",
              "      const progress = document.createElement('progress');\n",
              "      progress.max = size;\n",
              "      div.appendChild(progress);\n",
              "      document.body.appendChild(div);\n",
              "\n",
              "      const buffers = [];\n",
              "      let downloaded = 0;\n",
              "\n",
              "      const channel = await google.colab.kernel.comms.open(id);\n",
              "      // Send a message to notify the kernel that we're ready.\n",
              "      channel.send({})\n",
              "\n",
              "      for await (const message of channel.messages) {\n",
              "        // Send a message to notify the kernel that we're ready.\n",
              "        channel.send({})\n",
              "        if (message.buffers) {\n",
              "          for (const buffer of message.buffers) {\n",
              "            buffers.push(buffer);\n",
              "            downloaded += buffer.byteLength;\n",
              "            progress.value = downloaded;\n",
              "          }\n",
              "        }\n",
              "      }\n",
              "      const blob = new Blob(buffers, {type: 'application/binary'});\n",
              "      const a = document.createElement('a');\n",
              "      a.href = window.URL.createObjectURL(blob);\n",
              "      a.download = filename;\n",
              "      div.appendChild(a);\n",
              "      a.click();\n",
              "      div.remove();\n",
              "    }\n",
              "  "
            ]
          },
          "metadata": {}
        },
        {
          "output_type": "display_data",
          "data": {
            "text/plain": [
              "<IPython.core.display.Javascript object>"
            ],
            "application/javascript": [
              "download(\"download_a0cb3be0-099f-4855-a363-15de493c90b8\", \"model_summary5.xlsx\", 5408)"
            ]
          },
          "metadata": {}
        }
      ]
    }
  ]
}