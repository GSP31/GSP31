{
  "nbformat": 4,
  "nbformat_minor": 0,
  "metadata": {
    "colab": {
      "provenance": [],
      "authorship_tag": "ABX9TyNWi8AV55d80rSlXwsgNqUk",
      "include_colab_link": true
    },
    "kernelspec": {
      "name": "python3",
      "display_name": "Python 3"
    },
    "language_info": {
      "name": "python"
    }
  },
  "cells": [
    {
      "cell_type": "markdown",
      "metadata": {
        "id": "view-in-github",
        "colab_type": "text"
      },
      "source": [
        "<a href=\"https://colab.research.google.com/github/GSP31/GSP31/blob/main/Churn_Prediction_Logistic%2BRndmforest%2BSVM%2BDeployment.ipynb\" target=\"_parent\"><img src=\"https://colab.research.google.com/assets/colab-badge.svg\" alt=\"Open In Colab\"/></a>"
      ]
    },
    {
      "cell_type": "markdown",
      "metadata": {
        "id": "mLhl31GfrS90"
      },
      "source": [
        "### **Importing Libraries**"
      ]
    },
    {
      "cell_type": "code",
      "execution_count": null,
      "metadata": {
        "id": "S-WNYYiErIfd"
      },
      "outputs": [],
      "source": [
        "# Data Loading and Numerical Operations\n",
        "import pandas as pd\n",
        "import numpy as np\n",
        "import seaborn as sns\n",
        "from sklearn.model_selection import train_test_split\n",
        "from sklearn.linear_model import LogisticRegression\n",
        "import pylab as pl\n",
        "import matplotlib.pyplot as plt\n",
        "from sklearn.preprocessing import LabelEncoder\n"
      ]
    },
    {
      "cell_type": "code",
      "source": [
        "# Code to read csv file into colaboratory:\n",
        "!pip install -U -q PyDrive\n",
        "from pydrive.auth import GoogleAuth\n",
        "from pydrive.drive import GoogleDrive\n",
        "from google.colab import auth\n",
        "from oauth2client.client import GoogleCredentials"
      ],
      "metadata": {
        "id": "blBoZym8LA1v"
      },
      "execution_count": null,
      "outputs": []
    },
    {
      "cell_type": "code",
      "source": [
        "#STEP-2: Autheticate E-Mail ID\n",
        "\n",
        "auth.authenticate_user()\n",
        "gauth = GoogleAuth()\n",
        "gauth.credentials = GoogleCredentials.get_application_default()\n",
        "drive = GoogleDrive(gauth)"
      ],
      "metadata": {
        "id": "uVO035PoLArY"
      },
      "execution_count": null,
      "outputs": []
    },
    {
      "cell_type": "code",
      "source": [
        "#STEP-3: Get File from Drive using file-ID\n",
        "\n",
        "#2.1 Get the file\n",
        "downloaded = drive.CreateFile({'id':'1xW35fTEln2yMkUrlHY0u7IDzcGIjWWRS'}) # replace the id with id of file you want to access\n",
        "downloaded.GetContentFile('customer_churn_large_dataset.xlsx')"
      ],
      "metadata": {
        "id": "SdruwyVWLAfo"
      },
      "execution_count": null,
      "outputs": []
    },
    {
      "cell_type": "markdown",
      "source": [
        "# **1.Data Preprocessing**"
      ],
      "metadata": {
        "id": "1mOn26-YcGxK"
      }
    },
    {
      "cell_type": "markdown",
      "metadata": {
        "id": "312jDtRbrX0V"
      },
      "source": [
        "### **Reading Dataset**"
      ]
    },
    {
      "cell_type": "code",
      "execution_count": null,
      "metadata": {
        "colab": {
          "base_uri": "https://localhost:8080/"
        },
        "id": "pIfuIirhuwgH",
        "outputId": "0f730bc0-032e-43ec-be05-d856b6b62e78"
      },
      "outputs": [
        {
          "output_type": "execute_result",
          "data": {
            "text/plain": [
              "(100000, 9)"
            ]
          },
          "metadata": {},
          "execution_count": 115
        }
      ],
      "source": [
        "data = pd.read_excel(\"customer_churn_large_dataset.xlsx\")\n",
        "data.shape # Calculating the dimensions of the dataset"
      ]
    },
    {
      "cell_type": "code",
      "execution_count": null,
      "metadata": {
        "colab": {
          "base_uri": "https://localhost:8080/",
          "height": 363
        },
        "id": "C456njpsu6fb",
        "outputId": "511af1af-e9b5-4006-8b10-7d5517d70ff8"
      },
      "outputs": [
        {
          "output_type": "execute_result",
          "data": {
            "text/plain": [
              "   CustomerID         Name  Age  Gender     Location  \\\n",
              "0           1   Customer_1   63    Male  Los Angeles   \n",
              "1           2   Customer_2   62  Female     New York   \n",
              "2           3   Customer_3   24  Female  Los Angeles   \n",
              "3           4   Customer_4   36  Female        Miami   \n",
              "4           5   Customer_5   46  Female        Miami   \n",
              "5           6   Customer_6   67    Male     New York   \n",
              "6           7   Customer_7   30  Female      Chicago   \n",
              "7           8   Customer_8   67  Female        Miami   \n",
              "8           9   Customer_9   20  Female        Miami   \n",
              "9          10  Customer_10   53  Female  Los Angeles   \n",
              "\n",
              "   Subscription_Length_Months  Monthly_Bill  Total_Usage_GB  Churn  \n",
              "0                          17         73.36             236      0  \n",
              "1                           1         48.76             172      0  \n",
              "2                           5         85.47             460      0  \n",
              "3                           3         97.94             297      1  \n",
              "4                          19         58.14             266      0  \n",
              "5                          15         82.65             456      1  \n",
              "6                           3         73.79             269      0  \n",
              "7                           1         97.70             396      1  \n",
              "8                          10         42.45             150      1  \n",
              "9                          12         64.49             383      1  "
            ],
            "text/html": [
              "\n",
              "  <div id=\"df-dfe1f757-0592-415b-91fb-01b7087ec86e\" class=\"colab-df-container\">\n",
              "    <div>\n",
              "<style scoped>\n",
              "    .dataframe tbody tr th:only-of-type {\n",
              "        vertical-align: middle;\n",
              "    }\n",
              "\n",
              "    .dataframe tbody tr th {\n",
              "        vertical-align: top;\n",
              "    }\n",
              "\n",
              "    .dataframe thead th {\n",
              "        text-align: right;\n",
              "    }\n",
              "</style>\n",
              "<table border=\"1\" class=\"dataframe\">\n",
              "  <thead>\n",
              "    <tr style=\"text-align: right;\">\n",
              "      <th></th>\n",
              "      <th>CustomerID</th>\n",
              "      <th>Name</th>\n",
              "      <th>Age</th>\n",
              "      <th>Gender</th>\n",
              "      <th>Location</th>\n",
              "      <th>Subscription_Length_Months</th>\n",
              "      <th>Monthly_Bill</th>\n",
              "      <th>Total_Usage_GB</th>\n",
              "      <th>Churn</th>\n",
              "    </tr>\n",
              "  </thead>\n",
              "  <tbody>\n",
              "    <tr>\n",
              "      <th>0</th>\n",
              "      <td>1</td>\n",
              "      <td>Customer_1</td>\n",
              "      <td>63</td>\n",
              "      <td>Male</td>\n",
              "      <td>Los Angeles</td>\n",
              "      <td>17</td>\n",
              "      <td>73.36</td>\n",
              "      <td>236</td>\n",
              "      <td>0</td>\n",
              "    </tr>\n",
              "    <tr>\n",
              "      <th>1</th>\n",
              "      <td>2</td>\n",
              "      <td>Customer_2</td>\n",
              "      <td>62</td>\n",
              "      <td>Female</td>\n",
              "      <td>New York</td>\n",
              "      <td>1</td>\n",
              "      <td>48.76</td>\n",
              "      <td>172</td>\n",
              "      <td>0</td>\n",
              "    </tr>\n",
              "    <tr>\n",
              "      <th>2</th>\n",
              "      <td>3</td>\n",
              "      <td>Customer_3</td>\n",
              "      <td>24</td>\n",
              "      <td>Female</td>\n",
              "      <td>Los Angeles</td>\n",
              "      <td>5</td>\n",
              "      <td>85.47</td>\n",
              "      <td>460</td>\n",
              "      <td>0</td>\n",
              "    </tr>\n",
              "    <tr>\n",
              "      <th>3</th>\n",
              "      <td>4</td>\n",
              "      <td>Customer_4</td>\n",
              "      <td>36</td>\n",
              "      <td>Female</td>\n",
              "      <td>Miami</td>\n",
              "      <td>3</td>\n",
              "      <td>97.94</td>\n",
              "      <td>297</td>\n",
              "      <td>1</td>\n",
              "    </tr>\n",
              "    <tr>\n",
              "      <th>4</th>\n",
              "      <td>5</td>\n",
              "      <td>Customer_5</td>\n",
              "      <td>46</td>\n",
              "      <td>Female</td>\n",
              "      <td>Miami</td>\n",
              "      <td>19</td>\n",
              "      <td>58.14</td>\n",
              "      <td>266</td>\n",
              "      <td>0</td>\n",
              "    </tr>\n",
              "    <tr>\n",
              "      <th>5</th>\n",
              "      <td>6</td>\n",
              "      <td>Customer_6</td>\n",
              "      <td>67</td>\n",
              "      <td>Male</td>\n",
              "      <td>New York</td>\n",
              "      <td>15</td>\n",
              "      <td>82.65</td>\n",
              "      <td>456</td>\n",
              "      <td>1</td>\n",
              "    </tr>\n",
              "    <tr>\n",
              "      <th>6</th>\n",
              "      <td>7</td>\n",
              "      <td>Customer_7</td>\n",
              "      <td>30</td>\n",
              "      <td>Female</td>\n",
              "      <td>Chicago</td>\n",
              "      <td>3</td>\n",
              "      <td>73.79</td>\n",
              "      <td>269</td>\n",
              "      <td>0</td>\n",
              "    </tr>\n",
              "    <tr>\n",
              "      <th>7</th>\n",
              "      <td>8</td>\n",
              "      <td>Customer_8</td>\n",
              "      <td>67</td>\n",
              "      <td>Female</td>\n",
              "      <td>Miami</td>\n",
              "      <td>1</td>\n",
              "      <td>97.70</td>\n",
              "      <td>396</td>\n",
              "      <td>1</td>\n",
              "    </tr>\n",
              "    <tr>\n",
              "      <th>8</th>\n",
              "      <td>9</td>\n",
              "      <td>Customer_9</td>\n",
              "      <td>20</td>\n",
              "      <td>Female</td>\n",
              "      <td>Miami</td>\n",
              "      <td>10</td>\n",
              "      <td>42.45</td>\n",
              "      <td>150</td>\n",
              "      <td>1</td>\n",
              "    </tr>\n",
              "    <tr>\n",
              "      <th>9</th>\n",
              "      <td>10</td>\n",
              "      <td>Customer_10</td>\n",
              "      <td>53</td>\n",
              "      <td>Female</td>\n",
              "      <td>Los Angeles</td>\n",
              "      <td>12</td>\n",
              "      <td>64.49</td>\n",
              "      <td>383</td>\n",
              "      <td>1</td>\n",
              "    </tr>\n",
              "  </tbody>\n",
              "</table>\n",
              "</div>\n",
              "    <div class=\"colab-df-buttons\">\n",
              "\n",
              "  <div class=\"colab-df-container\">\n",
              "    <button class=\"colab-df-convert\" onclick=\"convertToInteractive('df-dfe1f757-0592-415b-91fb-01b7087ec86e')\"\n",
              "            title=\"Convert this dataframe to an interactive table.\"\n",
              "            style=\"display:none;\">\n",
              "\n",
              "  <svg xmlns=\"http://www.w3.org/2000/svg\" height=\"24px\" viewBox=\"0 -960 960 960\">\n",
              "    <path d=\"M120-120v-720h720v720H120Zm60-500h600v-160H180v160Zm220 220h160v-160H400v160Zm0 220h160v-160H400v160ZM180-400h160v-160H180v160Zm440 0h160v-160H620v160ZM180-180h160v-160H180v160Zm440 0h160v-160H620v160Z\"/>\n",
              "  </svg>\n",
              "    </button>\n",
              "\n",
              "  <style>\n",
              "    .colab-df-container {\n",
              "      display:flex;\n",
              "      gap: 12px;\n",
              "    }\n",
              "\n",
              "    .colab-df-convert {\n",
              "      background-color: #E8F0FE;\n",
              "      border: none;\n",
              "      border-radius: 50%;\n",
              "      cursor: pointer;\n",
              "      display: none;\n",
              "      fill: #1967D2;\n",
              "      height: 32px;\n",
              "      padding: 0 0 0 0;\n",
              "      width: 32px;\n",
              "    }\n",
              "\n",
              "    .colab-df-convert:hover {\n",
              "      background-color: #E2EBFA;\n",
              "      box-shadow: 0px 1px 2px rgba(60, 64, 67, 0.3), 0px 1px 3px 1px rgba(60, 64, 67, 0.15);\n",
              "      fill: #174EA6;\n",
              "    }\n",
              "\n",
              "    .colab-df-buttons div {\n",
              "      margin-bottom: 4px;\n",
              "    }\n",
              "\n",
              "    [theme=dark] .colab-df-convert {\n",
              "      background-color: #3B4455;\n",
              "      fill: #D2E3FC;\n",
              "    }\n",
              "\n",
              "    [theme=dark] .colab-df-convert:hover {\n",
              "      background-color: #434B5C;\n",
              "      box-shadow: 0px 1px 3px 1px rgba(0, 0, 0, 0.15);\n",
              "      filter: drop-shadow(0px 1px 2px rgba(0, 0, 0, 0.3));\n",
              "      fill: #FFFFFF;\n",
              "    }\n",
              "  </style>\n",
              "\n",
              "    <script>\n",
              "      const buttonEl =\n",
              "        document.querySelector('#df-dfe1f757-0592-415b-91fb-01b7087ec86e button.colab-df-convert');\n",
              "      buttonEl.style.display =\n",
              "        google.colab.kernel.accessAllowed ? 'block' : 'none';\n",
              "\n",
              "      async function convertToInteractive(key) {\n",
              "        const element = document.querySelector('#df-dfe1f757-0592-415b-91fb-01b7087ec86e');\n",
              "        const dataTable =\n",
              "          await google.colab.kernel.invokeFunction('convertToInteractive',\n",
              "                                                    [key], {});\n",
              "        if (!dataTable) return;\n",
              "\n",
              "        const docLinkHtml = 'Like what you see? Visit the ' +\n",
              "          '<a target=\"_blank\" href=https://colab.research.google.com/notebooks/data_table.ipynb>data table notebook</a>'\n",
              "          + ' to learn more about interactive tables.';\n",
              "        element.innerHTML = '';\n",
              "        dataTable['output_type'] = 'display_data';\n",
              "        await google.colab.output.renderOutput(dataTable, element);\n",
              "        const docLink = document.createElement('div');\n",
              "        docLink.innerHTML = docLinkHtml;\n",
              "        element.appendChild(docLink);\n",
              "      }\n",
              "    </script>\n",
              "  </div>\n",
              "\n",
              "\n",
              "<div id=\"df-d61ddaf7-90d4-4853-8e5a-cb64d6a90b76\">\n",
              "  <button class=\"colab-df-quickchart\" onclick=\"quickchart('df-d61ddaf7-90d4-4853-8e5a-cb64d6a90b76')\"\n",
              "            title=\"Suggest charts.\"\n",
              "            style=\"display:none;\">\n",
              "\n",
              "<svg xmlns=\"http://www.w3.org/2000/svg\" height=\"24px\"viewBox=\"0 0 24 24\"\n",
              "     width=\"24px\">\n",
              "    <g>\n",
              "        <path d=\"M19 3H5c-1.1 0-2 .9-2 2v14c0 1.1.9 2 2 2h14c1.1 0 2-.9 2-2V5c0-1.1-.9-2-2-2zM9 17H7v-7h2v7zm4 0h-2V7h2v10zm4 0h-2v-4h2v4z\"/>\n",
              "    </g>\n",
              "</svg>\n",
              "  </button>\n",
              "\n",
              "<style>\n",
              "  .colab-df-quickchart {\n",
              "    background-color: #E8F0FE;\n",
              "    border: none;\n",
              "    border-radius: 50%;\n",
              "    cursor: pointer;\n",
              "    display: none;\n",
              "    fill: #1967D2;\n",
              "    height: 32px;\n",
              "    padding: 0 0 0 0;\n",
              "    width: 32px;\n",
              "  }\n",
              "\n",
              "  .colab-df-quickchart:hover {\n",
              "    background-color: #E2EBFA;\n",
              "    box-shadow: 0px 1px 2px rgba(60, 64, 67, 0.3), 0px 1px 3px 1px rgba(60, 64, 67, 0.15);\n",
              "    fill: #174EA6;\n",
              "  }\n",
              "\n",
              "  [theme=dark] .colab-df-quickchart {\n",
              "    background-color: #3B4455;\n",
              "    fill: #D2E3FC;\n",
              "  }\n",
              "\n",
              "  [theme=dark] .colab-df-quickchart:hover {\n",
              "    background-color: #434B5C;\n",
              "    box-shadow: 0px 1px 3px 1px rgba(0, 0, 0, 0.15);\n",
              "    filter: drop-shadow(0px 1px 2px rgba(0, 0, 0, 0.3));\n",
              "    fill: #FFFFFF;\n",
              "  }\n",
              "</style>\n",
              "\n",
              "  <script>\n",
              "    async function quickchart(key) {\n",
              "      const charts = await google.colab.kernel.invokeFunction(\n",
              "          'suggestCharts', [key], {});\n",
              "    }\n",
              "    (() => {\n",
              "      let quickchartButtonEl =\n",
              "        document.querySelector('#df-d61ddaf7-90d4-4853-8e5a-cb64d6a90b76 button');\n",
              "      quickchartButtonEl.style.display =\n",
              "        google.colab.kernel.accessAllowed ? 'block' : 'none';\n",
              "    })();\n",
              "  </script>\n",
              "</div>\n",
              "    </div>\n",
              "  </div>\n"
            ]
          },
          "metadata": {},
          "execution_count": 116
        }
      ],
      "source": [
        "data.head(10)"
      ]
    },
    {
      "cell_type": "markdown",
      "source": [
        "### **Checking Null Values**"
      ],
      "metadata": {
        "id": "92RC5V8qcjzb"
      }
    },
    {
      "cell_type": "code",
      "source": [
        "data.isnull().sum()"
      ],
      "metadata": {
        "id": "pFxoRxU02XxW",
        "colab": {
          "base_uri": "https://localhost:8080/"
        },
        "outputId": "68913a02-b0ec-4474-83d0-d9dedb3a39f3"
      },
      "execution_count": null,
      "outputs": [
        {
          "output_type": "execute_result",
          "data": {
            "text/plain": [
              "CustomerID                    0\n",
              "Name                          0\n",
              "Age                           0\n",
              "Gender                        0\n",
              "Location                      0\n",
              "Subscription_Length_Months    0\n",
              "Monthly_Bill                  0\n",
              "Total_Usage_GB                0\n",
              "Churn                         0\n",
              "dtype: int64"
            ]
          },
          "metadata": {},
          "execution_count": 117
        }
      ]
    },
    {
      "cell_type": "markdown",
      "source": [
        "**No Null values in the dataset**"
      ],
      "metadata": {
        "id": "a_xmhPb1Nxhy"
      }
    },
    {
      "cell_type": "code",
      "source": [
        "data['Gender'].unique()\n"
      ],
      "metadata": {
        "colab": {
          "base_uri": "https://localhost:8080/"
        },
        "id": "pbS26pt8cq2p",
        "outputId": "ee6e84f8-f772-4a96-ade8-ed7172c89edf"
      },
      "execution_count": null,
      "outputs": [
        {
          "output_type": "execute_result",
          "data": {
            "text/plain": [
              "array(['Male', 'Female'], dtype=object)"
            ]
          },
          "metadata": {},
          "execution_count": 118
        }
      ]
    },
    {
      "cell_type": "code",
      "source": [
        "data['Location'].unique()"
      ],
      "metadata": {
        "colab": {
          "base_uri": "https://localhost:8080/"
        },
        "id": "wuJoL62LQF8q",
        "outputId": "a50929da-99c7-4c1f-9e64-9510afc38e5a"
      },
      "execution_count": null,
      "outputs": [
        {
          "output_type": "execute_result",
          "data": {
            "text/plain": [
              "array(['Los Angeles', 'New York', 'Miami', 'Chicago', 'Houston'],\n",
              "      dtype=object)"
            ]
          },
          "metadata": {},
          "execution_count": 119
        }
      ]
    },
    {
      "cell_type": "code",
      "source": [
        "data['Churn'].unique()"
      ],
      "metadata": {
        "colab": {
          "base_uri": "https://localhost:8080/"
        },
        "id": "b_BEWdi3P3vT",
        "outputId": "b21ecd26-5bd2-43d4-bc19-0cc6df499496"
      },
      "execution_count": null,
      "outputs": [
        {
          "output_type": "execute_result",
          "data": {
            "text/plain": [
              "array([0, 1])"
            ]
          },
          "metadata": {},
          "execution_count": 120
        }
      ]
    },
    {
      "cell_type": "markdown",
      "source": [
        "**No Discrepencies found in the Categorical values.**"
      ],
      "metadata": {
        "id": "pMSAnKk3N9f0"
      }
    },
    {
      "cell_type": "code",
      "source": [
        "df=data.drop(['CustomerID','Name' ],axis=1)"
      ],
      "metadata": {
        "id": "1clcseBLRLAL"
      },
      "execution_count": null,
      "outputs": []
    },
    {
      "cell_type": "markdown",
      "source": [
        "**The Customer ID and Name can not played specifically any role since they are unique for each customer and just given on the presence of the positional hierarchy in the dataset which was not signifigant so dropping the name and csutomer id from the analysis**"
      ],
      "metadata": {
        "id": "gR3ZXFPxQBOs"
      }
    },
    {
      "cell_type": "code",
      "source": [
        "df.head()"
      ],
      "metadata": {
        "colab": {
          "base_uri": "https://localhost:8080/",
          "height": 206
        },
        "id": "6d7PiJkZRmBj",
        "outputId": "362c822b-b83e-4fef-8af5-68be552bdd4e"
      },
      "execution_count": null,
      "outputs": [
        {
          "output_type": "execute_result",
          "data": {
            "text/plain": [
              "   Age  Gender  Location  Subscription_Length_Months  Monthly_Bill  \\\n",
              "0   63       1         0                          17         73.36   \n",
              "1   62       0         1                           1         48.76   \n",
              "2   24       0         0                           5         85.47   \n",
              "3   36       0         2                           3         97.94   \n",
              "4   46       0         2                          19         58.14   \n",
              "\n",
              "   Total_Usage_GB  Churn  \n",
              "0             236      0  \n",
              "1             172      0  \n",
              "2             460      0  \n",
              "3             297      1  \n",
              "4             266      0  "
            ],
            "text/html": [
              "\n",
              "  <div id=\"df-3656a24a-ff20-411f-8e1b-a358f71f2fe2\" class=\"colab-df-container\">\n",
              "    <div>\n",
              "<style scoped>\n",
              "    .dataframe tbody tr th:only-of-type {\n",
              "        vertical-align: middle;\n",
              "    }\n",
              "\n",
              "    .dataframe tbody tr th {\n",
              "        vertical-align: top;\n",
              "    }\n",
              "\n",
              "    .dataframe thead th {\n",
              "        text-align: right;\n",
              "    }\n",
              "</style>\n",
              "<table border=\"1\" class=\"dataframe\">\n",
              "  <thead>\n",
              "    <tr style=\"text-align: right;\">\n",
              "      <th></th>\n",
              "      <th>Age</th>\n",
              "      <th>Gender</th>\n",
              "      <th>Location</th>\n",
              "      <th>Subscription_Length_Months</th>\n",
              "      <th>Monthly_Bill</th>\n",
              "      <th>Total_Usage_GB</th>\n",
              "      <th>Churn</th>\n",
              "    </tr>\n",
              "  </thead>\n",
              "  <tbody>\n",
              "    <tr>\n",
              "      <th>0</th>\n",
              "      <td>63</td>\n",
              "      <td>1</td>\n",
              "      <td>0</td>\n",
              "      <td>17</td>\n",
              "      <td>73.36</td>\n",
              "      <td>236</td>\n",
              "      <td>0</td>\n",
              "    </tr>\n",
              "    <tr>\n",
              "      <th>1</th>\n",
              "      <td>62</td>\n",
              "      <td>0</td>\n",
              "      <td>1</td>\n",
              "      <td>1</td>\n",
              "      <td>48.76</td>\n",
              "      <td>172</td>\n",
              "      <td>0</td>\n",
              "    </tr>\n",
              "    <tr>\n",
              "      <th>2</th>\n",
              "      <td>24</td>\n",
              "      <td>0</td>\n",
              "      <td>0</td>\n",
              "      <td>5</td>\n",
              "      <td>85.47</td>\n",
              "      <td>460</td>\n",
              "      <td>0</td>\n",
              "    </tr>\n",
              "    <tr>\n",
              "      <th>3</th>\n",
              "      <td>36</td>\n",
              "      <td>0</td>\n",
              "      <td>2</td>\n",
              "      <td>3</td>\n",
              "      <td>97.94</td>\n",
              "      <td>297</td>\n",
              "      <td>1</td>\n",
              "    </tr>\n",
              "    <tr>\n",
              "      <th>4</th>\n",
              "      <td>46</td>\n",
              "      <td>0</td>\n",
              "      <td>2</td>\n",
              "      <td>19</td>\n",
              "      <td>58.14</td>\n",
              "      <td>266</td>\n",
              "      <td>0</td>\n",
              "    </tr>\n",
              "  </tbody>\n",
              "</table>\n",
              "</div>\n",
              "    <div class=\"colab-df-buttons\">\n",
              "\n",
              "  <div class=\"colab-df-container\">\n",
              "    <button class=\"colab-df-convert\" onclick=\"convertToInteractive('df-3656a24a-ff20-411f-8e1b-a358f71f2fe2')\"\n",
              "            title=\"Convert this dataframe to an interactive table.\"\n",
              "            style=\"display:none;\">\n",
              "\n",
              "  <svg xmlns=\"http://www.w3.org/2000/svg\" height=\"24px\" viewBox=\"0 -960 960 960\">\n",
              "    <path d=\"M120-120v-720h720v720H120Zm60-500h600v-160H180v160Zm220 220h160v-160H400v160Zm0 220h160v-160H400v160ZM180-400h160v-160H180v160Zm440 0h160v-160H620v160ZM180-180h160v-160H180v160Zm440 0h160v-160H620v160Z\"/>\n",
              "  </svg>\n",
              "    </button>\n",
              "\n",
              "  <style>\n",
              "    .colab-df-container {\n",
              "      display:flex;\n",
              "      gap: 12px;\n",
              "    }\n",
              "\n",
              "    .colab-df-convert {\n",
              "      background-color: #E8F0FE;\n",
              "      border: none;\n",
              "      border-radius: 50%;\n",
              "      cursor: pointer;\n",
              "      display: none;\n",
              "      fill: #1967D2;\n",
              "      height: 32px;\n",
              "      padding: 0 0 0 0;\n",
              "      width: 32px;\n",
              "    }\n",
              "\n",
              "    .colab-df-convert:hover {\n",
              "      background-color: #E2EBFA;\n",
              "      box-shadow: 0px 1px 2px rgba(60, 64, 67, 0.3), 0px 1px 3px 1px rgba(60, 64, 67, 0.15);\n",
              "      fill: #174EA6;\n",
              "    }\n",
              "\n",
              "    .colab-df-buttons div {\n",
              "      margin-bottom: 4px;\n",
              "    }\n",
              "\n",
              "    [theme=dark] .colab-df-convert {\n",
              "      background-color: #3B4455;\n",
              "      fill: #D2E3FC;\n",
              "    }\n",
              "\n",
              "    [theme=dark] .colab-df-convert:hover {\n",
              "      background-color: #434B5C;\n",
              "      box-shadow: 0px 1px 3px 1px rgba(0, 0, 0, 0.15);\n",
              "      filter: drop-shadow(0px 1px 2px rgba(0, 0, 0, 0.3));\n",
              "      fill: #FFFFFF;\n",
              "    }\n",
              "  </style>\n",
              "\n",
              "    <script>\n",
              "      const buttonEl =\n",
              "        document.querySelector('#df-3656a24a-ff20-411f-8e1b-a358f71f2fe2 button.colab-df-convert');\n",
              "      buttonEl.style.display =\n",
              "        google.colab.kernel.accessAllowed ? 'block' : 'none';\n",
              "\n",
              "      async function convertToInteractive(key) {\n",
              "        const element = document.querySelector('#df-3656a24a-ff20-411f-8e1b-a358f71f2fe2');\n",
              "        const dataTable =\n",
              "          await google.colab.kernel.invokeFunction('convertToInteractive',\n",
              "                                                    [key], {});\n",
              "        if (!dataTable) return;\n",
              "\n",
              "        const docLinkHtml = 'Like what you see? Visit the ' +\n",
              "          '<a target=\"_blank\" href=https://colab.research.google.com/notebooks/data_table.ipynb>data table notebook</a>'\n",
              "          + ' to learn more about interactive tables.';\n",
              "        element.innerHTML = '';\n",
              "        dataTable['output_type'] = 'display_data';\n",
              "        await google.colab.output.renderOutput(dataTable, element);\n",
              "        const docLink = document.createElement('div');\n",
              "        docLink.innerHTML = docLinkHtml;\n",
              "        element.appendChild(docLink);\n",
              "      }\n",
              "    </script>\n",
              "  </div>\n",
              "\n",
              "\n",
              "<div id=\"df-558b9ccd-b195-419b-a6c8-7e8aa65e3671\">\n",
              "  <button class=\"colab-df-quickchart\" onclick=\"quickchart('df-558b9ccd-b195-419b-a6c8-7e8aa65e3671')\"\n",
              "            title=\"Suggest charts.\"\n",
              "            style=\"display:none;\">\n",
              "\n",
              "<svg xmlns=\"http://www.w3.org/2000/svg\" height=\"24px\"viewBox=\"0 0 24 24\"\n",
              "     width=\"24px\">\n",
              "    <g>\n",
              "        <path d=\"M19 3H5c-1.1 0-2 .9-2 2v14c0 1.1.9 2 2 2h14c1.1 0 2-.9 2-2V5c0-1.1-.9-2-2-2zM9 17H7v-7h2v7zm4 0h-2V7h2v10zm4 0h-2v-4h2v4z\"/>\n",
              "    </g>\n",
              "</svg>\n",
              "  </button>\n",
              "\n",
              "<style>\n",
              "  .colab-df-quickchart {\n",
              "    background-color: #E8F0FE;\n",
              "    border: none;\n",
              "    border-radius: 50%;\n",
              "    cursor: pointer;\n",
              "    display: none;\n",
              "    fill: #1967D2;\n",
              "    height: 32px;\n",
              "    padding: 0 0 0 0;\n",
              "    width: 32px;\n",
              "  }\n",
              "\n",
              "  .colab-df-quickchart:hover {\n",
              "    background-color: #E2EBFA;\n",
              "    box-shadow: 0px 1px 2px rgba(60, 64, 67, 0.3), 0px 1px 3px 1px rgba(60, 64, 67, 0.15);\n",
              "    fill: #174EA6;\n",
              "  }\n",
              "\n",
              "  [theme=dark] .colab-df-quickchart {\n",
              "    background-color: #3B4455;\n",
              "    fill: #D2E3FC;\n",
              "  }\n",
              "\n",
              "  [theme=dark] .colab-df-quickchart:hover {\n",
              "    background-color: #434B5C;\n",
              "    box-shadow: 0px 1px 3px 1px rgba(0, 0, 0, 0.15);\n",
              "    filter: drop-shadow(0px 1px 2px rgba(0, 0, 0, 0.3));\n",
              "    fill: #FFFFFF;\n",
              "  }\n",
              "</style>\n",
              "\n",
              "  <script>\n",
              "    async function quickchart(key) {\n",
              "      const charts = await google.colab.kernel.invokeFunction(\n",
              "          'suggestCharts', [key], {});\n",
              "    }\n",
              "    (() => {\n",
              "      let quickchartButtonEl =\n",
              "        document.querySelector('#df-558b9ccd-b195-419b-a6c8-7e8aa65e3671 button');\n",
              "      quickchartButtonEl.style.display =\n",
              "        google.colab.kernel.accessAllowed ? 'block' : 'none';\n",
              "    })();\n",
              "  </script>\n",
              "</div>\n",
              "    </div>\n",
              "  </div>\n"
            ]
          },
          "metadata": {},
          "execution_count": 132
        }
      ]
    },
    {
      "cell_type": "markdown",
      "source": [
        "### **Exploratory Data Analysis**"
      ],
      "metadata": {
        "id": "nfvjGL6mhAzU"
      }
    },
    {
      "source": [
        "from google.colab import autoviz\n",
        "\n",
        "def categorical_histogram(df, colname, figscale=1, mpl_palette_name='Dark2'):\n",
        "  from matplotlib import pyplot as plt\n",
        "  import seaborn as sns\n",
        "  df.groupby(colname).size().plot(kind='barh', color=sns.palettes.mpl_palette(mpl_palette_name), figsize=(8*figscale, 4.8*figscale))\n",
        "  plt.gca().spines[['top', 'right',]].set_visible(False)\n",
        "  return autoviz.MplChart.from_current_mpl_state()\n",
        "\n",
        "chart = categorical_histogram(_df_8, *['Gender'], **{})\n",
        "chart"
      ],
      "cell_type": "code",
      "metadata": {
        "colab": {
          "base_uri": "https://localhost:8080/",
          "height": 434
        },
        "id": "JgjJOyWEflen",
        "outputId": "38ac6b9c-7539-4b8b-cb5e-d372ac9860b0"
      },
      "execution_count": null,
      "outputs": [
        {
          "output_type": "execute_result",
          "data": {
            "text/html": [
              "<img src=\"data:image/png;base64,iVBORw0KGgoAAAANSUhEUgAAAs8AAAGdCAYAAADt3J7WAAAAOXRFWHRTb2Z0d2FyZQBNYXRwbG90\n",
              "bGliIHZlcnNpb24zLjcuMSwgaHR0cHM6Ly9tYXRwbG90bGliLm9yZy/bCgiHAAAACXBIWXMAAA9h\n",
              "AAAPYQGoP6dpAAAeTklEQVR4nO3de3CV9Z348c8JmATBBLCIqChFLloBJV660O1qFcUVaaEXK21V\n",
              "qG61AzNQxlaY2ZVlaRe6Wm2nsl22HaHXoRex7YA3ioCV1a1yE8RFSVV0K6JSCeEqyfP7wzG/jST4\n",
              "TQg5h+T1mjkz5DnPOX7Odx7PvH18eJLLsiwLAADgAxXlewAAADhWiGcAAEgkngEAIJF4BgCAROIZ\n",
              "AAASiWcAAEgkngEAIJF4BgCAROK5FWRZFlVVVeH30QAAHNvEcyvYtWtXlJeXx65du/I9CgAAR0A8\n",
              "AwBAIvEMAACJxDMAACQSzwAAkEg8AwBAIvEMAACJxDMAACQSzwAAkEg8AwBAIvEMAACJxDMAACQS\n",
              "zwAAkEg8AwBAIvEMAACJxDMAACQSzwAAkEg8AwBAIvEMAACJxDMAACQSzwAAkEg8AwBAIvEMAACJ\n",
              "xDMAACQSzwAAkEg8AwBAIvEMAACJxDMAACQSzwAAkEg8AwBAIvEMAACJxDMAACQSzwAAkEg8AwBA\n",
              "IvEMAACJxDMAACQSzwAAkEg8AwBAIvEMAACJxDMAACQSzwAAkEg8AwBAIvEMAACJxDMAACQSzwAA\n",
              "kEg8AwBAoo75HqA92XJL1+hSnMv3GBzjBiyoyfcIANBuOfMMAACJxDMAACQSzwAAkEg8AwBAIvEM\n",
              "AACJxDMAACQSzwAAkEg8AwBAIvEMAACJxDMAACQSzwAAkEg8AwBAIvEMAACJxDMAACQSzwAAkEg8\n",
              "AwBAIvEMAACJxDMAACQSzwAAkEg8AwBAIvEMAACJxDMAACQSzwAAkEg8AwBAIvEMAACJxDMAACQS\n",
              "zwAAkEg8AwBAIvEMAACJxDMAACQSzwAAkEg8AwBAIvEMAACJxDMAACQSzwAAkEg8AwBAIvEMAACJ\n",
              "xDMAACQSzwAAkEg8AwBAIvH8f7z00kuRy+Vi3bp1+R4FAIACdMzH8/jx4yOXy8Utt9xyyHMTJ06M\n",
              "XC4X48ePb/3BAABoc475eI6I6N27dyxcuDD27t1bt23fvn3xi1/8Ik4//fQ8TgYAQFvSJuK5oqIi\n",
              "evfuHYsWLarbtmjRojj99NNj6NChddseeuih+Nu//dvo2rVrnHjiiXH11VdHZWXlYd9748aN8fd/\n",
              "//fRpUuX6NmzZ1x33XXx5ptvHrXPAgBA4WoT8RwR8eUvfznmz59f9/O9994bEyZMqLfP7t27Y+rU\n",
              "qfH000/HsmXLoqioKMaOHRu1tbUNvufbb78dl156aQwdOjSefvrpeOihh+L111+Pa6655rCz7N+/\n",
              "P6qqquo9AAA49nXM9wAt5Utf+lJMnz49Xn755YiIWLVqVSxcuDBWrFhRt89nPvOZeq+59957o0eP\n",
              "HrFp06YYNGjQIe95zz33xNChQ+Nf//Vf672md+/e8fzzz8eAAQManGX27Nkxc+bMFvhUAAAUkjZz\n",
              "5rlHjx4xatSoWLBgQcyfPz9GjRoVH/rQh+rt88ILL8S4ceOib9++UVZWFn369ImIiK1btzb4nuvX\n",
              "r4/ly5dHly5d6h5nnXVWRMRhL/eYPn167Ny5s+7xyiuvtMyHBAAgr9rMmeeIdy/dmDRpUkREzJ07\n",
              "95DnR48eHWeccUb88Ic/jFNOOSVqa2tj0KBBceDAgQbfr7q6OkaPHh3f/va3D3muV69ejc5RUlIS\n",
              "JSUlzfwUAAAUqjYVz1deeWUcOHAgcrlcjBw5st5zb731VmzevDl++MMfxsc//vGIiHj88ccP+34V\n",
              "FRVx3333RZ8+faJjxza1VAAANEObuWwjIqJDhw7x3HPPxaZNm6JDhw71nuvWrVuceOKJ8Z//+Z+x\n",
              "ZcuWePTRR2Pq1KmHfb+JEyfGjh07Yty4cfHUU09FZWVlPPzwwzFhwoSoqak5mh8FAIAC1KbiOSKi\n",
              "rKwsysrKDtleVFQUCxcujNWrV8egQYPia1/7Wtxxxx2Hfa9TTjklVq1aFTU1NXHFFVfE4MGDY8qU\n",
              "KdG1a9coKmpzSwcAwAfIZVmW5XuItq6qqirKy8tj9bhcdCnO5XscjnEDFvi/HgCQL06fAgBAIvEM\n",
              "AACJxDMAACQSzwAAkEg8AwBAIvEMAACJxDMAACQSzwAAkEg8AwBAIvEMAACJxDMAACQSzwAAkEg8\n",
              "AwBAIvEMAACJxDMAACQSzwAAkEg8AwBAIvEMAACJxDMAACQSzwAAkEg8AwBAIvEMAACJxDMAACQS\n",
              "zwAAkEg8AwBAIvEMAACJxDMAACQSzwAAkEg8AwBAIvEMAACJxDMAACQSzwAAkEg8AwBAIvEMAACJ\n",
              "xDMAACQSzwAAkEg8AwBAIvEMAACJxDMAACTKZVmW5XuItq6qqirKy8tj586dUVZWlu9xAABoJmee\n",
              "AQAgkXgGAIBE4hkAABKJZwAASCSeAQAgkXgGAIBE4hkAABKJZwAASCSeAQAgkXgGAIBE4hkAABKJ\n",
              "ZwAASCSeAQAgkXgGAIBE4hkAABKJZwAASCSeAQAgkXgGAIBE4hkAABKJZwAASCSeAQAgUZPjOcuy\n",
              "2Lp1a+zbt+9ozAMAAAWrWfHcr1+/eOWVV47GPAAAULCaHM9FRUXRv3//eOutt47GPAAAULCadc3z\n",
              "nDlz4utf/3ps3LixpecBAICClcuyLGvqi7p16xZ79uyJgwcPRnFxcXTq1Kne8zt27GixAduCqqqq\n",
              "KC8vj507d0ZZWVm+xwEAoJk6NudF3/3ud1t4DAAAKHzNOvNM0zjzDADQNjT7Ps+VlZXxj//4jzFu\n",
              "3LjYvn17REQ8+OCD8eyzz7bYcAAAUEiaFc8rV66MwYMHx3//93/HokWLorq6OiIi1q9fHzNmzGjR\n",
              "AQEAoFA0K56nTZsW3/zmN2Pp0qVRXFxct/3SSy+NJ598ssWGAwCAQtKseN6wYUOMHTv2kO0nnXRS\n",
              "vPnmm0c8FAAAFKJmxXPXrl3jtddeO2T72rVr49RTTz3ioQAAoBA1K56vvfbauO2222Lbtm2Ry+Wi\n",
              "trY2Vq1aFbfeemtcf/31LT0jAAAUhGbdqu7AgQMxceLEWLBgQdTU1ETHjh2jpqYmvvCFL8SCBQui\n",
              "Q4cOR2PWY5Zb1QEAtA1HdJ/nrVu3xsaNG6O6ujqGDh0a/fv3b8nZ2gzxDADQNvglKa1APAMAtA3J\n",
              "v5576tSpyW961113NWsYAAAoZMnxvHbt2no/r1mzJg4ePBgDBw6MiIjnn38+OnToEOeff37LTggA\n",
              "AAUiOZ6XL19e9+e77rorTjjhhPjxj38c3bp1i4iIv/71rzFhwoT4+Mc/3vJTAgBAAWjWNc+nnnpq\n",
              "PPLII3HOOefU275x48a44oor4i9/+UuLDdgWuOYZAKBtaNZ9nquqquKNN944ZPsbb7wRu3btOuKh\n",
              "AACgEDUrnseOHRsTJkyIRYsWxauvvhqvvvpq3HfffXHjjTfGpz/96ZaeEQAACkKzLtvYs2dP3Hrr\n",
              "rXHvvffGO++8ExERHTt2jBtvvDHuuOOO6Ny5c4sPeixz2QYAQNtwRPd53r17d1RWVkZExJlnnima\n",
              "GyGeAQDahuS7bTSkc+fOMWTIkJaaBQAAClqz4nn37t0xZ86cWLZsWWzfvj1qa2vrPf/nP/+5RYYD\n",
              "AIBC0qx4vummm2LlypVx3XXXRa9evSKXy7X0XAAAUHCaFc8PPvhgLFmyJD72sY+19DwAAFCwmnWr\n",
              "um7dukX37t1behYAAChozYrnWbNmxe233x579uxp6XkAAKBgNetWdUOHDo3KysrIsiz69OkTxx13\n",
              "XL3n16xZ02IDtgVuVQcA0DY065rnMWPGtPAYAABQ+I7ol6SQxplnAIC2oVnXPEdEvP322/GjH/0o\n",
              "pk+fHjt27IiIdy/X+N///d8WGw4AAApJsy7beOaZZ2LEiBFRXl4eL730UvzDP/xDdO/ePRYtWhRb\n",
              "t26Nn/zkJy09JwAA5F2zzjxPnTo1xo8fHy+88EKUlpbWbb/qqqvisccea7HhAACgkDQrnp966qm4\n",
              "+eabD9l+6qmnxrZt2454KAAAKETNiueSkpKoqqo6ZPvzzz8fPXr0OOKhAACgEDUrnj/5yU/Gv/zL\n",
              "v8Q777wTERG5XC62bt0at912W3zmM59p0QEBAKBQNCuev/Od70R1dXWcdNJJsXfv3rj44oujX79+\n",
              "0aVLl/jWt77V0jMCAEBBOKL7PK9atSrWr18f1dXVUVFRESNGjGjJ2doM93kGAGgbmnTmee/evbF4\n",
              "8eK6nxcvXhxbtmyJbdu2xQMPPBDf+MY3Yt++fS0+JAAAFIIm3ef5xz/+cSxZsiSuvvrqiIi45557\n",
              "4pxzzolOnTpFRMT//M//RK9eveJrX/tay08KAAB51qQzzz//+c/jK1/5Sr1tv/jFL2L58uWxfPny\n",
              "uOOOO+JXv/pViw4IAACFoknxvGXLlhg8eHDdz6WlpVFU9P/f4qKLLopNmza13HQAAFBAmnTZxttv\n",
              "vx379++v+/mNN96o93xtbW295wEAoC1p0pnn0047LTZu3Njo888880ycdtppRzwUAAAUoibF81VX\n",
              "XRW33357g3fU2Lt3b8ycOTNGjRrVYsMBAEAhadJ9nl9//fU477zzori4OCZNmhQDBgyIiIjNmzfH\n",
              "PffcEwcPHoy1a9dGz549j9rAxyL3eQYAaBua/EtSXnzxxfjqV78aS5cujfdemsvl4vLLL49///d/\n",
              "j759+x6VQY9l4hkAoG1o9m8Y3LFjR2zZsiUiIvr16xfdu3dv0cHaEvEMANA2HNGv5yaNeAYAaBua\n",
              "9BcGAQCgPRPPAACQSDwDAEAi8QwAAInEMwAAJBLPAACQSDwDAEAi8QwAAInEMwAAJBLPAACQSDwD\n",
              "AEAi8QwAAInEMwAAJBLPAACQSDwDAEAi8QwAAInEMwAAJBLPAACQSDwDAECijvkeoD0562czoqhT\n",
              "Sb7HAAAoaK9OmJPvERrlzDMAACQSzwAAkEg8AwBAIvEMAACJxDMAACQSzwAAkEg8AwBAIvEMAACJ\n",
              "xDMAACQSzwAAkEg8AwBAIvEMAACJxDMAACQSzwAAkEg8AwBAIvEMAACJxDMAACQSzwAAkEg8AwBA\n",
              "IvEMAACJxDMAACQSzwAAkEg8AwBAIvEMAACJxDMAACQSzwAAkEg8AwBAIvEMAACJxDMAACQSzwAA\n",
              "kEg8AwBAIvEMAACJxDMAACQSzwAAkEg8AwBAIvEMAACJxDMAACQSzwAAkEg8AwBAIvEMAACJxPP7\n",
              "9OnTJ7773e/mewwAAApQXuN5/PjxkcvlDnls2bIln2MBAECDOuZ7gCuvvDLmz59fb1uPHj3yNA0A\n",
              "ADQu75dtlJSUxMknn1zv0aFDh/jd734XFRUVUVpaGn379o2ZM2fGwYMH616Xy+Vi3rx5cfXVV8fx\n",
              "xx8fZ599djzxxBOxZcuWuOSSS6Jz584xfPjwqKysrHtNZWVlfOpTn4qePXtGly5d4sILL4w//OEP\n",
              "h53v7bffjptuuil69OgRZWVlcemll8b69euP2noAAFC48h7PDfnjH/8Y119/fUyePDk2bdoU8+bN\n",
              "iwULFsS3vvWtevvNmjUrrr/++li3bl2cddZZ8YUvfCFuvvnmmD59ejz99NORZVlMmjSpbv/q6uq4\n",
              "6qqrYtmyZbF27dq48sorY/To0bF169ZGZ/nc5z4X27dvjwcffDBWr14dFRUVcdlll8WOHTsafc3+\n",
              "/fujqqqq3gMAgGNf3uN58eLF0aVLl7rH5z73uZg5c2ZMmzYtbrjhhujbt29cfvnlMWvWrJg3b169\n",
              "106YMCGuueaaGDBgQNx2223x0ksvxRe/+MUYOXJknH322TF58uRYsWJF3f7nnntu3HzzzTFo0KDo\n",
              "379/zJo1K84888z4/e9/3+Bsjz/+ePzpT3+KX//613HBBRdE//79484774yuXbvGb37zm0Y/0+zZ\n",
              "s6O8vLzu0bt37xZZKwAA8ivv1zx/4hOfiB/84Ad1P3fu3DmGDBkSq1atqnemuaamJvbt2xd79uyJ\n",
              "448/PiIihgwZUvd8z549IyJi8ODB9bbt27cvqqqqoqysLKqrq+Of//mfY8mSJfHaa6/FwYMHY+/e\n",
              "vY2eeV6/fn1UV1fHiSeeWG/73r17610O8n7Tp0+PqVOn1v1cVVUloAEA2oC8x3Pnzp2jX79+9bZV\n",
              "V1fHzJkz49Of/vQh+5eWltb9+bjjjqv7cy6Xa3RbbW1tRETceuutsXTp0rjzzjujX79+0alTp/js\n",
              "Zz8bBw4caHC26urq6NWrV72z1+/p2rVro5+ppKQkSkpKGn0eAIBjU97juSEVFRWxefPmQ6L6SK1a\n",
              "tSrGjx8fY8eOjYh34/ill1467Bzbtm2Ljh07Rp8+fVp0FgAAjj0FGc+33357XH311XH66afHZz/7\n",
              "2SgqKor169fHxo0b45vf/Gaz37d///6xaNGiGD16dORyufinf/qnurPSDRkxYkQMGzYsxowZE//2\n",
              "b/8WAwYMiL/85S+xZMmSGDt2bFxwwQXNngUAgGNP3v/CYENGjhwZixcvjkceeSQuvPDC+Ju/+Zu4\n",
              "++6744wzzjii973rrruiW7duMXz48Bg9enSMHDkyKioqGt0/l8vFAw88EH/3d38XEyZMiAEDBsS1\n",
              "114bL7/8ct011gAAtB+5LMuyfA/R1lVVVUV5eXn0mjslijq5FhoA4HBenTAn3yM0qiDPPAMAQCES\n",
              "zwAAkEg8AwBAIvEMAACJxDMAACQSzwAAkEg8AwBAIvEMAACJxDMAACQSzwAAkEg8AwBAIvEMAACJ\n",
              "xDMAACQSzwAAkEg8AwBAIvEMAACJxDMAACQSzwAAkEg8AwBAIvEMAACJxDMAACQSzwAAkEg8AwBA\n",
              "IvEMAACJxDMAACQSzwAAkEg8AwBAIvEMAACJxDMAACQSzwAAkEg8AwBAIvEMAACJxDMAACQSzwAA\n",
              "kEg8AwBAIvEMAACJxDMAACQSzwAAkEg8AwBAolyWZVm+h2jrqqqqory8PHbu3BllZWX5HgcAgGZy\n",
              "5hkAABKJZwAASCSeAQAgkXgGAIBE4hkAABKJZwAASCSeAQAgkXgGAIBE4hkAABKJZwAASCSeAQAg\n",
              "kXgGAIBE4hkAABKJZwAASCSeAQAgkXgGAIBE4hkAABKJZwAASCSeAQAgkXgGAIBE4hkAABKJZwAA\n",
              "SCSeAQAgkXgGAIBE4hkAABKJZwAASCSeAQAgkXgGAIBE4hkAABKJZwAASCSeAQAgkXgGAIBE4hkA\n",
              "ABKJZwAASCSeAQAgkXgGAIBE4hkAABKJZwAASCSeAQAgkXgGAIBE4hkAABKJZwAASCSeAQAgkXgG\n",
              "AIBEHfM9QHuQZVlERFRVVeV5EgAADueEE06IXC7X6PPiuRW89dZbERHRu3fvPE8CAMDh7Ny5M8rK\n",
              "yhp9Xjy3gu7du0dExNatW6O8vDzP0xSmqqqq6N27d7zyyiuHPWDbO+uUxjqlsU5prNMHs0ZprFOa\n",
              "fK/TCSeccNjnxXMrKCp699Ly8vJy/7J8gLKyMmuUwDqlsU5prFMa6/TBrFEa65SmUNfJXxgEAIBE\n",
              "4hkAABKJ51ZQUlISM2bMiJKSknyPUrCsURrrlMY6pbFOaazTB7NGaaxTmkJfp1z23n3UAACAw3Lm\n",
              "GQAAEolnAABIJJ4BACCReAYAgETiuQXMnTs3+vTpE6WlpfHRj340/vSnPx12/1//+tdx1llnRWlp\n",
              "aQwePDgeeOCBVpo0v5qyTgsWLIhcLlfvUVpa2orT5sdjjz0Wo0ePjlNOOSVyuVz89re//cDXrFix\n",
              "IioqKqKkpCT69esXCxYsOOpz5ltT12nFihWHHE+5XC62bdvWOgPnwezZs+PCCy+ME044IU466aQY\n",
              "M2ZMbN68+QNf196+n5qzTu3x++kHP/hBDBkypO6XVgwbNiwefPDBw76mvR1LTV2j9ngcNWTOnDmR\n",
              "y+ViypQph92vkI4n8XyEfvnLX8bUqVNjxowZsWbNmjj33HNj5MiRsX379gb3/6//+q8YN25c3Hjj\n",
              "jbF27doYM2ZMjBkzJjZu3NjKk7eupq5TxLu/Wei1116re7z88sutOHF+7N69O84999yYO3du0v4v\n",
              "vvhijBo1Kj7xiU/EunXrYsqUKXHTTTfFww8/fJQnza+mrtN7Nm/eXO+YOumkk47ShPm3cuXKmDhx\n",
              "Yjz55JOxdOnSeOedd+KKK66I3bt3N/qa9vj91Jx1imh/30+nnXZazJkzJ1avXh1PP/10XHrppfGp\n",
              "T30qnn322Qb3b4/HUlPXKKL9HUfv99RTT8W8efNiyJAhh92v4I6njCNy0UUXZRMnTqz7uaamJjvl\n",
              "lFOy2bNnN7j/Nddck40aNareto9+9KPZzTfffFTnzLemrtP8+fOz8vLyVpquMEVEdv/99x92n298\n",
              "4xvZOeecU2/b5z//+WzkyJFHcbLCkrJOy5cvzyIi++tf/9oqMxWi7du3ZxGRrVy5stF92uv30/+V\n",
              "sk6+n97VrVu37Ec/+lGDzzmW3nW4NWrvx9GuXbuy/v37Z0uXLs0uvvjibPLkyY3uW2jHkzPPR+DA\n",
              "gQOxevXqGDFiRN22oqKiGDFiRDzxxBMNvuaJJ56ot39ExMiRIxvdvy1ozjpFRFRXV8cZZ5wRvXv3\n",
              "/sD/em+v2uPxdCTOO++86NWrV1x++eWxatWqfI/Tqnbu3BkREd27d290H8dT2jpFtO/vp5qamli4\n",
              "cGHs3r07hg0b1uA+7f1YSlmjiPZ9HE2cODFGjRp1yHHSkEI7nsTzEXjzzTejpqYmevbsWW97z549\n",
              "G72Wctu2bU3avy1ozjoNHDgw7r333vjd734XP/vZz6K2tjaGDx8er776amuMfMxo7HiqqqqKvXv3\n",
              "5mmqwtOrV6/4j//4j7jvvvvivvvui969e8cll1wSa9asyfdoraK2tjamTJkSH/vYx2LQoEGN7tce\n",
              "v5/+r9R1aq/fTxs2bIguXbpESUlJ3HLLLXH//ffHRz7ykQb3ba/HUlPWqL0eRxERCxcujDVr1sTs\n",
              "2bOT9i+046ljXv6p8AGGDRtW77/Whw8fHmeffXbMmzcvZs2alcfJOBYNHDgwBg4cWPfz8OHDo7Ky\n",
              "Mu6+++746U9/msfJWsfEiRNj48aN8fjjj+d7lIKWuk7t9ftp4MCBsW7duti5c2f85je/iRtuuCFW\n",
              "rlzZaBy2R01Zo/Z6HL3yyisxefLkWLp06TH7FyTF8xH40Ic+FB06dIjXX3+93vbXX389Tj755AZf\n",
              "c/LJJzdp/7agOev0fscdd1wMHTo0tmzZcjRGPGY1djyVlZVFp06d8jTVseGiiy5qFzE5adKkWLx4\n",
              "cTz22GNx2mmnHXbf9vj99J6mrNP7tZfvp+Li4ujXr19ERJx//vnx1FNPxfe+972YN2/eIfu212Op\n",
              "KWv0fu3lOFq9enVs3749Kioq6rbV1NTEY489Fvfcc0/s378/OnToUO81hXY8uWzjCBQXF8f5558f\n",
              "y5Ytq9tWW1sby5Yta/Qap2HDhtXbPyJi6dKlh70m6ljXnHV6v5qamtiwYUP06tXraI15TGqPx1NL\n",
              "WbduXZs+nrIsi0mTJsX9998fjz76aHz4wx/+wNe0x+OpOev0fu31+6m2tjb279/f4HPt8VhqyOHW\n",
              "6P3ay3F02WWXxYYNG2LdunV1jwsuuCC++MUvxrp16w4J54gCPJ7y8tcU25CFCxdmJSUl2YIFC7JN\n",
              "mzZlX/nKV7KuXbtm27Zty7Isy6677rps2rRpdfuvWrUq69ixY3bnnXdmzz33XDZjxozsuOOOyzZs\n",
              "2JCvj9AqmrpOM2fOzB5++OGssrIyW716dXbttddmpaWl2bPPPpuvj9Aqdu3ala1duzZbu3ZtFhHZ\n",
              "XXfdla1duzZ7+eWXsyzLsmnTpmXXXXdd3f5//vOfs+OPPz77+te/nj333HPZ3Llzsw4dOmQPPfRQ\n",
              "vj5Cq2jqOt19993Zb3/72+yFF17INmzYkE2ePDkrKirK/vCHP+TrIxx1X/3qV7Py8vJsxYoV2Wuv\n",
              "vVb32LNnT90+vp+at07t8ftp2rRp2cqVK7MXX3wxe+aZZ7Jp06ZluVwue+SRR7IscyxlWdPXqD0e\n",
              "R415/902Cv14Es8t4Pvf/352+umnZ8XFxdlFF12UPfnkk3XPXXzxxdkNN9xQb/9f/epX2YABA7Li\n",
              "4uLsnHPOyZYsWdLKE+dHU9ZpypQpdfv27Nkzu+qqq7I1a9bkYerW9d4t1d7/eG9tbrjhhuziiy8+\n",
              "5DXnnXdeVlxcnPXt2zebP39+q8/d2pq6Tt/+9rezM888MystLc26d++eXXLJJdmjjz6an+FbSUPr\n",
              "ExH1jg/fT81bp/b4/fTlL385O+OMM7Li4uKsR48e2WWXXVYXhVnmWMqypq9RezyOGvP+eC704ymX\n",
              "ZVnWeue5AQDg2OWaZwAASCSeAQAgkXgGAIBE4hkAABKJZwAASCSeAQAgkXgGAIBE4hkAABKJZwAA\n",
              "SCSeAQAgkXgGAIBE4hkAABL9P4zDdOuQvz17AAAAAElFTkSuQmCC\n",
              "\">\n",
              "        <script></script>"
            ],
            "text/plain": [
              "<google.colab._quickchart_lib.MplChart at 0x7d3d94e27fd0>"
            ]
          },
          "metadata": {},
          "execution_count": 133
        }
      ]
    },
    {
      "source": [
        "def categorical_histogram(df, colname, figscale=1, mpl_palette_name='Dark2'):\n",
        "  from matplotlib import pyplot as plt\n",
        "  import seaborn as sns\n",
        "  df.groupby(colname).size().plot(kind='barh', color=sns.palettes.mpl_palette(mpl_palette_name), figsize=(8*figscale, 4.8*figscale))\n",
        "  plt.gca().spines[['top', 'right',]].set_visible(False)\n",
        "  return autoviz.MplChart.from_current_mpl_state()\n",
        "\n",
        "chart = categorical_histogram(_df_9, *['Location'], **{})\n",
        "chart"
      ],
      "cell_type": "code",
      "metadata": {
        "colab": {
          "base_uri": "https://localhost:8080/",
          "height": 434
        },
        "id": "mTFzMybgfj2Z",
        "outputId": "d3b73b80-f044-4f41-cef3-2f0c3ab208e8"
      },
      "execution_count": null,
      "outputs": [
        {
          "output_type": "execute_result",
          "data": {
            "text/html": [
              "<img src=\"data:image/png;base64,iVBORw0KGgoAAAANSUhEUgAAAu8AAAGdCAYAAACigZ0GAAAAOXRFWHRTb2Z0d2FyZQBNYXRwbG90\n",
              "bGliIHZlcnNpb24zLjcuMSwgaHR0cHM6Ly9tYXRwbG90bGliLm9yZy/bCgiHAAAACXBIWXMAAA9h\n",
              "AAAPYQGoP6dpAAAqmklEQVR4nO3deXRUVbrG4bcIpBJMUjFNgCAhMgkyJIAMzRBBCQREZGiboUGZ\n",
              "9HYrIDS0QK4tYWg7AaEBgSuKkIgCAWkGWxEFJFEC4l0IODAIiAQUhIuSgSFgcu4fLErLIiEpAqkd\n",
              "fs9atUzts8+pr761U74eT53YLMuyBAAAAMDrlSvtAgAAAAAUDeEdAAAAMAThHQAAADAE4R0AAAAw\n",
              "BOEdAAAAMAThHQAAADAE4R0AAAAwBOEdAAAAMATh/TZgWZaysrLE3+MCAAAwG+H9NpCdnS2Hw6Hs\n",
              "7OzSLgUAAAA3gPAOAAAAGILwDgAAABiC8A4AAAAYgvAOAAAAGILwDgAAABiC8A4AAAAYgvAOAAAA\n",
              "GILwDgAAABiC8A4AAAAYgvAOAAAAGILwDgAAABiC8A4AAAAYgvAOAAAAGILwDgAAABiC8A4AAAAY\n",
              "gvAOAAAAGILwDgAAABiC8A4AAAAYgvAOAAAAGILwDgAAABiC8A4AAAAYgvAOAAAAGILwDgAAABiC\n",
              "8A4AAAAYgvAOAAAAGILwDgAAABiC8A4AAAAYgvAOAAAAGILwDgAAABiifGkXgFvn+QkbZLdXLO0y\n",
              "AMBp+qyHS7sEADAKZ94BAAAAQxDeAQAAAEMQ3gEAAABDEN4BAAAAQxDeAQAAAEMQ3gEAAABDEN4B\n",
              "AAAAQxDeAQAAAEMQ3gEAAABDEN4BAAAAQxDeAQAAAEMQ3gEAAABDEN4BAAAAQxDeAQAAAEMQ3gEA\n",
              "AABDEN4BAAAAQxDeAQAAAEMQ3gEAAABDEN4BAAAAQxDeAQAAAEMQ3gEAAABDEN4BAAAAQxDeAQAA\n",
              "AEMQ3gEAAABDEN4BAAAAQxDeDZCcnKzg4ODSLgMAAAClrMyE98GDB8tmsykxMdFlfO3atbLZbLek\n",
              "hq+//loVK1bUsmXLXMbz8/PVpk0bPfroo7ekDgAAAJRNZSa8S5Kfn5+mTZumn376qVRe/5577lFi\n",
              "YqJGjhypEydOOMdnzpypb775RgsWLCj2MS9fvlySJQIAAMBgZSq8x8TEqGrVqkpISCh03tatWxUd\n",
              "HS1/f3+Fh4frmWee0blz5yRJ8+bNU6NGjZxzr565/3XwjomJ0d///vdrHnvkyJGKiorSk08+KUna\n",
              "v3+/Jk6cqFdffVUhISGaMmWKqlevLrvdriZNmmjDhg3Ofb/99lvZbDatWLFC7du3l5+fn5YuXer2\n",
              "GqdPn1bz5s3Vq1cv5ebmFr1BAAAAMFqZCu8+Pj765z//qblz5+r48ePXnHP48GF16dJFf/jDH/T5\n",
              "559rxYoV2rp1q0aMGCFJat++vfbu3avTp09LktLS0lSpUiWlpqZKunImfPv27erQocM1j2+z2ZSU\n",
              "lKSPP/5YCxcu1ODBg9WvXz898sgjmjNnjmbOnKkZM2bo888/V2xsrB555BEdPHjQ5RgTJkzQqFGj\n",
              "tG/fPsXGxrpsO3bsmKKjo9WoUSOtWrVKdrvdrYbc3FxlZWW5PAAAAGC+MhXeJalXr15q0qSJ4uPj\n",
              "r7k9ISFBAwYM0OjRo1W3bl21adNGL730kpYsWaKLFy+qUaNGCgkJUVpamiQpNTVVY8eOdT7/9NNP\n",
              "dfnyZbVp06bAGiIiIjR79mz95S9/0YkTJzRnzhxJ0owZMzR+/Hj169dP9erV07Rp09SkSRPNnj3b\n",
              "Zf/Ro0erd+/eqlmzpsLCwpzjBw4cUNu2bRUbG6ukpCT5+PgU+B4dDofzER4eXuT+AQAAwHuVufAu\n",
              "SdOmTdPrr7+uffv2uW3bs2ePkpOTFRAQ4HzExsYqPz9fR44ckc1m0/3336/U1FSdPXtWe/fu1dNP\n",
              "P63c3Fzt379faWlpatGihSpWrFhoDUOGDFFYWJhGjhypoKAgZWVl6fvvv1fbtm1d5rVt29atzubN\n",
              "m7sd78KFC4qOjlbv3r01Z86cQr+EGxcXp8zMTOfj2LFjhdYKAAAAM5TJ8H7//fcrNjZWcXFxbtty\n",
              "cnL05z//Wbt373Y+9uzZo4MHD6p27dqSpA4dOig1NVUff/yxmjZtqqCgIGegT0tLU/v27YtUR/ny\n",
              "5VW+fPli13/HHXe4jdntdsXExOidd97Rd999V+j+drtdQUFBLg8AAACYr0yGd0lKTEzUf/7zH23f\n",
              "vt1lvFmzZtq7d6/q1Knj9vD19ZX0y3Xvb731lvPa9g4dOmjTpk1KT08v8Hr3wgQFBalatWpKT093\n",
              "GU9PT1eDBg2uu3+5cuX0xhtv6L777tMDDzyg77//vtg1AAAAwGxlNrw3btxYAwYM0EsvveQyPn78\n",
              "eG3btk0jRozQ7t27dfDgQa1bt875hVVJioyM1J133qlly5a5hPe1a9cqNzfX7dKXonr22Wc1bdo0\n",
              "rVixQgcOHNCECRO0e/dujRo1qkj7+/j4aOnSpYqKitKDDz6okydPelQHAAAAzFRmw7skTZkyRfn5\n",
              "+S5jkZGRSktL09dff63o6Gg1bdpUEydOVLVq1ZxzbDaboqOjZbPZ1K5dO+d+QUFBat68+TUvaymK\n",
              "Z555RmPGjNHYsWPVuHFjbdiwQW+//bbq1q1b5GOUL19ey5cvV8OGDfXggw/q1KlTHtUCAAAA89gs\n",
              "y7JKuwjcXFlZWXI4HHrmqRWy2wv/oi0A3ErTZz1c2iUAgFHK9Jl3AAAAoCwhvAMAAACGILwDAAAA\n",
              "hiC8AwAAAIYgvAMAAACGILwDAAAAhiC8AwAAAIYgvAMAAACGILwDAAAAhiC8AwAAAIYgvAMAAACG\n",
              "ILwDAAAAhiC8AwAAAIYgvAMAAACGILwDAAAAhiC8AwAAAIYgvAMAAACGILwDAAAAhiC8AwAAAIYg\n",
              "vAMAAACGILwDAAAAhiC8AwAAAIYgvAMAAACGILwDAAAAhrBZlmWVdhG4ubKysuRwOJSZmamgoKDS\n",
              "LgcAAAAe4sw7AAAAYAjCOwAAAGAIwjsAAABgCMI7AAAAYAjCOwAAAGAIwjsAAABgCMI7AAAAYAjC\n",
              "OwAAAGAIwjsAAABgCMI7AAAAYAjCOwAAAGAIwjsAAABgCMI7AAAAYAjCOwAAAGAIwjsAAABgCMI7\n",
              "AAAAYAjCOwAAAGAIwjsAAABgCMI7AAAAYAjCOwAAAGAIwjsAAABgCMI7AAAAYAjCOwAAAGAIwjsA\n",
              "AABgCMI7AAAAYAjCOwAAAGAIwjsAAABgCMI7AAAAYAjCOwAAAGAIwjsAAABgCMI7AAAAYAjCOwAA\n",
              "AGAIwjsAAABgCMI7AAAAYAjCOwAAAGAIwjsAAABgCMI7AAAAYAjCOwAAAGAIwjsAAABgCMI7AAAA\n",
              "YAjCOwAAAGAIwjsAAABgCMI7AAAAYAjCOwAAAGAIwjsAAABgCMI7AAAAYAjCOwAAAGAIwjsAAABg\n",
              "CMI7AAAAYAjCOwAAAGAIwjsAAABgCMI7AAAAYAjCOwAAAGAIwjsAAABgCMI7AAAAYAjCOwAAAGAI\n",
              "wjsAAABgCMI7AAAAYAjCOwAAAGAIwjsAAABgCMI7AAAAYIjypV0Abp1DfwlWgK+ttMsAAADwavck\n",
              "55V2CQXizDsAAABgCMI7AAAAYAjCOwAAAGAIwjsAAABgCI++sJqXl6fk5GRt3rxZp06dUn5+vsv2\n",
              "Dz/8sESKAwAAAPALj8L7qFGjlJycrG7duqlRo0ay2biDCQAAAHCzeRTeU1JStHLlSj300EMlXQ8A\n",
              "AACAAnh0zbuvr6/q1KlT0rUAAAAAKIRH4X3s2LGaM2eOLMsq6XoAAAAAFMCjy2a2bt2qLVu26L33\n",
              "3lPDhg1VoUIFl+2rV68ukeIAAAAA/MKj8B4cHKxevXqVdC0AAAAACuFReE9KSirpOgAAAABch0fh\n",
              "/arTp0/rwIEDkqR69eopNDS0RIoCAAAA4M6jL6yeO3dOQ4cOVVhYmO6//37df//9qlatmoYNG6bz\n",
              "58+XdI0AAAAA5GF4HzNmjNLS0vSf//xHZ8+e1dmzZ7Vu3TqlpaVp7NixJV0jAAAAAEk2y4P7PVaq\n",
              "VEmrVq1Shw4dXMa3bNmiPn366PTp0yVVH0pAVlaWHA6Hdva3KcCXv4YLAABQmHuS80q7hAJ5dOb9\n",
              "/PnzqlKlitt45cqVuWwGAAAAuEk8Cu+tW7dWfHy8Ll686By7cOGCJk+erNatW5dYcQAAAAB+4dHd\n",
              "ZubMmaPY2FhVr15dUVFRkqQ9e/bIz89P77//fokWCAAAAOAKj8J7o0aNdPDgQS1dulT79++XJPXv\n",
              "318DBgyQv79/iRYIAAAA4AqP7/NesWJFPfnkkyVZCwAAAIBCFDm8v/322+ratasqVKigt99+u9C5\n",
              "jzzyyA0XBgAAAMBVkW8VWa5cOZ08eVKVK1dWuXIFf8/VZrMpL897b69zO+JWkQAAAEXnzbeKLPKZ\n",
              "9/z8/Gv+DAAAAODW8OhWkUuWLFFubq7b+KVLl7RkyZIbLspUHTp00OjRo8vM6wAAAMC7eBTehwwZ\n",
              "oszMTLfx7OxsDRky5IaL8iaDBw+WzWbTX/7yF7dtw4cPl81m0+DBgyVJq1ev1tSpU296TbfqdQAA\n",
              "AOBdPArvlmXJZnO/dvr48eNyOBw3XJS3CQ8PV0pKii5cuOAcu3jxopYtW6YaNWo4x0JCQhQYGHjT\n",
              "67lVrwMAAADvUqzw3rRpUzVr1kw2m00dO3ZUs2bNnI+oqChFR0crJibmZtVaapo1a6bw8HCtXr3a\n",
              "ObZ69WrVqFFDTZs2dY799nKWN954Q82bN1dgYKCqVq2qP/3pTzp16pRze2pqqmw2m95//301bdpU\n",
              "/v7+evDBB3Xq1Cm99957uvfeexUUFKQ//elPOn/+fIGvAwAAgNtDse7z3rNnT0nS7t27FRsbq4CA\n",
              "AOc2X19f3X333frDH/5QogV6i6FDhyopKUkDBgyQJC1evFhDhgxRampqgftcvnxZU6dOVb169XTq\n",
              "1CmNGTNGgwcP1vr1613mTZo0SfPmzVPFihXVp08f9enTR3a7XcuWLVNOTo569eqluXPnavz48UWq\n",
              "NTc31+U7CVlZWcV/wwAAAPA6xQrv8fHxkqS7775bffv2lZ+f300pyhsNHDhQcXFxOnr0qCQpPT1d\n",
              "KSkphYb3oUOHOn+uVauWXnrpJbVo0UI5OTku/+Hzj3/8Q23btpUkDRs2THFxcTp8+LBq1aolSXr0\n",
              "0Ue1ZcuWIof3hIQETZ48ubhvEQAAAF7Oo2veBw0adFsFd0kKDQ1Vt27dlJycrKSkJHXr1k2VKlUq\n",
              "dJ+dO3eqe/fuqlGjhgIDA9W+fXtJUkZGhsu8yMhI589VqlRRxYoVncH96tivL7e5nri4OGVmZjof\n",
              "x44dK/K+AAAA8F7FOvN+VV5enmbNmqWVK1cqIyNDly5dctn+448/lkhx3mbo0KEaMWKEJGn+/PmF\n",
              "zj137pxiY2MVGxurpUuXKjQ0VBkZGYqNjXXrV4UKFZw/22w2l+dXx4pzb3273S673V7k+QAAADCD\n",
              "R2feJ0+erH/961/q27evMjMzNWbMGPXu3VvlypXTpEmTSrhE79GlSxddunRJly9fVmxsbKFz9+/f\n",
              "rzNnzigxMVHR0dGqX79+sc6eAwAAAL/lUXhfunSpFi5cqLFjx6p8+fLq37+/XnvtNU2cOFGffPJJ\n",
              "SdfoNXx8fLRv3z7t3btXPj4+hc6tUaOGfH19NXfuXH3zzTd6++23uTc7AAAAbohH4f3kyZNq3Lix\n",
              "JCkgIMD5B5sefvhhvfvuuyVXnRcKCgpSUFDQdeeFhoYqOTlZb731lho0aKDExETNmDHjFlQIAACA\n",
              "sspmWZZV3J3q1aunJUuWqFWrVmrXrp0efvhhTZgwQStWrNDIkSO5PMTLZGVlyeFwaGd/mwJ83f+4\n",
              "FgAAAH5xT3JeaZdQII/OvPfq1UubN2+WJI0cOVLPP/+86tatq8cff9zl9ogAAAAASo5HZ95/65NP\n",
              "PtG2bdtUt25dde/evSTqQgnizDsAAEDRefOZd49uFflbv//97/X73/++JA4FAAAAoAAeXTaTkJCg\n",
              "xYsXu40vXrxY06ZNu+GiAAAAALjzKLy/8sorql+/vtt4w4YNtWDBghsuCgAAAIA7j28VGRYW5jYe\n",
              "GhqqEydO3HBRAAAAANx5FN7Dw8OVnp7uNp6enq5q1ardcFEAAAAA3Hn0hdUnn3xSo0eP1uXLl/Xg\n",
              "gw9KkjZv3qxx48Zp7NixJVogAAAAgCs8Cu/PPvuszpw5o6efflqXLl2SJPn5+Wn8+PGKi4sr0QIB\n",
              "AAAAXHFD93nPycnRvn375O/vr7p168put5dkbSgh3OcdAACg6Mrsfd4DAgKcX1wluAMAAAA3l0df\n",
              "WM3Pz9eUKVPkcDgUERGhiIgIBQcHa+rUqcrPzy/pGgEAAADIwzPvzz33nBYtWqTExES1bdtWkrR1\n",
              "61ZNmjRJFy9e1AsvvFCiRQIAAADw8Jr3atWqacGCBXrkkUdcxtetW6enn35a3333XYkViBvHNe8A\n",
              "AABF583XvHt02cyPP/54zb+wWr9+ff344483XBQAAAAAdx6F96ioKM2bN89tfN68eYqMjLzhogAA\n",
              "AAC48+ia9+nTp6tbt27atGmTWrduLUnavn27jh07pvXr15dogQAAAACu8OjMe/v27fX111+rV69e\n",
              "Onv2rM6ePavevXvrq6++0htvvFHSNQIAAADQDf6Rpt/as2ePmjVrprw8773I/3bEF1YBAACKrsx9\n",
              "YRUAAADArUd4BwAAAAxBeAcAAAAMUay7zfTu3bvQ7WfPnr2RWgAAAAAUoljh3eFwXHf7448/fkMF\n",
              "AQAAALi2Er3bDLzT1bvNZGZmKigoqLTLAQAAgIe45h0AAAAwBOEdAAAAMAThHQAAADAE4R0AAAAw\n",
              "BOEdAAAAMAThHQAAADAE4R0AAAAwBOEdAAAAMAThHQAAADAE4R0AAAAwBOEdAAAAMAThHQAAADAE\n",
              "4R0AAAAwBOEdAAAAMAThHQAAADAE4R0AAAAwBOEdAAAAMAThHQAAADAE4R0AAAAwBOEdAAAAMATh\n",
              "HQAAADAE4R0AAAAwBOEdAAAAMAThHQAAADAE4R0AAAAwBOEdAAAAMAThHQAAADAE4R0AAAAwBOEd\n",
              "AAAAMAThHQAAADAE4R0AAAAwBOEdAAAAMAThHQAAADAE4R0AAAAwBOEdAAAAMAThHQAAADAE4R0A\n",
              "AAAwBOEdAAAAMAThHQAAADAE4R0AAAAwBOEdAAAAMAThHQAAADAE4R0AAAAwBOEdAAAAMAThHQAA\n",
              "ADAE4R0AAAAwBOEdAAAAMAThHQAAADAE4R0AAAAwBOEdAAAAMAThHQAAADAE4R0AAAAwBOEdAAAA\n",
              "MAThHQAAADAE4R0AAAAwBOEdAAAAMAThHQAAADAE4R0AAAAwBOEdAAAAMAThHQAAADAE4R0AAAAw\n",
              "RPnSLgC3Tv0341XO317aZQAAAHi140MSS7uEAnHmHQAAADAE4R0AAAAwBOEdAAAAMAThHQAAADAE\n",
              "4R0AAAAwBOEdAAAAMAThHQAAADAE4R0AAAAwBOEdAAAAMAThHQAAADAE4R0AAAAwBOEdAAAAMATh\n",
              "HQAAADAE4R0AAAAwBOEdAAAAMAThHQAAADAE4R0AAAAwBOEdAAAAMAThHQAAADAE4R0AAAAwBOEd\n",
              "AAAAMAThHQAAADAE4R0AAAAwBOEdAAAAMAThvZQMHjxYPXv2LO0yAAAAYJBSDe+lFWBjY2Pl4+Oj\n",
              "//3f/73lrw0AAAB46rY7856RkaFt27ZpxIgRWrx4cWmXAwAAABSZV4f3tLQ0tWzZUna7XWFhYZow\n",
              "YYJ+/vln5/ZVq1apcePG8vf31+9+9zvFxMTo3LlzhR4zKSlJDz/8sJ566iktX75cFy5ccNneoUMH\n",
              "PfPMMxo3bpxCQkJUtWpVTZo0yWXO/v371a5dO/n5+alBgwbatGmTbDab1q5d65xz7Ngx9enTR8HB\n",
              "wQoJCVGPHj307bffFlhXfn6+EhISVLNmTfn7+ysqKkqrVq1ybv/pp580YMAAhYaGyt/fX3Xr1lVS\n",
              "UtL1mwgAAIAyw2vD+3fffaeHHnpILVq00J49e/Tyyy9r0aJF+sc//iFJOnHihPr376+hQ4dq3759\n",
              "Sk1NVe/evWVZVoHHtCxLSUlJGjhwoOrXr686deq4BOSrXn/9dd1xxx3asWOHpk+frilTpmjjxo2S\n",
              "pLy8PPXs2VMVK1bUjh079Oqrr+q5555z2f/y5cuKjY1VYGCgPv74Y6WnpysgIEBdunTRpUuXrllb\n",
              "QkKClixZogULFuirr77SX//6Vw0cOFBpaWmSpOeff1579+7Ve++9p3379unll19WpUqVPOotAAAA\n",
              "zFS+tAsoyP/8z/8oPDxc8+bNk81mU/369fX9999r/Pjxmjhxok6cOKGff/5ZvXv3VkREhCSpcePG\n",
              "hR5z06ZNOn/+vGJjYyVJAwcO1KJFi/TYY4+5zIuMjFR8fLwkqW7dupo3b542b96sTp06aePGjTp8\n",
              "+LBSU1NVtWpVSdILL7ygTp06OfdfsWKF8vPz9dprr8lms0m6csY/ODhYqamp6ty5s8vr5ebm6p//\n",
              "/Kc2bdqk1q1bS5Jq1aqlrVu36pVXXlH79u2VkZGhpk2bqnnz5pKku+++u8D3mZubq9zcXOfzrKys\n",
              "QvsCAAAAM3jtmfd9+/apdevWzvArSW3btlVOTo6OHz+uqKgodezYUY0bN9Yf//hHLVy4UD/99FOh\n",
              "x1y8eLH69u2r8uWv/DdL//79lZ6ersOHD7vMi4yMdHkeFhamU6dOSZIOHDig8PBwZ3CXpJYtW7rM\n",
              "37Nnjw4dOqTAwEAFBAQoICBAISEhunjxottrSdKhQ4d0/vx5derUyTk/ICBAS5Yscc5/6qmnlJKS\n",
              "oiZNmmjcuHHatm1bge8zISFBDofD+QgPDy+0LwAAADCD1555vx4fHx9t3LhR27Zt0wcffKC5c+fq\n",
              "ueee044dO1SzZk23+T/++KPWrFmjy5cv6+WXX3aO5+XlafHixXrhhRecYxUqVHDZ12azKT8/v8i1\n",
              "5eTk6L777tPSpUvdtoWGhl5zviS9++67uuuuu1y22e12SVLXrl119OhRrV+/Xhs3blTHjh01fPhw\n",
              "zZgxw+14cXFxGjNmjPN5VlYWAR4AAKAM8Noz7/fee6+2b9/ucg17enq6AgMDVb16dUlXQnXbtm01\n",
              "efJk7dq1S76+vlqzZs01j7d06VJVr15de/bs0e7du52PmTNnKjk5WXl5eUWqq169ejp27Jh++OEH\n",
              "59hvbznZrFkzHTx4UJUrV1adOnVcHg6Hw+2YDRo0kN1uV0ZGhtv8X4fu0NBQDRo0SG+++aZmz56t\n",
              "V1999Zo12u12BQUFuTwAAABgvlI/856Zmandu3e7jP3ud7/T008/rdmzZ2vkyJEaMWKEDhw4oPj4\n",
              "eI0ZM0blypXTjh07tHnzZnXu3FmVK1fWjh07dPr0ad17773XfJ1Fixbp0UcfVaNGjVzGw8PDFRcX\n",
              "pw0bNqhbt27XrbdTp06qXbu2Bg0apOnTpys7O1t///vfJcl5ic+AAQP04osvqkePHpoyZYqqV6+u\n",
              "o0ePavXq1Ro3bpzzPz6uCgwM1N/+9jf99a9/VX5+vtq1a6fMzEylp6crKChIgwYN0sSJE3Xfffep\n",
              "YcOGys3N1TvvvFPgewUAAEDZVOrhPTU1VU2bNnUZGzZsmF577TWtX79ezz77rKKiohQSEqJhw4Y5\n",
              "g3JQUJA++ugjzZ49W1lZWYqIiNDMmTPVtWtXt9fYuXOn9uzZo4ULF7ptczgc6tixoxYtWlSk8O7j\n",
              "46O1a9fqiSeeUIsWLVSrVi29+OKL6t69u/z8/CRJFStW1EcffaTx48erd+/eys7O1l133aWOHTsW\n",
              "eBZ86tSpCg0NVUJCgr755hsFBwerWbNm+u///m9Jkq+vr+Li4vTtt9/K399f0dHRSklJuW69AAAA\n",
              "KDtsVmH3VkSRpKenq127djp06JBq165d2uW4ycrKksPhUNj80Srnby/tcgAAALza8SGJpV1CgUr9\n",
              "zLuJ1qxZo4CAANWtW1eHDh3SqFGj1LZtW68M7gAAACg7CO8eyM7O1vjx45WRkaFKlSopJiZGM2fO\n",
              "LO2yAAAAUMYR3j3w+OOP6/HHHy/tMgAAAHCb8dpbRQIAAABwRXgHAAAADEF4BwAAAAxBeAcAAAAM\n",
              "QXgHAAAADEF4BwAAAAxBeAcAAAAMQXgHAAAADEF4BwAAAAxBeAcAAAAMQXgHAAAADEF4BwAAAAxB\n",
              "eAcAAAAMQXgHAAAADEF4BwAAAAxBeAcAAAAMQXgHAAAADEF4BwAAAAxBeAcAAAAMQXgHAAAADEF4\n",
              "BwAAAAxhsyzLKu0icHNlZWXJ4XAoMzNTQUFBpV0OAAAAPMSZdwAAAMAQhHcAAADAEIR3AAAAwBCE\n",
              "dwAAAMAQhHcAAADAEIR3AAAAwBCEdwAAAMAQhHcAAADAEIR3AAAAwBCEdwAAAMAQhHcAAADAEIR3\n",
              "AAAAwBCEdwAAAMAQhHcAAADAEIR3AAAAwBCEdwAAAMAQhHcAAADAEIR3AAAAwBCEdwAAAMAQhHcA\n",
              "AADAEIR3AAAAwBCEdwAAAMAQhHcAAADAEIR3AAAAwBCEdwAAAMAQhHcAAADAEIR3AAAAwBCEdwAA\n",
              "AMAQhHcAAADAEOVLuwDcfJZlSZKysrJKuRIAAAAUJjAwUDabrcDthPfbwJkzZyRJ4eHhpVwJAAAA\n",
              "CpOZmamgoKACtxPebwMhISGSpIyMDDkcjlKuxntlZWUpPDxcx44dK/SX5nZHn66PHhUNfSoa+lQ0\n",
              "9Klo6NP1lXaPAgMDC91OeL8NlCt35asNDoeDX9QiCAoKok9FQJ+ujx4VDX0qGvpUNPSpaOjT9Xlr\n",
              "j/jCKgAAAGAIwjsAAABgCML7bcButys+Pl52u720S/Fq9Klo6NP10aOioU9FQ5+Khj4VDX26Pm/v\n",
              "kc26eh9BAAAAAF6NM+8AAACAIQjvAAAAgCEI7wAAAIAhCO8AAACAIQjvBpo/f77uvvtu+fn5qVWr\n",
              "Vvr0008Lnf/WW2+pfv368vPzU+PGjbV+/XqX7ZZlaeLEiQoLC5O/v79iYmJ08ODBm/kWboni9Gnh\n",
              "woWKjo7WnXfeqTvvvFMxMTFu8wcPHiybzeby6NKly81+GzddcfqUnJzs1gM/Pz+XOawnqUOHDm59\n",
              "stls6tatm3NOWVtPH330kbp3765q1arJZrNp7dq1190nNTVVzZo1k91uV506dZScnOw2p7ifd96u\n",
              "uH1avXq1OnXqpNDQUAUFBal169Z6//33XeZMmjTJbS3Vr1//Jr6Lm6+4fUpNTb3m79zJkydd5t3u\n",
              "6+lanzs2m00NGzZ0zilr6ykhIUEtWrRQYGCgKleurJ49e+rAgQPX3c+bsxPh3TArVqzQmDFjFB8f\n",
              "r88++0xRUVGKjY3VqVOnrjl/27Zt6t+/v4YNG6Zdu3apZ8+e6tmzp7788kvnnOnTp+ull17SggUL\n",
              "tGPHDt1xxx2KjY3VxYsXb9XbKnHF7VNqaqr69++vLVu2aPv27QoPD1fnzp313Xffuczr0qWLTpw4\n",
              "4XwsX778Vrydm6a4fZKu/MW5X/fg6NGjLttZT1cC16979OWXX8rHx0d//OMfXeaVpfV07tw5RUVF\n",
              "af78+UWaf+TIEXXr1k0PPPCAdu/erdGjR+uJJ55wCaaerE9vV9w+ffTRR+rUqZPWr1+vnTt36oEH\n",
              "HlD37t21a9cul3kNGzZ0WUtbt269GeXfMsXt01UHDhxw6UPlypWd21hP0pw5c1z6c+zYMYWEhLh9\n",
              "NpWl9ZSWlqbhw4frk08+0caNG3X58mV17txZ586dK3Afr89OFozSsmVLa/jw4c7neXl5VrVq1ayE\n",
              "hIRrzu/Tp4/VrVs3l7FWrVpZf/7zny3Lsqz8/HyratWq1osvvujcfvbsWctut1vLly+/Ce/g1ihu\n",
              "n37r559/tgIDA63XX3/dOTZo0CCrR48eJV1qqSpun5KSkiyHw1Hg8VhP1zZr1iwrMDDQysnJcY6V\n",
              "xfV0lSRrzZo1hc4ZN26c1bBhQ5exvn37WrGxsc7nN9p3b1eUPl1LgwYNrMmTJzufx8fHW1FRUSVX\n",
              "mJcpSp+2bNliSbJ++umnAuewntytWbPGstls1rfffuscK+vr6dSpU5YkKy0trcA53p6dOPNukEuX\n",
              "Lmnnzp2KiYlxjpUrV04xMTHavn37NffZvn27y3xJio2Ndc4/cuSITp486TLH4XCoVatWBR7T23nS\n",
              "p986f/68Ll++rJCQEJfx1NRUVa5cWfXq1dNTTz2lM2fOlGjtt5KnfcrJyVFERITCw8PVo0cPffXV\n",
              "V85trKdrW7Rokfr166c77rjDZbwsrafiut5nU0n0vSzKz89Xdna222fTwYMHVa1aNdWqVUsDBgxQ\n",
              "RkZGKVVYupo0aaKwsDB16tRJ6enpznHW07UtWrRIMTExioiIcBkvy+spMzNTktx+h37N27MT4d0g\n",
              "//d//6e8vDxVqVLFZbxKlSpu1/VddfLkyULnX/1ncY7p7Tzp02+NHz9e1apVc/nF7NKli5YsWaLN\n",
              "mzdr2rRpSktLU9euXZWXl1ei9d8qnvSpXr16Wrx4sdatW6c333xT+fn5atOmjY4fPy6J9XQtn376\n",
              "qb788ks98cQTLuNlbT0VV0GfTVlZWbpw4UKJ/B6XRTNmzFBOTo769OnjHGvVqpWSk5O1YcMGvfzy\n",
              "yzpy5Iiio6OVnZ1dipXeWmFhYVqwYIH+/e9/69///rfCw8PVoUMHffbZZ5JK5t8LZc3333+v9957\n",
              "z+2zqSyvp/z8fI0ePVpt27ZVo0aNCpzn7dmp/E1/BcAwiYmJSklJUWpqqsuXMfv16+f8uXHjxoqM\n",
              "jFTt2rWVmpqqjh07lkapt1zr1q3VunVr5/M2bdro3nvv1SuvvKKpU6eWYmXea9GiRWrcuLFatmzp\n",
              "Ms56QnEtW7ZMkydP1rp161yu5e7atavz58jISLVq1UoRERFauXKlhg0bVhql3nL16tVTvXr1nM/b\n",
              "tGmjw4cPa9asWXrjjTdKsTLv9frrrys4OFg9e/Z0GS/L62n48OH68ssvjb6GX+LMu1EqVaokHx8f\n",
              "/fDDDy7jP/zwg6pWrXrNfapWrVro/Kv/LM4xvZ0nfbpqxowZSkxM1AcffKDIyMhC59aqVUuVKlXS\n",
              "oUOHbrjm0nAjfbqqQoUKatq0qbMHrCdX586dU0pKSpH+hWf6eiqugj6bgoKC5O/vXyLrsyxJSUnR\n",
              "E088oZUrV7r97/zfCg4O1j333HPbrKWCtGzZ0tkD1pMry7K0ePFiPfbYY/L19S10bllZTyNGjNA7\n",
              "77yjLVu2qHr16oXO9fbsRHg3iK+vr+677z5t3rzZOZafn6/Nmze7nA39tdatW7vMl6SNGzc659es\n",
              "WVNVq1Z1mZOVlaUdO3YUeExv50mfpCvfHJ86dao2bNig5s2bX/d1jh8/rjNnzigsLKxE6r7VPO3T\n",
              "r+Xl5emLL75w9oD15Oqtt95Sbm6uBg4ceN3XMX09Fdf1PptKYn2WFcuXL9eQIUO0fPlyl9uNFiQn\n",
              "J0eHDx++bdZSQXbv3u3sAevJVVpamg4dOlSkEwumryfLsjRixAitWbNGH374oWrWrHndfbw+O930\n",
              "r8SiRKWkpFh2u91KTk629u7da/3Xf/2XFRwcbJ08edKyLMt67LHHrAkTJjjnp6enW+XLl7dmzJhh\n",
              "7du3z4qPj7cqVKhgffHFF845iYmJVnBwsLVu3Trr888/t3r06GHVrFnTunDhwi1/fyWluH1KTEy0\n",
              "fH19rVWrVlknTpxwPrKzsy3Lsqzs7Gzrb3/7m7V9+3bryJEj1qZNm6xmzZpZdevWtS5evFgq77Ek\n",
              "FLdPkydPtt5//33r8OHD1s6dO61+/fpZfn5+1ldffeWcw3r6Rbt27ay+ffu6jZfF9ZSdnW3t2rXL\n",
              "2rVrlyXJ+te//mXt2rXLOnr0qGVZljVhwgTrsccec87/5ptvrIoVK1rPPvustW/fPmv+/PmWj4+P\n",
              "tWHDBuec6/XdRMXt09KlS63y5ctb8+fPd/lsOnv2rHPO2LFjrdTUVOvIkSNWenq6FRMTY1WqVMk6\n",
              "derULX9/JaW4fZo1a5a1du1a6+DBg9YXX3xhjRo1yipXrpy1adMm5xzW0y8GDhxotWrV6prHLGvr\n",
              "6amnnrIcDoeVmprq8jt0/vx55xzTshPh3UBz5861atSoYfn6+lotW7a0PvnkE+e29u3bW4MGDXKZ\n",
              "v3LlSuuee+6xfH19rYYNG1rvvvuuy/b8/Hzr+eeft6pUqWLZ7XarY8eO1oEDB27FW7mpitOniIgI\n",
              "S5LbIz4+3rIsyzp//rzVuXNnKzQ01KpQoYIVERFhPfnkk0Z/6F9VnD6NHj3aObdKlSrWQw89ZH32\n",
              "2Wcux2M9XbF//35LkvXBBx+4Hassrqert+r77eNqXwYNGmS1b9/ebZ8mTZpYvr6+Vq1ataykpCS3\n",
              "4xbWdxMVt0/t27cvdL5lXbnFZlhYmOXr62vdddddVt++fa1Dhw7d2jdWworbp2nTplm1a9e2/Pz8\n",
              "rJCQEKtDhw7Whx9+6Hbc2309WdaVWxr6+/tbr7766jWPWdbW07X6I8nl88a07GSzLMu6aaf1AQAA\n",
              "AJQYrnkHAAAADEF4BwAAAAxBeAcAAAAMQXgHAAAADEF4BwAAAAxBeAcAAAAMQXgHAAAADEF4BwAA\n",
              "AAxBeAcAAAAMQXgHAAAADEF4BwAAAAxBeAcAAAAM8f+pNbzAzYO4XwAAAABJRU5ErkJggg==\n",
              "\">\n",
              "        <script></script>"
            ],
            "text/plain": [
              "<google.colab._quickchart_lib.MplChart at 0x7d3d8de458d0>"
            ]
          },
          "metadata": {},
          "execution_count": 134
        }
      ]
    },
    {
      "cell_type": "code",
      "source": [
        "plt.subplots(figsize=(10,7))\n",
        "sns.heatmap(df.corr(), annot=True)"
      ],
      "metadata": {
        "colab": {
          "base_uri": "https://localhost:8080/",
          "height": 864
        },
        "outputId": "5394e2d6-e037-4cdc-e64d-d52c49581db4",
        "id": "IFcOrxNDbSNY"
      },
      "execution_count": null,
      "outputs": [
        {
          "output_type": "stream",
          "name": "stderr",
          "text": [
            "<ipython-input-123-a37e72bb04ab>:2: FutureWarning: The default value of numeric_only in DataFrame.corr is deprecated. In a future version, it will default to False. Select only valid columns or specify the value of numeric_only to silence this warning.\n",
            "  sns.heatmap(df.corr(), annot=True)\n"
          ]
        },
        {
          "output_type": "execute_result",
          "data": {
            "text/plain": [
              "<Axes: >"
            ]
          },
          "metadata": {},
          "execution_count": 123
        },
        {
          "output_type": "display_data",
          "data": {
            "text/plain": [
              "<Figure size 1000x700 with 2 Axes>"
            ],
            "image/png": "[encoded data removed]"
          },
          "metadata": {}
        }
      ]
    },
    {
      "cell_type": "markdown",
      "source": [
        "## ***Here We can See some obvious results like***\n",
        "\n",
        "\n",
        "### *   If Subscription period is more then the Possibility of churn will be less\n",
        "### *   If monthly bill is high then the Possibility of churn will be less\n",
        "### *   If Internet usage is high the Possibility of churn will be less\n",
        "\n",
        "\n",
        "\n"
      ],
      "metadata": {
        "id": "5fRDxhnWgEsN"
      }
    },
    {
      "cell_type": "markdown",
      "source": [
        "### **Numbering Categorical Columns**"
      ],
      "metadata": {
        "id": "Yo3i5jYsFEhv"
      }
    },
    {
      "cell_type": "code",
      "source": [
        "df.replace({'Gender':{'Male':1,'Female':0},\n",
        "                      'Location':{'Los Angeles':0,'New York':1,'Miami':2,'Chicago':3, 'Houston':4}},inplace=True)"
      ],
      "metadata": {
        "id": "wzWExOjA76RP"
      },
      "execution_count": null,
      "outputs": []
    },
    {
      "cell_type": "code",
      "source": [
        "df.head()"
      ],
      "metadata": {
        "colab": {
          "base_uri": "https://localhost:8080/",
          "height": 206
        },
        "id": "ogMiYibJYF27",
        "outputId": "d108bbf8-f848-499b-d96b-153ce15e9c65"
      },
      "execution_count": null,
      "outputs": [
        {
          "output_type": "execute_result",
          "data": {
            "text/plain": [
              "   Age  Gender  Location  Subscription_Length_Months  Monthly_Bill  \\\n",
              "0   63       1         0                          17         73.36   \n",
              "1   62       0         1                           1         48.76   \n",
              "2   24       0         0                           5         85.47   \n",
              "3   36       0         2                           3         97.94   \n",
              "4   46       0         2                          19         58.14   \n",
              "\n",
              "   Total_Usage_GB  Churn  \n",
              "0             236      0  \n",
              "1             172      0  \n",
              "2             460      0  \n",
              "3             297      1  \n",
              "4             266      0  "
            ],
            "text/html": [
              "\n",
              "  <div id=\"df-b9a93b00-f38d-4deb-afc2-7ea26127700a\" class=\"colab-df-container\">\n",
              "    <div>\n",
              "<style scoped>\n",
              "    .dataframe tbody tr th:only-of-type {\n",
              "        vertical-align: middle;\n",
              "    }\n",
              "\n",
              "    .dataframe tbody tr th {\n",
              "        vertical-align: top;\n",
              "    }\n",
              "\n",
              "    .dataframe thead th {\n",
              "        text-align: right;\n",
              "    }\n",
              "</style>\n",
              "<table border=\"1\" class=\"dataframe\">\n",
              "  <thead>\n",
              "    <tr style=\"text-align: right;\">\n",
              "      <th></th>\n",
              "      <th>Age</th>\n",
              "      <th>Gender</th>\n",
              "      <th>Location</th>\n",
              "      <th>Subscription_Length_Months</th>\n",
              "      <th>Monthly_Bill</th>\n",
              "      <th>Total_Usage_GB</th>\n",
              "      <th>Churn</th>\n",
              "    </tr>\n",
              "  </thead>\n",
              "  <tbody>\n",
              "    <tr>\n",
              "      <th>0</th>\n",
              "      <td>63</td>\n",
              "      <td>1</td>\n",
              "      <td>0</td>\n",
              "      <td>17</td>\n",
              "      <td>73.36</td>\n",
              "      <td>236</td>\n",
              "      <td>0</td>\n",
              "    </tr>\n",
              "    <tr>\n",
              "      <th>1</th>\n",
              "      <td>62</td>\n",
              "      <td>0</td>\n",
              "      <td>1</td>\n",
              "      <td>1</td>\n",
              "      <td>48.76</td>\n",
              "      <td>172</td>\n",
              "      <td>0</td>\n",
              "    </tr>\n",
              "    <tr>\n",
              "      <th>2</th>\n",
              "      <td>24</td>\n",
              "      <td>0</td>\n",
              "      <td>0</td>\n",
              "      <td>5</td>\n",
              "      <td>85.47</td>\n",
              "      <td>460</td>\n",
              "      <td>0</td>\n",
              "    </tr>\n",
              "    <tr>\n",
              "      <th>3</th>\n",
              "      <td>36</td>\n",
              "      <td>0</td>\n",
              "      <td>2</td>\n",
              "      <td>3</td>\n",
              "      <td>97.94</td>\n",
              "      <td>297</td>\n",
              "      <td>1</td>\n",
              "    </tr>\n",
              "    <tr>\n",
              "      <th>4</th>\n",
              "      <td>46</td>\n",
              "      <td>0</td>\n",
              "      <td>2</td>\n",
              "      <td>19</td>\n",
              "      <td>58.14</td>\n",
              "      <td>266</td>\n",
              "      <td>0</td>\n",
              "    </tr>\n",
              "  </tbody>\n",
              "</table>\n",
              "</div>\n",
              "    <div class=\"colab-df-buttons\">\n",
              "\n",
              "  <div class=\"colab-df-container\">\n",
              "    <button class=\"colab-df-convert\" onclick=\"convertToInteractive('df-b9a93b00-f38d-4deb-afc2-7ea26127700a')\"\n",
              "            title=\"Convert this dataframe to an interactive table.\"\n",
              "            style=\"display:none;\">\n",
              "\n",
              "  <svg xmlns=\"http://www.w3.org/2000/svg\" height=\"24px\" viewBox=\"0 -960 960 960\">\n",
              "    <path d=\"M120-120v-720h720v720H120Zm60-500h600v-160H180v160Zm220 220h160v-160H400v160Zm0 220h160v-160H400v160ZM180-400h160v-160H180v160Zm440 0h160v-160H620v160ZM180-180h160v-160H180v160Zm440 0h160v-160H620v160Z\"/>\n",
              "  </svg>\n",
              "    </button>\n",
              "\n",
              "  <style>\n",
              "    .colab-df-container {\n",
              "      display:flex;\n",
              "      gap: 12px;\n",
              "    }\n",
              "\n",
              "    .colab-df-convert {\n",
              "      background-color: #E8F0FE;\n",
              "      border: none;\n",
              "      border-radius: 50%;\n",
              "      cursor: pointer;\n",
              "      display: none;\n",
              "      fill: #1967D2;\n",
              "      height: 32px;\n",
              "      padding: 0 0 0 0;\n",
              "      width: 32px;\n",
              "    }\n",
              "\n",
              "    .colab-df-convert:hover {\n",
              "      background-color: #E2EBFA;\n",
              "      box-shadow: 0px 1px 2px rgba(60, 64, 67, 0.3), 0px 1px 3px 1px rgba(60, 64, 67, 0.15);\n",
              "      fill: #174EA6;\n",
              "    }\n",
              "\n",
              "    .colab-df-buttons div {\n",
              "      margin-bottom: 4px;\n",
              "    }\n",
              "\n",
              "    [theme=dark] .colab-df-convert {\n",
              "      background-color: #3B4455;\n",
              "      fill: #D2E3FC;\n",
              "    }\n",
              "\n",
              "    [theme=dark] .colab-df-convert:hover {\n",
              "      background-color: #434B5C;\n",
              "      box-shadow: 0px 1px 3px 1px rgba(0, 0, 0, 0.15);\n",
              "      filter: drop-shadow(0px 1px 2px rgba(0, 0, 0, 0.3));\n",
              "      fill: #FFFFFF;\n",
              "    }\n",
              "  </style>\n",
              "\n",
              "    <script>\n",
              "      const buttonEl =\n",
              "        document.querySelector('#df-b9a93b00-f38d-4deb-afc2-7ea26127700a button.colab-df-convert');\n",
              "      buttonEl.style.display =\n",
              "        google.colab.kernel.accessAllowed ? 'block' : 'none';\n",
              "\n",
              "      async function convertToInteractive(key) {\n",
              "        const element = document.querySelector('#df-b9a93b00-f38d-4deb-afc2-7ea26127700a');\n",
              "        const dataTable =\n",
              "          await google.colab.kernel.invokeFunction('convertToInteractive',\n",
              "                                                    [key], {});\n",
              "        if (!dataTable) return;\n",
              "\n",
              "        const docLinkHtml = 'Like what you see? Visit the ' +\n",
              "          '<a target=\"_blank\" href=https://colab.research.google.com/notebooks/data_table.ipynb>data table notebook</a>'\n",
              "          + ' to learn more about interactive tables.';\n",
              "        element.innerHTML = '';\n",
              "        dataTable['output_type'] = 'display_data';\n",
              "        await google.colab.output.renderOutput(dataTable, element);\n",
              "        const docLink = document.createElement('div');\n",
              "        docLink.innerHTML = docLinkHtml;\n",
              "        element.appendChild(docLink);\n",
              "      }\n",
              "    </script>\n",
              "  </div>\n",
              "\n",
              "\n",
              "<div id=\"df-292f48dc-2bf2-4fcc-9b78-afc812ff9e16\">\n",
              "  <button class=\"colab-df-quickchart\" onclick=\"quickchart('df-292f48dc-2bf2-4fcc-9b78-afc812ff9e16')\"\n",
              "            title=\"Suggest charts.\"\n",
              "            style=\"display:none;\">\n",
              "\n",
              "<svg xmlns=\"http://www.w3.org/2000/svg\" height=\"24px\"viewBox=\"0 0 24 24\"\n",
              "     width=\"24px\">\n",
              "    <g>\n",
              "        <path d=\"M19 3H5c-1.1 0-2 .9-2 2v14c0 1.1.9 2 2 2h14c1.1 0 2-.9 2-2V5c0-1.1-.9-2-2-2zM9 17H7v-7h2v7zm4 0h-2V7h2v10zm4 0h-2v-4h2v4z\"/>\n",
              "    </g>\n",
              "</svg>\n",
              "  </button>\n",
              "\n",
              "<style>\n",
              "  .colab-df-quickchart {\n",
              "    background-color: #E8F0FE;\n",
              "    border: none;\n",
              "    border-radius: 50%;\n",
              "    cursor: pointer;\n",
              "    display: none;\n",
              "    fill: #1967D2;\n",
              "    height: 32px;\n",
              "    padding: 0 0 0 0;\n",
              "    width: 32px;\n",
              "  }\n",
              "\n",
              "  .colab-df-quickchart:hover {\n",
              "    background-color: #E2EBFA;\n",
              "    box-shadow: 0px 1px 2px rgba(60, 64, 67, 0.3), 0px 1px 3px 1px rgba(60, 64, 67, 0.15);\n",
              "    fill: #174EA6;\n",
              "  }\n",
              "\n",
              "  [theme=dark] .colab-df-quickchart {\n",
              "    background-color: #3B4455;\n",
              "    fill: #D2E3FC;\n",
              "  }\n",
              "\n",
              "  [theme=dark] .colab-df-quickchart:hover {\n",
              "    background-color: #434B5C;\n",
              "    box-shadow: 0px 1px 3px 1px rgba(0, 0, 0, 0.15);\n",
              "    filter: drop-shadow(0px 1px 2px rgba(0, 0, 0, 0.3));\n",
              "    fill: #FFFFFF;\n",
              "  }\n",
              "</style>\n",
              "\n",
              "  <script>\n",
              "    async function quickchart(key) {\n",
              "      const charts = await google.colab.kernel.invokeFunction(\n",
              "          'suggestCharts', [key], {});\n",
              "    }\n",
              "    (() => {\n",
              "      let quickchartButtonEl =\n",
              "        document.querySelector('#df-292f48dc-2bf2-4fcc-9b78-afc812ff9e16 button');\n",
              "      quickchartButtonEl.style.display =\n",
              "        google.colab.kernel.accessAllowed ? 'block' : 'none';\n",
              "    })();\n",
              "  </script>\n",
              "</div>\n",
              "    </div>\n",
              "  </div>\n"
            ]
          },
          "metadata": {},
          "execution_count": 135
        }
      ]
    },
    {
      "cell_type": "code",
      "source": [
        "#Define X and y\n",
        "X = df.drop('Churn', axis=1)\n",
        "y = df['Churn']\n"
      ],
      "metadata": {
        "id": "BdAqLOAB2QJ1"
      },
      "execution_count": null,
      "outputs": []
    },
    {
      "cell_type": "markdown",
      "source": [
        "### **2.Feature Engineering**"
      ],
      "metadata": {
        "id": "DJx4obiIhTKY"
      }
    },
    {
      "cell_type": "code",
      "source": [
        "X_train, X_test, y_train, y_test = train_test_split(X,y,test_size=0.20)"
      ],
      "metadata": {
        "id": "1vIQQvlZ2ibn"
      },
      "execution_count": null,
      "outputs": []
    },
    {
      "cell_type": "code",
      "source": [
        "from sklearn.preprocessing import MinMaxScaler\n",
        "scaler = MinMaxScaler()"
      ],
      "metadata": {
        "id": "2-h8M7EUJ3W9"
      },
      "execution_count": null,
      "outputs": []
    },
    {
      "cell_type": "code",
      "source": [
        "sub_vars = ['Age','Subscription_Length_Months',\t'Monthly_Bill',\t'Total_Usage_GB']\n",
        "X_train[sub_vars] = scaler.fit_transform(X_train[sub_vars]) #output in pandas frame\n",
        "X_train[sub_vars].head()"
      ],
      "metadata": {
        "colab": {
          "base_uri": "https://localhost:8080/",
          "height": 206
        },
        "id": "rQQ_jjcAJ3W-",
        "outputId": "5f59caf0-1ca7-4c9b-a77e-b0fd2f81eccb"
      },
      "execution_count": null,
      "outputs": [
        {
          "output_type": "execute_result",
          "data": {
            "text/plain": [
              "            Age  Subscription_Length_Months  Monthly_Bill  Total_Usage_GB\n",
              "26309  0.057692                    0.173913      0.363714        0.151111\n",
              "83153  0.057692                    0.478261      0.010286        0.595556\n",
              "13022  0.442308                    0.652174      0.046143        0.306667\n",
              "8472   0.961538                    0.347826      0.218143        0.177778\n",
              "42546  0.326923                    0.782609      0.772286        0.693333"
            ],
            "text/html": [
              "\n",
              "  <div id=\"df-b66efaa2-06d9-4a56-80eb-6e0f97f31148\" class=\"colab-df-container\">\n",
              "    <div>\n",
              "<style scoped>\n",
              "    .dataframe tbody tr th:only-of-type {\n",
              "        vertical-align: middle;\n",
              "    }\n",
              "\n",
              "    .dataframe tbody tr th {\n",
              "        vertical-align: top;\n",
              "    }\n",
              "\n",
              "    .dataframe thead th {\n",
              "        text-align: right;\n",
              "    }\n",
              "</style>\n",
              "<table border=\"1\" class=\"dataframe\">\n",
              "  <thead>\n",
              "    <tr style=\"text-align: right;\">\n",
              "      <th></th>\n",
              "      <th>Age</th>\n",
              "      <th>Subscription_Length_Months</th>\n",
              "      <th>Monthly_Bill</th>\n",
              "      <th>Total_Usage_GB</th>\n",
              "    </tr>\n",
              "  </thead>\n",
              "  <tbody>\n",
              "    <tr>\n",
              "      <th>26309</th>\n",
              "      <td>0.057692</td>\n",
              "      <td>0.173913</td>\n",
              "      <td>0.363714</td>\n",
              "      <td>0.151111</td>\n",
              "    </tr>\n",
              "    <tr>\n",
              "      <th>83153</th>\n",
              "      <td>0.057692</td>\n",
              "      <td>0.478261</td>\n",
              "      <td>0.010286</td>\n",
              "      <td>0.595556</td>\n",
              "    </tr>\n",
              "    <tr>\n",
              "      <th>13022</th>\n",
              "      <td>0.442308</td>\n",
              "      <td>0.652174</td>\n",
              "      <td>0.046143</td>\n",
              "      <td>0.306667</td>\n",
              "    </tr>\n",
              "    <tr>\n",
              "      <th>8472</th>\n",
              "      <td>0.961538</td>\n",
              "      <td>0.347826</td>\n",
              "      <td>0.218143</td>\n",
              "      <td>0.177778</td>\n",
              "    </tr>\n",
              "    <tr>\n",
              "      <th>42546</th>\n",
              "      <td>0.326923</td>\n",
              "      <td>0.782609</td>\n",
              "      <td>0.772286</td>\n",
              "      <td>0.693333</td>\n",
              "    </tr>\n",
              "  </tbody>\n",
              "</table>\n",
              "</div>\n",
              "    <div class=\"colab-df-buttons\">\n",
              "\n",
              "  <div class=\"colab-df-container\">\n",
              "    <button class=\"colab-df-convert\" onclick=\"convertToInteractive('df-b66efaa2-06d9-4a56-80eb-6e0f97f31148')\"\n",
              "            title=\"Convert this dataframe to an interactive table.\"\n",
              "            style=\"display:none;\">\n",
              "\n",
              "  <svg xmlns=\"http://www.w3.org/2000/svg\" height=\"24px\" viewBox=\"0 -960 960 960\">\n",
              "    <path d=\"M120-120v-720h720v720H120Zm60-500h600v-160H180v160Zm220 220h160v-160H400v160Zm0 220h160v-160H400v160ZM180-400h160v-160H180v160Zm440 0h160v-160H620v160ZM180-180h160v-160H180v160Zm440 0h160v-160H620v160Z\"/>\n",
              "  </svg>\n",
              "    </button>\n",
              "\n",
              "  <style>\n",
              "    .colab-df-container {\n",
              "      display:flex;\n",
              "      gap: 12px;\n",
              "    }\n",
              "\n",
              "    .colab-df-convert {\n",
              "      background-color: #E8F0FE;\n",
              "      border: none;\n",
              "      border-radius: 50%;\n",
              "      cursor: pointer;\n",
              "      display: none;\n",
              "      fill: #1967D2;\n",
              "      height: 32px;\n",
              "      padding: 0 0 0 0;\n",
              "      width: 32px;\n",
              "    }\n",
              "\n",
              "    .colab-df-convert:hover {\n",
              "      background-color: #E2EBFA;\n",
              "      box-shadow: 0px 1px 2px rgba(60, 64, 67, 0.3), 0px 1px 3px 1px rgba(60, 64, 67, 0.15);\n",
              "      fill: #174EA6;\n",
              "    }\n",
              "\n",
              "    .colab-df-buttons div {\n",
              "      margin-bottom: 4px;\n",
              "    }\n",
              "\n",
              "    [theme=dark] .colab-df-convert {\n",
              "      background-color: #3B4455;\n",
              "      fill: #D2E3FC;\n",
              "    }\n",
              "\n",
              "    [theme=dark] .colab-df-convert:hover {\n",
              "      background-color: #434B5C;\n",
              "      box-shadow: 0px 1px 3px 1px rgba(0, 0, 0, 0.15);\n",
              "      filter: drop-shadow(0px 1px 2px rgba(0, 0, 0, 0.3));\n",
              "      fill: #FFFFFF;\n",
              "    }\n",
              "  </style>\n",
              "\n",
              "    <script>\n",
              "      const buttonEl =\n",
              "        document.querySelector('#df-b66efaa2-06d9-4a56-80eb-6e0f97f31148 button.colab-df-convert');\n",
              "      buttonEl.style.display =\n",
              "        google.colab.kernel.accessAllowed ? 'block' : 'none';\n",
              "\n",
              "      async function convertToInteractive(key) {\n",
              "        const element = document.querySelector('#df-b66efaa2-06d9-4a56-80eb-6e0f97f31148');\n",
              "        const dataTable =\n",
              "          await google.colab.kernel.invokeFunction('convertToInteractive',\n",
              "                                                    [key], {});\n",
              "        if (!dataTable) return;\n",
              "\n",
              "        const docLinkHtml = 'Like what you see? Visit the ' +\n",
              "          '<a target=\"_blank\" href=https://colab.research.google.com/notebooks/data_table.ipynb>data table notebook</a>'\n",
              "          + ' to learn more about interactive tables.';\n",
              "        element.innerHTML = '';\n",
              "        dataTable['output_type'] = 'display_data';\n",
              "        await google.colab.output.renderOutput(dataTable, element);\n",
              "        const docLink = document.createElement('div');\n",
              "        docLink.innerHTML = docLinkHtml;\n",
              "        element.appendChild(docLink);\n",
              "      }\n",
              "    </script>\n",
              "  </div>\n",
              "\n",
              "\n",
              "<div id=\"df-0122cc85-e0df-49a0-a709-d894d0a41b74\">\n",
              "  <button class=\"colab-df-quickchart\" onclick=\"quickchart('df-0122cc85-e0df-49a0-a709-d894d0a41b74')\"\n",
              "            title=\"Suggest charts.\"\n",
              "            style=\"display:none;\">\n",
              "\n",
              "<svg xmlns=\"http://www.w3.org/2000/svg\" height=\"24px\"viewBox=\"0 0 24 24\"\n",
              "     width=\"24px\">\n",
              "    <g>\n",
              "        <path d=\"M19 3H5c-1.1 0-2 .9-2 2v14c0 1.1.9 2 2 2h14c1.1 0 2-.9 2-2V5c0-1.1-.9-2-2-2zM9 17H7v-7h2v7zm4 0h-2V7h2v10zm4 0h-2v-4h2v4z\"/>\n",
              "    </g>\n",
              "</svg>\n",
              "  </button>\n",
              "\n",
              "<style>\n",
              "  .colab-df-quickchart {\n",
              "    background-color: #E8F0FE;\n",
              "    border: none;\n",
              "    border-radius: 50%;\n",
              "    cursor: pointer;\n",
              "    display: none;\n",
              "    fill: #1967D2;\n",
              "    height: 32px;\n",
              "    padding: 0 0 0 0;\n",
              "    width: 32px;\n",
              "  }\n",
              "\n",
              "  .colab-df-quickchart:hover {\n",
              "    background-color: #E2EBFA;\n",
              "    box-shadow: 0px 1px 2px rgba(60, 64, 67, 0.3), 0px 1px 3px 1px rgba(60, 64, 67, 0.15);\n",
              "    fill: #174EA6;\n",
              "  }\n",
              "\n",
              "  [theme=dark] .colab-df-quickchart {\n",
              "    background-color: #3B4455;\n",
              "    fill: #D2E3FC;\n",
              "  }\n",
              "\n",
              "  [theme=dark] .colab-df-quickchart:hover {\n",
              "    background-color: #434B5C;\n",
              "    box-shadow: 0px 1px 3px 1px rgba(0, 0, 0, 0.15);\n",
              "    filter: drop-shadow(0px 1px 2px rgba(0, 0, 0, 0.3));\n",
              "    fill: #FFFFFF;\n",
              "  }\n",
              "</style>\n",
              "\n",
              "  <script>\n",
              "    async function quickchart(key) {\n",
              "      const charts = await google.colab.kernel.invokeFunction(\n",
              "          'suggestCharts', [key], {});\n",
              "    }\n",
              "    (() => {\n",
              "      let quickchartButtonEl =\n",
              "        document.querySelector('#df-0122cc85-e0df-49a0-a709-d894d0a41b74 button');\n",
              "      quickchartButtonEl.style.display =\n",
              "        google.colab.kernel.accessAllowed ? 'block' : 'none';\n",
              "    })();\n",
              "  </script>\n",
              "</div>\n",
              "    </div>\n",
              "  </div>\n"
            ]
          },
          "metadata": {},
          "execution_count": 139
        }
      ]
    },
    {
      "cell_type": "code",
      "source": [
        "X_train.head()"
      ],
      "metadata": {
        "colab": {
          "base_uri": "https://localhost:8080/",
          "height": 206
        },
        "id": "PYBPN9tnN0U7",
        "outputId": "cb6f71e8-b827-444a-c4b4-0f24b1c5ea41"
      },
      "execution_count": null,
      "outputs": [
        {
          "output_type": "execute_result",
          "data": {
            "text/plain": [
              "            Age  Gender  Location  Subscription_Length_Months  Monthly_Bill  \\\n",
              "26309  0.057692       0         3                    0.173913      0.363714   \n",
              "83153  0.057692       1         4                    0.478261      0.010286   \n",
              "13022  0.442308       1         1                    0.652174      0.046143   \n",
              "8472   0.961538       1         4                    0.347826      0.218143   \n",
              "42546  0.326923       0         2                    0.782609      0.772286   \n",
              "\n",
              "       Total_Usage_GB  \n",
              "26309        0.151111  \n",
              "83153        0.595556  \n",
              "13022        0.306667  \n",
              "8472         0.177778  \n",
              "42546        0.693333  "
            ],
            "text/html": [
              "\n",
              "  <div id=\"df-456df099-60f1-440d-b259-99b028a20ea4\" class=\"colab-df-container\">\n",
              "    <div>\n",
              "<style scoped>\n",
              "    .dataframe tbody tr th:only-of-type {\n",
              "        vertical-align: middle;\n",
              "    }\n",
              "\n",
              "    .dataframe tbody tr th {\n",
              "        vertical-align: top;\n",
              "    }\n",
              "\n",
              "    .dataframe thead th {\n",
              "        text-align: right;\n",
              "    }\n",
              "</style>\n",
              "<table border=\"1\" class=\"dataframe\">\n",
              "  <thead>\n",
              "    <tr style=\"text-align: right;\">\n",
              "      <th></th>\n",
              "      <th>Age</th>\n",
              "      <th>Gender</th>\n",
              "      <th>Location</th>\n",
              "      <th>Subscription_Length_Months</th>\n",
              "      <th>Monthly_Bill</th>\n",
              "      <th>Total_Usage_GB</th>\n",
              "    </tr>\n",
              "  </thead>\n",
              "  <tbody>\n",
              "    <tr>\n",
              "      <th>26309</th>\n",
              "      <td>0.057692</td>\n",
              "      <td>0</td>\n",
              "      <td>3</td>\n",
              "      <td>0.173913</td>\n",
              "      <td>0.363714</td>\n",
              "      <td>0.151111</td>\n",
              "    </tr>\n",
              "    <tr>\n",
              "      <th>83153</th>\n",
              "      <td>0.057692</td>\n",
              "      <td>1</td>\n",
              "      <td>4</td>\n",
              "      <td>0.478261</td>\n",
              "      <td>0.010286</td>\n",
              "      <td>0.595556</td>\n",
              "    </tr>\n",
              "    <tr>\n",
              "      <th>13022</th>\n",
              "      <td>0.442308</td>\n",
              "      <td>1</td>\n",
              "      <td>1</td>\n",
              "      <td>0.652174</td>\n",
              "      <td>0.046143</td>\n",
              "      <td>0.306667</td>\n",
              "    </tr>\n",
              "    <tr>\n",
              "      <th>8472</th>\n",
              "      <td>0.961538</td>\n",
              "      <td>1</td>\n",
              "      <td>4</td>\n",
              "      <td>0.347826</td>\n",
              "      <td>0.218143</td>\n",
              "      <td>0.177778</td>\n",
              "    </tr>\n",
              "    <tr>\n",
              "      <th>42546</th>\n",
              "      <td>0.326923</td>\n",
              "      <td>0</td>\n",
              "      <td>2</td>\n",
              "      <td>0.782609</td>\n",
              "      <td>0.772286</td>\n",
              "      <td>0.693333</td>\n",
              "    </tr>\n",
              "  </tbody>\n",
              "</table>\n",
              "</div>\n",
              "    <div class=\"colab-df-buttons\">\n",
              "\n",
              "  <div class=\"colab-df-container\">\n",
              "    <button class=\"colab-df-convert\" onclick=\"convertToInteractive('df-456df099-60f1-440d-b259-99b028a20ea4')\"\n",
              "            title=\"Convert this dataframe to an interactive table.\"\n",
              "            style=\"display:none;\">\n",
              "\n",
              "  <svg xmlns=\"http://www.w3.org/2000/svg\" height=\"24px\" viewBox=\"0 -960 960 960\">\n",
              "    <path d=\"M120-120v-720h720v720H120Zm60-500h600v-160H180v160Zm220 220h160v-160H400v160Zm0 220h160v-160H400v160ZM180-400h160v-160H180v160Zm440 0h160v-160H620v160ZM180-180h160v-160H180v160Zm440 0h160v-160H620v160Z\"/>\n",
              "  </svg>\n",
              "    </button>\n",
              "\n",
              "  <style>\n",
              "    .colab-df-container {\n",
              "      display:flex;\n",
              "      gap: 12px;\n",
              "    }\n",
              "\n",
              "    .colab-df-convert {\n",
              "      background-color: #E8F0FE;\n",
              "      border: none;\n",
              "      border-radius: 50%;\n",
              "      cursor: pointer;\n",
              "      display: none;\n",
              "      fill: #1967D2;\n",
              "      height: 32px;\n",
              "      padding: 0 0 0 0;\n",
              "      width: 32px;\n",
              "    }\n",
              "\n",
              "    .colab-df-convert:hover {\n",
              "      background-color: #E2EBFA;\n",
              "      box-shadow: 0px 1px 2px rgba(60, 64, 67, 0.3), 0px 1px 3px 1px rgba(60, 64, 67, 0.15);\n",
              "      fill: #174EA6;\n",
              "    }\n",
              "\n",
              "    .colab-df-buttons div {\n",
              "      margin-bottom: 4px;\n",
              "    }\n",
              "\n",
              "    [theme=dark] .colab-df-convert {\n",
              "      background-color: #3B4455;\n",
              "      fill: #D2E3FC;\n",
              "    }\n",
              "\n",
              "    [theme=dark] .colab-df-convert:hover {\n",
              "      background-color: #434B5C;\n",
              "      box-shadow: 0px 1px 3px 1px rgba(0, 0, 0, 0.15);\n",
              "      filter: drop-shadow(0px 1px 2px rgba(0, 0, 0, 0.3));\n",
              "      fill: #FFFFFF;\n",
              "    }\n",
              "  </style>\n",
              "\n",
              "    <script>\n",
              "      const buttonEl =\n",
              "        document.querySelector('#df-456df099-60f1-440d-b259-99b028a20ea4 button.colab-df-convert');\n",
              "      buttonEl.style.display =\n",
              "        google.colab.kernel.accessAllowed ? 'block' : 'none';\n",
              "\n",
              "      async function convertToInteractive(key) {\n",
              "        const element = document.querySelector('#df-456df099-60f1-440d-b259-99b028a20ea4');\n",
              "        const dataTable =\n",
              "          await google.colab.kernel.invokeFunction('convertToInteractive',\n",
              "                                                    [key], {});\n",
              "        if (!dataTable) return;\n",
              "\n",
              "        const docLinkHtml = 'Like what you see? Visit the ' +\n",
              "          '<a target=\"_blank\" href=https://colab.research.google.com/notebooks/data_table.ipynb>data table notebook</a>'\n",
              "          + ' to learn more about interactive tables.';\n",
              "        element.innerHTML = '';\n",
              "        dataTable['output_type'] = 'display_data';\n",
              "        await google.colab.output.renderOutput(dataTable, element);\n",
              "        const docLink = document.createElement('div');\n",
              "        docLink.innerHTML = docLinkHtml;\n",
              "        element.appendChild(docLink);\n",
              "      }\n",
              "    </script>\n",
              "  </div>\n",
              "\n",
              "\n",
              "<div id=\"df-6cc55791-1e7a-4e85-96ce-d6a76e27a5fb\">\n",
              "  <button class=\"colab-df-quickchart\" onclick=\"quickchart('df-6cc55791-1e7a-4e85-96ce-d6a76e27a5fb')\"\n",
              "            title=\"Suggest charts.\"\n",
              "            style=\"display:none;\">\n",
              "\n",
              "<svg xmlns=\"http://www.w3.org/2000/svg\" height=\"24px\"viewBox=\"0 0 24 24\"\n",
              "     width=\"24px\">\n",
              "    <g>\n",
              "        <path d=\"M19 3H5c-1.1 0-2 .9-2 2v14c0 1.1.9 2 2 2h14c1.1 0 2-.9 2-2V5c0-1.1-.9-2-2-2zM9 17H7v-7h2v7zm4 0h-2V7h2v10zm4 0h-2v-4h2v4z\"/>\n",
              "    </g>\n",
              "</svg>\n",
              "  </button>\n",
              "\n",
              "<style>\n",
              "  .colab-df-quickchart {\n",
              "    background-color: #E8F0FE;\n",
              "    border: none;\n",
              "    border-radius: 50%;\n",
              "    cursor: pointer;\n",
              "    display: none;\n",
              "    fill: #1967D2;\n",
              "    height: 32px;\n",
              "    padding: 0 0 0 0;\n",
              "    width: 32px;\n",
              "  }\n",
              "\n",
              "  .colab-df-quickchart:hover {\n",
              "    background-color: #E2EBFA;\n",
              "    box-shadow: 0px 1px 2px rgba(60, 64, 67, 0.3), 0px 1px 3px 1px rgba(60, 64, 67, 0.15);\n",
              "    fill: #174EA6;\n",
              "  }\n",
              "\n",
              "  [theme=dark] .colab-df-quickchart {\n",
              "    background-color: #3B4455;\n",
              "    fill: #D2E3FC;\n",
              "  }\n",
              "\n",
              "  [theme=dark] .colab-df-quickchart:hover {\n",
              "    background-color: #434B5C;\n",
              "    box-shadow: 0px 1px 3px 1px rgba(0, 0, 0, 0.15);\n",
              "    filter: drop-shadow(0px 1px 2px rgba(0, 0, 0, 0.3));\n",
              "    fill: #FFFFFF;\n",
              "  }\n",
              "</style>\n",
              "\n",
              "  <script>\n",
              "    async function quickchart(key) {\n",
              "      const charts = await google.colab.kernel.invokeFunction(\n",
              "          'suggestCharts', [key], {});\n",
              "    }\n",
              "    (() => {\n",
              "      let quickchartButtonEl =\n",
              "        document.querySelector('#df-6cc55791-1e7a-4e85-96ce-d6a76e27a5fb button');\n",
              "      quickchartButtonEl.style.display =\n",
              "        google.colab.kernel.accessAllowed ? 'block' : 'none';\n",
              "    })();\n",
              "  </script>\n",
              "</div>\n",
              "    </div>\n",
              "  </div>\n"
            ]
          },
          "metadata": {},
          "execution_count": 140
        }
      ]
    },
    {
      "cell_type": "markdown",
      "source": [
        "### **3.Model Building**"
      ],
      "metadata": {
        "id": "bZRTHo_eBrXH"
      }
    },
    {
      "cell_type": "code",
      "source": [
        "from sklearn.linear_model import LogisticRegression\n",
        "lr = LogisticRegression()\n",
        "lr.fit(X_train, y_train)"
      ],
      "metadata": {
        "colab": {
          "base_uri": "https://localhost:8080/",
          "height": 74
        },
        "id": "hY5YbOD62vEV",
        "outputId": "1c6185ee-af00-464a-9b84-413325dd53fc"
      },
      "execution_count": null,
      "outputs": [
        {
          "output_type": "execute_result",
          "data": {
            "text/plain": [
              "LogisticRegression()"
            ],
            "text/html": [
              "<style>#sk-container-id-3 {color: black;background-color: white;}#sk-container-id-3 pre{padding: 0;}#sk-container-id-3 div.sk-toggleable {background-color: white;}#sk-container-id-3 label.sk-toggleable__label {cursor: pointer;display: block;width: 100%;margin-bottom: 0;padding: 0.3em;box-sizing: border-box;text-align: center;}#sk-container-id-3 label.sk-toggleable__label-arrow:before {content: \"▸\";float: left;margin-right: 0.25em;color: #696969;}#sk-container-id-3 label.sk-toggleable__label-arrow:hover:before {color: black;}#sk-container-id-3 div.sk-estimator:hover label.sk-toggleable__label-arrow:before {color: black;}#sk-container-id-3 div.sk-toggleable__content {max-height: 0;max-width: 0;overflow: hidden;text-align: left;background-color: #f0f8ff;}#sk-container-id-3 div.sk-toggleable__content pre {margin: 0.2em;color: black;border-radius: 0.25em;background-color: #f0f8ff;}#sk-container-id-3 input.sk-toggleable__control:checked~div.sk-toggleable__content {max-height: 200px;max-width: 100%;overflow: auto;}#sk-container-id-3 input.sk-toggleable__control:checked~label.sk-toggleable__label-arrow:before {content: \"▾\";}#sk-container-id-3 div.sk-estimator input.sk-toggleable__control:checked~label.sk-toggleable__label {background-color: #d4ebff;}#sk-container-id-3 div.sk-label input.sk-toggleable__control:checked~label.sk-toggleable__label {background-color: #d4ebff;}#sk-container-id-3 input.sk-hidden--visually {border: 0;clip: rect(1px 1px 1px 1px);clip: rect(1px, 1px, 1px, 1px);height: 1px;margin: -1px;overflow: hidden;padding: 0;position: absolute;width: 1px;}#sk-container-id-3 div.sk-estimator {font-family: monospace;background-color: #f0f8ff;border: 1px dotted black;border-radius: 0.25em;box-sizing: border-box;margin-bottom: 0.5em;}#sk-container-id-3 div.sk-estimator:hover {background-color: #d4ebff;}#sk-container-id-3 div.sk-parallel-item::after {content: \"\";width: 100%;border-bottom: 1px solid gray;flex-grow: 1;}#sk-container-id-3 div.sk-label:hover label.sk-toggleable__label {background-color: #d4ebff;}#sk-container-id-3 div.sk-serial::before {content: \"\";position: absolute;border-left: 1px solid gray;box-sizing: border-box;top: 0;bottom: 0;left: 50%;z-index: 0;}#sk-container-id-3 div.sk-serial {display: flex;flex-direction: column;align-items: center;background-color: white;padding-right: 0.2em;padding-left: 0.2em;position: relative;}#sk-container-id-3 div.sk-item {position: relative;z-index: 1;}#sk-container-id-3 div.sk-parallel {display: flex;align-items: stretch;justify-content: center;background-color: white;position: relative;}#sk-container-id-3 div.sk-item::before, #sk-container-id-3 div.sk-parallel-item::before {content: \"\";position: absolute;border-left: 1px solid gray;box-sizing: border-box;top: 0;bottom: 0;left: 50%;z-index: -1;}#sk-container-id-3 div.sk-parallel-item {display: flex;flex-direction: column;z-index: 1;position: relative;background-color: white;}#sk-container-id-3 div.sk-parallel-item:first-child::after {align-self: flex-end;width: 50%;}#sk-container-id-3 div.sk-parallel-item:last-child::after {align-self: flex-start;width: 50%;}#sk-container-id-3 div.sk-parallel-item:only-child::after {width: 0;}#sk-container-id-3 div.sk-dashed-wrapped {border: 1px dashed gray;margin: 0 0.4em 0.5em 0.4em;box-sizing: border-box;padding-bottom: 0.4em;background-color: white;}#sk-container-id-3 div.sk-label label {font-family: monospace;font-weight: bold;display: inline-block;line-height: 1.2em;}#sk-container-id-3 div.sk-label-container {text-align: center;}#sk-container-id-3 div.sk-container {/* jupyter's `normalize.less` sets `[hidden] { display: none; }` but bootstrap.min.css set `[hidden] { display: none !important; }` so we also need the `!important` here to be able to override the default hidden behavior on the sphinx rendered scikit-learn.org. See: https://github.com/scikit-learn/scikit-learn/issues/21755 */display: inline-block !important;position: relative;}#sk-container-id-3 div.sk-text-repr-fallback {display: none;}</style><div id=\"sk-container-id-3\" class=\"sk-top-container\"><div class=\"sk-text-repr-fallback\"><pre>LogisticRegression()</pre><b>In a Jupyter environment, please rerun this cell to show the HTML representation or trust the notebook. <br />On GitHub, the HTML representation is unable to render, please try loading this page with nbviewer.org.</b></div><div class=\"sk-container\" hidden><div class=\"sk-item\"><div class=\"sk-estimator sk-toggleable\"><input class=\"sk-toggleable__control sk-hidden--visually\" id=\"sk-estimator-id-3\" type=\"checkbox\" checked><label for=\"sk-estimator-id-3\" class=\"sk-toggleable__label sk-toggleable__label-arrow\">LogisticRegression</label><div class=\"sk-toggleable__content\"><pre>LogisticRegression()</pre></div></div></div></div></div>"
            ]
          },
          "metadata": {},
          "execution_count": 141
        }
      ]
    },
    {
      "cell_type": "code",
      "source": [
        "# Apply the scaler only to the specified numerical columns\n",
        "X_test_scaled = X_test.copy()  # Create a copy to avoid modifying the original data\n",
        "X_test_scaled[sub_vars] = scaler.transform(X_test[sub_vars])"
      ],
      "metadata": {
        "id": "aAW6kL6SKJz9"
      },
      "execution_count": null,
      "outputs": []
    },
    {
      "cell_type": "markdown",
      "source": [
        "### ***Evaluating The models- Logistic regression***"
      ],
      "metadata": {
        "id": "MTELfLDpi7Fs"
      }
    },
    {
      "cell_type": "code",
      "source": [
        "ytrain_predictions_lr = lr.predict(X_train)"
      ],
      "metadata": {
        "id": "Dl8xcKvOjunT"
      },
      "execution_count": null,
      "outputs": []
    },
    {
      "cell_type": "code",
      "source": [
        "rep = classification_report(y_train, ytrain_predictions_lr)\n",
        "print (\"Report of test data:\")\n",
        "print(rep)"
      ],
      "metadata": {
        "colab": {
          "base_uri": "https://localhost:8080/"
        },
        "id": "mPzSM0Uzjucc",
        "outputId": "e0688a8c-9417-4b39-ca44-ab241c04c935"
      },
      "execution_count": null,
      "outputs": [
        {
          "output_type": "stream",
          "name": "stdout",
          "text": [
            "Report of test data:\n",
            "              precision    recall  f1-score   support\n",
            "\n",
            "           0       0.50      0.67      0.58     40128\n",
            "           1       0.50      0.33      0.40     39872\n",
            "\n",
            "    accuracy                           0.50     80000\n",
            "   macro avg       0.50      0.50      0.49     80000\n",
            "weighted avg       0.50      0.50      0.49     80000\n",
            "\n"
          ]
        }
      ]
    },
    {
      "cell_type": "code",
      "source": [
        "ytest_predictions_lr = lr.predict(X_test_scaled)"
      ],
      "metadata": {
        "id": "a_HMcqaDkOtd"
      },
      "execution_count": null,
      "outputs": []
    },
    {
      "cell_type": "code",
      "source": [
        "rep = classification_report(y_test, ytest_predictions_lr)\n",
        "print (\"Report of test data:\")\n",
        "print(rep)"
      ],
      "metadata": {
        "colab": {
          "base_uri": "https://localhost:8080/"
        },
        "id": "Vm99lZpn2ifF",
        "outputId": "71fe2d7a-136a-481f-8f9c-ec1edc102759"
      },
      "execution_count": null,
      "outputs": [
        {
          "output_type": "stream",
          "name": "stdout",
          "text": [
            "Report of test data:\n",
            "              precision    recall  f1-score   support\n",
            "\n",
            "           0       0.50      0.67      0.57     10093\n",
            "           1       0.49      0.32      0.39      9907\n",
            "\n",
            "    accuracy                           0.50     20000\n",
            "   macro avg       0.49      0.50      0.48     20000\n",
            "weighted avg       0.49      0.50      0.48     20000\n",
            "\n"
          ]
        }
      ]
    },
    {
      "cell_type": "markdown",
      "source": [
        "### ***Evaluating The models- Random Forest***"
      ],
      "metadata": {
        "id": "BCWQf4vXmi_D"
      }
    },
    {
      "cell_type": "code",
      "execution_count": null,
      "metadata": {
        "id": "zABuO-OLMaXK"
      },
      "outputs": [],
      "source": [
        "from sklearn.ensemble import RandomForestClassifier\n",
        "from sklearn.metrics import accuracy_score\n",
        "\n",
        "rf = RandomForestClassifier(max_features=4, n_estimators=70)"
      ]
    },
    {
      "cell_type": "code",
      "execution_count": null,
      "metadata": {
        "colab": {
          "base_uri": "https://localhost:8080/",
          "height": 74
        },
        "id": "GJej8AuUMeu3",
        "outputId": "48cd02e7-4664-408a-9652-a77f5a087f8f"
      },
      "outputs": [
        {
          "output_type": "execute_result",
          "data": {
            "text/plain": [
              "RandomForestClassifier(max_features=4, n_estimators=70)"
            ],
            "text/html": [
              "<style>#sk-container-id-6 {color: black;background-color: white;}#sk-container-id-6 pre{padding: 0;}#sk-container-id-6 div.sk-toggleable {background-color: white;}#sk-container-id-6 label.sk-toggleable__label {cursor: pointer;display: block;width: 100%;margin-bottom: 0;padding: 0.3em;box-sizing: border-box;text-align: center;}#sk-container-id-6 label.sk-toggleable__label-arrow:before {content: \"▸\";float: left;margin-right: 0.25em;color: #696969;}#sk-container-id-6 label.sk-toggleable__label-arrow:hover:before {color: black;}#sk-container-id-6 div.sk-estimator:hover label.sk-toggleable__label-arrow:before {color: black;}#sk-container-id-6 div.sk-toggleable__content {max-height: 0;max-width: 0;overflow: hidden;text-align: left;background-color: #f0f8ff;}#sk-container-id-6 div.sk-toggleable__content pre {margin: 0.2em;color: black;border-radius: 0.25em;background-color: #f0f8ff;}#sk-container-id-6 input.sk-toggleable__control:checked~div.sk-toggleable__content {max-height: 200px;max-width: 100%;overflow: auto;}#sk-container-id-6 input.sk-toggleable__control:checked~label.sk-toggleable__label-arrow:before {content: \"▾\";}#sk-container-id-6 div.sk-estimator input.sk-toggleable__control:checked~label.sk-toggleable__label {background-color: #d4ebff;}#sk-container-id-6 div.sk-label input.sk-toggleable__control:checked~label.sk-toggleable__label {background-color: #d4ebff;}#sk-container-id-6 input.sk-hidden--visually {border: 0;clip: rect(1px 1px 1px 1px);clip: rect(1px, 1px, 1px, 1px);height: 1px;margin: -1px;overflow: hidden;padding: 0;position: absolute;width: 1px;}#sk-container-id-6 div.sk-estimator {font-family: monospace;background-color: #f0f8ff;border: 1px dotted black;border-radius: 0.25em;box-sizing: border-box;margin-bottom: 0.5em;}#sk-container-id-6 div.sk-estimator:hover {background-color: #d4ebff;}#sk-container-id-6 div.sk-parallel-item::after {content: \"\";width: 100%;border-bottom: 1px solid gray;flex-grow: 1;}#sk-container-id-6 div.sk-label:hover label.sk-toggleable__label {background-color: #d4ebff;}#sk-container-id-6 div.sk-serial::before {content: \"\";position: absolute;border-left: 1px solid gray;box-sizing: border-box;top: 0;bottom: 0;left: 50%;z-index: 0;}#sk-container-id-6 div.sk-serial {display: flex;flex-direction: column;align-items: center;background-color: white;padding-right: 0.2em;padding-left: 0.2em;position: relative;}#sk-container-id-6 div.sk-item {position: relative;z-index: 1;}#sk-container-id-6 div.sk-parallel {display: flex;align-items: stretch;justify-content: center;background-color: white;position: relative;}#sk-container-id-6 div.sk-item::before, #sk-container-id-6 div.sk-parallel-item::before {content: \"\";position: absolute;border-left: 1px solid gray;box-sizing: border-box;top: 0;bottom: 0;left: 50%;z-index: -1;}#sk-container-id-6 div.sk-parallel-item {display: flex;flex-direction: column;z-index: 1;position: relative;background-color: white;}#sk-container-id-6 div.sk-parallel-item:first-child::after {align-self: flex-end;width: 50%;}#sk-container-id-6 div.sk-parallel-item:last-child::after {align-self: flex-start;width: 50%;}#sk-container-id-6 div.sk-parallel-item:only-child::after {width: 0;}#sk-container-id-6 div.sk-dashed-wrapped {border: 1px dashed gray;margin: 0 0.4em 0.5em 0.4em;box-sizing: border-box;padding-bottom: 0.4em;background-color: white;}#sk-container-id-6 div.sk-label label {font-family: monospace;font-weight: bold;display: inline-block;line-height: 1.2em;}#sk-container-id-6 div.sk-label-container {text-align: center;}#sk-container-id-6 div.sk-container {/* jupyter's `normalize.less` sets `[hidden] { display: none; }` but bootstrap.min.css set `[hidden] { display: none !important; }` so we also need the `!important` here to be able to override the default hidden behavior on the sphinx rendered scikit-learn.org. See: https://github.com/scikit-learn/scikit-learn/issues/21755 */display: inline-block !important;position: relative;}#sk-container-id-6 div.sk-text-repr-fallback {display: none;}</style><div id=\"sk-container-id-6\" class=\"sk-top-container\"><div class=\"sk-text-repr-fallback\"><pre>RandomForestClassifier(max_features=4, n_estimators=70)</pre><b>In a Jupyter environment, please rerun this cell to show the HTML representation or trust the notebook. <br />On GitHub, the HTML representation is unable to render, please try loading this page with nbviewer.org.</b></div><div class=\"sk-container\" hidden><div class=\"sk-item\"><div class=\"sk-estimator sk-toggleable\"><input class=\"sk-toggleable__control sk-hidden--visually\" id=\"sk-estimator-id-8\" type=\"checkbox\" checked><label for=\"sk-estimator-id-8\" class=\"sk-toggleable__label sk-toggleable__label-arrow\">RandomForestClassifier</label><div class=\"sk-toggleable__content\"><pre>RandomForestClassifier(max_features=4, n_estimators=70)</pre></div></div></div></div></div>"
            ]
          },
          "metadata": {},
          "execution_count": 194
        }
      ],
      "source": [
        "rf.fit(X_train, y_train)"
      ]
    },
    {
      "cell_type": "code",
      "source": [
        "ytrain_predictions_rf = rf.predict(X_train)"
      ],
      "metadata": {
        "id": "_JoC4tp2lgbb"
      },
      "execution_count": null,
      "outputs": []
    },
    {
      "cell_type": "code",
      "source": [
        "rep = classification_report(y_train, ytrain_predictions_rf)\n",
        "print (\"Report of test data:\")\n",
        "print(rep)"
      ],
      "metadata": {
        "colab": {
          "base_uri": "https://localhost:8080/"
        },
        "outputId": "66cccd6a-d2ea-44e7-e90e-c71edbff2bdd",
        "id": "MYqIp2Eelgbb"
      },
      "execution_count": null,
      "outputs": [
        {
          "output_type": "stream",
          "name": "stdout",
          "text": [
            "Report of test data:\n",
            "              precision    recall  f1-score   support\n",
            "\n",
            "           0       1.00      1.00      1.00     40128\n",
            "           1       1.00      1.00      1.00     39872\n",
            "\n",
            "    accuracy                           1.00     80000\n",
            "   macro avg       1.00      1.00      1.00     80000\n",
            "weighted avg       1.00      1.00      1.00     80000\n",
            "\n"
          ]
        }
      ]
    },
    {
      "cell_type": "code",
      "source": [
        "ytest_predictions_rf = rf.predict(X_test_scaled)"
      ],
      "metadata": {
        "id": "YUxtA0GVlgbc"
      },
      "execution_count": null,
      "outputs": []
    },
    {
      "cell_type": "code",
      "source": [
        "rep = classification_report(y_test, ytest_predictions_rf)\n",
        "print (\"Report of test data:\")\n",
        "print(rep)"
      ],
      "metadata": {
        "colab": {
          "base_uri": "https://localhost:8080/"
        },
        "outputId": "3e95b0c6-693c-4c67-9ca2-a8f03d5f6bba",
        "id": "Z-WAfIWalgbc"
      },
      "execution_count": null,
      "outputs": [
        {
          "output_type": "stream",
          "name": "stdout",
          "text": [
            "Report of test data:\n",
            "              precision    recall  f1-score   support\n",
            "\n",
            "           0       0.50      0.53      0.51     10093\n",
            "           1       0.49      0.47      0.48      9907\n",
            "\n",
            "    accuracy                           0.50     20000\n",
            "   macro avg       0.50      0.50      0.50     20000\n",
            "weighted avg       0.50      0.50      0.50     20000\n",
            "\n"
          ]
        }
      ]
    },
    {
      "cell_type": "code",
      "execution_count": null,
      "metadata": {
        "colab": {
          "base_uri": "https://localhost:8080/"
        },
        "id": "OqY_k7fGNI9_",
        "outputId": "53dad998-ee7e-46d0-e96e-7abef40a205e"
      },
      "outputs": [
        {
          "output_type": "stream",
          "name": "stdout",
          "text": [
            "Accuracy of training set 1.0\n"
          ]
        }
      ],
      "source": [
        "print('Accuracy of training set', rf.score(X_train, y_train))"
      ]
    },
    {
      "cell_type": "code",
      "execution_count": null,
      "metadata": {
        "colab": {
          "base_uri": "https://localhost:8080/"
        },
        "id": "jFEI10SoMvUI",
        "outputId": "1c78b8dc-99d8-4f6b-c566-ff518d4d06e2"
      },
      "outputs": [
        {
          "output_type": "stream",
          "name": "stdout",
          "text": [
            "Accuracy of test set:: 0.4984\n"
          ]
        }
      ],
      "source": [
        "print('Accuracy of test set::', rf.score(X_test_scaled, y_test))"
      ]
    },
    {
      "cell_type": "markdown",
      "source": [
        "Clearly this model is overfit since the accuracy of train set is 100% while that of tes set is 49.84%"
      ],
      "metadata": {
        "id": "kf9NI_TaRIp6"
      }
    },
    {
      "cell_type": "markdown",
      "source": [
        "### ***Evaluating The models- Deep neural network***"
      ],
      "metadata": {
        "id": "h78VOz5HnqW2"
      }
    },
    {
      "cell_type": "code",
      "execution_count": null,
      "metadata": {
        "id": "2R7j_nuXsznv"
      },
      "outputs": [],
      "source": [
        "import keras\n",
        "from keras.models import Sequential\n",
        "from keras.layers import Dense"
      ]
    },
    {
      "cell_type": "code",
      "execution_count": null,
      "metadata": {
        "id": "mJxd19DW7HRr"
      },
      "outputs": [],
      "source": [
        "model = Sequential()\n",
        "model.add(Dense(50, input_dim=X.shape[1], activation=\"relu\"))\n",
        "model.add(Dense(50, activation=\"relu\"))\n",
        "model.add(Dense(100, activation=\"relu\"))\n",
        "model.add(Dense(2, activation='softmax'))"
      ]
    },
    {
      "cell_type": "code",
      "execution_count": null,
      "metadata": {
        "colab": {
          "base_uri": "https://localhost:8080/"
        },
        "id": "A0wl0K4Ys9wP",
        "outputId": "03d070fa-c012-407f-fb67-5eb6d03d30fd"
      },
      "outputs": [
        {
          "output_type": "stream",
          "name": "stdout",
          "text": [
            "Model: \"sequential_1\"\n",
            "_________________________________________________________________\n",
            " Layer (type)                Output Shape              Param #   \n",
            "=================================================================\n",
            " dense_4 (Dense)             (None, 50)                350       \n",
            "                                                                 \n",
            " dense_5 (Dense)             (None, 50)                2550      \n",
            "                                                                 \n",
            " dense_6 (Dense)             (None, 100)               5100      \n",
            "                                                                 \n",
            " dense_7 (Dense)             (None, 2)                 202       \n",
            "                                                                 \n",
            "=================================================================\n",
            "Total params: 8,202\n",
            "Trainable params: 8,202\n",
            "Non-trainable params: 0\n",
            "_________________________________________________________________\n"
          ]
        }
      ],
      "source": [
        "model.summary()"
      ]
    },
    {
      "cell_type": "code",
      "execution_count": null,
      "metadata": {
        "id": "MRiFaGfGtK3v"
      },
      "outputs": [],
      "source": [
        "#Sparse categorical cross entropy\n",
        "\n",
        "model.compile(loss='sparse_categorical_crossentropy', optimizer='adam', metrics=['accuracy'])"
      ]
    },
    {
      "cell_type": "code",
      "execution_count": null,
      "metadata": {
        "colab": {
          "base_uri": "https://localhost:8080/"
        },
        "id": "DuKuAx7ntQRv",
        "outputId": "787394b2-c125-4e6c-ccc3-7fd3823686d5"
      },
      "outputs": [
        {
          "output_type": "stream",
          "name": "stdout",
          "text": [
            "Epoch 1/200\n",
            "2500/2500 [==============================] - 10s 3ms/step - loss: 0.6940 - accuracy: 0.4987 - val_loss: 0.6937 - val_accuracy: 0.5046\n",
            "Epoch 2/200\n",
            "2500/2500 [==============================] - 8s 3ms/step - loss: 0.6933 - accuracy: 0.4996 - val_loss: 0.6935 - val_accuracy: 0.5046\n",
            "Epoch 3/200\n",
            "2500/2500 [==============================] - 8s 3ms/step - loss: 0.6933 - accuracy: 0.4992 - val_loss: 0.6932 - val_accuracy: 0.4953\n",
            "Epoch 4/200\n",
            "2500/2500 [==============================] - 7s 3ms/step - loss: 0.6933 - accuracy: 0.5006 - val_loss: 0.6931 - val_accuracy: 0.5046\n",
            "Epoch 5/200\n",
            "2500/2500 [==============================] - 9s 3ms/step - loss: 0.6932 - accuracy: 0.4999 - val_loss: 0.6931 - val_accuracy: 0.5026\n",
            "Epoch 6/200\n",
            "2500/2500 [==============================] - 9s 4ms/step - loss: 0.6932 - accuracy: 0.5031 - val_loss: 0.6931 - val_accuracy: 0.5017\n",
            "Epoch 7/200\n",
            "2500/2500 [==============================] - 8s 3ms/step - loss: 0.6932 - accuracy: 0.4992 - val_loss: 0.6932 - val_accuracy: 0.5004\n",
            "Epoch 8/200\n",
            "2500/2500 [==============================] - 8s 3ms/step - loss: 0.6932 - accuracy: 0.5027 - val_loss: 0.6932 - val_accuracy: 0.5050\n",
            "Epoch 9/200\n",
            "2500/2500 [==============================] - 8s 3ms/step - loss: 0.6932 - accuracy: 0.5034 - val_loss: 0.6932 - val_accuracy: 0.4970\n",
            "Epoch 10/200\n",
            "2500/2500 [==============================] - 6s 3ms/step - loss: 0.6932 - accuracy: 0.5019 - val_loss: 0.6931 - val_accuracy: 0.5046\n",
            "Epoch 11/200\n",
            "2500/2500 [==============================] - 9s 4ms/step - loss: 0.6932 - accuracy: 0.5021 - val_loss: 0.6931 - val_accuracy: 0.5059\n",
            "Epoch 12/200\n",
            "2500/2500 [==============================] - 7s 3ms/step - loss: 0.6931 - accuracy: 0.5013 - val_loss: 0.6932 - val_accuracy: 0.4947\n",
            "Epoch 13/200\n",
            "2500/2500 [==============================] - 7s 3ms/step - loss: 0.6931 - accuracy: 0.5045 - val_loss: 0.6940 - val_accuracy: 0.5052\n",
            "Epoch 14/200\n",
            "2500/2500 [==============================] - 6s 2ms/step - loss: 0.6932 - accuracy: 0.5019 - val_loss: 0.6933 - val_accuracy: 0.4945\n",
            "Epoch 15/200\n",
            "2500/2500 [==============================] - 10s 4ms/step - loss: 0.6931 - accuracy: 0.5044 - val_loss: 0.6931 - val_accuracy: 0.5038\n",
            "Epoch 16/200\n",
            "2500/2500 [==============================] - 7s 3ms/step - loss: 0.6931 - accuracy: 0.5041 - val_loss: 0.6932 - val_accuracy: 0.5013\n",
            "Epoch 17/200\n",
            "2500/2500 [==============================] - 7s 3ms/step - loss: 0.6931 - accuracy: 0.5012 - val_loss: 0.6933 - val_accuracy: 0.4945\n",
            "Epoch 18/200\n",
            "2500/2500 [==============================] - 7s 3ms/step - loss: 0.6931 - accuracy: 0.5046 - val_loss: 0.6933 - val_accuracy: 0.4922\n",
            "Epoch 19/200\n",
            "2500/2500 [==============================] - 7s 3ms/step - loss: 0.6930 - accuracy: 0.5059 - val_loss: 0.6935 - val_accuracy: 0.4972\n",
            "Epoch 20/200\n",
            "2500/2500 [==============================] - 8s 3ms/step - loss: 0.6931 - accuracy: 0.5043 - val_loss: 0.6933 - val_accuracy: 0.5035\n",
            "Epoch 21/200\n",
            "2500/2500 [==============================] - 7s 3ms/step - loss: 0.6930 - accuracy: 0.5059 - val_loss: 0.6936 - val_accuracy: 0.4920\n",
            "Epoch 22/200\n",
            "2500/2500 [==============================] - 8s 3ms/step - loss: 0.6930 - accuracy: 0.5053 - val_loss: 0.6933 - val_accuracy: 0.5040\n",
            "Epoch 23/200\n",
            "2500/2500 [==============================] - 7s 3ms/step - loss: 0.6930 - accuracy: 0.5060 - val_loss: 0.6936 - val_accuracy: 0.4956\n",
            "Epoch 24/200\n",
            "2500/2500 [==============================] - 7s 3ms/step - loss: 0.6930 - accuracy: 0.5073 - val_loss: 0.6936 - val_accuracy: 0.5038\n",
            "Epoch 25/200\n",
            "2500/2500 [==============================] - 7s 3ms/step - loss: 0.6930 - accuracy: 0.5072 - val_loss: 0.6934 - val_accuracy: 0.4954\n",
            "Epoch 26/200\n",
            "2500/2500 [==============================] - 7s 3ms/step - loss: 0.6930 - accuracy: 0.5076 - val_loss: 0.6933 - val_accuracy: 0.4942\n",
            "Epoch 27/200\n",
            "2500/2500 [==============================] - 8s 3ms/step - loss: 0.6929 - accuracy: 0.5063 - val_loss: 0.6934 - val_accuracy: 0.5008\n",
            "Epoch 28/200\n",
            "2500/2500 [==============================] - 7s 3ms/step - loss: 0.6930 - accuracy: 0.5092 - val_loss: 0.6932 - val_accuracy: 0.5038\n",
            "Epoch 29/200\n",
            "2500/2500 [==============================] - 8s 3ms/step - loss: 0.6929 - accuracy: 0.5084 - val_loss: 0.6934 - val_accuracy: 0.5005\n",
            "Epoch 30/200\n",
            "2500/2500 [==============================] - 6s 2ms/step - loss: 0.6929 - accuracy: 0.5100 - val_loss: 0.6934 - val_accuracy: 0.4994\n",
            "Epoch 31/200\n",
            "2500/2500 [==============================] - 8s 3ms/step - loss: 0.6929 - accuracy: 0.5077 - val_loss: 0.6934 - val_accuracy: 0.4999\n",
            "Epoch 32/200\n",
            "2500/2500 [==============================] - 7s 3ms/step - loss: 0.6929 - accuracy: 0.5089 - val_loss: 0.6943 - val_accuracy: 0.4964\n",
            "Epoch 33/200\n",
            "2500/2500 [==============================] - 7s 3ms/step - loss: 0.6929 - accuracy: 0.5107 - val_loss: 0.6937 - val_accuracy: 0.5000\n",
            "Epoch 34/200\n",
            "2500/2500 [==============================] - 8s 3ms/step - loss: 0.6929 - accuracy: 0.5106 - val_loss: 0.6934 - val_accuracy: 0.5008\n",
            "Epoch 35/200\n",
            "2500/2500 [==============================] - 6s 2ms/step - loss: 0.6929 - accuracy: 0.5067 - val_loss: 0.6933 - val_accuracy: 0.5020\n",
            "Epoch 36/200\n",
            "2500/2500 [==============================] - 8s 3ms/step - loss: 0.6929 - accuracy: 0.5083 - val_loss: 0.6936 - val_accuracy: 0.5010\n",
            "Epoch 37/200\n",
            "2500/2500 [==============================] - 7s 3ms/step - loss: 0.6928 - accuracy: 0.5113 - val_loss: 0.6934 - val_accuracy: 0.5017\n",
            "Epoch 38/200\n",
            "2500/2500 [==============================] - 8s 3ms/step - loss: 0.6928 - accuracy: 0.5111 - val_loss: 0.6936 - val_accuracy: 0.5012\n",
            "Epoch 39/200\n",
            "2500/2500 [==============================] - 6s 3ms/step - loss: 0.6928 - accuracy: 0.5102 - val_loss: 0.6938 - val_accuracy: 0.4961\n",
            "Epoch 40/200\n",
            "2500/2500 [==============================] - 8s 3ms/step - loss: 0.6927 - accuracy: 0.5111 - val_loss: 0.6935 - val_accuracy: 0.4999\n",
            "Epoch 41/200\n",
            "2500/2500 [==============================] - 7s 3ms/step - loss: 0.6927 - accuracy: 0.5124 - val_loss: 0.6937 - val_accuracy: 0.5015\n",
            "Epoch 42/200\n",
            "2500/2500 [==============================] - 7s 3ms/step - loss: 0.6927 - accuracy: 0.5105 - val_loss: 0.6936 - val_accuracy: 0.5008\n",
            "Epoch 43/200\n",
            "2500/2500 [==============================] - 7s 3ms/step - loss: 0.6927 - accuracy: 0.5101 - val_loss: 0.6939 - val_accuracy: 0.5002\n",
            "Epoch 44/200\n",
            "2500/2500 [==============================] - 6s 3ms/step - loss: 0.6926 - accuracy: 0.5127 - val_loss: 0.6941 - val_accuracy: 0.4986\n",
            "Epoch 45/200\n",
            "2500/2500 [==============================] - 7s 3ms/step - loss: 0.6926 - accuracy: 0.5106 - val_loss: 0.6938 - val_accuracy: 0.4994\n",
            "Epoch 46/200\n",
            "2500/2500 [==============================] - 8s 3ms/step - loss: 0.6926 - accuracy: 0.5118 - val_loss: 0.6937 - val_accuracy: 0.5016\n",
            "Epoch 47/200\n",
            "2500/2500 [==============================] - 8s 3ms/step - loss: 0.6925 - accuracy: 0.5155 - val_loss: 0.6940 - val_accuracy: 0.5013\n",
            "Epoch 48/200\n",
            "2500/2500 [==============================] - 6s 3ms/step - loss: 0.6924 - accuracy: 0.5128 - val_loss: 0.6940 - val_accuracy: 0.4991\n",
            "Epoch 49/200\n",
            "2500/2500 [==============================] - 8s 3ms/step - loss: 0.6926 - accuracy: 0.5126 - val_loss: 0.6937 - val_accuracy: 0.5052\n",
            "Epoch 50/200\n",
            "2500/2500 [==============================] - 8s 3ms/step - loss: 0.6925 - accuracy: 0.5130 - val_loss: 0.6943 - val_accuracy: 0.4943\n",
            "Epoch 51/200\n",
            "2500/2500 [==============================] - 7s 3ms/step - loss: 0.6925 - accuracy: 0.5138 - val_loss: 0.6942 - val_accuracy: 0.4958\n",
            "Epoch 52/200\n",
            "2500/2500 [==============================] - 8s 3ms/step - loss: 0.6924 - accuracy: 0.5154 - val_loss: 0.6944 - val_accuracy: 0.5015\n",
            "Epoch 53/200\n",
            "2500/2500 [==============================] - 7s 3ms/step - loss: 0.6924 - accuracy: 0.5140 - val_loss: 0.6947 - val_accuracy: 0.4911\n",
            "Epoch 54/200\n",
            "2500/2500 [==============================] - 8s 3ms/step - loss: 0.6924 - accuracy: 0.5142 - val_loss: 0.6940 - val_accuracy: 0.4982\n",
            "Epoch 55/200\n",
            "2500/2500 [==============================] - 7s 3ms/step - loss: 0.6924 - accuracy: 0.5144 - val_loss: 0.6943 - val_accuracy: 0.5018\n",
            "Epoch 56/200\n",
            "2500/2500 [==============================] - 7s 3ms/step - loss: 0.6923 - accuracy: 0.5145 - val_loss: 0.6944 - val_accuracy: 0.4983\n",
            "Epoch 57/200\n",
            "2500/2500 [==============================] - 10s 4ms/step - loss: 0.6923 - accuracy: 0.5134 - val_loss: 0.6943 - val_accuracy: 0.5005\n",
            "Epoch 58/200\n",
            "2500/2500 [==============================] - 7s 3ms/step - loss: 0.6922 - accuracy: 0.5127 - val_loss: 0.6946 - val_accuracy: 0.4973\n",
            "Epoch 59/200\n",
            "2500/2500 [==============================] - 7s 3ms/step - loss: 0.6923 - accuracy: 0.5132 - val_loss: 0.6953 - val_accuracy: 0.4913\n",
            "Epoch 60/200\n",
            "2500/2500 [==============================] - 7s 3ms/step - loss: 0.6922 - accuracy: 0.5153 - val_loss: 0.6945 - val_accuracy: 0.4974\n",
            "Epoch 61/200\n",
            "2500/2500 [==============================] - 7s 3ms/step - loss: 0.6923 - accuracy: 0.5151 - val_loss: 0.6944 - val_accuracy: 0.4977\n",
            "Epoch 62/200\n",
            "2500/2500 [==============================] - 7s 3ms/step - loss: 0.6922 - accuracy: 0.5163 - val_loss: 0.6946 - val_accuracy: 0.4976\n",
            "Epoch 63/200\n",
            "2500/2500 [==============================] - 7s 3ms/step - loss: 0.6922 - accuracy: 0.5139 - val_loss: 0.6947 - val_accuracy: 0.4999\n",
            "Epoch 64/200\n",
            "2500/2500 [==============================] - 7s 3ms/step - loss: 0.6922 - accuracy: 0.5144 - val_loss: 0.6951 - val_accuracy: 0.4945\n",
            "Epoch 65/200\n",
            "2500/2500 [==============================] - 7s 3ms/step - loss: 0.6920 - accuracy: 0.5154 - val_loss: 0.6944 - val_accuracy: 0.4999\n",
            "Epoch 66/200\n",
            "2500/2500 [==============================] - 8s 3ms/step - loss: 0.6920 - accuracy: 0.5149 - val_loss: 0.6952 - val_accuracy: 0.4997\n",
            "Epoch 67/200\n",
            "2500/2500 [==============================] - 7s 3ms/step - loss: 0.6919 - accuracy: 0.5162 - val_loss: 0.6945 - val_accuracy: 0.4927\n",
            "Epoch 68/200\n",
            "2500/2500 [==============================] - 7s 3ms/step - loss: 0.6921 - accuracy: 0.5177 - val_loss: 0.6944 - val_accuracy: 0.5006\n",
            "Epoch 69/200\n",
            "2500/2500 [==============================] - 8s 3ms/step - loss: 0.6919 - accuracy: 0.5166 - val_loss: 0.6951 - val_accuracy: 0.4990\n",
            "Epoch 70/200\n",
            "2500/2500 [==============================] - 7s 3ms/step - loss: 0.6920 - accuracy: 0.5176 - val_loss: 0.6950 - val_accuracy: 0.4969\n",
            "Epoch 71/200\n",
            "2500/2500 [==============================] - 7s 3ms/step - loss: 0.6919 - accuracy: 0.5194 - val_loss: 0.6946 - val_accuracy: 0.4966\n",
            "Epoch 72/200\n",
            "2500/2500 [==============================] - 7s 3ms/step - loss: 0.6919 - accuracy: 0.5177 - val_loss: 0.6953 - val_accuracy: 0.4938\n",
            "Epoch 73/200\n",
            "2500/2500 [==============================] - 8s 3ms/step - loss: 0.6918 - accuracy: 0.5185 - val_loss: 0.6950 - val_accuracy: 0.4972\n",
            "Epoch 74/200\n",
            "2500/2500 [==============================] - 6s 3ms/step - loss: 0.6919 - accuracy: 0.5168 - val_loss: 0.6947 - val_accuracy: 0.4980\n",
            "Epoch 75/200\n",
            "2500/2500 [==============================] - 7s 3ms/step - loss: 0.6917 - accuracy: 0.5167 - val_loss: 0.6955 - val_accuracy: 0.4991\n",
            "Epoch 76/200\n",
            "2500/2500 [==============================] - 6s 3ms/step - loss: 0.6918 - accuracy: 0.5186 - val_loss: 0.6949 - val_accuracy: 0.5027\n",
            "Epoch 77/200\n",
            "2500/2500 [==============================] - 8s 3ms/step - loss: 0.6917 - accuracy: 0.5173 - val_loss: 0.6952 - val_accuracy: 0.4940\n",
            "Epoch 78/200\n",
            "2500/2500 [==============================] - 7s 3ms/step - loss: 0.6916 - accuracy: 0.5192 - val_loss: 0.6948 - val_accuracy: 0.5006\n",
            "Epoch 79/200\n",
            "2500/2500 [==============================] - 7s 3ms/step - loss: 0.6916 - accuracy: 0.5199 - val_loss: 0.6957 - val_accuracy: 0.4936\n",
            "Epoch 80/200\n",
            "2500/2500 [==============================] - 7s 3ms/step - loss: 0.6915 - accuracy: 0.5210 - val_loss: 0.6955 - val_accuracy: 0.4954\n",
            "Epoch 81/200\n",
            "2500/2500 [==============================] - 7s 3ms/step - loss: 0.6918 - accuracy: 0.5156 - val_loss: 0.6949 - val_accuracy: 0.5018\n",
            "Epoch 82/200\n",
            "2500/2500 [==============================] - 8s 3ms/step - loss: 0.6915 - accuracy: 0.5186 - val_loss: 0.6961 - val_accuracy: 0.4969\n",
            "Epoch 83/200\n",
            "2500/2500 [==============================] - 7s 3ms/step - loss: 0.6915 - accuracy: 0.5188 - val_loss: 0.6954 - val_accuracy: 0.5003\n",
            "Epoch 84/200\n",
            "2500/2500 [==============================] - 7s 3ms/step - loss: 0.6914 - accuracy: 0.5197 - val_loss: 0.6954 - val_accuracy: 0.5009\n",
            "Epoch 85/200\n",
            "2500/2500 [==============================] - 7s 3ms/step - loss: 0.6913 - accuracy: 0.5200 - val_loss: 0.6957 - val_accuracy: 0.5023\n",
            "Epoch 86/200\n",
            "2500/2500 [==============================] - 7s 3ms/step - loss: 0.6913 - accuracy: 0.5198 - val_loss: 0.6951 - val_accuracy: 0.4979\n",
            "Epoch 87/200\n",
            "2500/2500 [==============================] - 6s 3ms/step - loss: 0.6913 - accuracy: 0.5212 - val_loss: 0.6952 - val_accuracy: 0.4972\n",
            "Epoch 88/200\n",
            "2500/2500 [==============================] - 7s 3ms/step - loss: 0.6913 - accuracy: 0.5196 - val_loss: 0.6961 - val_accuracy: 0.4961\n",
            "Epoch 89/200\n",
            "2500/2500 [==============================] - 8s 3ms/step - loss: 0.6911 - accuracy: 0.5217 - val_loss: 0.6952 - val_accuracy: 0.5034\n",
            "Epoch 90/200\n",
            "2500/2500 [==============================] - 7s 3ms/step - loss: 0.6911 - accuracy: 0.5213 - val_loss: 0.6960 - val_accuracy: 0.4970\n",
            "Epoch 91/200\n",
            "2500/2500 [==============================] - 7s 3ms/step - loss: 0.6909 - accuracy: 0.5224 - val_loss: 0.6967 - val_accuracy: 0.4951\n",
            "Epoch 92/200\n",
            "2500/2500 [==============================] - 7s 3ms/step - loss: 0.6910 - accuracy: 0.5203 - val_loss: 0.6959 - val_accuracy: 0.4974\n",
            "Epoch 93/200\n",
            "2500/2500 [==============================] - 8s 3ms/step - loss: 0.6909 - accuracy: 0.5206 - val_loss: 0.6957 - val_accuracy: 0.4994\n",
            "Epoch 94/200\n",
            "2500/2500 [==============================] - 7s 3ms/step - loss: 0.6910 - accuracy: 0.5231 - val_loss: 0.6954 - val_accuracy: 0.4974\n",
            "Epoch 95/200\n",
            "2500/2500 [==============================] - 7s 3ms/step - loss: 0.6909 - accuracy: 0.5230 - val_loss: 0.6952 - val_accuracy: 0.4971\n",
            "Epoch 96/200\n",
            "2500/2500 [==============================] - 7s 3ms/step - loss: 0.6909 - accuracy: 0.5252 - val_loss: 0.6966 - val_accuracy: 0.4971\n",
            "Epoch 97/200\n",
            "2500/2500 [==============================] - 7s 3ms/step - loss: 0.6907 - accuracy: 0.5239 - val_loss: 0.6965 - val_accuracy: 0.4943\n",
            "Epoch 98/200\n",
            "2500/2500 [==============================] - 7s 3ms/step - loss: 0.6909 - accuracy: 0.5231 - val_loss: 0.6961 - val_accuracy: 0.4997\n",
            "Epoch 99/200\n",
            "2500/2500 [==============================] - 6s 2ms/step - loss: 0.6907 - accuracy: 0.5215 - val_loss: 0.6954 - val_accuracy: 0.5012\n",
            "Epoch 100/200\n",
            "2500/2500 [==============================] - 7s 3ms/step - loss: 0.6906 - accuracy: 0.5239 - val_loss: 0.6956 - val_accuracy: 0.4983\n",
            "Epoch 101/200\n",
            "2500/2500 [==============================] - 7s 3ms/step - loss: 0.6905 - accuracy: 0.5230 - val_loss: 0.6953 - val_accuracy: 0.4985\n",
            "Epoch 102/200\n",
            "2500/2500 [==============================] - 8s 3ms/step - loss: 0.6904 - accuracy: 0.5237 - val_loss: 0.6964 - val_accuracy: 0.4968\n",
            "Epoch 103/200\n",
            "2500/2500 [==============================] - 7s 3ms/step - loss: 0.6904 - accuracy: 0.5253 - val_loss: 0.6963 - val_accuracy: 0.4969\n",
            "Epoch 104/200\n",
            "2500/2500 [==============================] - 8s 3ms/step - loss: 0.6903 - accuracy: 0.5249 - val_loss: 0.6955 - val_accuracy: 0.5015\n",
            "Epoch 105/200\n",
            "2500/2500 [==============================] - 7s 3ms/step - loss: 0.6903 - accuracy: 0.5250 - val_loss: 0.6959 - val_accuracy: 0.4998\n",
            "Epoch 106/200\n",
            "2500/2500 [==============================] - 7s 3ms/step - loss: 0.6902 - accuracy: 0.5266 - val_loss: 0.6961 - val_accuracy: 0.5001\n",
            "Epoch 107/200\n",
            "2500/2500 [==============================] - 8s 3ms/step - loss: 0.6901 - accuracy: 0.5264 - val_loss: 0.6962 - val_accuracy: 0.4956\n",
            "Epoch 108/200\n",
            "2500/2500 [==============================] - 7s 3ms/step - loss: 0.6901 - accuracy: 0.5258 - val_loss: 0.6954 - val_accuracy: 0.5003\n",
            "Epoch 109/200\n",
            "2500/2500 [==============================] - 8s 3ms/step - loss: 0.6900 - accuracy: 0.5254 - val_loss: 0.6964 - val_accuracy: 0.4968\n",
            "Epoch 110/200\n",
            "2500/2500 [==============================] - 6s 3ms/step - loss: 0.6899 - accuracy: 0.5289 - val_loss: 0.6970 - val_accuracy: 0.4951\n",
            "Epoch 111/200\n",
            "2500/2500 [==============================] - 7s 3ms/step - loss: 0.6900 - accuracy: 0.5266 - val_loss: 0.6962 - val_accuracy: 0.4992\n",
            "Epoch 112/200\n",
            "2500/2500 [==============================] - 6s 2ms/step - loss: 0.6901 - accuracy: 0.5262 - val_loss: 0.6978 - val_accuracy: 0.4965\n",
            "Epoch 113/200\n",
            "2500/2500 [==============================] - 8s 3ms/step - loss: 0.6898 - accuracy: 0.5266 - val_loss: 0.6978 - val_accuracy: 0.4967\n",
            "Epoch 114/200\n",
            "2500/2500 [==============================] - 6s 3ms/step - loss: 0.6897 - accuracy: 0.5272 - val_loss: 0.6968 - val_accuracy: 0.4961\n",
            "Epoch 115/200\n",
            "2500/2500 [==============================] - 7s 3ms/step - loss: 0.6896 - accuracy: 0.5295 - val_loss: 0.6970 - val_accuracy: 0.5003\n",
            "Epoch 116/200\n",
            "2500/2500 [==============================] - 8s 3ms/step - loss: 0.6897 - accuracy: 0.5288 - val_loss: 0.6962 - val_accuracy: 0.4987\n",
            "Epoch 117/200\n",
            "2500/2500 [==============================] - 7s 3ms/step - loss: 0.6898 - accuracy: 0.5279 - val_loss: 0.6965 - val_accuracy: 0.4972\n",
            "Epoch 118/200\n",
            "2500/2500 [==============================] - 8s 3ms/step - loss: 0.6895 - accuracy: 0.5279 - val_loss: 0.6969 - val_accuracy: 0.4951\n",
            "Epoch 119/200\n",
            "2500/2500 [==============================] - 7s 3ms/step - loss: 0.6896 - accuracy: 0.5284 - val_loss: 0.6975 - val_accuracy: 0.4973\n",
            "Epoch 120/200\n",
            "2500/2500 [==============================] - 8s 3ms/step - loss: 0.6894 - accuracy: 0.5276 - val_loss: 0.6976 - val_accuracy: 0.5013\n",
            "Epoch 121/200\n",
            "2500/2500 [==============================] - 7s 3ms/step - loss: 0.6894 - accuracy: 0.5276 - val_loss: 0.6979 - val_accuracy: 0.4981\n",
            "Epoch 122/200\n",
            "2500/2500 [==============================] - 7s 3ms/step - loss: 0.6895 - accuracy: 0.5290 - val_loss: 0.6973 - val_accuracy: 0.5008\n",
            "Epoch 123/200\n",
            "2500/2500 [==============================] - 7s 3ms/step - loss: 0.6894 - accuracy: 0.5276 - val_loss: 0.6968 - val_accuracy: 0.5009\n",
            "Epoch 124/200\n",
            "2500/2500 [==============================] - 7s 3ms/step - loss: 0.6892 - accuracy: 0.5278 - val_loss: 0.6979 - val_accuracy: 0.4983\n",
            "Epoch 125/200\n",
            "2500/2500 [==============================] - 8s 3ms/step - loss: 0.6894 - accuracy: 0.5269 - val_loss: 0.6966 - val_accuracy: 0.4974\n",
            "Epoch 126/200\n",
            "2500/2500 [==============================] - 7s 3ms/step - loss: 0.6893 - accuracy: 0.5300 - val_loss: 0.6972 - val_accuracy: 0.4969\n",
            "Epoch 127/200\n",
            "2500/2500 [==============================] - 8s 3ms/step - loss: 0.6891 - accuracy: 0.5282 - val_loss: 0.6980 - val_accuracy: 0.4938\n",
            "Epoch 128/200\n",
            "2500/2500 [==============================] - 7s 3ms/step - loss: 0.6889 - accuracy: 0.5304 - val_loss: 0.6969 - val_accuracy: 0.4992\n",
            "Epoch 129/200\n",
            "2500/2500 [==============================] - 8s 3ms/step - loss: 0.6889 - accuracy: 0.5291 - val_loss: 0.6979 - val_accuracy: 0.4944\n",
            "Epoch 130/200\n",
            "2500/2500 [==============================] - 7s 3ms/step - loss: 0.6890 - accuracy: 0.5302 - val_loss: 0.6977 - val_accuracy: 0.5020\n",
            "Epoch 131/200\n",
            "2500/2500 [==============================] - 6s 3ms/step - loss: 0.6891 - accuracy: 0.5282 - val_loss: 0.6972 - val_accuracy: 0.5017\n",
            "Epoch 132/200\n",
            "2500/2500 [==============================] - 7s 3ms/step - loss: 0.6888 - accuracy: 0.5298 - val_loss: 0.6985 - val_accuracy: 0.4974\n",
            "Epoch 133/200\n",
            "2500/2500 [==============================] - 8s 3ms/step - loss: 0.6891 - accuracy: 0.5289 - val_loss: 0.6974 - val_accuracy: 0.4999\n",
            "Epoch 134/200\n",
            "2500/2500 [==============================] - 8s 3ms/step - loss: 0.6890 - accuracy: 0.5297 - val_loss: 0.6975 - val_accuracy: 0.4974\n",
            "Epoch 135/200\n",
            "2500/2500 [==============================] - 7s 3ms/step - loss: 0.6887 - accuracy: 0.5311 - val_loss: 0.6980 - val_accuracy: 0.4999\n",
            "Epoch 136/200\n",
            "2500/2500 [==============================] - 7s 3ms/step - loss: 0.6887 - accuracy: 0.5303 - val_loss: 0.6977 - val_accuracy: 0.4981\n",
            "Epoch 137/200\n",
            "2500/2500 [==============================] - 8s 3ms/step - loss: 0.6885 - accuracy: 0.5319 - val_loss: 0.6974 - val_accuracy: 0.5005\n",
            "Epoch 138/200\n",
            "2500/2500 [==============================] - 7s 3ms/step - loss: 0.6885 - accuracy: 0.5313 - val_loss: 0.6990 - val_accuracy: 0.4967\n",
            "Epoch 139/200\n",
            "2500/2500 [==============================] - 8s 3ms/step - loss: 0.6885 - accuracy: 0.5317 - val_loss: 0.6981 - val_accuracy: 0.4957\n",
            "Epoch 140/200\n",
            "2500/2500 [==============================] - 6s 3ms/step - loss: 0.6886 - accuracy: 0.5316 - val_loss: 0.6994 - val_accuracy: 0.4968\n",
            "Epoch 141/200\n",
            "2500/2500 [==============================] - 8s 3ms/step - loss: 0.6886 - accuracy: 0.5313 - val_loss: 0.6979 - val_accuracy: 0.5002\n",
            "Epoch 142/200\n",
            "2500/2500 [==============================] - 7s 3ms/step - loss: 0.6883 - accuracy: 0.5324 - val_loss: 0.6994 - val_accuracy: 0.4942\n",
            "Epoch 143/200\n",
            "2500/2500 [==============================] - 7s 3ms/step - loss: 0.6886 - accuracy: 0.5304 - val_loss: 0.6979 - val_accuracy: 0.4951\n",
            "Epoch 144/200\n",
            "2500/2500 [==============================] - 8s 3ms/step - loss: 0.6887 - accuracy: 0.5284 - val_loss: 0.6990 - val_accuracy: 0.4947\n",
            "Epoch 145/200\n",
            "2500/2500 [==============================] - 7s 3ms/step - loss: 0.6883 - accuracy: 0.5307 - val_loss: 0.6984 - val_accuracy: 0.4936\n",
            "Epoch 146/200\n",
            "2500/2500 [==============================] - 7s 3ms/step - loss: 0.6886 - accuracy: 0.5310 - val_loss: 0.6992 - val_accuracy: 0.4927\n",
            "Epoch 147/200\n",
            "2500/2500 [==============================] - 6s 3ms/step - loss: 0.6885 - accuracy: 0.5307 - val_loss: 0.6984 - val_accuracy: 0.4996\n",
            "Epoch 148/200\n",
            "2500/2500 [==============================] - 8s 3ms/step - loss: 0.6883 - accuracy: 0.5318 - val_loss: 0.6981 - val_accuracy: 0.5012\n",
            "Epoch 149/200\n",
            "2500/2500 [==============================] - 8s 3ms/step - loss: 0.6882 - accuracy: 0.5328 - val_loss: 0.6990 - val_accuracy: 0.4946\n",
            "Epoch 150/200\n",
            "2500/2500 [==============================] - 7s 3ms/step - loss: 0.6881 - accuracy: 0.5335 - val_loss: 0.6987 - val_accuracy: 0.5001\n",
            "Epoch 151/200\n",
            "2500/2500 [==============================] - 7s 3ms/step - loss: 0.6880 - accuracy: 0.5297 - val_loss: 0.6986 - val_accuracy: 0.4969\n",
            "Epoch 152/200\n",
            "2500/2500 [==============================] - 7s 3ms/step - loss: 0.6880 - accuracy: 0.5318 - val_loss: 0.6988 - val_accuracy: 0.4954\n",
            "Epoch 153/200\n",
            "2500/2500 [==============================] - 7s 3ms/step - loss: 0.6879 - accuracy: 0.5321 - val_loss: 0.6992 - val_accuracy: 0.4990\n",
            "Epoch 154/200\n",
            "2500/2500 [==============================] - 7s 3ms/step - loss: 0.6879 - accuracy: 0.5337 - val_loss: 0.6982 - val_accuracy: 0.4992\n",
            "Epoch 155/200\n",
            "2500/2500 [==============================] - 7s 3ms/step - loss: 0.6883 - accuracy: 0.5307 - val_loss: 0.6992 - val_accuracy: 0.4962\n",
            "Epoch 156/200\n",
            "2500/2500 [==============================] - 7s 3ms/step - loss: 0.6877 - accuracy: 0.5318 - val_loss: 0.6985 - val_accuracy: 0.4981\n",
            "Epoch 157/200\n",
            "2500/2500 [==============================] - 7s 3ms/step - loss: 0.6878 - accuracy: 0.5318 - val_loss: 0.6991 - val_accuracy: 0.4965\n",
            "Epoch 158/200\n",
            "2500/2500 [==============================] - 7s 3ms/step - loss: 0.6878 - accuracy: 0.5342 - val_loss: 0.7001 - val_accuracy: 0.4977\n",
            "Epoch 159/200\n",
            "2500/2500 [==============================] - 8s 3ms/step - loss: 0.6877 - accuracy: 0.5322 - val_loss: 0.6999 - val_accuracy: 0.4992\n",
            "Epoch 160/200\n",
            "2500/2500 [==============================] - 8s 3ms/step - loss: 0.6874 - accuracy: 0.5325 - val_loss: 0.6995 - val_accuracy: 0.4987\n",
            "Epoch 161/200\n",
            "2500/2500 [==============================] - 7s 3ms/step - loss: 0.6875 - accuracy: 0.5328 - val_loss: 0.6985 - val_accuracy: 0.4978\n",
            "Epoch 162/200\n",
            "2500/2500 [==============================] - 7s 3ms/step - loss: 0.6877 - accuracy: 0.5335 - val_loss: 0.6993 - val_accuracy: 0.4952\n",
            "Epoch 163/200\n",
            "2500/2500 [==============================] - 7s 3ms/step - loss: 0.6874 - accuracy: 0.5331 - val_loss: 0.6996 - val_accuracy: 0.5009\n",
            "Epoch 164/200\n",
            "2500/2500 [==============================] - 7s 3ms/step - loss: 0.6873 - accuracy: 0.5327 - val_loss: 0.6989 - val_accuracy: 0.4954\n",
            "Epoch 165/200\n",
            "2500/2500 [==============================] - 7s 3ms/step - loss: 0.6872 - accuracy: 0.5348 - val_loss: 0.6999 - val_accuracy: 0.4970\n",
            "Epoch 166/200\n",
            "2500/2500 [==============================] - 8s 3ms/step - loss: 0.6872 - accuracy: 0.5335 - val_loss: 0.6999 - val_accuracy: 0.4983\n",
            "Epoch 167/200\n",
            "2500/2500 [==============================] - 7s 3ms/step - loss: 0.6873 - accuracy: 0.5337 - val_loss: 0.6989 - val_accuracy: 0.4993\n",
            "Epoch 168/200\n",
            "2500/2500 [==============================] - 7s 3ms/step - loss: 0.6870 - accuracy: 0.5354 - val_loss: 0.6996 - val_accuracy: 0.4988\n",
            "Epoch 169/200\n",
            "2500/2500 [==============================] - 9s 3ms/step - loss: 0.6870 - accuracy: 0.5348 - val_loss: 0.6996 - val_accuracy: 0.4957\n",
            "Epoch 170/200\n",
            "2500/2500 [==============================] - 7s 3ms/step - loss: 0.6870 - accuracy: 0.5361 - val_loss: 0.6999 - val_accuracy: 0.4991\n",
            "Epoch 171/200\n",
            "2500/2500 [==============================] - 8s 3ms/step - loss: 0.6868 - accuracy: 0.5364 - val_loss: 0.6997 - val_accuracy: 0.4940\n",
            "Epoch 172/200\n",
            "2500/2500 [==============================] - 6s 3ms/step - loss: 0.6872 - accuracy: 0.5352 - val_loss: 0.6990 - val_accuracy: 0.5017\n",
            "Epoch 173/200\n",
            "2500/2500 [==============================] - 7s 3ms/step - loss: 0.6869 - accuracy: 0.5365 - val_loss: 0.7006 - val_accuracy: 0.4968\n",
            "Epoch 174/200\n",
            "2500/2500 [==============================] - 7s 3ms/step - loss: 0.6869 - accuracy: 0.5350 - val_loss: 0.7000 - val_accuracy: 0.4974\n",
            "Epoch 175/200\n",
            "2500/2500 [==============================] - 8s 3ms/step - loss: 0.6866 - accuracy: 0.5354 - val_loss: 0.7007 - val_accuracy: 0.5003\n",
            "Epoch 176/200\n",
            "2500/2500 [==============================] - 8s 3ms/step - loss: 0.6865 - accuracy: 0.5350 - val_loss: 0.7007 - val_accuracy: 0.4963\n",
            "Epoch 177/200\n",
            "2500/2500 [==============================] - 7s 3ms/step - loss: 0.6865 - accuracy: 0.5353 - val_loss: 0.7001 - val_accuracy: 0.4954\n",
            "Epoch 178/200\n",
            "2500/2500 [==============================] - 8s 3ms/step - loss: 0.6865 - accuracy: 0.5345 - val_loss: 0.7001 - val_accuracy: 0.4983\n",
            "Epoch 179/200\n",
            "2500/2500 [==============================] - 7s 3ms/step - loss: 0.6866 - accuracy: 0.5355 - val_loss: 0.6994 - val_accuracy: 0.5024\n",
            "Epoch 180/200\n",
            "2500/2500 [==============================] - 8s 3ms/step - loss: 0.6865 - accuracy: 0.5368 - val_loss: 0.7012 - val_accuracy: 0.4963\n",
            "Epoch 181/200\n",
            "2500/2500 [==============================] - 7s 3ms/step - loss: 0.6864 - accuracy: 0.5349 - val_loss: 0.7021 - val_accuracy: 0.4965\n",
            "Epoch 182/200\n",
            "2500/2500 [==============================] - 8s 3ms/step - loss: 0.6865 - accuracy: 0.5351 - val_loss: 0.7002 - val_accuracy: 0.4997\n",
            "Epoch 183/200\n",
            "2500/2500 [==============================] - 8s 3ms/step - loss: 0.6867 - accuracy: 0.5330 - val_loss: 0.7002 - val_accuracy: 0.4997\n",
            "Epoch 184/200\n",
            "2500/2500 [==============================] - 7s 3ms/step - loss: 0.6861 - accuracy: 0.5364 - val_loss: 0.6988 - val_accuracy: 0.4967\n",
            "Epoch 185/200\n",
            "2500/2500 [==============================] - 7s 3ms/step - loss: 0.6862 - accuracy: 0.5356 - val_loss: 0.7003 - val_accuracy: 0.4969\n",
            "Epoch 186/200\n",
            "2500/2500 [==============================] - 7s 3ms/step - loss: 0.6861 - accuracy: 0.5380 - val_loss: 0.7017 - val_accuracy: 0.4970\n",
            "Epoch 187/200\n",
            "2500/2500 [==============================] - 8s 3ms/step - loss: 0.6862 - accuracy: 0.5366 - val_loss: 0.7013 - val_accuracy: 0.4956\n",
            "Epoch 188/200\n",
            "2500/2500 [==============================] - 7s 3ms/step - loss: 0.6859 - accuracy: 0.5365 - val_loss: 0.7016 - val_accuracy: 0.4974\n",
            "Epoch 189/200\n",
            "2500/2500 [==============================] - 9s 3ms/step - loss: 0.6861 - accuracy: 0.5367 - val_loss: 0.7003 - val_accuracy: 0.4934\n",
            "Epoch 190/200\n",
            "2500/2500 [==============================] - 8s 3ms/step - loss: 0.6859 - accuracy: 0.5379 - val_loss: 0.7027 - val_accuracy: 0.4958\n",
            "Epoch 191/200\n",
            "2500/2500 [==============================] - 6s 3ms/step - loss: 0.6859 - accuracy: 0.5369 - val_loss: 0.7017 - val_accuracy: 0.4968\n",
            "Epoch 192/200\n",
            "2500/2500 [==============================] - 8s 3ms/step - loss: 0.6857 - accuracy: 0.5376 - val_loss: 0.7009 - val_accuracy: 0.4970\n",
            "Epoch 193/200\n",
            "2500/2500 [==============================] - 7s 3ms/step - loss: 0.6857 - accuracy: 0.5355 - val_loss: 0.7019 - val_accuracy: 0.4949\n",
            "Epoch 194/200\n",
            "2500/2500 [==============================] - 7s 3ms/step - loss: 0.6857 - accuracy: 0.5386 - val_loss: 0.7013 - val_accuracy: 0.4976\n",
            "Epoch 195/200\n",
            "2500/2500 [==============================] - 7s 3ms/step - loss: 0.6857 - accuracy: 0.5385 - val_loss: 0.7012 - val_accuracy: 0.5008\n",
            "Epoch 196/200\n",
            "2500/2500 [==============================] - 7s 3ms/step - loss: 0.6857 - accuracy: 0.5367 - val_loss: 0.7001 - val_accuracy: 0.5017\n",
            "Epoch 197/200\n",
            "2500/2500 [==============================] - 8s 3ms/step - loss: 0.6856 - accuracy: 0.5394 - val_loss: 0.7021 - val_accuracy: 0.5009\n",
            "Epoch 198/200\n",
            "2500/2500 [==============================] - 7s 3ms/step - loss: 0.6857 - accuracy: 0.5387 - val_loss: 0.7019 - val_accuracy: 0.5003\n",
            "Epoch 199/200\n",
            "2500/2500 [==============================] - 8s 3ms/step - loss: 0.6855 - accuracy: 0.5358 - val_loss: 0.7012 - val_accuracy: 0.4961\n",
            "Epoch 200/200\n",
            "2500/2500 [==============================] - 7s 3ms/step - loss: 0.6854 - accuracy: 0.5400 - val_loss: 0.7024 - val_accuracy: 0.4967\n"
          ]
        }
      ],
      "source": [
        "#history = model.fit(X_train, y_train, epochs=300, batch_size=64)\n",
        "history = model.fit(X_train,y_train,validation_data=(X_test_scaled,y_test),epochs=200)"
      ]
    },
    {
      "cell_type": "code",
      "execution_count": null,
      "metadata": {
        "colab": {
          "base_uri": "https://localhost:8080/",
          "height": 472
        },
        "id": "EwcGLoXJTEru",
        "outputId": "8997aca1-d7bf-45e4-f711-5a53fe8eb8a5"
      },
      "outputs": [
        {
          "output_type": "display_data",
          "data": {
            "text/plain": [
              "<Figure size 640x480 with 1 Axes>"
            ],
            "image/png": "[encoded data removed]"
          },
          "metadata": {}
        }
      ],
      "source": [
        "#Visualize the models accuracy and loss\n",
        "import matplotlib.pyplot as plt\n",
        "\n",
        "plt.plot(history.history[\"accuracy\"])\n",
        "plt.plot(history.history[\"loss\"])\n",
        "plt.title(\"model accuracy & loss\")\n",
        "plt.ylabel(\"accuracy and loss\")\n",
        "plt.xlabel(\"epoch\")\n",
        "plt.legend(['acc', 'loss'], loc='lower right')\n",
        "plt.show()"
      ]
    },
    {
      "cell_type": "code",
      "execution_count": null,
      "metadata": {
        "colab": {
          "base_uri": "https://localhost:8080/",
          "height": 472
        },
        "id": "lL6XYa_t7HRt",
        "outputId": "09fb0a11-b829-4761-d9ef-fc475b6d9ead"
      },
      "outputs": [
        {
          "output_type": "display_data",
          "data": {
            "text/plain": [
              "<Figure size 640x480 with 1 Axes>"
            ],
            "image/png": "[encoded data removed]"
          },
          "metadata": {}
        }
      ],
      "source": [
        "#Visualize the model val accuracy and val loss\n",
        "import matplotlib.pyplot as plt\n",
        "\n",
        "plt.plot(history.history[\"val_accuracy\"])\n",
        "plt.plot(history.history[\"val_loss\"])\n",
        "plt.title(\"model accuracy & loss\")\n",
        "plt.ylabel(\"accuracy and loss\")\n",
        "plt.xlabel(\"epoch\")\n",
        "plt.legend(['acc', 'loss'], loc='lower right')\n",
        "plt.show()"
      ]
    },
    {
      "cell_type": "code",
      "execution_count": null,
      "metadata": {
        "id": "_mhV_DzwyGyc",
        "colab": {
          "base_uri": "https://localhost:8080/"
        },
        "outputId": "d8b9141c-e0b1-40a3-c324-652bc0acb9c9"
      },
      "outputs": [
        {
          "output_type": "stream",
          "name": "stdout",
          "text": [
            "625/625 [==============================] - 1s 1ms/step\n"
          ]
        }
      ],
      "source": [
        "y_pred = model.predict(X_test_scaled)"
      ]
    },
    {
      "cell_type": "code",
      "execution_count": null,
      "metadata": {
        "colab": {
          "base_uri": "https://localhost:8080/"
        },
        "id": "E_22PQ18byTs",
        "outputId": "0fa66327-2f73-4e55-ca3b-ff05d86d28f3"
      },
      "outputs": [
        {
          "output_type": "stream",
          "name": "stdout",
          "text": [
            "625/625 [==============================] - 1s 2ms/step - loss: 0.7024 - accuracy: 0.4967\n"
          ]
        },
        {
          "output_type": "execute_result",
          "data": {
            "text/plain": [
              "[0.7024379968643188, 0.49674999713897705]"
            ]
          },
          "metadata": {},
          "execution_count": 178
        }
      ],
      "source": [
        "model.evaluate(X_test_scaled, y_test)"
      ]
    },
    {
      "cell_type": "code",
      "execution_count": null,
      "metadata": {
        "colab": {
          "base_uri": "https://localhost:8080/"
        },
        "id": "iNjfPPQNyYfl",
        "outputId": "f5796a17-f0ce-4cb2-d98e-632eaad58c9b"
      },
      "outputs": [
        {
          "output_type": "stream",
          "name": "stdout",
          "text": [
            "Accuracy on test data: 0.49674999713897705% \n",
            " Error on test data: 0.503250002861023\n"
          ]
        }
      ],
      "source": [
        "#pred_test= model.predict(X_test)\n",
        "score = model.evaluate(X_test_scaled, y_test, verbose=0)\n",
        "print('Accuracy on test data: {}% \\n Error on test data: {}'.format(score[1], 1 - score[1]))"
      ]
    },
    {
      "cell_type": "code",
      "execution_count": null,
      "metadata": {
        "colab": {
          "base_uri": "https://localhost:8080/"
        },
        "id": "lDvfRKIU7HRu",
        "outputId": "b941e18c-f918-4331-b8ab-9832754b7dfd"
      },
      "outputs": [
        {
          "output_type": "execute_result",
          "data": {
            "text/plain": [
              "(20000, 2)"
            ]
          },
          "metadata": {},
          "execution_count": 180
        }
      ],
      "source": [
        "#Shape\n",
        "y_test.shape\n",
        "y_pred.shape"
      ]
    },
    {
      "cell_type": "code",
      "execution_count": null,
      "metadata": {
        "colab": {
          "base_uri": "https://localhost:8080/"
        },
        "id": "Oc4zDsY_7HRu",
        "outputId": "0e337b87-49a0-4f0f-b7f0-f6d5f15f81d1"
      },
      "outputs": [
        {
          "output_type": "execute_result",
          "data": {
            "text/plain": [
              "(20000,)"
            ]
          },
          "metadata": {},
          "execution_count": 181
        }
      ],
      "source": [
        "# argmax only for predictions as y_test is in 1D and predictions are in 2D\n",
        "\n",
        "y_pred = np.argmax(y_pred, axis=1)\n",
        "y_pred.shape"
      ]
    },
    {
      "cell_type": "code",
      "execution_count": null,
      "metadata": {
        "colab": {
          "base_uri": "https://localhost:8080/"
        },
        "id": "kyXprjVZq5Et",
        "outputId": "a4b7156a-892e-4f7d-a082-40958a2aaf27"
      },
      "outputs": [
        {
          "output_type": "stream",
          "name": "stdout",
          "text": [
            "[[4569 4541]\n",
            " [5524 5366]]\n"
          ]
        }
      ],
      "source": [
        "print(confusion_matrix(y_pred,y_test))"
      ]
    },
    {
      "cell_type": "code",
      "execution_count": null,
      "metadata": {
        "colab": {
          "base_uri": "https://localhost:8080/"
        },
        "id": "oPQPc6GVrHQA",
        "outputId": "bfb8997f-5f16-4fd8-d656-74a5e460c310"
      },
      "outputs": [
        {
          "output_type": "stream",
          "name": "stdout",
          "text": [
            "Report of test data:\n",
            "              precision    recall  f1-score   support\n",
            "\n",
            "           0       0.50      0.45      0.48     10093\n",
            "           1       0.49      0.54      0.52      9907\n",
            "\n",
            "    accuracy                           0.50     20000\n",
            "   macro avg       0.50      0.50      0.50     20000\n",
            "weighted avg       0.50      0.50      0.50     20000\n",
            "\n"
          ]
        }
      ],
      "source": [
        "rep = classification_report(y_test, y_pred)\n",
        "print (\"Report of test data:\")\n",
        "print(rep)"
      ]
    },
    {
      "cell_type": "markdown",
      "source": [
        "Overall in three models the Deep neural network performance was slightly better so optimizng that model for analysis"
      ],
      "metadata": {
        "id": "qvlnxYgOR7fv"
      }
    },
    {
      "cell_type": "markdown",
      "source": [
        "### **4.Model Optimization**"
      ],
      "metadata": {
        "id": "eoIpEAI64RHi"
      }
    },
    {
      "cell_type": "code",
      "execution_count": null,
      "metadata": {
        "id": "hnqmVd9k7HRv"
      },
      "outputs": [],
      "source": [
        "from tensorflow.keras.callbacks import EarlyStopping\n",
        "from sklearn.metrics import accuracy_score\n",
        "\n",
        "#Put previous run in comments first\n",
        "monitor = EarlyStopping(monitor='val_loss', min_delta=1e-3, patience=5,\n",
        "        verbose=1, mode='auto', restore_best_weights=True)\n"
      ]
    },
    {
      "cell_type": "code",
      "execution_count": null,
      "metadata": {
        "colab": {
          "base_uri": "https://localhost:8080/"
        },
        "id": "Xn69GgkL7HRv",
        "outputId": "34d31a7d-cdb9-4e07-d9ce-502143fe3926"
      },
      "outputs": [
        {
          "output_type": "stream",
          "name": "stdout",
          "text": [
            "Epoch 1/200\n",
            "2500/2500 - 6s - loss: 0.6854 - accuracy: 0.5389 - val_loss: 962.1315 - val_accuracy: 0.5048 - 6s/epoch - 2ms/step\n",
            "Epoch 2/200\n",
            "2500/2500 - 6s - loss: 0.6854 - accuracy: 0.5398 - val_loss: 960.2219 - val_accuracy: 0.5048 - 6s/epoch - 2ms/step\n",
            "Epoch 3/200\n",
            "2500/2500 - 7s - loss: 0.6854 - accuracy: 0.5384 - val_loss: 903.3394 - val_accuracy: 0.5049 - 7s/epoch - 3ms/step\n",
            "Epoch 4/200\n",
            "2500/2500 - 6s - loss: 0.6854 - accuracy: 0.5395 - val_loss: 995.3988 - val_accuracy: 0.5048 - 6s/epoch - 2ms/step\n",
            "Epoch 5/200\n",
            "2500/2500 - 5s - loss: 0.6852 - accuracy: 0.5396 - val_loss: 1017.7152 - val_accuracy: 0.5048 - 5s/epoch - 2ms/step\n",
            "Epoch 6/200\n",
            "2500/2500 - 6s - loss: 0.6855 - accuracy: 0.5381 - val_loss: 944.8767 - val_accuracy: 0.5048 - 6s/epoch - 2ms/step\n",
            "Epoch 7/200\n",
            "2500/2500 - 7s - loss: 0.6853 - accuracy: 0.5383 - val_loss: 1060.3608 - val_accuracy: 0.5047 - 7s/epoch - 3ms/step\n",
            "Epoch 8/200\n",
            "Restoring model weights from the end of the best epoch: 3.\n",
            "2500/2500 - 6s - loss: 0.6850 - accuracy: 0.5381 - val_loss: 984.2378 - val_accuracy: 0.5050 - 6s/epoch - 2ms/step\n",
            "Epoch 8: early stopping\n"
          ]
        }
      ],
      "source": [
        "history = model.fit(X_train,y_train,validation_data=(X_test,y_test),\n",
        "        callbacks=[monitor],verbose=2,epochs=200)"
      ]
    },
    {
      "cell_type": "code",
      "execution_count": null,
      "metadata": {
        "colab": {
          "base_uri": "https://localhost:8080/"
        },
        "id": "GcFgw1wX7HRw",
        "outputId": "1e6b81f9-f201-429a-918d-85f1c3049cb9"
      },
      "outputs": [
        {
          "output_type": "stream",
          "name": "stdout",
          "text": [
            "625/625 [==============================] - 1s 2ms/step\n",
            "Accuracy: 0.49575\n"
          ]
        }
      ],
      "source": [
        "y_pred_early = model.predict(X_test_scaled)\n",
        "\n",
        "y_pred_early = np.argmax(y_pred_early,axis=1)\n",
        "#expected_classes = np.argmax(y_test,axis=1)\n",
        "correct = accuracy_score(y_test,y_pred_early)\n",
        "print(f\"Accuracy: {correct}\")"
      ]
    },
    {
      "cell_type": "code",
      "source": [
        "y_pred_early2 = model.predict(X_train)\n",
        "\n",
        "y_pred_early2 = np.argmax(y_pred_early2,axis=1)\n",
        "#expected_classes = np.argmax(y_test,axis=1)\n",
        "correct = accuracy_score(y_train,y_pred_early2)\n",
        "print(f\"Accuracy: {correct}\")"
      ],
      "metadata": {
        "colab": {
          "base_uri": "https://localhost:8080/"
        },
        "id": "ocFyT3WJ1fK6",
        "outputId": "66b8b27b-6059-41db-dab3-a32ce374eaa1"
      },
      "execution_count": null,
      "outputs": [
        {
          "output_type": "stream",
          "name": "stdout",
          "text": [
            "2500/2500 [==============================] - 5s 2ms/step\n",
            "Accuracy: 0.5434625\n"
          ]
        }
      ]
    },
    {
      "cell_type": "code",
      "source": [
        "rep = classification_report(y_test, y_pred_early)\n",
        "print (\"Report of test data:\")\n",
        "print(rep)"
      ],
      "metadata": {
        "colab": {
          "base_uri": "https://localhost:8080/"
        },
        "id": "NFwkisrw0rsX",
        "outputId": "f1f78400-9cd9-4565-c1ce-689109defe38"
      },
      "execution_count": null,
      "outputs": [
        {
          "output_type": "stream",
          "name": "stdout",
          "text": [
            "Report of test data:\n",
            "              precision    recall  f1-score   support\n",
            "\n",
            "           0       0.50      0.44      0.47     10093\n",
            "           1       0.49      0.55      0.52      9907\n",
            "\n",
            "    accuracy                           0.50     20000\n",
            "   macro avg       0.50      0.50      0.49     20000\n",
            "weighted avg       0.50      0.50      0.49     20000\n",
            "\n"
          ]
        }
      ]
    },
    {
      "cell_type": "markdown",
      "source": [
        "### **as we can see here comparing optimalistic results and post processing the early stop deep neural network has performed the best so choosing early stop deep neural network for deployment**"
      ],
      "metadata": {
        "id": "6gGfKYae3Hwp"
      }
    },
    {
      "cell_type": "markdown",
      "source": [
        "### **5.Model Deployment**"
      ],
      "metadata": {
        "id": "HW4PZrbLhnIz"
      }
    },
    {
      "cell_type": "markdown",
      "metadata": {
        "id": "gq8ZX1xpwPF5"
      },
      "source": [
        "### **Making a Predictive System**"
      ]
    },
    {
      "cell_type": "code",
      "source": [
        "Num_Columns = [0,3,4,5]"
      ],
      "metadata": {
        "id": "zx210uMDXtdh"
      },
      "execution_count": null,
      "outputs": []
    },
    {
      "cell_type": "code",
      "source": [
        "import numpy as np\n",
        "\n",
        "# Example input data\n",
        "input_data = np.array([(500, 1, 2, 50, 97.94, 297)])\n",
        "input_data_reshaped = input_data.reshape(1, -1)\n",
        "\n",
        "num_columns = [0, 3, 4, 5]  # Index positions of the numerical columns to scale\n",
        "\n",
        "# Apply the scaler only to the specific numerical columns\n",
        "scaled_data = input_data_reshaped.copy()  # Create a copy to avoid modifying the original data\n",
        "scaled_data[:, num_columns] = scaler.transform(scaled_data[:, num_columns])\n",
        "\n",
        "# Perform the prediction using your classifier\n",
        "prediction = lr.predict(scaled_data)\n",
        "\n",
        "if prediction[0] == 0:\n",
        "    print('The person will not churn')\n",
        "else:\n",
        "    print('The person will churn')\n"
      ],
      "metadata": {
        "colab": {
          "base_uri": "https://localhost:8080/"
        },
        "id": "ceAOyl9UYTVV",
        "outputId": "35963dfc-d8a4-4f8d-c3e8-7ede4ba67baf"
      },
      "execution_count": null,
      "outputs": [
        {
          "output_type": "stream",
          "name": "stdout",
          "text": [
            "The person will churn\n"
          ]
        },
        {
          "output_type": "stream",
          "name": "stderr",
          "text": [
            "/usr/local/lib/python3.10/dist-packages/sklearn/base.py:439: UserWarning: X does not have valid feature names, but MinMaxScaler was fitted with feature names\n",
            "  warnings.warn(\n",
            "/usr/local/lib/python3.10/dist-packages/sklearn/base.py:439: UserWarning: X does not have valid feature names, but LogisticRegression was fitted with feature names\n",
            "  warnings.warn(\n"
          ]
        }
      ]
    },
    {
      "cell_type": "code",
      "metadata": {
        "id": "Nn60MdxByjgz"
      },
      "source": [
        "import pickle"
      ],
      "execution_count": null,
      "outputs": []
    },
    {
      "cell_type": "code",
      "source": [
        "pickle.dump(model,open('trained_model.pkl','wb'))"
      ],
      "metadata": {
        "id": "pqcuAhcPOd9K"
      },
      "execution_count": null,
      "outputs": []
    },
    {
      "cell_type": "markdown",
      "source": [
        "import streamlit as st\n",
        "import pickle\n",
        "import numpy as np\n",
        "from sklearn.preprocessing import MinMaxScaler\n",
        "scaler = MinMaxScaler()\n",
        "\n",
        "loaded_model = pickle.load(open('trained_model.pkl', 'rb'))\n",
        "\n",
        "# Mapping dictionaries\n",
        "gender_mapping = {'Male': 1, 'Female': 0}\n",
        "location_mapping = {'Los Angeles': 0, 'New York': 1, 'Miami': 2, 'Chicago': 3, 'Houston': 4}\n",
        "\n",
        "# creating a function for Prediction\n",
        "def churn_prediction(input_data):\n",
        "    # changing the input_data to numpy array\n",
        "    input_data_as_numpy_array = np.asarray(input_data)\n",
        "\n",
        "    num_columns = [0, 3, 4, 5]  # Index positions of the numerical columns to scale\n",
        "\n",
        "    # reshape the array as we are predicting for one instance\n",
        "    input_data_reshaped = input_data_as_numpy_array.reshape(1, -1)\n",
        "    input_data_reshaped = input_data_reshaped.astype(float)\n",
        "\n",
        "    # Fit the scaler with the data used for prediction\n",
        "    scaler.fit(input_data_reshaped[:, num_columns])\n",
        "\n",
        "    # Apply the scaler only to the specific numerical columns\n",
        "    scaled_data = input_data_reshaped.copy()  # Create a copy to avoid modifying the original data\n",
        "    scaled_data[:, num_columns] = scaler.transform(scaled_data[:, num_columns])\n",
        "\n",
        "    print(\"Input data:\", input_data_reshaped)\n",
        "    print(\"Input data shape:\", input_data_reshaped.shape)\n",
        "    print(\"Input data dtype:\", input_data_reshaped.dtype)\n",
        "\n",
        "    prediction = loaded_model.predict(input_data_reshaped)\n",
        "\n",
        "    if prediction[0] == 0:\n",
        "        return 'The person will not churn'\n",
        "    else:\n",
        "        return 'The person will churn'\n",
        "\n",
        "def main():\n",
        "    # giving a title\n",
        "    st.title('Churn Prediction Web App')\n",
        "    html_temp = \"\"\"\n",
        "      <div style=\"background-color:teal ;padding:10px\">\n",
        "      <h2 style=\"color:white;text-align:center;\">Churn Prediction</h2>\n",
        "      </div>\n",
        "      \"\"\"\n",
        "    st.markdown(html_temp, unsafe_allow_html=True)\n",
        "\n",
        "    # getting the input data from the user\n",
        "    Age = st.text_input('Age')\n",
        "    Gender = st.selectbox('Gender', list(gender_mapping.keys()))\n",
        "    Location = st.selectbox('Location', list(location_mapping.keys()))\n",
        "    Subscription_Length_Months = st.text_input('Subscription months')\n",
        "    Monthly_Bill = st.text_input('Monthly Bill')\n",
        "    Total_Usage_GB = st.text_input('Data Usage in GB')\n",
        "\n",
        "\n",
        "\n",
        "    # Mapping selected values to numeric values\n",
        "    gender_numeric = int(gender_mapping[Gender])\n",
        "    location_numeric = int(location_mapping[Location])\n",
        "\n",
        "    # Code for Prediction\n",
        "    Churn = ''\n",
        "\n",
        "    # Creating a button for Prediction\n",
        "    if st.button('Churn Prediction'):\n",
        "        Churn = churn_prediction(\n",
        "            [Age, gender_numeric, location_numeric, Subscription_Length_Months, Monthly_Bill, Total_Usage_GB])\n",
        "\n",
        "    st.success(Churn)\n",
        "\n",
        "if __name__ == '__main__':\n",
        "    main()\n",
        "\n"
      ],
      "metadata": {
        "id": "crXXUQcjTm8F"
      }
    },
    {
      "cell_type": "code",
      "source": [],
      "metadata": {
        "id": "dFgadfIjBesF"
      },
      "execution_count": null,
      "outputs": []
    }
  ]
}
